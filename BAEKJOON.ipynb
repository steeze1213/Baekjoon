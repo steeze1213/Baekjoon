{
  "nbformat": 4,
  "nbformat_minor": 0,
  "metadata": {
    "colab": {
      "provenance": [],
      "authorship_tag": "ABX9TyNT9W+Znzh7aawzljykgjNR",
      "include_colab_link": true
    },
    "kernelspec": {
      "name": "python3",
      "display_name": "Python 3"
    },
    "language_info": {
      "name": "python"
    }
  },
  "cells": [
    {
      "cell_type": "markdown",
      "metadata": {
        "id": "view-in-github",
        "colab_type": "text"
      },
      "source": [
        "<a href=\"https://colab.research.google.com/github/steeze1213/Baekjoon/blob/main/BAEKJOON.ipynb\" target=\"_parent\"><img src=\"https://colab.research.google.com/assets/colab-badge.svg\" alt=\"Open In Colab\"/></a>"
      ]
    },
    {
      "cell_type": "markdown",
      "source": [
        "2557"
      ],
      "metadata": {
        "id": "j0T4OLa6KLfg"
      }
    },
    {
      "cell_type": "code",
      "execution_count": null,
      "metadata": {
        "colab": {
          "base_uri": "https://localhost:8080/"
        },
        "id": "LxQXuQi68sy6",
        "outputId": "8e5f9f7f-33d7-4051-d783-7c378aff53a4"
      },
      "outputs": [
        {
          "output_type": "stream",
          "name": "stdout",
          "text": [
            "Hello Wolrd!\n"
          ]
        }
      ],
      "source": [
        "print(\"Hello Wolrd!\")"
      ]
    },
    {
      "cell_type": "markdown",
      "source": [
        "1000"
      ],
      "metadata": {
        "id": "LwrXac1PKOAF"
      }
    },
    {
      "cell_type": "code",
      "source": [
        "a, b = map(int, input().split())\n",
        "print(a+b)"
      ],
      "metadata": {
        "colab": {
          "base_uri": "https://localhost:8080/"
        },
        "id": "Xhxq6IhN9L4L",
        "outputId": "9a869122-8c0a-4f7a-b47c-4c56ce41f01c"
      },
      "execution_count": null,
      "outputs": [
        {
          "output_type": "stream",
          "name": "stdout",
          "text": [
            "1 2\n",
            "3\n"
          ]
        }
      ]
    },
    {
      "cell_type": "markdown",
      "source": [
        "1001"
      ],
      "metadata": {
        "id": "89HL-9vOKP1J"
      }
    },
    {
      "cell_type": "code",
      "source": [
        "a, b = map(int, input().split())\n",
        "print(a-b)"
      ],
      "metadata": {
        "colab": {
          "base_uri": "https://localhost:8080/"
        },
        "id": "ZFVUNjL8-NTG",
        "outputId": "c8901e6e-90e4-41be-a9ee-ab348ec88c89"
      },
      "execution_count": null,
      "outputs": [
        {
          "output_type": "stream",
          "name": "stdout",
          "text": [
            "1 2\n",
            "-1\n"
          ]
        }
      ]
    },
    {
      "cell_type": "markdown",
      "source": [
        "10998"
      ],
      "metadata": {
        "id": "dLMnEaLsKRNo"
      }
    },
    {
      "cell_type": "code",
      "source": [
        "a, b = map(int, input().split())\n",
        "print(a*b)"
      ],
      "metadata": {
        "colab": {
          "base_uri": "https://localhost:8080/"
        },
        "id": "2GrJuoB9-nX3",
        "outputId": "68034206-459c-47d7-bbd8-fdfb22325a1c"
      },
      "execution_count": null,
      "outputs": [
        {
          "output_type": "stream",
          "name": "stdout",
          "text": [
            "1 2\n",
            "2\n"
          ]
        }
      ]
    },
    {
      "cell_type": "markdown",
      "source": [
        "1008"
      ],
      "metadata": {
        "id": "zUnCKsvMKUmZ"
      }
    },
    {
      "cell_type": "code",
      "source": [
        "a, b = map(int, input().split())\n",
        "print(a/b)"
      ],
      "metadata": {
        "colab": {
          "base_uri": "https://localhost:8080/"
        },
        "id": "-NdtPeef_cPd",
        "outputId": "c1c69917-2e26-4edd-e587-5f5b1482de83"
      },
      "execution_count": null,
      "outputs": [
        {
          "output_type": "stream",
          "name": "stdout",
          "text": [
            "1 2\n",
            "0.5\n"
          ]
        }
      ]
    },
    {
      "cell_type": "markdown",
      "source": [
        "10869"
      ],
      "metadata": {
        "id": "93dD_dokKW5f"
      }
    },
    {
      "cell_type": "code",
      "source": [
        "a, b = map(int, input().split())\n",
        "print(a+b)\n",
        "print(a-b)\n",
        "print(a*b)\n",
        "print(a//b)\n",
        "print(a%b)"
      ],
      "metadata": {
        "colab": {
          "base_uri": "https://localhost:8080/"
        },
        "id": "IaoqnaRJ_sjf",
        "outputId": "faca9aaf-91e4-4850-d708-60a889a56314"
      },
      "execution_count": null,
      "outputs": [
        {
          "output_type": "stream",
          "name": "stdout",
          "text": [
            "7 3\n",
            "10\n",
            "4\n",
            "21\n",
            "2\n",
            "1\n"
          ]
        }
      ]
    },
    {
      "cell_type": "markdown",
      "source": [
        "10926"
      ],
      "metadata": {
        "id": "kMeThCjvKZUh"
      }
    },
    {
      "cell_type": "code",
      "source": [
        "a=input()\n",
        "print(a+'??!')"
      ],
      "metadata": {
        "colab": {
          "base_uri": "https://localhost:8080/"
        },
        "id": "Ujbdbh8uA_fa",
        "outputId": "3e507663-5bee-4c0e-c589-ad99185ac1d0"
      },
      "execution_count": null,
      "outputs": [
        {
          "output_type": "stream",
          "name": "stdout",
          "text": [
            "baekjoon\n",
            "baekjoon??!\n"
          ]
        }
      ]
    },
    {
      "cell_type": "markdown",
      "source": [
        "18108"
      ],
      "metadata": {
        "id": "-xjm178EKbnS"
      }
    },
    {
      "cell_type": "code",
      "source": [
        "2541 - 1998"
      ],
      "metadata": {
        "colab": {
          "base_uri": "https://localhost:8080/"
        },
        "id": "q7SxpjN9CLtT",
        "outputId": "c632a0f8-dc94-406d-b748-bfc55d71c32a"
      },
      "execution_count": null,
      "outputs": [
        {
          "output_type": "execute_result",
          "data": {
            "text/plain": [
              "543"
            ]
          },
          "metadata": {},
          "execution_count": 14
        }
      ]
    },
    {
      "cell_type": "code",
      "source": [
        "a=int(input())\n",
        "print(a-543)"
      ],
      "metadata": {
        "colab": {
          "base_uri": "https://localhost:8080/"
        },
        "id": "vfo9WkM0B3U7",
        "outputId": "eac0b8e4-a58d-4f6c-d134-a2c059254e68"
      },
      "execution_count": null,
      "outputs": [
        {
          "output_type": "stream",
          "name": "stdout",
          "text": [
            "2541\n",
            "1998\n"
          ]
        }
      ]
    },
    {
      "cell_type": "markdown",
      "source": [
        "10430"
      ],
      "metadata": {
        "id": "rSBMSYtGKhWc"
      }
    },
    {
      "cell_type": "code",
      "source": [
        "a, b, c = map(int, input().split())\n",
        "print((a+b)%c)\n",
        "print(((a%c)+(b%c))%c)\n",
        "print((a*b)%c)\n",
        "print(((a%c)*(b%c))%c)"
      ],
      "metadata": {
        "colab": {
          "base_uri": "https://localhost:8080/"
        },
        "id": "a70Zpc43HIE9",
        "outputId": "c4e15e1b-1e2a-4cd4-ce2f-51eb4f50cfc7"
      },
      "execution_count": null,
      "outputs": [
        {
          "output_type": "stream",
          "name": "stdout",
          "text": [
            "5 8 4\n",
            "1\n",
            "1\n",
            "0\n",
            "0\n"
          ]
        }
      ]
    },
    {
      "cell_type": "markdown",
      "source": [
        "2588"
      ],
      "metadata": {
        "id": "3-BO2DB4KkXq"
      }
    },
    {
      "cell_type": "code",
      "source": [
        "a = int(input())\n",
        "b = input()\n",
        "\n",
        "for i in range(len(b)-1, -1, -1):\n",
        "    result=a * int(b[i])\n",
        "    print(result)\n",
        "\n",
        "final_result=a * int(b)\n",
        "print(final_result)"
      ],
      "metadata": {
        "colab": {
          "base_uri": "https://localhost:8080/"
        },
        "id": "jmh3UARkI5BP",
        "outputId": "97cc547b-7894-4f85-bd00-6d602946aa07"
      },
      "execution_count": null,
      "outputs": [
        {
          "output_type": "stream",
          "name": "stdout",
          "text": [
            "472\n",
            "385\n",
            "2360\n",
            "3776\n",
            "1416\n",
            "181720\n"
          ]
        }
      ]
    }
  ]
}
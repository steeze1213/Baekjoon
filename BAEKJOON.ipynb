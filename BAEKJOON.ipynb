{
  "nbformat": 4,
  "nbformat_minor": 0,
  "metadata": {
    "colab": {
      "provenance": [],
      "collapsed_sections": [
        "_oXJuJXA5b4c",
        "5PjZLqCI5exu",
        "NbFejWmKkCi7",
        "sZTG1Z5cWSZ7",
        "4uTlZq7WR-xQ",
        "Gm9v596-j1-5",
        "KYmjuBPYPbk5",
        "ULRQJv9o0w0d",
        "tjcAW8an7wg1",
        "4KrXrz-ShJlU",
        "wKR4JNn98gf6"
      ],
      "authorship_tag": "ABX9TyOfI1jaiki3w8xnRLYGcMBU",
      "include_colab_link": true
    },
    "kernelspec": {
      "name": "python3",
      "display_name": "Python 3"
    },
    "language_info": {
      "name": "python"
    }
  },
  "cells": [
    {
      "cell_type": "markdown",
      "metadata": {
        "id": "view-in-github",
        "colab_type": "text"
      },
      "source": [
        "<a href=\"https://colab.research.google.com/github/steeze1213/Baekjoon/blob/main/BAEKJOON.ipynb\" target=\"_parent\"><img src=\"https://colab.research.google.com/assets/colab-badge.svg\" alt=\"Open In Colab\"/></a>"
      ]
    },
    {
      "cell_type": "markdown",
      "source": [
        "#12/23"
      ],
      "metadata": {
        "id": "_oXJuJXA5b4c"
      }
    },
    {
      "cell_type": "markdown",
      "source": [
        "2557"
      ],
      "metadata": {
        "id": "j0T4OLa6KLfg"
      }
    },
    {
      "cell_type": "code",
      "execution_count": null,
      "metadata": {
        "colab": {
          "base_uri": "https://localhost:8080/"
        },
        "id": "LxQXuQi68sy6",
        "outputId": "8e5f9f7f-33d7-4051-d783-7c378aff53a4"
      },
      "outputs": [
        {
          "output_type": "stream",
          "name": "stdout",
          "text": [
            "Hello Wolrd!\n"
          ]
        }
      ],
      "source": [
        "print(\"Hello Wolrd!\")"
      ]
    },
    {
      "cell_type": "markdown",
      "source": [
        "1000"
      ],
      "metadata": {
        "id": "LwrXac1PKOAF"
      }
    },
    {
      "cell_type": "code",
      "source": [
        "a, b = map(int, input().split())\n",
        "print(a+b)"
      ],
      "metadata": {
        "colab": {
          "base_uri": "https://localhost:8080/"
        },
        "id": "Xhxq6IhN9L4L",
        "outputId": "9a869122-8c0a-4f7a-b47c-4c56ce41f01c"
      },
      "execution_count": null,
      "outputs": [
        {
          "output_type": "stream",
          "name": "stdout",
          "text": [
            "1 2\n",
            "3\n"
          ]
        }
      ]
    },
    {
      "cell_type": "markdown",
      "source": [
        "1001"
      ],
      "metadata": {
        "id": "89HL-9vOKP1J"
      }
    },
    {
      "cell_type": "code",
      "source": [
        "a, b = map(int, input().split())\n",
        "print(a-b)"
      ],
      "metadata": {
        "colab": {
          "base_uri": "https://localhost:8080/"
        },
        "id": "ZFVUNjL8-NTG",
        "outputId": "c8901e6e-90e4-41be-a9ee-ab348ec88c89"
      },
      "execution_count": null,
      "outputs": [
        {
          "output_type": "stream",
          "name": "stdout",
          "text": [
            "1 2\n",
            "-1\n"
          ]
        }
      ]
    },
    {
      "cell_type": "markdown",
      "source": [
        "10998"
      ],
      "metadata": {
        "id": "dLMnEaLsKRNo"
      }
    },
    {
      "cell_type": "code",
      "source": [
        "a, b = map(int, input().split())\n",
        "print(a*b)"
      ],
      "metadata": {
        "colab": {
          "base_uri": "https://localhost:8080/"
        },
        "id": "2GrJuoB9-nX3",
        "outputId": "68034206-459c-47d7-bbd8-fdfb22325a1c"
      },
      "execution_count": null,
      "outputs": [
        {
          "output_type": "stream",
          "name": "stdout",
          "text": [
            "1 2\n",
            "2\n"
          ]
        }
      ]
    },
    {
      "cell_type": "markdown",
      "source": [
        "1008"
      ],
      "metadata": {
        "id": "zUnCKsvMKUmZ"
      }
    },
    {
      "cell_type": "code",
      "source": [
        "a, b = map(int, input().split())\n",
        "print(a/b)"
      ],
      "metadata": {
        "colab": {
          "base_uri": "https://localhost:8080/"
        },
        "id": "-NdtPeef_cPd",
        "outputId": "c1c69917-2e26-4edd-e587-5f5b1482de83"
      },
      "execution_count": null,
      "outputs": [
        {
          "output_type": "stream",
          "name": "stdout",
          "text": [
            "1 2\n",
            "0.5\n"
          ]
        }
      ]
    },
    {
      "cell_type": "markdown",
      "source": [
        "10869"
      ],
      "metadata": {
        "id": "93dD_dokKW5f"
      }
    },
    {
      "cell_type": "code",
      "source": [
        "a, b = map(int, input().split())\n",
        "print(a+b)\n",
        "print(a-b)\n",
        "print(a*b)\n",
        "print(a//b)\n",
        "print(a%b)"
      ],
      "metadata": {
        "colab": {
          "base_uri": "https://localhost:8080/"
        },
        "id": "IaoqnaRJ_sjf",
        "outputId": "faca9aaf-91e4-4850-d708-60a889a56314"
      },
      "execution_count": null,
      "outputs": [
        {
          "output_type": "stream",
          "name": "stdout",
          "text": [
            "7 3\n",
            "10\n",
            "4\n",
            "21\n",
            "2\n",
            "1\n"
          ]
        }
      ]
    },
    {
      "cell_type": "markdown",
      "source": [
        "10926"
      ],
      "metadata": {
        "id": "kMeThCjvKZUh"
      }
    },
    {
      "cell_type": "code",
      "source": [
        "a=input()\n",
        "print(a+'??!')"
      ],
      "metadata": {
        "colab": {
          "base_uri": "https://localhost:8080/"
        },
        "id": "Ujbdbh8uA_fa",
        "outputId": "3e507663-5bee-4c0e-c589-ad99185ac1d0"
      },
      "execution_count": null,
      "outputs": [
        {
          "output_type": "stream",
          "name": "stdout",
          "text": [
            "baekjoon\n",
            "baekjoon??!\n"
          ]
        }
      ]
    },
    {
      "cell_type": "markdown",
      "source": [
        "18108"
      ],
      "metadata": {
        "id": "-xjm178EKbnS"
      }
    },
    {
      "cell_type": "code",
      "source": [
        "2541 - 1998"
      ],
      "metadata": {
        "colab": {
          "base_uri": "https://localhost:8080/"
        },
        "id": "q7SxpjN9CLtT",
        "outputId": "c632a0f8-dc94-406d-b748-bfc55d71c32a"
      },
      "execution_count": null,
      "outputs": [
        {
          "output_type": "execute_result",
          "data": {
            "text/plain": [
              "543"
            ]
          },
          "metadata": {},
          "execution_count": 14
        }
      ]
    },
    {
      "cell_type": "code",
      "source": [
        "a=int(input())\n",
        "print(a-543)"
      ],
      "metadata": {
        "colab": {
          "base_uri": "https://localhost:8080/"
        },
        "id": "vfo9WkM0B3U7",
        "outputId": "eac0b8e4-a58d-4f6c-d134-a2c059254e68"
      },
      "execution_count": null,
      "outputs": [
        {
          "output_type": "stream",
          "name": "stdout",
          "text": [
            "2541\n",
            "1998\n"
          ]
        }
      ]
    },
    {
      "cell_type": "markdown",
      "source": [
        "10430"
      ],
      "metadata": {
        "id": "rSBMSYtGKhWc"
      }
    },
    {
      "cell_type": "code",
      "source": [
        "a, b, c = map(int, input().split())\n",
        "print((a+b)%c)\n",
        "print(((a%c)+(b%c))%c)\n",
        "print((a*b)%c)\n",
        "print(((a%c)*(b%c))%c)"
      ],
      "metadata": {
        "colab": {
          "base_uri": "https://localhost:8080/"
        },
        "id": "a70Zpc43HIE9",
        "outputId": "c4e15e1b-1e2a-4cd4-ce2f-51eb4f50cfc7"
      },
      "execution_count": null,
      "outputs": [
        {
          "output_type": "stream",
          "name": "stdout",
          "text": [
            "5 8 4\n",
            "1\n",
            "1\n",
            "0\n",
            "0\n"
          ]
        }
      ]
    },
    {
      "cell_type": "markdown",
      "source": [
        "2588"
      ],
      "metadata": {
        "id": "3-BO2DB4KkXq"
      }
    },
    {
      "cell_type": "code",
      "source": [
        "a = int(input())\n",
        "b = input()\n",
        "\n",
        "for i in range(len(b)-1, -1, -1):\n",
        "    result=a * int(b[i])\n",
        "    print(result)\n",
        "\n",
        "final_result=a * int(b)\n",
        "print(final_result)"
      ],
      "metadata": {
        "colab": {
          "base_uri": "https://localhost:8080/"
        },
        "id": "jmh3UARkI5BP",
        "outputId": "97cc547b-7894-4f85-bd00-6d602946aa07"
      },
      "execution_count": null,
      "outputs": [
        {
          "output_type": "stream",
          "name": "stdout",
          "text": [
            "472\n",
            "385\n",
            "2360\n",
            "3776\n",
            "1416\n",
            "181720\n"
          ]
        }
      ]
    },
    {
      "cell_type": "markdown",
      "source": [
        "#12/24"
      ],
      "metadata": {
        "id": "5PjZLqCI5exu"
      }
    },
    {
      "cell_type": "markdown",
      "source": [
        "11382"
      ],
      "metadata": {
        "id": "sQCjM6SY5Yw2"
      }
    },
    {
      "cell_type": "code",
      "source": [
        "a, b, c = map(int, input().split())\n",
        "print(a+b+c)"
      ],
      "metadata": {
        "colab": {
          "base_uri": "https://localhost:8080/"
        },
        "id": "sPLiA36D5FE1",
        "outputId": "9000a128-1daf-4195-b56a-6443255090ac"
      },
      "execution_count": null,
      "outputs": [
        {
          "output_type": "stream",
          "name": "stdout",
          "text": [
            "77 77 7777\n",
            "7931\n"
          ]
        }
      ]
    },
    {
      "cell_type": "markdown",
      "source": [
        "10171"
      ],
      "metadata": {
        "id": "e4eZkJMY5ntd"
      }
    },
    {
      "cell_type": "code",
      "source": [
        "print(\"\\\\    /\\\\\")\n",
        "print(\" )  ( ')\")\n",
        "print(\"(  /  )\")\n",
        "print(\" \\\\(__)|\")"
      ],
      "metadata": {
        "colab": {
          "base_uri": "https://localhost:8080/"
        },
        "id": "RTpMrA7a5w7R",
        "outputId": "91a0b1fb-2b37-49f9-c424-eb512ed70871"
      },
      "execution_count": null,
      "outputs": [
        {
          "output_type": "stream",
          "name": "stdout",
          "text": [
            "\\    /\\\n",
            " )  ( ')\n",
            "(  /  )\n",
            " \\(__)|\n"
          ]
        }
      ]
    },
    {
      "cell_type": "markdown",
      "source": [
        "10172"
      ],
      "metadata": {
        "id": "AUGRRLhv6BvP"
      }
    },
    {
      "cell_type": "code",
      "source": [
        "print(\"|\\_/|\")\n",
        "print(\"|q p|   /}\")\n",
        "print(\"( 0 )\\\"\\\"\\\"\\\\\")\n",
        "print(\"|\\\"^\\\"`    |\")\n",
        "print(\"||_/=\\\\\\__|\")"
      ],
      "metadata": {
        "colab": {
          "base_uri": "https://localhost:8080/"
        },
        "id": "F0wq3BL56C9d",
        "outputId": "6ee8e070-ad07-4d4e-a9f8-9fddd261e18b"
      },
      "execution_count": null,
      "outputs": [
        {
          "output_type": "stream",
          "name": "stdout",
          "text": [
            "|\\_/|\n",
            "|q p|   /}\n",
            "( 0 )\"\"\"\\\n",
            "|\"^\"`    |\n",
            "||_/=\\\\__|\n"
          ]
        }
      ]
    },
    {
      "cell_type": "markdown",
      "source": [
        "1330"
      ],
      "metadata": {
        "id": "q1wDS2j96cJJ"
      }
    },
    {
      "cell_type": "code",
      "source": [
        "a, b = map(int, input().split())\n",
        "\n",
        "if a > b:\n",
        "    print(\">\")\n",
        "elif a < b:\n",
        "    print(\"<\")\n",
        "else:\n",
        "    print(\"==\")"
      ],
      "metadata": {
        "colab": {
          "base_uri": "https://localhost:8080/"
        },
        "id": "0A38Vbfd6elV",
        "outputId": "2de5c514-1cf0-43bf-96f5-876806df6e61"
      },
      "execution_count": null,
      "outputs": [
        {
          "output_type": "stream",
          "name": "stdout",
          "text": [
            "1 2\n",
            "<\n"
          ]
        }
      ]
    },
    {
      "cell_type": "markdown",
      "source": [
        "9498"
      ],
      "metadata": {
        "id": "Hfuob9rz6eDA"
      }
    },
    {
      "cell_type": "code",
      "source": [
        "score = int(input())\n",
        "\n",
        "if 90 <= score <= 100:\n",
        "    print(\"A\")\n",
        "elif 80 <= score <= 89:\n",
        "    print(\"B\")\n",
        "elif 70 <= score <= 79:\n",
        "    print(\"C\")\n",
        "elif 60 <= score <= 69:\n",
        "    print(\"D\")\n",
        "else:\n",
        "    print(\"F\")"
      ],
      "metadata": {
        "colab": {
          "base_uri": "https://localhost:8080/"
        },
        "id": "3NXfxjkt8Ga7",
        "outputId": "e61693cd-c8b8-4f50-f7e8-eca289e9d8ce"
      },
      "execution_count": null,
      "outputs": [
        {
          "output_type": "stream",
          "name": "stdout",
          "text": [
            "100\n",
            "A\n"
          ]
        }
      ]
    },
    {
      "cell_type": "markdown",
      "source": [
        "2753"
      ],
      "metadata": {
        "id": "PINECQpD8p96"
      }
    },
    {
      "cell_type": "code",
      "source": [
        "year = int(input())\n",
        "\n",
        "if (year % 4) == 0 and (year % 100) != 0 or (year % 400) == 0:\n",
        "    print(\"1\")\n",
        "else:\n",
        "    print(\"0\")"
      ],
      "metadata": {
        "colab": {
          "base_uri": "https://localhost:8080/"
        },
        "id": "cPHWwpPi8rzD",
        "outputId": "c76c2d2f-edd4-4fa0-cd51-2798ecfe57a7"
      },
      "execution_count": null,
      "outputs": [
        {
          "output_type": "stream",
          "name": "stdout",
          "text": [
            "1999\n",
            "0\n"
          ]
        }
      ]
    },
    {
      "cell_type": "markdown",
      "source": [
        "14681"
      ],
      "metadata": {
        "id": "gP4VI-vL-oma"
      }
    },
    {
      "cell_type": "code",
      "source": [
        "x = int(input())\n",
        "y = int(input())\n",
        "\n",
        "if 0 < x and 0 < y:\n",
        "    print(\"1\")\n",
        "elif 0 > x and 0 < y:\n",
        "    print(\"2\")\n",
        "elif x < 0 and y < 0:\n",
        "    print(\"3\")\n",
        "elif 0 < x and 0 > y:\n",
        "    print(\"4\")"
      ],
      "metadata": {
        "colab": {
          "base_uri": "https://localhost:8080/"
        },
        "id": "S5rOFa0i-rDX",
        "outputId": "b32226d4-c18c-4904-d047-8f5127e3526c"
      },
      "execution_count": null,
      "outputs": [
        {
          "output_type": "stream",
          "name": "stdout",
          "text": [
            "9\n",
            "-13\n",
            "4\n"
          ]
        }
      ]
    },
    {
      "cell_type": "markdown",
      "source": [
        "2884"
      ],
      "metadata": {
        "id": "qqxxVk0tAk2z"
      }
    },
    {
      "cell_type": "code",
      "source": [
        "H, M = map(int, input().split())\n",
        "\n",
        "if M >= 45:\n",
        "    M -= 45\n",
        "else:\n",
        "    M += 15\n",
        "    if H == 0:\n",
        "        H = 23\n",
        "    else:\n",
        "        H -= 1\n",
        "\n",
        "print(H, M)"
      ],
      "metadata": {
        "colab": {
          "base_uri": "https://localhost:8080/"
        },
        "id": "7iqFqV7JAmTE",
        "outputId": "c1861a7d-0e33-4033-b273-fb5e6780d00d"
      },
      "execution_count": null,
      "outputs": [
        {
          "output_type": "stream",
          "name": "stdout",
          "text": [
            "10 10\n",
            "9 25\n"
          ]
        }
      ]
    },
    {
      "cell_type": "markdown",
      "source": [
        "2525"
      ],
      "metadata": {
        "id": "s73AX1nAB6bj"
      }
    },
    {
      "cell_type": "code",
      "source": [
        "H, M = map(int, input().split())\n",
        "CT = int(input())\n",
        "\n",
        "TT = H * 60 + M + CT\n",
        "\n",
        "H = (TT // 60) % 24\n",
        "M = TT % 60\n",
        "\n",
        "print(H, M)"
      ],
      "metadata": {
        "colab": {
          "base_uri": "https://localhost:8080/"
        },
        "id": "S1PsovmTB775",
        "outputId": "46258a6c-6a48-4189-cb09-8cc3d0d6bdb7"
      },
      "execution_count": null,
      "outputs": [
        {
          "output_type": "stream",
          "name": "stdout",
          "text": [
            "17 40\n",
            "80\n",
            "19 0\n"
          ]
        }
      ]
    },
    {
      "cell_type": "markdown",
      "source": [
        "2480"
      ],
      "metadata": {
        "id": "3hYOmoKpDXXl"
      }
    },
    {
      "cell_type": "code",
      "source": [
        "a, b, c = map(int, input().split())\n",
        "\n",
        "if a == b == c:\n",
        "    print(10000 + a * 1000)\n",
        "elif a == b or a == c:\n",
        "    print(1000 + a * 100)\n",
        "elif b == c:\n",
        "    print(1000 + b * 100)\n",
        "else:\n",
        "    print(max(a, b, c) * 100)"
      ],
      "metadata": {
        "colab": {
          "base_uri": "https://localhost:8080/"
        },
        "id": "2UMlPUJFDZtA",
        "outputId": "af3546c1-99d6-471c-ac9f-1e134d368403"
      },
      "execution_count": null,
      "outputs": [
        {
          "output_type": "stream",
          "name": "stdout",
          "text": [
            "6 2 5\n",
            "600\n"
          ]
        }
      ]
    },
    {
      "cell_type": "markdown",
      "source": [
        "2739"
      ],
      "metadata": {
        "id": "1NyEz3T0FI4W"
      }
    },
    {
      "cell_type": "code",
      "source": [
        "N = int(input())\n",
        "\n",
        "for i in range(1, 10):\n",
        "    print(N, \"*\", i, \"=\", N * i)"
      ],
      "metadata": {
        "colab": {
          "base_uri": "https://localhost:8080/"
        },
        "id": "nGr1QjRbFKYR",
        "outputId": "b8281519-7bde-4c4e-8981-40b612cbf29e"
      },
      "execution_count": null,
      "outputs": [
        {
          "output_type": "stream",
          "name": "stdout",
          "text": [
            "2\n",
            "2 * 1 = 2\n",
            "2 * 2 = 4\n",
            "2 * 3 = 6\n",
            "2 * 4 = 8\n",
            "2 * 5 = 10\n",
            "2 * 6 = 12\n",
            "2 * 7 = 14\n",
            "2 * 8 = 16\n",
            "2 * 9 = 18\n"
          ]
        }
      ]
    },
    {
      "cell_type": "markdown",
      "source": [
        "10950"
      ],
      "metadata": {
        "id": "i9wFIFBaJCbG"
      }
    },
    {
      "cell_type": "code",
      "source": [
        "T = int(input())\n",
        "\n",
        "result = []\n",
        "\n",
        "for i in range(T):\n",
        "    A, B = map(int, input().split())\n",
        "    result.append(A + B)\n",
        "\n",
        "for result in result:\n",
        "    print(result)"
      ],
      "metadata": {
        "colab": {
          "base_uri": "https://localhost:8080/"
        },
        "id": "EZ_7Q4poJEN-",
        "outputId": "ee8af18b-3ee0-47ca-9bc7-ee0c74450bfa"
      },
      "execution_count": null,
      "outputs": [
        {
          "output_type": "stream",
          "name": "stdout",
          "text": [
            "5\n",
            "1 1\n",
            "2 3\n",
            "3 4\n",
            "9 8\n",
            "5 2\n",
            "2\n",
            "5\n",
            "7\n",
            "17\n",
            "7\n"
          ]
        }
      ]
    },
    {
      "cell_type": "markdown",
      "source": [
        "8393"
      ],
      "metadata": {
        "id": "9PVBlbFDKtKQ"
      }
    },
    {
      "cell_type": "code",
      "source": [
        "n = int(input())\n",
        "result = 0\n",
        "\n",
        "for i in range(1, n + 1):\n",
        "    result += i\n",
        "\n",
        "print(result)"
      ],
      "metadata": {
        "colab": {
          "base_uri": "https://localhost:8080/"
        },
        "id": "g1lwyAwaKvVZ",
        "outputId": "bb8ef4e0-abf4-4843-c036-f44e455adb52"
      },
      "execution_count": null,
      "outputs": [
        {
          "output_type": "stream",
          "name": "stdout",
          "text": [
            "10\n",
            "55\n"
          ]
        }
      ]
    },
    {
      "cell_type": "markdown",
      "source": [
        "25304"
      ],
      "metadata": {
        "id": "CZyle_NsL6cW"
      }
    },
    {
      "cell_type": "code",
      "source": [
        "X = int(input())\n",
        "N = int(input())\n",
        "\n",
        "result = 0\n",
        "\n",
        "for i in range(N):\n",
        "    a, b = map(int, input().split())\n",
        "    result += a * b\n",
        "if result == X:\n",
        "    print(\"Yes\")\n",
        "else:\n",
        "    print(\"No\")"
      ],
      "metadata": {
        "colab": {
          "base_uri": "https://localhost:8080/"
        },
        "id": "be0YLAsmL-zh",
        "outputId": "3bc91e0f-e80e-4338-9cf2-d9af48b6aa49"
      },
      "execution_count": null,
      "outputs": [
        {
          "output_type": "stream",
          "name": "stdout",
          "text": [
            "250000\n",
            "4\n",
            "20000 5\n",
            "30000 2\n",
            "10000 6\n",
            "5000 8\n",
            "No\n"
          ]
        }
      ]
    },
    {
      "cell_type": "markdown",
      "source": [
        "#12/25"
      ],
      "metadata": {
        "id": "NbFejWmKkCi7"
      }
    },
    {
      "cell_type": "markdown",
      "source": [
        "25314"
      ],
      "metadata": {
        "id": "0FLeQtfLkERL"
      }
    },
    {
      "cell_type": "code",
      "source": [
        "N = int(input())\n",
        "\n",
        "result = N // 4\n",
        "\n",
        "for i in range(result):\n",
        "    print(\"long\", end=\" \")\n",
        "print(\"int\")"
      ],
      "metadata": {
        "colab": {
          "base_uri": "https://localhost:8080/"
        },
        "id": "kV2NAjpnkD-k",
        "outputId": "9b5661df-87ac-4cd4-ba38-2c26b7a28b6d"
      },
      "execution_count": null,
      "outputs": [
        {
          "output_type": "stream",
          "name": "stdout",
          "text": [
            "100\n",
            "long long long long long long long long long long long long long long long long long long long long long long long long long int\n"
          ]
        }
      ]
    },
    {
      "cell_type": "markdown",
      "source": [
        "15552"
      ],
      "metadata": {
        "id": "y02n0CEjlbZS"
      }
    },
    {
      "cell_type": "code",
      "source": [
        "import sys\n",
        "\n",
        "T = int(sys.stdin.readline().rstrip())\n",
        "\n",
        "for _ in range(T):\n",
        "    A, B = map(int, sys.stdin.readline().split())\n",
        "    sys.stdout.write(f\"{A + B}\\n\")"
      ],
      "metadata": {
        "colab": {
          "base_uri": "https://localhost:8080/",
          "height": 211
        },
        "collapsed": true,
        "id": "A-OHYI_-ldPc",
        "outputId": "9708bb60-e55a-437f-9cd5-4adeddbea6f3"
      },
      "execution_count": null,
      "outputs": [
        {
          "output_type": "error",
          "ename": "ValueError",
          "evalue": "invalid literal for int() with base 10: ''",
          "traceback": [
            "\u001b[0;31m---------------------------------------------------------------------------\u001b[0m",
            "\u001b[0;31mValueError\u001b[0m                                Traceback (most recent call last)",
            "\u001b[0;32m<ipython-input-8-68cbda9e11cd>\u001b[0m in \u001b[0;36m<cell line: 3>\u001b[0;34m()\u001b[0m\n\u001b[1;32m      1\u001b[0m \u001b[0;32mimport\u001b[0m \u001b[0msys\u001b[0m\u001b[0;34m\u001b[0m\u001b[0;34m\u001b[0m\u001b[0m\n\u001b[1;32m      2\u001b[0m \u001b[0;34m\u001b[0m\u001b[0m\n\u001b[0;32m----> 3\u001b[0;31m \u001b[0mT\u001b[0m \u001b[0;34m=\u001b[0m \u001b[0mint\u001b[0m\u001b[0;34m(\u001b[0m\u001b[0msys\u001b[0m\u001b[0;34m.\u001b[0m\u001b[0mstdin\u001b[0m\u001b[0;34m.\u001b[0m\u001b[0mreadline\u001b[0m\u001b[0;34m(\u001b[0m\u001b[0;34m)\u001b[0m\u001b[0;34m.\u001b[0m\u001b[0mrstrip\u001b[0m\u001b[0;34m(\u001b[0m\u001b[0;34m)\u001b[0m\u001b[0;34m)\u001b[0m\u001b[0;34m\u001b[0m\u001b[0;34m\u001b[0m\u001b[0m\n\u001b[0m\u001b[1;32m      4\u001b[0m \u001b[0;34m\u001b[0m\u001b[0m\n\u001b[1;32m      5\u001b[0m \u001b[0;32mfor\u001b[0m \u001b[0m_\u001b[0m \u001b[0;32min\u001b[0m \u001b[0mrange\u001b[0m\u001b[0;34m(\u001b[0m\u001b[0mT\u001b[0m\u001b[0;34m)\u001b[0m\u001b[0;34m:\u001b[0m\u001b[0;34m\u001b[0m\u001b[0;34m\u001b[0m\u001b[0m\n",
            "\u001b[0;31mValueError\u001b[0m: invalid literal for int() with base 10: ''"
          ]
        }
      ]
    },
    {
      "cell_type": "markdown",
      "source": [
        "155552-2(Jupyter에선sys.stdin.readline() 지원X)"
      ],
      "metadata": {
        "id": "puOOs41An7vS"
      }
    },
    {
      "cell_type": "code",
      "source": [
        "import sys\n",
        "from io import StringIO\n",
        "\n",
        "# 테스트용 입력 데이터\n",
        "test_input = \"\"\"5\n",
        "1 1\n",
        "12 34\n",
        "5 500\n",
        "40 60\n",
        "1000 1000\n",
        "\"\"\"\n",
        "sys.stdin = StringIO(test_input)\n",
        "\n",
        "T = int(sys.stdin.readline().rstrip())\n",
        "for _ in range(T):\n",
        "    A, B = map(int, sys.stdin.readline().split())\n",
        "    print(A + B)"
      ],
      "metadata": {
        "colab": {
          "base_uri": "https://localhost:8080/"
        },
        "id": "yjjQnV37oNuK",
        "outputId": "bb8fe3ec-d0e6-4d43-fe65-8142a3048942"
      },
      "execution_count": null,
      "outputs": [
        {
          "output_type": "stream",
          "name": "stdout",
          "text": [
            "2\n",
            "46\n",
            "505\n",
            "100\n",
            "2000\n"
          ]
        }
      ]
    },
    {
      "cell_type": "markdown",
      "source": [
        "11021(sys.stdin.readline() 지원X)"
      ],
      "metadata": {
        "id": "QdiEmotxoVwf"
      }
    },
    {
      "cell_type": "code",
      "source": [
        "import sys\n",
        "\n",
        "T = int(sys.stdin.readline().rstrip())\n",
        "\n",
        "for i in range(1, T + 1):\n",
        "    A, B = map(int, sys.stdin.readline().split())\n",
        "    print(f\"Case #{i}: {A + B}\")"
      ],
      "metadata": {
        "colab": {
          "base_uri": "https://localhost:8080/",
          "height": 211
        },
        "collapsed": true,
        "id": "WTwfZxelofQJ",
        "outputId": "bb01698a-d4aa-446c-b318-b1d8ff619e61"
      },
      "execution_count": null,
      "outputs": [
        {
          "output_type": "error",
          "ename": "ValueError",
          "evalue": "invalid literal for int() with base 10: ''",
          "traceback": [
            "\u001b[0;31m---------------------------------------------------------------------------\u001b[0m",
            "\u001b[0;31mValueError\u001b[0m                                Traceback (most recent call last)",
            "\u001b[0;32m<ipython-input-10-53b9363d9eae>\u001b[0m in \u001b[0;36m<cell line: 3>\u001b[0;34m()\u001b[0m\n\u001b[1;32m      1\u001b[0m \u001b[0;32mimport\u001b[0m \u001b[0msys\u001b[0m\u001b[0;34m\u001b[0m\u001b[0;34m\u001b[0m\u001b[0m\n\u001b[1;32m      2\u001b[0m \u001b[0;34m\u001b[0m\u001b[0m\n\u001b[0;32m----> 3\u001b[0;31m \u001b[0mT\u001b[0m \u001b[0;34m=\u001b[0m \u001b[0mint\u001b[0m\u001b[0;34m(\u001b[0m\u001b[0msys\u001b[0m\u001b[0;34m.\u001b[0m\u001b[0mstdin\u001b[0m\u001b[0;34m.\u001b[0m\u001b[0mreadline\u001b[0m\u001b[0;34m(\u001b[0m\u001b[0;34m)\u001b[0m\u001b[0;34m.\u001b[0m\u001b[0mrstrip\u001b[0m\u001b[0;34m(\u001b[0m\u001b[0;34m)\u001b[0m\u001b[0;34m)\u001b[0m\u001b[0;34m\u001b[0m\u001b[0;34m\u001b[0m\u001b[0m\n\u001b[0m\u001b[1;32m      4\u001b[0m \u001b[0;34m\u001b[0m\u001b[0m\n\u001b[1;32m      5\u001b[0m \u001b[0;32mfor\u001b[0m \u001b[0mi\u001b[0m \u001b[0;32min\u001b[0m \u001b[0mrange\u001b[0m\u001b[0;34m(\u001b[0m\u001b[0;36m1\u001b[0m\u001b[0;34m,\u001b[0m \u001b[0mT\u001b[0m \u001b[0;34m+\u001b[0m \u001b[0;36m1\u001b[0m\u001b[0;34m)\u001b[0m\u001b[0;34m:\u001b[0m\u001b[0;34m\u001b[0m\u001b[0;34m\u001b[0m\u001b[0m\n",
            "\u001b[0;31mValueError\u001b[0m: invalid literal for int() with base 10: ''"
          ]
        }
      ]
    },
    {
      "cell_type": "markdown",
      "source": [
        "11022(sys.stdin.readline() 지원X)"
      ],
      "metadata": {
        "id": "WUhnPALkpD0x"
      }
    },
    {
      "cell_type": "code",
      "source": [
        "import sys\n",
        "\n",
        "T = int(sys.stdin.readline().rstrip())\n",
        "\n",
        "for i in range(1, T + 1):\n",
        "    A, B = map(int, sys.stdin.readline().split())\n",
        "    print(f\"Case #{i}: {A} + {B} = {A + B}\")"
      ],
      "metadata": {
        "id": "GYZlTNCgpDN2"
      },
      "execution_count": null,
      "outputs": []
    },
    {
      "cell_type": "markdown",
      "source": [
        "2438"
      ],
      "metadata": {
        "id": "pihe8nb0pWcj"
      }
    },
    {
      "cell_type": "code",
      "source": [
        "N = int(input())\n",
        "\n",
        "for i in range(1, N + 1):\n",
        "    print(\"*\" * i)"
      ],
      "metadata": {
        "colab": {
          "base_uri": "https://localhost:8080/"
        },
        "id": "M3GX5jRapdNY",
        "outputId": "26ca9c93-265e-4b80-f893-e2ec8c6237ef"
      },
      "execution_count": null,
      "outputs": [
        {
          "output_type": "stream",
          "name": "stdout",
          "text": [
            "5\n",
            "*\n",
            "**\n",
            "***\n",
            "****\n",
            "*****\n"
          ]
        }
      ]
    },
    {
      "cell_type": "markdown",
      "source": [
        "2439"
      ],
      "metadata": {
        "id": "AWC2zi8Npq9u"
      }
    },
    {
      "cell_type": "code",
      "source": [
        "N = int(input())\n",
        "\n",
        "for i in range(1, N + 1):\n",
        "    print(\" \" * (N - i) + \"*\" * i)"
      ],
      "metadata": {
        "colab": {
          "base_uri": "https://localhost:8080/"
        },
        "id": "G7ouNPozpswh",
        "outputId": "a9b1962e-1634-42aa-a397-2bcf0056c0c9"
      },
      "execution_count": null,
      "outputs": [
        {
          "output_type": "stream",
          "name": "stdout",
          "text": [
            "5\n",
            "    *\n",
            "   **\n",
            "  ***\n",
            " ****\n",
            "*****\n"
          ]
        }
      ]
    },
    {
      "cell_type": "markdown",
      "source": [
        "10952"
      ],
      "metadata": {
        "id": "D8BLkDM5qOoG"
      }
    },
    {
      "cell_type": "code",
      "source": [
        "while True:\n",
        "  try:\n",
        "    A, B = map(int, input().split())\n",
        "    print(A + B)\n",
        "  except:\n",
        "    break"
      ],
      "metadata": {
        "colab": {
          "base_uri": "https://localhost:8080/"
        },
        "id": "hog1f9yeqQE_",
        "outputId": "a206fa7e-5484-4b43-fbdc-7573f75b0530"
      },
      "execution_count": null,
      "outputs": [
        {
          "name": "stdout",
          "output_type": "stream",
          "text": [
            "1 1\n",
            "2\n",
            "2 3\n",
            "5\n",
            "3 4\n",
            "7\n",
            "9 8\n",
            "17\n",
            "5 2\n",
            "7\n",
            "\n"
          ]
        }
      ]
    },
    {
      "cell_type": "markdown",
      "source": [
        "#12/26"
      ],
      "metadata": {
        "id": "sZTG1Z5cWSZ7"
      }
    },
    {
      "cell_type": "markdown",
      "source": [
        "10807"
      ],
      "metadata": {
        "id": "kYRGLEcQWUgl"
      }
    },
    {
      "cell_type": "code",
      "source": [
        "N = int(input())\n",
        "A = list(map(int, input().split()))\n",
        "v = int(input())\n",
        "\n",
        "print(A.count(v))"
      ],
      "metadata": {
        "colab": {
          "base_uri": "https://localhost:8080/"
        },
        "id": "OXSsP0dvWedD",
        "outputId": "49c49dff-220e-4c18-c209-80587275f65c"
      },
      "execution_count": null,
      "outputs": [
        {
          "output_type": "stream",
          "name": "stdout",
          "text": [
            "11\n",
            "1 4 1 2 4 2 4 2 3 4 4\n",
            "5\n",
            "0\n"
          ]
        }
      ]
    },
    {
      "cell_type": "markdown",
      "source": [
        "10871"
      ],
      "metadata": {
        "id": "kXIgtuu7a6pI"
      }
    },
    {
      "cell_type": "code",
      "source": [
        "N, X = map(int, input().split())\n",
        "A = list(map(int, input().split()))\n",
        "\n",
        "for i in range(N):\n",
        "    if A[i] < X:\n",
        "        print(A[i], end=\" \")"
      ],
      "metadata": {
        "colab": {
          "base_uri": "https://localhost:8080/"
        },
        "id": "EyVgLhaga-Vf",
        "outputId": "c2023c7b-97c5-42b5-febc-2ef9330f52cf"
      },
      "execution_count": null,
      "outputs": [
        {
          "output_type": "stream",
          "name": "stdout",
          "text": [
            "10 5\n",
            "1 10 4 9 2 3 8 5 7 6\n",
            "1 4 2 3 "
          ]
        }
      ]
    },
    {
      "cell_type": "markdown",
      "source": [
        "10818"
      ],
      "metadata": {
        "id": "IcZlwn19blPX"
      }
    },
    {
      "cell_type": "code",
      "source": [
        "N = map(int, input())\n",
        "A = list(map(int, input().split()))\n",
        "\n",
        "print(min(A), max(A))"
      ],
      "metadata": {
        "colab": {
          "base_uri": "https://localhost:8080/"
        },
        "id": "L9VG7fgqbmiz",
        "outputId": "ccdef010-3372-481a-fb42-0dbcf3882e76"
      },
      "execution_count": null,
      "outputs": [
        {
          "output_type": "stream",
          "name": "stdout",
          "text": [
            "5\n",
            "20 10 35  30 7\n",
            "7 35\n"
          ]
        }
      ]
    },
    {
      "cell_type": "markdown",
      "source": [
        "2562"
      ],
      "metadata": {
        "id": "lylg8A5icKMd"
      }
    },
    {
      "cell_type": "code",
      "source": [
        "for (i, n) in enumerate(range(9)):\n",
        "    n = int(input())\n",
        "    if i == 0:\n",
        "        max = n\n",
        "        max_index = 1\n",
        "    elif n > max:\n",
        "        max = n\n",
        "        max_index = i + 1\n",
        "\n",
        "print(max)\n",
        "print(max_index)"
      ],
      "metadata": {
        "colab": {
          "base_uri": "https://localhost:8080/"
        },
        "id": "T7yEUwBCcLjP",
        "outputId": "0d16247d-f1cf-4546-e502-6fd25bd63bc9"
      },
      "execution_count": null,
      "outputs": [
        {
          "output_type": "stream",
          "name": "stdout",
          "text": [
            "3\n",
            "29\n",
            "38\n",
            "12\n",
            "57\n",
            "74\n",
            "40\n",
            "85\n",
            "61\n",
            "85\n",
            "8\n"
          ]
        }
      ]
    },
    {
      "cell_type": "markdown",
      "source": [
        "10810"
      ],
      "metadata": {
        "id": "gZczwSmXdzUI"
      }
    },
    {
      "cell_type": "code",
      "source": [
        "N, M = map(int, input().split())\n",
        "A = [0] * N\n",
        "\n",
        "for _ in range(M):\n",
        "    i, j, k = map(int, input().split())\n",
        "    for n in range(i - 1, j):\n",
        "        A[n] = k\n",
        "\n",
        "for a in A:\n",
        "    print(a, end=\" \")"
      ],
      "metadata": {
        "colab": {
          "base_uri": "https://localhost:8080/"
        },
        "id": "ZZmbIeaMd1Ig",
        "outputId": "6bce70ad-0bb5-470b-9345-c2a656f9859d"
      },
      "execution_count": null,
      "outputs": [
        {
          "output_type": "stream",
          "name": "stdout",
          "text": [
            "5 4\n",
            "1 2 3\n",
            "3 4 4\n",
            "1 4 1\n",
            "2 2 2\n",
            "1 2 1 1 0 "
          ]
        }
      ]
    },
    {
      "cell_type": "markdown",
      "source": [
        "10813"
      ],
      "metadata": {
        "id": "e6cUothReysJ"
      }
    },
    {
      "cell_type": "code",
      "source": [
        "N, M = map(int, input().split())\n",
        "A = list(range(1, N + 1))\n",
        "\n",
        "for _ in range(M):\n",
        "    i, j = map(int, input().split())\n",
        "    A[i - 1], A[j - 1] = A[j - 1], A[i - 1]\n",
        "\n",
        "for a in A:\n",
        "    print(a, end=\" \")"
      ],
      "metadata": {
        "colab": {
          "base_uri": "https://localhost:8080/"
        },
        "id": "x2yZqEhhez6F",
        "outputId": "d6745831-9155-4825-c7cf-09a97ae458e1"
      },
      "execution_count": null,
      "outputs": [
        {
          "output_type": "stream",
          "name": "stdout",
          "text": [
            "5 4\n",
            "1 2\n",
            "3 4\n",
            "1 4\n",
            "2 2\n",
            "3 1 4 2 5 "
          ]
        }
      ]
    },
    {
      "cell_type": "markdown",
      "source": [
        "5597"
      ],
      "metadata": {
        "id": "AlVabh5FgVse"
      }
    },
    {
      "cell_type": "code",
      "source": [
        "all_students = set(range(1, 31))\n",
        "submitted_students = {int(input()) for _ in range(28)}\n",
        "missing_students = sorted(all_students - submitted_students)\n",
        "\n",
        "print(missing_students[0])\n",
        "print(missing_students[1])"
      ],
      "metadata": {
        "colab": {
          "base_uri": "https://localhost:8080/"
        },
        "id": "TD3lntTtgXjT",
        "outputId": "c730a75c-6399-49e7-88f6-18247ee1eff5"
      },
      "execution_count": null,
      "outputs": [
        {
          "output_type": "stream",
          "name": "stdout",
          "text": [
            "3\n",
            "1\n",
            "4\n",
            "5\n",
            "7\n",
            "9\n",
            "6\n",
            "10\n",
            "11\n",
            "12\n",
            "13\n",
            "14\n",
            "15\n",
            "16\n",
            "17\n",
            "18\n",
            "19\n",
            "20\n",
            "21\n",
            "22\n",
            "23\n",
            "24\n",
            "25\n",
            "26\n",
            "27\n",
            "28\n",
            "29\n",
            "30\n",
            "2\n",
            "8\n"
          ]
        }
      ]
    },
    {
      "cell_type": "markdown",
      "source": [
        "3052"
      ],
      "metadata": {
        "id": "5boCLE8Wi1YC"
      }
    },
    {
      "cell_type": "code",
      "source": [
        "remainders = set()\n",
        "\n",
        "for _ in range(10):\n",
        "    number = int(input())\n",
        "    remainders.add(number % 42)\n",
        "\n",
        "print(len(remainders))"
      ],
      "metadata": {
        "colab": {
          "base_uri": "https://localhost:8080/"
        },
        "id": "N1IXbfEli3Vc",
        "outputId": "bd508eda-98cc-4484-c48b-9d92cbc11a08"
      },
      "execution_count": null,
      "outputs": [
        {
          "output_type": "stream",
          "name": "stdout",
          "text": [
            "39\n",
            "40\n",
            "41\n",
            "42\n",
            "43\n",
            "44\n",
            "82\n",
            "83\n",
            "84\n",
            "85\n",
            "6\n"
          ]
        }
      ]
    },
    {
      "cell_type": "markdown",
      "source": [
        "10811"
      ],
      "metadata": {
        "id": "l51CMh7gk6yV"
      }
    },
    {
      "cell_type": "code",
      "source": [
        "N, M = map(int, input().split())\n",
        "A = list(range(1, N + 1))\n",
        "\n",
        "for _ in range(M):\n",
        "    i, j = map(int, input().split())\n",
        "    A[i - 1:j] = reversed(A[i - 1:j])\n",
        "\n",
        "for a in A:\n",
        "    print(a, end=\" \")"
      ],
      "metadata": {
        "colab": {
          "base_uri": "https://localhost:8080/"
        },
        "id": "T7ZFxoUrk76H",
        "outputId": "97c2457f-4bc8-401a-a1ba-8f5613b67db0"
      },
      "execution_count": null,
      "outputs": [
        {
          "output_type": "stream",
          "name": "stdout",
          "text": [
            "5 4\n",
            "1 2\n",
            "3 4\n",
            "1 4\n",
            "2 2\n",
            "3 4 1 2 5 "
          ]
        }
      ]
    },
    {
      "cell_type": "markdown",
      "source": [
        "1546"
      ],
      "metadata": {
        "id": "PcGCUEjJlY33"
      }
    },
    {
      "cell_type": "code",
      "source": [
        "N = int(input())\n",
        "scores = list(map(int, input().split()))\n",
        "\n",
        "best_score = max(scores)\n",
        "\n",
        "new_scores = [score / best_score * 100 for score in scores]\n",
        "\n",
        "average = sum(new_scores) / N\n",
        "\n",
        "print(average)"
      ],
      "metadata": {
        "colab": {
          "base_uri": "https://localhost:8080/"
        },
        "id": "oXVaDfeDlwDh",
        "outputId": "885315b3-d830-438b-b7bc-bc7478b9debb"
      },
      "execution_count": null,
      "outputs": [
        {
          "output_type": "stream",
          "name": "stdout",
          "text": [
            "9\n",
            "10 20 30 40 50 60 70 80 90\n",
            "55.55555555555556\n"
          ]
        }
      ]
    },
    {
      "cell_type": "markdown",
      "source": [
        "#12/27"
      ],
      "metadata": {
        "id": "4uTlZq7WR-xQ"
      }
    },
    {
      "cell_type": "markdown",
      "source": [
        "27866"
      ],
      "metadata": {
        "id": "0TJzSOq7SBeq"
      }
    },
    {
      "cell_type": "code",
      "source": [
        "S = input()\n",
        "i = int(input())\n",
        "\n",
        "print(S[i-1])"
      ],
      "metadata": {
        "colab": {
          "base_uri": "https://localhost:8080/"
        },
        "id": "L2I07ZT-SBNm",
        "outputId": "d2bc6f9f-d5ba-4baa-ba28-a61fbf7ac560"
      },
      "execution_count": null,
      "outputs": [
        {
          "output_type": "stream",
          "name": "stdout",
          "text": [
            "sprout\n",
            "3\n",
            "r\n"
          ]
        }
      ]
    },
    {
      "cell_type": "markdown",
      "source": [
        "2743"
      ],
      "metadata": {
        "id": "wXkuSce-TTVI"
      }
    },
    {
      "cell_type": "code",
      "source": [
        "A = input()\n",
        "print(len(A))"
      ],
      "metadata": {
        "colab": {
          "base_uri": "https://localhost:8080/"
        },
        "id": "l12U5L7JTUfq",
        "outputId": "d6b92e5f-022d-4228-878f-22586036d516"
      },
      "execution_count": null,
      "outputs": [
        {
          "output_type": "stream",
          "name": "stdout",
          "text": [
            "pulljima\n",
            "8\n"
          ]
        }
      ]
    },
    {
      "cell_type": "markdown",
      "source": [
        "9086"
      ],
      "metadata": {
        "id": "ykkbgt9eTxs7"
      }
    },
    {
      "cell_type": "code",
      "source": [
        "T = int(input())\n",
        "\n",
        "for _ in range(T):\n",
        "  S = input()\n",
        "print(S[0] + S[-1])"
      ],
      "metadata": {
        "colab": {
          "base_uri": "https://localhost:8080/"
        },
        "id": "8rOc_9GlT0Bt",
        "outputId": "0b96749e-570b-4e08-fada-ec9cfbf9a55a"
      },
      "execution_count": null,
      "outputs": [
        {
          "output_type": "stream",
          "name": "stdout",
          "text": [
            "3\n",
            "asdflwo\n",
            "oo\n",
            "ab\n",
            "ab\n"
          ]
        }
      ]
    },
    {
      "cell_type": "code",
      "source": [
        "T = int(input())\n",
        "\n",
        "test_cases = [input().strip() for _ in range(T)]\n",
        "\n",
        "for S in test_cases:\n",
        "    print(S[0] + S[-1])"
      ],
      "metadata": {
        "colab": {
          "base_uri": "https://localhost:8080/"
        },
        "id": "dE_kf3SNVrVz",
        "outputId": "afd3e2bf-12e2-449a-fe5d-e162e3188db5"
      },
      "execution_count": null,
      "outputs": [
        {
          "output_type": "stream",
          "name": "stdout",
          "text": [
            "3\n",
            "adsge\n",
            "o\n",
            "ab\n",
            "ae\n",
            "oo\n",
            "ab\n"
          ]
        }
      ]
    },
    {
      "cell_type": "markdown",
      "source": [
        "11654"
      ],
      "metadata": {
        "id": "UDuqwC5DXoCg"
      }
    },
    {
      "cell_type": "code",
      "source": [
        "print(ord(input()))"
      ],
      "metadata": {
        "colab": {
          "base_uri": "https://localhost:8080/"
        },
        "id": "8xvz8RqXX8BA",
        "outputId": "959e52a7-2a6f-40e0-a8f2-9af06b0c12ee"
      },
      "execution_count": null,
      "outputs": [
        {
          "output_type": "stream",
          "name": "stdout",
          "text": [
            "A\n",
            "65\n"
          ]
        }
      ]
    },
    {
      "cell_type": "markdown",
      "source": [
        "11720"
      ],
      "metadata": {
        "id": "UFUkOzNGYC3Z"
      }
    },
    {
      "cell_type": "code",
      "source": [
        "T = int(input())\n",
        "N = input()\n",
        "result = 0\n",
        "\n",
        "for n in N:\n",
        "    result += int(n)\n",
        "\n",
        "print(result)"
      ],
      "metadata": {
        "colab": {
          "base_uri": "https://localhost:8080/"
        },
        "id": "n1rYEPD5YT63",
        "outputId": "6f6cf8f7-5338-4477-ba48-215abf92b409"
      },
      "execution_count": null,
      "outputs": [
        {
          "output_type": "stream",
          "name": "stdout",
          "text": [
            "5\n",
            "54321\n",
            "15\n"
          ]
        }
      ]
    },
    {
      "cell_type": "markdown",
      "source": [
        "10809"
      ],
      "metadata": {
        "id": "1UDZMRRmYw6G"
      }
    },
    {
      "cell_type": "code",
      "source": [
        "S = input()\n",
        "alphabet = \"abcdefghijklmnopqrstuvwxyz\"\n",
        "\n",
        "for a in alphabet:\n",
        "    print(S.find(a), end=\" \")"
      ],
      "metadata": {
        "colab": {
          "base_uri": "https://localhost:8080/"
        },
        "id": "kQFPUuKIYyqn",
        "outputId": "0c84142d-3ba2-400b-a3a7-9af3aa87624d"
      },
      "execution_count": null,
      "outputs": [
        {
          "output_type": "stream",
          "name": "stdout",
          "text": [
            "baekjoon\n",
            "1 0 -1 -1 2 -1 -1 -1 -1 4 3 -1 -1 7 5 -1 -1 -1 -1 -1 -1 -1 -1 -1 -1 -1 "
          ]
        }
      ]
    },
    {
      "cell_type": "markdown",
      "source": [
        "2675"
      ],
      "metadata": {
        "id": "2cPZTxuGZiYO"
      }
    },
    {
      "cell_type": "code",
      "source": [
        "R = int(input())\n",
        "\n",
        "for _ in range(R):\n",
        "    T = input().split()\n",
        "    result = \"\"\n",
        "    for t in T[1]:\n",
        "        result += t * int(T[0])\n",
        "    print(result)"
      ],
      "metadata": {
        "colab": {
          "base_uri": "https://localhost:8080/"
        },
        "id": "iSBbHwAaZiHb",
        "outputId": "ac386133-2c58-44e0-e4e7-9cfe331ff299"
      },
      "execution_count": null,
      "outputs": [
        {
          "output_type": "stream",
          "name": "stdout",
          "text": [
            "2\n",
            "3 ABC\n",
            "AAABBBCCC\n",
            "5 /HTP\n",
            "/////HHHHHTTTTTPPPPP\n"
          ]
        }
      ]
    },
    {
      "cell_type": "markdown",
      "source": [
        "1152"
      ],
      "metadata": {
        "id": "Hsp7MDJPZ-Tx"
      }
    },
    {
      "cell_type": "code",
      "source": [
        "S = input().split()\n",
        "print(len(S))"
      ],
      "metadata": {
        "colab": {
          "base_uri": "https://localhost:8080/"
        },
        "id": "V1RLCzSwZ_8i",
        "outputId": "da46999f-5437-4c79-e9e7-aa49e0413fb2"
      },
      "execution_count": null,
      "outputs": [
        {
          "output_type": "stream",
          "name": "stdout",
          "text": [
            "The Curious Case of Benjamin Button\n",
            "6\n"
          ]
        }
      ]
    },
    {
      "cell_type": "markdown",
      "source": [
        "2908"
      ],
      "metadata": {
        "id": "LL4Mi36SalG4"
      }
    },
    {
      "cell_type": "code",
      "source": [
        "N1, N2 = input().split()\n",
        "\n",
        "print(max(int(N1[::-1]), int(N2[::-1])))"
      ],
      "metadata": {
        "colab": {
          "base_uri": "https://localhost:8080/"
        },
        "id": "0dY9StecameB",
        "outputId": "1734ae29-0cae-48d3-f202-876115b87bc5"
      },
      "execution_count": null,
      "outputs": [
        {
          "output_type": "stream",
          "name": "stdout",
          "text": [
            "734 893\n",
            "437\n"
          ]
        }
      ]
    },
    {
      "cell_type": "markdown",
      "source": [
        "5622"
      ],
      "metadata": {
        "id": "oDvDgPL3bAos"
      }
    },
    {
      "cell_type": "code",
      "source": [
        "S = input()\n",
        "dial = [\"ABC\", \"DEF\", \"GHI\", \"JKL\", \"MNO\", \"PQRS\", \"TUV\", \"WXYZ\"]\n",
        "\n",
        "result = 0\n",
        "\n",
        "for s in S:\n",
        "    for d in dial:\n",
        "        if s in d:\n",
        "            result += dial.index(d) + 3\n",
        "\n",
        "print(result)"
      ],
      "metadata": {
        "colab": {
          "base_uri": "https://localhost:8080/"
        },
        "id": "LbirHQQ2bCIm",
        "outputId": "b4cc8639-6e62-477a-becd-738a433cb7a4"
      },
      "execution_count": null,
      "outputs": [
        {
          "output_type": "stream",
          "name": "stdout",
          "text": [
            "WA\n",
            "13\n"
          ]
        }
      ]
    },
    {
      "cell_type": "markdown",
      "source": [
        "11718"
      ],
      "metadata": {
        "id": "Dka6w_O7bcaY"
      }
    },
    {
      "cell_type": "code",
      "source": [
        "while True:\n",
        "    try:\n",
        "        print(input())\n",
        "    except:\n",
        "        break"
      ],
      "metadata": {
        "colab": {
          "base_uri": "https://localhost:8080/"
        },
        "id": "4V5gInlxeK5O",
        "outputId": "3972fd06-7d9a-4198-f034-cc2449e0f462"
      },
      "execution_count": null,
      "outputs": [
        {
          "name": "stdout",
          "output_type": "stream",
          "text": [
            "Hello\n",
            "Hello\n",
            "Baekjoon\n",
            "Baekjoon\n",
            "a\n"
          ]
        }
      ]
    },
    {
      "cell_type": "markdown",
      "source": [
        "25083"
      ],
      "metadata": {
        "id": "KNm-KG2Gfn8V"
      }
    },
    {
      "cell_type": "code",
      "source": [
        "print('''         ,r'\"7\n",
        "r`-_   ,'  ,/\n",
        " \\. \". L_r'\n",
        "   `~\\/\n",
        "      |\n",
        "      |''')"
      ],
      "metadata": {
        "colab": {
          "base_uri": "https://localhost:8080/"
        },
        "id": "1NUkRY5pgWSj",
        "outputId": "f1c6bed2-0540-43a9-9d15-8e0a9cd611be"
      },
      "execution_count": null,
      "outputs": [
        {
          "output_type": "stream",
          "name": "stdout",
          "text": [
            "         ,r'\"7\n",
            "r`-_   ,'  ,/\n",
            " \\. \". L_r'\n",
            "   `~\\/\n",
            "      |\n",
            "      |\n"
          ]
        }
      ]
    },
    {
      "cell_type": "markdown",
      "source": [
        "3003"
      ],
      "metadata": {
        "id": "PjS4yN3qgoDV"
      }
    },
    {
      "cell_type": "code",
      "source": [
        "K, Q, R, B, Kn, P = map(int, input().split())\n",
        "\n",
        "print(1 - K, 1 - Q, 2 - R, 2 - B, 2 - Kn, 8 - P)"
      ],
      "metadata": {
        "colab": {
          "base_uri": "https://localhost:8080/"
        },
        "id": "srNgNoN8gppy",
        "outputId": "3f25df21-b8f3-4ed7-c6f3-7832993be5fa"
      },
      "execution_count": null,
      "outputs": [
        {
          "output_type": "stream",
          "name": "stdout",
          "text": [
            "0 1 2 2 2 7\n",
            "1 0 0 0 0 1\n"
          ]
        }
      ]
    },
    {
      "cell_type": "markdown",
      "source": [
        "2444"
      ],
      "metadata": {
        "id": "XEScYnREhGWs"
      }
    },
    {
      "cell_type": "code",
      "source": [
        "N = int(input())\n",
        "\n",
        "for i in range(1, N*2, 2):\n",
        "    print(\" \" * ((2 * N - 1 - i) // 2) + \"*\" * i)\n",
        "\n",
        "for i in range(N*2-3, 0, -2):\n",
        "    print(\" \" * ((2 * N - 1 - i) // 2) + \"*\" * i)"
      ],
      "metadata": {
        "colab": {
          "base_uri": "https://localhost:8080/"
        },
        "id": "Dr_iFUkjhHnk",
        "outputId": "3bd975b4-7026-473d-b4c0-cc721125b3c7"
      },
      "execution_count": null,
      "outputs": [
        {
          "output_type": "stream",
          "name": "stdout",
          "text": [
            "5\n",
            "    *\n",
            "   ***\n",
            "  *****\n",
            " *******\n",
            "*********\n",
            " *******\n",
            "  *****\n",
            "   ***\n",
            "    *\n"
          ]
        }
      ]
    },
    {
      "cell_type": "markdown",
      "source": [
        "10988"
      ],
      "metadata": {
        "id": "qE_DncTklGU4"
      }
    },
    {
      "cell_type": "code",
      "source": [
        "W = input()\n",
        "\n",
        "if W == W[::-1]:\n",
        "    print(1)\n",
        "else:\n",
        "    print(0)"
      ],
      "metadata": {
        "colab": {
          "base_uri": "https://localhost:8080/"
        },
        "id": "0fvNYFGwlHjC",
        "outputId": "c718ff9f-b135-428d-ff61-f095e55a7157"
      },
      "execution_count": null,
      "outputs": [
        {
          "output_type": "stream",
          "name": "stdout",
          "text": [
            "baekjoon\n",
            "0\n"
          ]
        }
      ]
    },
    {
      "cell_type": "markdown",
      "source": [
        "1157"
      ],
      "metadata": {
        "id": "5xZz0AQ3ljF_"
      }
    },
    {
      "cell_type": "code",
      "source": [
        "W = input()\n",
        "W = W.upper()\n",
        "\n",
        "alphabet = \"ABCDEFGHIJKLMNOPQRSTUVWXYZ\"\n",
        "count = []\n",
        "\n",
        "for a in alphabet:\n",
        "    count.append(W.count(a))\n",
        "\n",
        "print(alphabet[count.index(max(count))]) if count.count(max(count)) == 1 else print(\"?\")"
      ],
      "metadata": {
        "colab": {
          "base_uri": "https://localhost:8080/"
        },
        "id": "7QU8pgaNlkoF",
        "outputId": "f64e877f-43ae-4748-e9d8-6276aba2937d"
      },
      "execution_count": null,
      "outputs": [
        {
          "output_type": "stream",
          "name": "stdout",
          "text": [
            "Mississipi\n",
            "?\n"
          ]
        }
      ]
    },
    {
      "cell_type": "markdown",
      "source": [
        "#12/28"
      ],
      "metadata": {
        "id": "Gm9v596-j1-5"
      }
    },
    {
      "cell_type": "markdown",
      "source": [
        "2941"
      ],
      "metadata": {
        "id": "n6EWjSxwj5Kp"
      }
    },
    {
      "cell_type": "code",
      "source": [
        "CA = [\"c=\", \"c-\", \"dz=\", \"d-\", \"lj\", \"nj\", \"s=\", \"z=\"]\n",
        "\n",
        "word = input()\n",
        "\n",
        "for c in CA:\n",
        "    word = word.replace(c, \"*\")\n",
        "\n",
        "print(len(word))"
      ],
      "metadata": {
        "colab": {
          "base_uri": "https://localhost:8080/"
        },
        "id": "usWY05OZj4cM",
        "outputId": "7f66fb13-e2f9-454e-d320-fb48493fd6a1"
      },
      "execution_count": null,
      "outputs": [
        {
          "output_type": "stream",
          "name": "stdout",
          "text": [
            "ljes=njak\n",
            "6\n"
          ]
        }
      ]
    },
    {
      "cell_type": "markdown",
      "source": [
        "#12/29"
      ],
      "metadata": {
        "id": "KYmjuBPYPbk5"
      }
    },
    {
      "cell_type": "markdown",
      "source": [
        "1316"
      ],
      "metadata": {
        "id": "CgslJ0VtPeU0"
      }
    },
    {
      "cell_type": "code",
      "source": [
        "n = int(input())\n",
        "words = [input().strip() for _ in range(n)]\n",
        "\n",
        "def is_group_word(word):\n",
        "    seen = set()\n",
        "    prev_char = ''\n",
        "    for char in word:\n",
        "        if char != prev_char:\n",
        "            if char in seen:\n",
        "                return False\n",
        "            seen.add(char)\n",
        "            prev_char = char\n",
        "    return True\n",
        "\n",
        "group_word_count = sum(1 for word in words if is_group_word(word))\n",
        "\n",
        "print(group_word_count)"
      ],
      "metadata": {
        "colab": {
          "base_uri": "https://localhost:8080/"
        },
        "id": "Yt2_XbAzPd8m",
        "outputId": "84c436e0-8da7-406a-e291-e0c73c90c658"
      },
      "execution_count": null,
      "outputs": [
        {
          "output_type": "stream",
          "name": "stdout",
          "text": [
            "5\n",
            "ab\n",
            "aa\n",
            "aca\n",
            "ba\n",
            "bb\n",
            "4\n"
          ]
        }
      ]
    },
    {
      "cell_type": "markdown",
      "source": [
        "#12/30"
      ],
      "metadata": {
        "id": "ULRQJv9o0w0d"
      }
    },
    {
      "cell_type": "markdown",
      "source": [
        "25206"
      ],
      "metadata": {
        "id": "CWdRo-7L0ySn"
      }
    },
    {
      "cell_type": "code",
      "source": [
        "grade_to_score = {\n",
        "    \"A+\": 4.5,\n",
        "    \"A0\": 4.0,\n",
        "    \"B+\": 3.5,\n",
        "    \"B0\": 3.0,\n",
        "    \"C+\": 2.5,\n",
        "    \"C0\": 2.0,\n",
        "    \"D+\": 1.5,\n",
        "    \"D0\": 1.0,\n",
        "    \"F\": 0.0\n",
        "}\n",
        "\n",
        "total_credits = 0\n",
        "total_points = 0\n",
        "\n",
        "for _ in range(20):\n",
        "    line = input().split()\n",
        "    subject, credit, grade = line[0], float(line[1]), line[2]\n",
        "\n",
        "    if grade == \"P\":\n",
        "        continue\n",
        "\n",
        "    total_credits += credit\n",
        "    total_points += credit * grade_to_score[grade]\n",
        "\n",
        "gpa = total_points / total_credits if total_credits > 0 else 0.0\n",
        "\n",
        "print(f\"{gpa:.6f}\")"
      ],
      "metadata": {
        "colab": {
          "base_uri": "https://localhost:8080/"
        },
        "id": "-mqIlCY41C1D",
        "outputId": "196876ad-8623-4998-b43a-e43aa1b1d9b8"
      },
      "execution_count": null,
      "outputs": [
        {
          "output_type": "stream",
          "name": "stdout",
          "text": [
            "ObjectOrientedProgramming1 3.0 A+\n",
            "IntroductiontoComputerEngineering 3.0 A+\n",
            "ObjectOrientedProgramming2 3.0 A0\n",
            "CreativeComputerEngineeringDesign 3.0 A+\n",
            "AssemblyLanguage 3.0 A+\n",
            "InternetProgramming 3.0 B0\n",
            "ApplicationProgramminginJava 3.0 A0\n",
            "SystemProgramming 3.0 B0\n",
            "OperatingSystem 3.0 B0\n",
            "WirelessCommunicationsandNetworking 3.0 C+\n",
            "LogicCircuits 3.0 B0\n",
            "DataStructure 4.0 A+\n",
            "MicroprocessorApplication 3.0 B+\n",
            "EmbeddedSoftware 3.0 C0\n",
            "ComputerSecurity 3.0 D+\n",
            "Database 3.0 C+\n",
            "Algorithm 3.0 B0\n",
            "CapstoneDesigninCSE 3.0 B+\n",
            "CompilerDesign 3.0 D0\n",
            "ProblemSolving 4.0 P\n",
            "3.284483\n"
          ]
        }
      ]
    },
    {
      "cell_type": "markdown",
      "source": [
        "2738"
      ],
      "metadata": {
        "id": "uEQBqUaC3KF2"
      }
    },
    {
      "cell_type": "code",
      "source": [
        "N, M = map(int, input().split())\n",
        "\n",
        "A = [list(map(int, input().split())) for _ in range(N)]\n",
        "B = [list(map(int, input().split())) for _ in range(N)]\n",
        "\n",
        "for i in range(N):\n",
        "    for j in range(M):\n",
        "        print(A[i][j] + B[i][j], end=\" \")\n",
        "    print()"
      ],
      "metadata": {
        "colab": {
          "base_uri": "https://localhost:8080/"
        },
        "id": "G1w8mff23rYY",
        "outputId": "bbb656d7-08fe-4eb5-f6de-548ba8f13c60"
      },
      "execution_count": null,
      "outputs": [
        {
          "output_type": "stream",
          "name": "stdout",
          "text": [
            "3 3\n",
            "1 1 1\n",
            "2 2 2\n",
            "0 1 0\n",
            "3 3 3\n",
            "4 4 4\n",
            "5 5 100\n",
            "4 4 4 \n",
            "6 6 6 \n",
            "5 6 100 \n"
          ]
        }
      ]
    },
    {
      "cell_type": "markdown",
      "source": [
        "2566"
      ],
      "metadata": {
        "id": "yvQ5JvT24cl6"
      }
    },
    {
      "cell_type": "code",
      "source": [
        "table = [list(map(int, input().split())) for _ in range(9)]\n",
        "\n",
        "max_num = 0\n",
        "max_row, max_col = 0, 0\n",
        "for row in range(9):\n",
        "    for col in range(9):\n",
        "        if max_num <= table[row][col]:\n",
        "            max_row = row + 1\n",
        "            max_col = col + 1\n",
        "            max_num = table[row][col]\n",
        "\n",
        "print(max_num)\n",
        "print(max_row, max_col)"
      ],
      "metadata": {
        "colab": {
          "base_uri": "https://localhost:8080/"
        },
        "id": "D2zgOQUS4dxw",
        "outputId": "9becea50-2cca-40fa-f7b9-25ad09fb374b"
      },
      "execution_count": null,
      "outputs": [
        {
          "output_type": "stream",
          "name": "stdout",
          "text": [
            "3 23 85 34 17 74 25 52 65\n",
            "10 7 39 42 88 52 14 72 63\n",
            "87 42 18 78 53 45 18 84 53\n",
            "34 28 64 85 12 16 75 36 55\n",
            "21 77 45 35 28 75 90 76 1\n",
            "25 87 65 15 28 11 37 28 74\n",
            "65 27 75 41 7 89 78 64 39\n",
            "47 47 70 45 23 65 3 41 44\n",
            "87 13 82 38 31 12 29 29 80\n",
            "90\n",
            "5 7\n"
          ]
        }
      ]
    },
    {
      "cell_type": "markdown",
      "source": [
        "10798"
      ],
      "metadata": {
        "id": "p1614rfU7ej2"
      }
    },
    {
      "cell_type": "code",
      "source": [
        "table = [input() for _ in range(5)]\n",
        "\n",
        "max_length = max(map(len, table))\n",
        "\n",
        "for col in range(max_length):\n",
        "    for row in range(5):\n",
        "        if col < len(table[row]):\n",
        "            print(table[row][col], end=\"\")"
      ],
      "metadata": {
        "colab": {
          "base_uri": "https://localhost:8080/"
        },
        "id": "VEshbW4v7gMe",
        "outputId": "5efe7ed4-f785-44b7-bc28-da16961af9d6"
      },
      "execution_count": null,
      "outputs": [
        {
          "output_type": "stream",
          "name": "stdout",
          "text": [
            "ABCDE\n",
            "abcde\n",
            "01234\n",
            "FGHIJ\n",
            "fghij\n",
            "Aa0FfBb1GgCc2HhDd3IiEe4Jj"
          ]
        }
      ]
    },
    {
      "cell_type": "markdown",
      "source": [
        "2563"
      ],
      "metadata": {
        "id": "w0smVDHK8OhO"
      }
    },
    {
      "cell_type": "code",
      "source": [
        "N = int(input())\n",
        "\n",
        "canvas = [[0] * 100 for _ in range(100)]\n",
        "\n",
        "for _ in range(N):\n",
        "    x, y = map(int, input().split())\n",
        "    for i in range(x, x + 10):\n",
        "        for j in range(y, y + 10):\n",
        "            canvas[i][j] = 1\n",
        "\n",
        "count = 0\n",
        "for row in canvas:\n",
        "    count += sum(row)\n",
        "\n",
        "print(count)"
      ],
      "metadata": {
        "colab": {
          "base_uri": "https://localhost:8080/"
        },
        "id": "Dy266jO18P2M",
        "outputId": "be3b5a93-ccb4-46cd-f653-319f7b88286d"
      },
      "execution_count": null,
      "outputs": [
        {
          "output_type": "stream",
          "name": "stdout",
          "text": [
            "3\n",
            "3 7\n",
            "15 7\n",
            "5 2\n",
            "260\n"
          ]
        }
      ]
    },
    {
      "cell_type": "markdown",
      "source": [
        "2745"
      ],
      "metadata": {
        "id": "NKLtubq7-to1"
      }
    },
    {
      "cell_type": "code",
      "source": [
        "N, B = input().split()\n",
        "N = int(N, int(B))\n",
        "print(N)"
      ],
      "metadata": {
        "colab": {
          "base_uri": "https://localhost:8080/"
        },
        "id": "9en9maMW-vt1",
        "outputId": "c9dd00d7-546a-43fa-e791-aa51fa5aceb0"
      },
      "execution_count": null,
      "outputs": [
        {
          "output_type": "stream",
          "name": "stdout",
          "text": [
            "ZZZZZ 36\n",
            "60466175\n"
          ]
        }
      ]
    },
    {
      "cell_type": "markdown",
      "source": [
        "11005"
      ],
      "metadata": {
        "id": "GVDbmNW6_8jv"
      }
    },
    {
      "cell_type": "code",
      "source": [
        "def decimal_to_base(N, B):\n",
        "    chars = \"0123456789ABCDEFGHIJKLMNOPQRSTUVWXYZ\"\n",
        "    result = \"\"\n",
        "    while N > 0:\n",
        "        result = chars[N % B] + result\n",
        "        N //= B\n",
        "    return result\n",
        "\n",
        "N, B = map(int, input().split())\n",
        "print(decimal_to_base(N, B))"
      ],
      "metadata": {
        "colab": {
          "base_uri": "https://localhost:8080/"
        },
        "id": "Bcw8zSFT_-FG",
        "outputId": "20bcf215-1924-4c61-d68e-a3faca7f3ef3"
      },
      "execution_count": null,
      "outputs": [
        {
          "output_type": "stream",
          "name": "stdout",
          "text": [
            "60466175 36\n",
            "ZZZZZ\n"
          ]
        }
      ]
    },
    {
      "cell_type": "markdown",
      "source": [
        "2720"
      ],
      "metadata": {
        "id": "HlYI-tSzCJAG"
      }
    },
    {
      "cell_type": "code",
      "source": [
        "T = int(input())\n",
        "coins = [25, 10, 5, 1]\n",
        "results = []\n",
        "\n",
        "for _ in range(T):\n",
        "    C = int(input())\n",
        "    result = []\n",
        "    for coin in coins:\n",
        "        count = C // coin\n",
        "        result.append(count)\n",
        "        C %= coin\n",
        "    results.append(result)\n",
        "\n",
        "for res in results:\n",
        "    print(*res)"
      ],
      "metadata": {
        "colab": {
          "base_uri": "https://localhost:8080/"
        },
        "id": "E6w6n_pjCKIW",
        "outputId": "bf1ebddd-150d-40a0-dc35-eec9b3b19bde"
      },
      "execution_count": null,
      "outputs": [
        {
          "output_type": "stream",
          "name": "stdout",
          "text": [
            "3\n",
            "124\n",
            "25\n",
            "194\n",
            "4 2 0 4\n",
            "1 0 0 0\n",
            "7 1 1 4\n"
          ]
        }
      ]
    },
    {
      "cell_type": "markdown",
      "source": [
        "2903"
      ],
      "metadata": {
        "id": "wKaZDoPoDF2M"
      }
    },
    {
      "cell_type": "code",
      "source": [
        "N = int(input())\n",
        "points = (2 ** N + 1) ** 2\n",
        "print(points)"
      ],
      "metadata": {
        "colab": {
          "base_uri": "https://localhost:8080/"
        },
        "id": "sD5v-gBmDG2K",
        "outputId": "b907d5f7-ffd7-40c4-b347-dce2043e3791"
      },
      "execution_count": null,
      "outputs": [
        {
          "output_type": "stream",
          "name": "stdout",
          "text": [
            "2\n",
            "25\n"
          ]
        }
      ]
    },
    {
      "cell_type": "markdown",
      "source": [
        "2292"
      ],
      "metadata": {
        "id": "-QjoeoMDE2q2"
      }
    },
    {
      "cell_type": "code",
      "source": [
        "N = int(input())\n",
        "room = 1\n",
        "count = 1\n",
        "while N > room:\n",
        "    room += 6 * count\n",
        "    count += 1\n",
        "print(count)"
      ],
      "metadata": {
        "colab": {
          "base_uri": "https://localhost:8080/"
        },
        "id": "2Jqem_TgE361",
        "outputId": "e4905737-5d21-4228-a3ee-b9d0eade2c5b"
      },
      "execution_count": null,
      "outputs": [
        {
          "output_type": "stream",
          "name": "stdout",
          "text": [
            "13\n",
            "3\n"
          ]
        }
      ]
    },
    {
      "cell_type": "markdown",
      "source": [
        "1193"
      ],
      "metadata": {
        "id": "zrDtJk8GFEZT"
      }
    },
    {
      "cell_type": "code",
      "source": [
        "X = int(input())\n",
        "line = 1\n",
        "while X > line:\n",
        "    X -= line\n",
        "    line += 1\n",
        "if line % 2 == 0:\n",
        "    print(f\"{X}/{line - X + 1}\")\n",
        "else:\n",
        "    print(f\"{line - X + 1}/{X}\")"
      ],
      "metadata": {
        "colab": {
          "base_uri": "https://localhost:8080/"
        },
        "id": "t6yzstgWFGpR",
        "outputId": "86d80ffe-183c-4e48-cfaf-7e777ae29d72"
      },
      "execution_count": null,
      "outputs": [
        {
          "output_type": "stream",
          "name": "stdout",
          "text": [
            "14\n",
            "2/4\n"
          ]
        }
      ]
    },
    {
      "cell_type": "markdown",
      "source": [
        "2869"
      ],
      "metadata": {
        "id": "b7b2wIH_Fd32"
      }
    },
    {
      "cell_type": "code",
      "source": [
        "A, B, V = map(int, input().split())\n",
        "days = (V - B - 1) // (A - B) + 1\n",
        "print(days)"
      ],
      "metadata": {
        "colab": {
          "base_uri": "https://localhost:8080/"
        },
        "id": "OmXI0OEtFfQn",
        "outputId": "b3e3a654-9228-42b8-dfc8-a941d741ffe4"
      },
      "execution_count": null,
      "outputs": [
        {
          "output_type": "stream",
          "name": "stdout",
          "text": [
            "2 1 5\n",
            "4\n"
          ]
        }
      ]
    },
    {
      "cell_type": "markdown",
      "source": [
        "5086"
      ],
      "metadata": {
        "id": "YnTVHYBLFyrB"
      }
    },
    {
      "cell_type": "code",
      "source": [
        "while True:\n",
        "    a, b = map(int, input().split())\n",
        "    if a == 0 and b == 0:\n",
        "        break\n",
        "    if b % a == 0:\n",
        "        print(\"factor\")\n",
        "    elif a % b == 0:\n",
        "        print(\"multiple\")\n",
        "    else:\n",
        "        print(\"neither\")"
      ],
      "metadata": {
        "colab": {
          "base_uri": "https://localhost:8080/"
        },
        "id": "SZrjLYWvF0u3",
        "outputId": "80074edd-e458-4798-d22a-0ffaff322467"
      },
      "execution_count": null,
      "outputs": [
        {
          "name": "stdout",
          "output_type": "stream",
          "text": [
            "8 16\n",
            "factor\n",
            "32 4\n",
            "multiple\n",
            "17 5\n",
            "neither\n",
            "0 0\n"
          ]
        }
      ]
    },
    {
      "cell_type": "markdown",
      "source": [
        "2501"
      ],
      "metadata": {
        "id": "8KUx4_ugHFGm"
      }
    },
    {
      "cell_type": "code",
      "source": [
        "N, K = map(int, input().split())\n",
        "factors = []\n",
        "for i in range(1, N + 1):\n",
        "    if N % i == 0:\n",
        "        factors.append(i)\n",
        "        if len(factors) == K:\n",
        "            print(i)\n",
        "            break\n",
        "else:\n",
        "    print(0)"
      ],
      "metadata": {
        "colab": {
          "base_uri": "https://localhost:8080/"
        },
        "id": "7EiUOfTXHGNO",
        "outputId": "e2f715cc-56dd-4833-f58d-b331a3d3362c"
      },
      "execution_count": null,
      "outputs": [
        {
          "output_type": "stream",
          "name": "stdout",
          "text": [
            "2735 1\n",
            "1\n"
          ]
        }
      ]
    },
    {
      "cell_type": "markdown",
      "source": [
        "9506"
      ],
      "metadata": {
        "id": "BqjX8STrHcw0"
      }
    },
    {
      "cell_type": "code",
      "source": [
        "while True:\n",
        "    n = int(input())\n",
        "    if n == -1:\n",
        "        break\n",
        "\n",
        "    divisors = []\n",
        "    for i in range(1, int(n**0.5) + 1):\n",
        "        if n % i == 0:\n",
        "            divisors.append(i)\n",
        "            if i != 1 and i != n // i:\n",
        "                divisors.append(n // i)\n",
        "\n",
        "    if sum(divisors) == n:\n",
        "        divisors.sort()\n",
        "        print(f\"{n} = {' + '.join(map(str, divisors))}\")\n",
        "    else:\n",
        "        print(f\"{n} is NOT perfect.\")"
      ],
      "metadata": {
        "colab": {
          "base_uri": "https://localhost:8080/"
        },
        "id": "7ZXxAzY9HeLe",
        "outputId": "083c2828-03bf-4b8f-8c43-d31bcc87a2c5"
      },
      "execution_count": null,
      "outputs": [
        {
          "name": "stdout",
          "output_type": "stream",
          "text": [
            "6\n",
            "6 = 1 + 2 + 3\n",
            "12\n",
            "12 is NOT perfect.\n",
            "28\n",
            "28 = 1 + 2 + 4 + 7 + 14\n",
            "-1\n"
          ]
        }
      ]
    },
    {
      "cell_type": "markdown",
      "source": [
        "#12/31"
      ],
      "metadata": {
        "id": "tjcAW8an7wg1"
      }
    },
    {
      "cell_type": "markdown",
      "source": [
        "1978"
      ],
      "metadata": {
        "id": "84VIrgdK7yjJ"
      }
    },
    {
      "cell_type": "code",
      "source": [
        "N = int(input())\n",
        "nums = list(map(int, input().split()))\n",
        "count = 0\n",
        "\n",
        "for num in nums:\n",
        "    if num == 1:\n",
        "        continue\n",
        "    if all(num % i != 0 for i in range(2, int(num**0.5) + 1)):\n",
        "        count += 1\n",
        "\n",
        "print(count)"
      ],
      "metadata": {
        "colab": {
          "base_uri": "https://localhost:8080/"
        },
        "id": "emZqzQEo7yGM",
        "outputId": "5cb24c8a-56d9-4ab2-f41b-6c4b8e08299b"
      },
      "execution_count": null,
      "outputs": [
        {
          "output_type": "stream",
          "name": "stdout",
          "text": [
            "4\n",
            "1 3 5 7\n",
            "3\n"
          ]
        }
      ]
    },
    {
      "cell_type": "markdown",
      "source": [
        "#1/1"
      ],
      "metadata": {
        "id": "4KrXrz-ShJlU"
      }
    },
    {
      "cell_type": "markdown",
      "source": [
        "2581"
      ],
      "metadata": {
        "id": "X5kG3TtKhOUb"
      }
    },
    {
      "cell_type": "code",
      "source": [
        "M = int(input())\n",
        "N = int(input())\n",
        "primes = []\n",
        "\n",
        "for num in range(M, N + 1):\n",
        "    if num == 1:\n",
        "        continue\n",
        "    is_prime = True\n",
        "\n",
        "    for i in range(2, int(num**0.5) + 1):\n",
        "        if num % i == 0:\n",
        "            is_prime = False\n",
        "            break\n",
        "\n",
        "    if is_prime:\n",
        "        primes.append(num)\n",
        "\n",
        "if primes:\n",
        "    print(sum(primes))\n",
        "    print(min(primes))\n",
        "\n",
        "else:\n",
        "    print(-1)"
      ],
      "metadata": {
        "colab": {
          "base_uri": "https://localhost:8080/"
        },
        "id": "U2-khJP_hLFb",
        "outputId": "8ed2b90e-75b9-44fa-d8ab-7e1a7158bf54"
      },
      "execution_count": null,
      "outputs": [
        {
          "output_type": "stream",
          "name": "stdout",
          "text": [
            "64\n",
            "65\n",
            "-1\n"
          ]
        }
      ]
    },
    {
      "cell_type": "markdown",
      "source": [
        "#1/2"
      ],
      "metadata": {
        "id": "wKR4JNn98gf6"
      }
    },
    {
      "cell_type": "markdown",
      "source": [
        "11653"
      ],
      "metadata": {
        "id": "Nus9vzyh8lnt"
      }
    },
    {
      "cell_type": "code",
      "source": [
        "N = int(input())\n",
        "\n",
        "for i in range(2, N + 1):\n",
        "    while N % i == 0:\n",
        "        print(i)\n",
        "        N //= i"
      ],
      "metadata": {
        "colab": {
          "base_uri": "https://localhost:8080/"
        },
        "id": "Hq07Q9uf8vpy",
        "outputId": "ac9e81b3-60b9-4668-f843-10b1cf26fd2a"
      },
      "execution_count": null,
      "outputs": [
        {
          "output_type": "stream",
          "name": "stdout",
          "text": [
            "72\n",
            "2\n",
            "2\n",
            "2\n",
            "3\n",
            "3\n"
          ]
        }
      ]
    },
    {
      "cell_type": "markdown",
      "source": [
        "27323"
      ],
      "metadata": {
        "id": "kCRNUrri8v6q"
      }
    },
    {
      "cell_type": "code",
      "source": [
        "A = int(input())\n",
        "B = int(input())\n",
        "print(A * B)"
      ],
      "metadata": {
        "colab": {
          "base_uri": "https://localhost:8080/"
        },
        "id": "f3ygV4sB80WQ",
        "outputId": "6df16d4a-a4f6-42bb-9f98-c51c833c9a90"
      },
      "execution_count": null,
      "outputs": [
        {
          "output_type": "stream",
          "name": "stdout",
          "text": [
            "2\n",
            "3\n",
            "6\n"
          ]
        }
      ]
    },
    {
      "cell_type": "markdown",
      "source": [
        "1085"
      ],
      "metadata": {
        "id": "-SvZRQQy80oL"
      }
    },
    {
      "cell_type": "code",
      "source": [
        "x, y, w, h = map(int, input().split())\n",
        "print(min(x, y, w - x, h - y))"
      ],
      "metadata": {
        "colab": {
          "base_uri": "https://localhost:8080/"
        },
        "id": "ViuxZEV29W1C",
        "outputId": "b9fb9003-14f7-43d0-82c7-d0561c10599a"
      },
      "execution_count": null,
      "outputs": [
        {
          "output_type": "stream",
          "name": "stdout",
          "text": [
            "6 2 10 3\n",
            "1\n"
          ]
        }
      ]
    },
    {
      "cell_type": "markdown",
      "source": [
        "3009"
      ],
      "metadata": {
        "id": "5xnqv5Sd834h"
      }
    },
    {
      "cell_type": "code",
      "source": [
        "x_coords = []\n",
        "y_coords = []\n",
        "\n",
        "for _ in range(3):\n",
        "    x, y = map(int, input().split())\n",
        "    x_coords.append(x)\n",
        "    y_coords.append(y)\n",
        "\n",
        "x4 = [x for x in x_coords if x_coords.count(x) == 1][0]\n",
        "y4 = [y for y in y_coords if y_coords.count(y) == 1][0]\n",
        "\n",
        "print(x4, y4)"
      ],
      "metadata": {
        "colab": {
          "base_uri": "https://localhost:8080/"
        },
        "id": "ZcAupgg-9Wkf",
        "outputId": "e676ee66-1b18-4e96-9afd-6e834cfd2aaa"
      },
      "execution_count": null,
      "outputs": [
        {
          "output_type": "stream",
          "name": "stdout",
          "text": [
            "5 5\n",
            "5 7\n",
            "7 5\n",
            "7 7\n"
          ]
        }
      ]
    },
    {
      "cell_type": "markdown",
      "source": [
        "15894"
      ],
      "metadata": {
        "id": "qZ-SzErF85WK"
      }
    },
    {
      "cell_type": "code",
      "source": [
        "n = int(input())\n",
        "print(n * 4)"
      ],
      "metadata": {
        "colab": {
          "base_uri": "https://localhost:8080/"
        },
        "id": "A1hj0TUA9WH5",
        "outputId": "fce0174e-e4c9-4db0-fc58-7294005e8c32"
      },
      "execution_count": null,
      "outputs": [
        {
          "output_type": "stream",
          "name": "stdout",
          "text": [
            "1\n",
            "4\n"
          ]
        }
      ]
    },
    {
      "cell_type": "markdown",
      "source": [
        "9063"
      ],
      "metadata": {
        "id": "OwDqXxPx87B2"
      }
    },
    {
      "cell_type": "code",
      "source": [
        "N = int(input())\n",
        "points = []\n",
        "for _ in range(N):\n",
        "    x, y = map(int, input().split())\n",
        "    points.append((x, y))\n",
        "\n",
        "x_min = min(points, key=lambda x: x[0])[0]\n",
        "x_max = max(points, key=lambda x: x[0])[0]\n",
        "y_min = min(points, key=lambda x: x[1])[1]\n",
        "y_max = max(points, key=lambda x: x[1])[1]\n",
        "\n",
        "print((x_max - x_min) * (y_max - y_min))"
      ],
      "metadata": {
        "colab": {
          "base_uri": "https://localhost:8080/"
        },
        "id": "3N2t4oYF9V5u",
        "outputId": "f37eb475-44d1-43db-c41e-a7c1d03788cb"
      },
      "execution_count": null,
      "outputs": [
        {
          "output_type": "stream",
          "name": "stdout",
          "text": [
            "3\n",
            "20 24\n",
            "40 21\n",
            "10 12\n",
            "360\n"
          ]
        }
      ]
    },
    {
      "cell_type": "markdown",
      "source": [
        "10101"
      ],
      "metadata": {
        "id": "5lWHGO5d88zp"
      }
    },
    {
      "cell_type": "code",
      "source": [
        "a = int(input())\n",
        "b = int(input())\n",
        "c = int(input())\n",
        "if a == b == c == 60:\n",
        "    print(\"Equilateral\")\n",
        "\n",
        "elif a + b + c == 180:\n",
        "    if a == b or b == c or a == c:\n",
        "        print(\"Isosceles\")\n",
        "    else:\n",
        "        print(\"Scalene\")\n",
        "else:\n",
        "    print(\"Error\")"
      ],
      "metadata": {
        "colab": {
          "base_uri": "https://localhost:8080/"
        },
        "id": "cdXozcK19Voq",
        "outputId": "edf5ef97-a826-43ca-b3c6-763c15e9d7d6"
      },
      "execution_count": null,
      "outputs": [
        {
          "output_type": "stream",
          "name": "stdout",
          "text": [
            "60\n",
            "70\n",
            "50\n",
            "Scalene\n"
          ]
        }
      ]
    },
    {
      "cell_type": "markdown",
      "source": [
        "5073"
      ],
      "metadata": {
        "id": "YrGtXaiE8-Np"
      }
    },
    {
      "cell_type": "code",
      "source": [
        "while True:\n",
        "    a, b, c = map(int, input().split())\n",
        "    if a == 0 and b == 0 and c == 0:\n",
        "        break\n",
        "    sides = sorted([a, b, c])\n",
        "    if sides[0] + sides[1] <= sides[2]:\n",
        "        print(\"Invalid\")\n",
        "    elif a == b == c:\n",
        "        print(\"Equilateral\")\n",
        "    elif a == b or b == c or a == c:\n",
        "        print(\"Isosceles\")\n",
        "    else:\n",
        "        print(\"Scalene\")"
      ],
      "metadata": {
        "colab": {
          "base_uri": "https://localhost:8080/"
        },
        "id": "zohYtBd49VNb",
        "outputId": "1e3540d1-1c30-4951-cd91-73d8b2b69265"
      },
      "execution_count": null,
      "outputs": [
        {
          "name": "stdout",
          "output_type": "stream",
          "text": [
            "7 7 7\n",
            "Equilateral\n",
            "6 5 4\n",
            "Scalene\n",
            "3 2 5\n",
            "Invalid\n",
            "6 2 6\n",
            "Isosceles\n",
            "0 0 0\n"
          ]
        }
      ]
    },
    {
      "cell_type": "markdown",
      "source": [
        "14125"
      ],
      "metadata": {
        "id": "otUV_m3v8_0o"
      }
    },
    {
      "cell_type": "code",
      "source": [
        "a, b, c = map(int, input().split())\n",
        "sides = sorted([a, b, c])\n",
        "\n",
        "while sides[0] + sides[1] <= sides[2]:\n",
        "    sides[2] -= 1\n",
        "\n",
        "print(sum(sides))"
      ],
      "metadata": {
        "colab": {
          "base_uri": "https://localhost:8080/"
        },
        "id": "61SYJSOg9U9f",
        "outputId": "eb4b954f-6558-4f46-a77c-523240bb6e0b"
      },
      "execution_count": null,
      "outputs": [
        {
          "output_type": "stream",
          "name": "stdout",
          "text": [
            "41 64 16\n",
            "113\n"
          ]
        }
      ]
    },
    {
      "cell_type": "markdown",
      "source": [
        "24262"
      ],
      "metadata": {
        "id": "H4FHYTzv9GEd"
      }
    },
    {
      "cell_type": "code",
      "source": [
        "n = int(input())\n",
        "\n",
        "print(1)\n",
        "print(0)"
      ],
      "metadata": {
        "colab": {
          "base_uri": "https://localhost:8080/"
        },
        "id": "2gjq6CYI9Urp",
        "outputId": "02fa57f7-be6a-4836-ffa5-1393f6cfc4aa"
      },
      "execution_count": null,
      "outputs": [
        {
          "output_type": "stream",
          "name": "stdout",
          "text": [
            "1\n",
            "1\n",
            "0\n"
          ]
        }
      ]
    },
    {
      "cell_type": "markdown",
      "source": [
        "24263"
      ],
      "metadata": {
        "id": "pPCw5jjt9H2-"
      }
    },
    {
      "cell_type": "code",
      "source": [
        "n = int(input())\n",
        "\n",
        "print(n)\n",
        "\n",
        "if n <= 500000:\n",
        "    print(1)\n",
        "else:\n",
        "    print(4)"
      ],
      "metadata": {
        "colab": {
          "base_uri": "https://localhost:8080/"
        },
        "id": "GopQv_LC9UZ3",
        "outputId": "15ab8934-66e6-40e5-c307-9ac474c4aa06"
      },
      "execution_count": null,
      "outputs": [
        {
          "output_type": "stream",
          "name": "stdout",
          "text": [
            "7\n",
            "7\n",
            "1\n"
          ]
        }
      ]
    },
    {
      "cell_type": "markdown",
      "source": [
        "24264"
      ],
      "metadata": {
        "id": "IDiMhElk9JuT"
      }
    },
    {
      "cell_type": "code",
      "source": [
        "n = int(input())\n",
        "\n",
        "print(n ** 2)\n",
        "\n",
        "if n <= 500000:\n",
        "    print(2)\n",
        "else:\n",
        "    print(4)"
      ],
      "metadata": {
        "colab": {
          "base_uri": "https://localhost:8080/"
        },
        "id": "0lPOfFl39UK1",
        "outputId": "db8d6c86-a288-48cd-d11d-93f44c1c9fec"
      },
      "execution_count": null,
      "outputs": [
        {
          "output_type": "stream",
          "name": "stdout",
          "text": [
            "7\n",
            "49\n",
            "2\n"
          ]
        }
      ]
    },
    {
      "cell_type": "markdown",
      "source": [
        "24265"
      ],
      "metadata": {
        "id": "CCmWjsZw9LbK"
      }
    },
    {
      "cell_type": "code",
      "source": [
        "n = int(input())\n",
        "\n",
        "execution_count = n * (n - 1) // 2\n",
        "\n",
        "print(execution_count)\n",
        "print(2)"
      ],
      "metadata": {
        "colab": {
          "base_uri": "https://localhost:8080/"
        },
        "id": "M434IMCa9T65",
        "outputId": "6506d2e1-f1f7-40dd-e5ec-4d7d67ccf566"
      },
      "execution_count": null,
      "outputs": [
        {
          "output_type": "stream",
          "name": "stdout",
          "text": [
            "7\n",
            "21\n",
            "2\n"
          ]
        }
      ]
    },
    {
      "cell_type": "markdown",
      "source": [
        "24266"
      ],
      "metadata": {
        "id": "VxHMR32_9M6y"
      }
    },
    {
      "cell_type": "code",
      "source": [
        "n = int(input())\n",
        "\n",
        "execution_count = n ** 3\n",
        "\n",
        "highest_degree = 3\n",
        "\n",
        "print(execution_count)\n",
        "print(highest_degree)"
      ],
      "metadata": {
        "colab": {
          "base_uri": "https://localhost:8080/"
        },
        "id": "-bcnFbM19Toa",
        "outputId": "d0b61081-bec5-421e-b03c-fab720efb3eb"
      },
      "execution_count": null,
      "outputs": [
        {
          "output_type": "stream",
          "name": "stdout",
          "text": [
            "7\n",
            "343\n",
            "3\n"
          ]
        }
      ]
    },
    {
      "cell_type": "markdown",
      "source": [
        "24267"
      ],
      "metadata": {
        "id": "teo9KiZO9Oc6"
      }
    },
    {
      "cell_type": "code",
      "source": [
        "n = int(input())\n",
        "\n",
        "execution_count = (n * (n - 1) * (n - 2)) // 6 if n >= 3 else 0\n",
        "\n",
        "highest_degree = 3\n",
        "\n",
        "print(execution_count)\n",
        "print(highest_degree)"
      ],
      "metadata": {
        "colab": {
          "base_uri": "https://localhost:8080/"
        },
        "id": "4Mp1R02T9TRa",
        "outputId": "2a0e07d7-a411-4d75-d0f9-1aa517dd9356"
      },
      "execution_count": null,
      "outputs": [
        {
          "output_type": "stream",
          "name": "stdout",
          "text": [
            "7\n",
            "35\n",
            "3\n"
          ]
        }
      ]
    },
    {
      "cell_type": "markdown",
      "source": [
        "24313"
      ],
      "metadata": {
        "id": "rv2IvldE9PhU"
      }
    },
    {
      "cell_type": "code",
      "source": [
        "a1, a0 = map(int, input().split())\n",
        "c = int(input())\n",
        "n0 = int(input())\n",
        "\n",
        "for n in range(n0, 101):\n",
        "    if a1 * n + a0 > c * n:\n",
        "        print(0)\n",
        "        break\n",
        "else:\n",
        "    print(1)"
      ],
      "metadata": {
        "colab": {
          "base_uri": "https://localhost:8080/"
        },
        "id": "GUl4s79W9S__",
        "outputId": "a4ea4a0c-66c6-4f7f-ef51-dd65019f6c73"
      },
      "execution_count": null,
      "outputs": [
        {
          "output_type": "stream",
          "name": "stdout",
          "text": [
            "7 7\n",
            "8\n",
            "1\n",
            "0\n"
          ]
        }
      ]
    },
    {
      "cell_type": "markdown",
      "source": [
        "#1/3"
      ],
      "metadata": {
        "id": "lEHTyHZlaWoG"
      }
    },
    {
      "cell_type": "markdown",
      "source": [
        "2798"
      ],
      "metadata": {
        "id": "ilr1ipUDaafr"
      }
    },
    {
      "cell_type": "code",
      "source": [
        "N, M = map(int, input().split())\n",
        "cards = list(map(int, input().split()))\n",
        "closest_sum = 0\n",
        "\n",
        "for i in range(N):\n",
        "    for j in range(i + 1, N):\n",
        "        for k in range(j + 1, N):\n",
        "            sum_of_three = cards[i] + cards[j] + cards[k]\n",
        "            if sum_of_three > M:\n",
        "                continue\n",
        "            if closest_sum == 0 or abs(M - sum_of_three) < abs(M - closest_sum):\n",
        "                closest_sum = sum_of_three\n",
        "\n",
        "print(closest_sum)"
      ],
      "metadata": {
        "colab": {
          "base_uri": "https://localhost:8080/"
        },
        "id": "mjizpkWfaZlH",
        "outputId": "0c917322-f9d7-490e-ae26-ea9683ecbc8d"
      },
      "execution_count": null,
      "outputs": [
        {
          "output_type": "stream",
          "name": "stdout",
          "text": [
            "10 500\n",
            "93 181 245 214 315 36 185 138 216 195\n",
            "497\n"
          ]
        }
      ]
    },
    {
      "cell_type": "markdown",
      "source": [
        "2231"
      ],
      "metadata": {
        "id": "Bs9419lfbGGn"
      }
    },
    {
      "cell_type": "code",
      "source": [
        "N = int(input())\n",
        "result = 0\n",
        "\n",
        "for i in range(1, N + 1):\n",
        "    digits = list(map(int, str(i)))\n",
        "    result = i + sum(digits)\n",
        "    if result == N:\n",
        "        print(i)\n",
        "        break\n",
        "else:\n",
        "    print(0)"
      ],
      "metadata": {
        "colab": {
          "base_uri": "https://localhost:8080/"
        },
        "id": "zdSEw5x7bHdB",
        "outputId": "a970eae5-77a7-4710-f664-55f0b4db57fa"
      },
      "execution_count": null,
      "outputs": [
        {
          "output_type": "stream",
          "name": "stdout",
          "text": [
            "216\n",
            "198\n"
          ]
        }
      ]
    },
    {
      "cell_type": "markdown",
      "source": [
        "19532"
      ],
      "metadata": {
        "id": "UVnPVvOkbaqb"
      }
    },
    {
      "cell_type": "code",
      "source": [
        "a, b, c, d, e, f = map(int, input().split())\n",
        "\n",
        "if a * e - b * d != 0:\n",
        "    x = (c * e - b * f) / (a * e - b * d)\n",
        "    y = (a * f - c * d) / (a * e - b * d)\n",
        "    print(int(x), int(y))\n",
        "else:\n",
        "    print(0)"
      ],
      "metadata": {
        "colab": {
          "base_uri": "https://localhost:8080/"
        },
        "id": "wrIx9wtvbg8T",
        "outputId": "ac77ad73-be79-45f0-d393-7c51939090f9"
      },
      "execution_count": null,
      "outputs": [
        {
          "output_type": "stream",
          "name": "stdout",
          "text": [
            "1 3 -1 4 1 7\n",
            "2 -1\n"
          ]
        }
      ]
    },
    {
      "cell_type": "markdown",
      "source": [
        "1018"
      ],
      "metadata": {
        "id": "MSbD7wP1byG3"
      }
    },
    {
      "cell_type": "code",
      "source": [
        "N, M = map(int, input().split())\n",
        "board = [input() for _ in range(N)]\n",
        "\n",
        "chess_pattern1 = [\n",
        "    \"WBWBWBWB\",\n",
        "    \"BWBWBWBW\",\n",
        "    \"WBWBWBWB\",\n",
        "    \"BWBWBWBW\",\n",
        "    \"WBWBWBWB\",\n",
        "    \"BWBWBWBW\",\n",
        "    \"WBWBWBWB\",\n",
        "    \"BWBWBWBW\"\n",
        "]\n",
        "\n",
        "chess_pattern2 = [\n",
        "    \"BWBWBWBW\",\n",
        "    \"WBWBWBWB\",\n",
        "    \"BWBWBWBW\",\n",
        "    \"WBWBWBWB\",\n",
        "    \"BWBWBWBW\",\n",
        "    \"WBWBWBWB\",\n",
        "    \"BWBWBWBW\",\n",
        "    \"WBWBWBWB\"\n",
        "]\n",
        "\n",
        "min_flips = float('inf')\n",
        "\n",
        "for i in range(N - 7):\n",
        "    for j in range(M - 7):\n",
        "        flips1 = 0\n",
        "        flips2 = 0\n",
        "        for k in range(8):\n",
        "            for l in range(8):\n",
        "                if board[i + k][j + l] != chess_pattern1[k][l]:\n",
        "                    flips1 += 1\n",
        "                if board[i + k][j + l] != chess_pattern2[k][l]:\n",
        "                    flips2 += 1\n",
        "        min_flips = min(min_flips, flips1, flips2)\n",
        "\n",
        "print(min_flips)"
      ],
      "metadata": {
        "colab": {
          "base_uri": "https://localhost:8080/"
        },
        "id": "atDm9AOtbzNA",
        "outputId": "2ef850da-cb7d-4e20-9ec2-d8ba7a697e48"
      },
      "execution_count": null,
      "outputs": [
        {
          "output_type": "stream",
          "name": "stdout",
          "text": [
            "11 12\n",
            "BWWBWWBWWBWW\n",
            "BWWBWBBWWBWW\n",
            "WBWWBWBBWWBW\n",
            "BWWBWBBWWBWW\n",
            "WBWWBWBBWWBW\n",
            "BWWBWBBWWBWW\n",
            "WBWWBWBBWWBW\n",
            "BWWBWBWWWBWW\n",
            "WBWWBWBBWWBW\n",
            "BWWBWBBWWBWW\n",
            "WBWWBWBBWWBW\n",
            "15\n"
          ]
        }
      ]
    },
    {
      "cell_type": "markdown",
      "source": [
        "1436"
      ],
      "metadata": {
        "id": "a67w85GGdcEA"
      }
    },
    {
      "cell_type": "code",
      "source": [
        "N = int(input())\n",
        "\n",
        "count = 0\n",
        "num = 666\n",
        "\n",
        "while count < N:\n",
        "    if '666' in str(num):\n",
        "        count += 1\n",
        "    num += 1\n",
        "\n",
        "print(num - 1)"
      ],
      "metadata": {
        "colab": {
          "base_uri": "https://localhost:8080/"
        },
        "id": "1-DmFEWgddeu",
        "outputId": "74b9a36a-2322-4370-ac82-aefce1e1a5b0"
      },
      "execution_count": null,
      "outputs": [
        {
          "output_type": "stream",
          "name": "stdout",
          "text": [
            "187\n",
            "66666\n"
          ]
        }
      ]
    },
    {
      "cell_type": "markdown",
      "source": [
        "2839"
      ],
      "metadata": {
        "id": "nhfTOJjIdyV8"
      }
    },
    {
      "cell_type": "code",
      "source": [
        "N = int(input())\n",
        "bag = 0\n",
        "\n",
        "while N >= 0:\n",
        "    if N % 5 == 0:\n",
        "        bag += N // 5\n",
        "        print(bag)\n",
        "        break\n",
        "    N -= 3\n",
        "    bag += 1\n",
        "else:\n",
        "    print(-1)"
      ],
      "metadata": {
        "colab": {
          "base_uri": "https://localhost:8080/"
        },
        "id": "8K3bNAcKdzvo",
        "outputId": "b7f9ba69-8729-4b44-cecf-60056d1c6d2f"
      },
      "execution_count": null,
      "outputs": [
        {
          "output_type": "stream",
          "name": "stdout",
          "text": [
            "11\n",
            "3\n"
          ]
        }
      ]
    },
    {
      "cell_type": "markdown",
      "source": [
        "2750"
      ],
      "metadata": {
        "id": "7zMwdQBdeYjR"
      }
    },
    {
      "cell_type": "code",
      "source": [
        "N = int(input())\n",
        "nums = []\n",
        "\n",
        "for _ in range(N):\n",
        "    num = int(input())\n",
        "    nums.append(num)\n",
        "\n",
        "nums.sort()\n",
        "\n",
        "for num in nums:\n",
        "    print(num)"
      ],
      "metadata": {
        "colab": {
          "base_uri": "https://localhost:8080/"
        },
        "id": "7w6bXVM4eaYN",
        "outputId": "93b61440-3132-48c9-ef60-79d79bc25e08"
      },
      "execution_count": null,
      "outputs": [
        {
          "output_type": "stream",
          "name": "stdout",
          "text": [
            "5\n",
            "5\n",
            "2\n",
            "3\n",
            "4\n",
            "1\n",
            "1\n",
            "2\n",
            "3\n",
            "4\n",
            "5\n"
          ]
        }
      ]
    },
    {
      "cell_type": "markdown",
      "source": [
        "2587"
      ],
      "metadata": {
        "id": "2tEuLvj7feZf"
      }
    },
    {
      "cell_type": "code",
      "source": [
        "nums = []\n",
        "\n",
        "for _ in range(5):\n",
        "    num = int(input())\n",
        "    nums.append(num)\n",
        "\n",
        "nums.sort()\n",
        "\n",
        "print(sum(nums) // 5)\n",
        "print(nums[2])"
      ],
      "metadata": {
        "colab": {
          "base_uri": "https://localhost:8080/"
        },
        "id": "XAbbCpVPfgEW",
        "outputId": "3195cf58-e823-495c-c4b9-fdaaf376c155"
      },
      "execution_count": null,
      "outputs": [
        {
          "output_type": "stream",
          "name": "stdout",
          "text": [
            "10\n",
            "40\n",
            "30\n",
            "60\n",
            "30\n",
            "34\n",
            "30\n"
          ]
        }
      ]
    },
    {
      "cell_type": "markdown",
      "source": [
        "25305"
      ],
      "metadata": {
        "id": "UsTY5exTgZAt"
      }
    },
    {
      "cell_type": "code",
      "source": [
        "N, k = map(int, input().split())\n",
        "scores = list(map(int, input().split()))\n",
        "scores.sort(reverse=True)\n",
        "print(scores[k - 1])"
      ],
      "metadata": {
        "colab": {
          "base_uri": "https://localhost:8080/"
        },
        "id": "JMGpqq9DgaoF",
        "outputId": "503a5c0f-afeb-4ac5-8dd7-2ab3796b504f"
      },
      "execution_count": null,
      "outputs": [
        {
          "output_type": "stream",
          "name": "stdout",
          "text": [
            "5 2\n",
            "100 76 85 93 98\n",
            "98\n"
          ]
        }
      ]
    },
    {
      "cell_type": "markdown",
      "source": [
        "2751"
      ],
      "metadata": {
        "id": "TlwyMTsLg7gi"
      }
    },
    {
      "cell_type": "code",
      "source": [
        "import sys\n",
        "input=sys.stdin.readline\n",
        "\n",
        "n=int(input())\n",
        "li=[]\n",
        "\n",
        "for i in range(n):\n",
        "    li.append(int(input()))\n",
        "\n",
        "for i in sorted(li):\n",
        "    print(i)"
      ],
      "metadata": {
        "id": "NGoXWX7Jil_E"
      },
      "execution_count": null,
      "outputs": []
    },
    {
      "cell_type": "markdown",
      "source": [
        "10989"
      ],
      "metadata": {
        "id": "YMpZuBjjhOmu"
      }
    },
    {
      "cell_type": "code",
      "source": [
        "import sys\n",
        "\n",
        "def input():\n",
        "    return sys.stdin.readline()\n",
        "\n",
        "n = int(input())\n",
        "\n",
        "count = [0] * 10001\n",
        "\n",
        "for _ in range(n):\n",
        "    num = int(input())\n",
        "    count[num] += 1\n",
        "\n",
        "for i in range(1, 10001):\n",
        "    if count[i] != 0:\n",
        "        for _ in range(count[i]):\n",
        "            print(i)"
      ],
      "metadata": {
        "id": "k0A-pfSMj9tk"
      },
      "execution_count": null,
      "outputs": []
    },
    {
      "cell_type": "markdown",
      "source": [
        "1427"
      ],
      "metadata": {
        "id": "-C7vWAsXkbKt"
      }
    },
    {
      "cell_type": "code",
      "source": [
        "N = int(input())\n",
        "nums = list(map(int, str(N)))\n",
        "nums.sort(reverse=True)\n",
        "print(''.join(map(str, nums)))"
      ],
      "metadata": {
        "colab": {
          "base_uri": "https://localhost:8080/"
        },
        "id": "z-9wLAbokdhP",
        "outputId": "fe54329c-c4a7-4c94-db27-f376ad11b6a6"
      },
      "execution_count": null,
      "outputs": [
        {
          "output_type": "stream",
          "name": "stdout",
          "text": [
            "2143\n",
            "4321\n"
          ]
        }
      ]
    },
    {
      "cell_type": "markdown",
      "source": [
        "11650"
      ],
      "metadata": {
        "id": "p92rvQGYk5DP"
      }
    },
    {
      "cell_type": "code",
      "source": [
        "N = int(input())\n",
        "points = []\n",
        "\n",
        "for _ in range(N):\n",
        "    x, y = map(int, input().split())\n",
        "    points.append((x, y))\n",
        "\n",
        "points.sort(key=lambda point: (point[0], point[1]))\n",
        "\n",
        "for x, y in points:\n",
        "    print(x, y)"
      ],
      "metadata": {
        "colab": {
          "base_uri": "https://localhost:8080/"
        },
        "id": "T2KQ4X5zk_CW",
        "outputId": "7d4d4089-6cfa-47c4-ba70-dede7f6dacdd"
      },
      "execution_count": null,
      "outputs": [
        {
          "output_type": "stream",
          "name": "stdout",
          "text": [
            "5\n",
            "3 4\n",
            "1 1\n",
            "1 -1\n",
            "2 2\n",
            "3 3\n",
            "1 -1\n",
            "1 1\n",
            "2 2\n",
            "3 3\n",
            "3 4\n"
          ]
        }
      ]
    },
    {
      "cell_type": "markdown",
      "source": [
        "11651"
      ],
      "metadata": {
        "id": "RYCwDLNomD8A"
      }
    },
    {
      "cell_type": "code",
      "source": [
        "N = int(input())\n",
        "points = []\n",
        "\n",
        "for _ in range(N):\n",
        "    x, y = map(int, input().split())\n",
        "    points.append((x, y))\n",
        "\n",
        "points.sort(key=lambda point: (point[1], point[0]))\n",
        "\n",
        "for x, y in points:\n",
        "    print(x, y)"
      ],
      "metadata": {
        "colab": {
          "base_uri": "https://localhost:8080/"
        },
        "id": "l0mbILyWmFBN",
        "outputId": "655d81e1-f957-4893-d4a3-144d6b67b105"
      },
      "execution_count": null,
      "outputs": [
        {
          "output_type": "stream",
          "name": "stdout",
          "text": [
            "5\n",
            "0 4\n",
            "1 2\n",
            "1 -1\n",
            "2 2\n",
            "3 3\n",
            "1 -1\n",
            "1 2\n",
            "2 2\n",
            "3 3\n",
            "0 4\n"
          ]
        }
      ]
    },
    {
      "cell_type": "markdown",
      "source": [
        "1181"
      ],
      "metadata": {
        "id": "0hg2nlUWeXxq"
      }
    },
    {
      "cell_type": "code",
      "source": [
        "N = int(input())\n",
        "words = []\n",
        "\n",
        "for _ in range(N):\n",
        "    word = input()\n",
        "    words.append(word)\n",
        "\n",
        "words = list(set(words))\n",
        "words.sort()\n",
        "words.sort(key=len)\n",
        "\n",
        "for word in words:\n",
        "    print(word)"
      ],
      "metadata": {
        "colab": {
          "base_uri": "https://localhost:8080/"
        },
        "id": "a8utgUcgnHeN",
        "outputId": "e0789af4-ba66-4341-8e9a-b7afe618f40e"
      },
      "execution_count": null,
      "outputs": [
        {
          "output_type": "stream",
          "name": "stdout",
          "text": [
            "13\n",
            "but\n",
            "i\n",
            "wont\n",
            "hesitate\n",
            "no\n",
            "more\n",
            "no\n",
            "more\n",
            "it\n",
            "cannot\n",
            "wait\n",
            "im\n",
            "yours\n",
            "i\n",
            "im\n",
            "it\n",
            "no\n",
            "but\n",
            "more\n",
            "wait\n",
            "wont\n",
            "yours\n",
            "cannot\n",
            "hesitate\n"
          ]
        }
      ]
    },
    {
      "cell_type": "markdown",
      "source": [
        "#1/4"
      ],
      "metadata": {
        "id": "roehsjX6opWN"
      }
    },
    {
      "cell_type": "markdown",
      "source": [
        "10814"
      ],
      "metadata": {
        "id": "LleyBAO4owS6"
      }
    },
    {
      "cell_type": "code",
      "source": [
        "N = int(input())\n",
        "members = []\n",
        "\n",
        "for _ in range(N):\n",
        "    age, name = input().split()\n",
        "    members.append((int(age), name))\n",
        "\n",
        "members.sort(key=lambda member: member[0])\n",
        "\n",
        "for age, name in members:\n",
        "    print(age, name)"
      ],
      "metadata": {
        "colab": {
          "base_uri": "https://localhost:8080/"
        },
        "id": "hSJ7NFmloukJ",
        "outputId": "3e07ab4f-ae1a-4467-e07b-012c071775a1"
      },
      "execution_count": 3,
      "outputs": [
        {
          "output_type": "stream",
          "name": "stdout",
          "text": [
            "3\n",
            "21 Junkyu\n",
            "21 Dohyun\n",
            "20 Sunyoung\n",
            "20 Sunyoung\n",
            "21 Junkyu\n",
            "21 Dohyun\n"
          ]
        }
      ]
    },
    {
      "cell_type": "markdown",
      "source": [
        "#런타임 연결"
      ],
      "metadata": {
        "id": "rbzoQNiOh9cR"
      }
    },
    {
      "cell_type": "code",
      "source": [
        "print('Hello World!')"
      ],
      "metadata": {
        "colab": {
          "base_uri": "https://localhost:8080/"
        },
        "id": "yjT0UhhxhqNJ",
        "outputId": "1f521be3-8087-4110-d2af-3dc5a803503c"
      },
      "execution_count": 1,
      "outputs": [
        {
          "output_type": "stream",
          "name": "stdout",
          "text": [
            "Hello World!\n"
          ]
        }
      ]
    }
  ]
}
{
  "nbformat": 4,
  "nbformat_minor": 0,
  "metadata": {
    "colab": {
      "provenance": [],
      "authorship_tag": "ABX9TyM0zO7SybjStiozGzTqFR2W",
      "include_colab_link": true
    },
    "kernelspec": {
      "name": "python3",
      "display_name": "Python 3"
    },
    "language_info": {
      "name": "python"
    }
  },
  "cells": [
    {
      "cell_type": "markdown",
      "metadata": {
        "id": "view-in-github",
        "colab_type": "text"
      },
      "source": [
        "<a href=\"https://colab.research.google.com/github/steeze1213/Baekjoon/blob/main/BAEKJOON.ipynb\" target=\"_parent\"><img src=\"https://colab.research.google.com/assets/colab-badge.svg\" alt=\"Open In Colab\"/></a>"
      ]
    },
    {
      "cell_type": "markdown",
      "source": [
        "#12/23"
      ],
      "metadata": {
        "id": "_oXJuJXA5b4c"
      }
    },
    {
      "cell_type": "markdown",
      "source": [
        "2557"
      ],
      "metadata": {
        "id": "j0T4OLa6KLfg"
      }
    },
    {
      "cell_type": "code",
      "execution_count": null,
      "metadata": {
        "colab": {
          "base_uri": "https://localhost:8080/"
        },
        "id": "LxQXuQi68sy6",
        "outputId": "8e5f9f7f-33d7-4051-d783-7c378aff53a4"
      },
      "outputs": [
        {
          "output_type": "stream",
          "name": "stdout",
          "text": [
            "Hello Wolrd!\n"
          ]
        }
      ],
      "source": [
        "print(\"Hello Wolrd!\")"
      ]
    },
    {
      "cell_type": "markdown",
      "source": [
        "1000"
      ],
      "metadata": {
        "id": "LwrXac1PKOAF"
      }
    },
    {
      "cell_type": "code",
      "source": [
        "a, b = map(int, input().split())\n",
        "print(a+b)"
      ],
      "metadata": {
        "colab": {
          "base_uri": "https://localhost:8080/"
        },
        "id": "Xhxq6IhN9L4L",
        "outputId": "9a869122-8c0a-4f7a-b47c-4c56ce41f01c"
      },
      "execution_count": null,
      "outputs": [
        {
          "output_type": "stream",
          "name": "stdout",
          "text": [
            "1 2\n",
            "3\n"
          ]
        }
      ]
    },
    {
      "cell_type": "markdown",
      "source": [
        "1001"
      ],
      "metadata": {
        "id": "89HL-9vOKP1J"
      }
    },
    {
      "cell_type": "code",
      "source": [
        "a, b = map(int, input().split())\n",
        "print(a-b)"
      ],
      "metadata": {
        "colab": {
          "base_uri": "https://localhost:8080/"
        },
        "id": "ZFVUNjL8-NTG",
        "outputId": "c8901e6e-90e4-41be-a9ee-ab348ec88c89"
      },
      "execution_count": null,
      "outputs": [
        {
          "output_type": "stream",
          "name": "stdout",
          "text": [
            "1 2\n",
            "-1\n"
          ]
        }
      ]
    },
    {
      "cell_type": "markdown",
      "source": [
        "10998"
      ],
      "metadata": {
        "id": "dLMnEaLsKRNo"
      }
    },
    {
      "cell_type": "code",
      "source": [
        "a, b = map(int, input().split())\n",
        "print(a*b)"
      ],
      "metadata": {
        "colab": {
          "base_uri": "https://localhost:8080/"
        },
        "id": "2GrJuoB9-nX3",
        "outputId": "68034206-459c-47d7-bbd8-fdfb22325a1c"
      },
      "execution_count": null,
      "outputs": [
        {
          "output_type": "stream",
          "name": "stdout",
          "text": [
            "1 2\n",
            "2\n"
          ]
        }
      ]
    },
    {
      "cell_type": "markdown",
      "source": [
        "1008"
      ],
      "metadata": {
        "id": "zUnCKsvMKUmZ"
      }
    },
    {
      "cell_type": "code",
      "source": [
        "a, b = map(int, input().split())\n",
        "print(a/b)"
      ],
      "metadata": {
        "colab": {
          "base_uri": "https://localhost:8080/"
        },
        "id": "-NdtPeef_cPd",
        "outputId": "c1c69917-2e26-4edd-e587-5f5b1482de83"
      },
      "execution_count": null,
      "outputs": [
        {
          "output_type": "stream",
          "name": "stdout",
          "text": [
            "1 2\n",
            "0.5\n"
          ]
        }
      ]
    },
    {
      "cell_type": "markdown",
      "source": [
        "10869"
      ],
      "metadata": {
        "id": "93dD_dokKW5f"
      }
    },
    {
      "cell_type": "code",
      "source": [
        "a, b = map(int, input().split())\n",
        "print(a+b)\n",
        "print(a-b)\n",
        "print(a*b)\n",
        "print(a//b)\n",
        "print(a%b)"
      ],
      "metadata": {
        "colab": {
          "base_uri": "https://localhost:8080/"
        },
        "id": "IaoqnaRJ_sjf",
        "outputId": "faca9aaf-91e4-4850-d708-60a889a56314"
      },
      "execution_count": null,
      "outputs": [
        {
          "output_type": "stream",
          "name": "stdout",
          "text": [
            "7 3\n",
            "10\n",
            "4\n",
            "21\n",
            "2\n",
            "1\n"
          ]
        }
      ]
    },
    {
      "cell_type": "markdown",
      "source": [
        "10926"
      ],
      "metadata": {
        "id": "kMeThCjvKZUh"
      }
    },
    {
      "cell_type": "code",
      "source": [
        "a=input()\n",
        "print(a+'??!')"
      ],
      "metadata": {
        "colab": {
          "base_uri": "https://localhost:8080/"
        },
        "id": "Ujbdbh8uA_fa",
        "outputId": "3e507663-5bee-4c0e-c589-ad99185ac1d0"
      },
      "execution_count": null,
      "outputs": [
        {
          "output_type": "stream",
          "name": "stdout",
          "text": [
            "baekjoon\n",
            "baekjoon??!\n"
          ]
        }
      ]
    },
    {
      "cell_type": "markdown",
      "source": [
        "18108"
      ],
      "metadata": {
        "id": "-xjm178EKbnS"
      }
    },
    {
      "cell_type": "code",
      "source": [
        "2541 - 1998"
      ],
      "metadata": {
        "colab": {
          "base_uri": "https://localhost:8080/"
        },
        "id": "q7SxpjN9CLtT",
        "outputId": "c632a0f8-dc94-406d-b748-bfc55d71c32a"
      },
      "execution_count": null,
      "outputs": [
        {
          "output_type": "execute_result",
          "data": {
            "text/plain": [
              "543"
            ]
          },
          "metadata": {},
          "execution_count": 14
        }
      ]
    },
    {
      "cell_type": "code",
      "source": [
        "a=int(input())\n",
        "print(a-543)"
      ],
      "metadata": {
        "colab": {
          "base_uri": "https://localhost:8080/"
        },
        "id": "vfo9WkM0B3U7",
        "outputId": "eac0b8e4-a58d-4f6c-d134-a2c059254e68"
      },
      "execution_count": null,
      "outputs": [
        {
          "output_type": "stream",
          "name": "stdout",
          "text": [
            "2541\n",
            "1998\n"
          ]
        }
      ]
    },
    {
      "cell_type": "markdown",
      "source": [
        "10430"
      ],
      "metadata": {
        "id": "rSBMSYtGKhWc"
      }
    },
    {
      "cell_type": "code",
      "source": [
        "a, b, c = map(int, input().split())\n",
        "print((a+b)%c)\n",
        "print(((a%c)+(b%c))%c)\n",
        "print((a*b)%c)\n",
        "print(((a%c)*(b%c))%c)"
      ],
      "metadata": {
        "colab": {
          "base_uri": "https://localhost:8080/"
        },
        "id": "a70Zpc43HIE9",
        "outputId": "c4e15e1b-1e2a-4cd4-ce2f-51eb4f50cfc7"
      },
      "execution_count": null,
      "outputs": [
        {
          "output_type": "stream",
          "name": "stdout",
          "text": [
            "5 8 4\n",
            "1\n",
            "1\n",
            "0\n",
            "0\n"
          ]
        }
      ]
    },
    {
      "cell_type": "markdown",
      "source": [
        "2588"
      ],
      "metadata": {
        "id": "3-BO2DB4KkXq"
      }
    },
    {
      "cell_type": "code",
      "source": [
        "a = int(input())\n",
        "b = input()\n",
        "\n",
        "for i in range(len(b)-1, -1, -1):\n",
        "    result=a * int(b[i])\n",
        "    print(result)\n",
        "\n",
        "final_result=a * int(b)\n",
        "print(final_result)"
      ],
      "metadata": {
        "colab": {
          "base_uri": "https://localhost:8080/"
        },
        "id": "jmh3UARkI5BP",
        "outputId": "97cc547b-7894-4f85-bd00-6d602946aa07"
      },
      "execution_count": null,
      "outputs": [
        {
          "output_type": "stream",
          "name": "stdout",
          "text": [
            "472\n",
            "385\n",
            "2360\n",
            "3776\n",
            "1416\n",
            "181720\n"
          ]
        }
      ]
    },
    {
      "cell_type": "markdown",
      "source": [
        "#12/24"
      ],
      "metadata": {
        "id": "5PjZLqCI5exu"
      }
    },
    {
      "cell_type": "markdown",
      "source": [
        "11382"
      ],
      "metadata": {
        "id": "sQCjM6SY5Yw2"
      }
    },
    {
      "cell_type": "code",
      "source": [
        "a, b, c = map(int, input().split())\n",
        "print(a+b+c)"
      ],
      "metadata": {
        "colab": {
          "base_uri": "https://localhost:8080/"
        },
        "id": "sPLiA36D5FE1",
        "outputId": "9000a128-1daf-4195-b56a-6443255090ac"
      },
      "execution_count": null,
      "outputs": [
        {
          "output_type": "stream",
          "name": "stdout",
          "text": [
            "77 77 7777\n",
            "7931\n"
          ]
        }
      ]
    },
    {
      "cell_type": "markdown",
      "source": [
        "10171"
      ],
      "metadata": {
        "id": "e4eZkJMY5ntd"
      }
    },
    {
      "cell_type": "code",
      "source": [
        "print(\"\\\\    /\\\\\")\n",
        "print(\" )  ( ')\")\n",
        "print(\"(  /  )\")\n",
        "print(\" \\\\(__)|\")"
      ],
      "metadata": {
        "colab": {
          "base_uri": "https://localhost:8080/"
        },
        "id": "RTpMrA7a5w7R",
        "outputId": "91a0b1fb-2b37-49f9-c424-eb512ed70871"
      },
      "execution_count": null,
      "outputs": [
        {
          "output_type": "stream",
          "name": "stdout",
          "text": [
            "\\    /\\\n",
            " )  ( ')\n",
            "(  /  )\n",
            " \\(__)|\n"
          ]
        }
      ]
    },
    {
      "cell_type": "markdown",
      "source": [
        "10172"
      ],
      "metadata": {
        "id": "AUGRRLhv6BvP"
      }
    },
    {
      "cell_type": "code",
      "source": [
        "print(\"|\\_/|\")\n",
        "print(\"|q p|   /}\")\n",
        "print(\"( 0 )\\\"\\\"\\\"\\\\\")\n",
        "print(\"|\\\"^\\\"`    |\")\n",
        "print(\"||_/=\\\\\\__|\")"
      ],
      "metadata": {
        "colab": {
          "base_uri": "https://localhost:8080/"
        },
        "id": "F0wq3BL56C9d",
        "outputId": "6ee8e070-ad07-4d4e-a9f8-9fddd261e18b"
      },
      "execution_count": null,
      "outputs": [
        {
          "output_type": "stream",
          "name": "stdout",
          "text": [
            "|\\_/|\n",
            "|q p|   /}\n",
            "( 0 )\"\"\"\\\n",
            "|\"^\"`    |\n",
            "||_/=\\\\__|\n"
          ]
        }
      ]
    },
    {
      "cell_type": "markdown",
      "source": [
        "1330"
      ],
      "metadata": {
        "id": "q1wDS2j96cJJ"
      }
    },
    {
      "cell_type": "code",
      "source": [
        "a, b = map(int, input().split())\n",
        "\n",
        "if a > b:\n",
        "    print(\">\")\n",
        "elif a < b:\n",
        "    print(\"<\")\n",
        "else:\n",
        "    print(\"==\")"
      ],
      "metadata": {
        "colab": {
          "base_uri": "https://localhost:8080/"
        },
        "id": "0A38Vbfd6elV",
        "outputId": "2de5c514-1cf0-43bf-96f5-876806df6e61"
      },
      "execution_count": null,
      "outputs": [
        {
          "output_type": "stream",
          "name": "stdout",
          "text": [
            "1 2\n",
            "<\n"
          ]
        }
      ]
    },
    {
      "cell_type": "markdown",
      "source": [
        "9498"
      ],
      "metadata": {
        "id": "Hfuob9rz6eDA"
      }
    },
    {
      "cell_type": "code",
      "source": [
        "score = int(input())\n",
        "\n",
        "if 90 <= score <= 100:\n",
        "    print(\"A\")\n",
        "elif 80 <= score <= 89:\n",
        "    print(\"B\")\n",
        "elif 70 <= score <= 79:\n",
        "    print(\"C\")\n",
        "elif 60 <= score <= 69:\n",
        "    print(\"D\")\n",
        "else:\n",
        "    print(\"F\")"
      ],
      "metadata": {
        "colab": {
          "base_uri": "https://localhost:8080/"
        },
        "id": "3NXfxjkt8Ga7",
        "outputId": "e61693cd-c8b8-4f50-f7e8-eca289e9d8ce"
      },
      "execution_count": null,
      "outputs": [
        {
          "output_type": "stream",
          "name": "stdout",
          "text": [
            "100\n",
            "A\n"
          ]
        }
      ]
    },
    {
      "cell_type": "markdown",
      "source": [
        "2753"
      ],
      "metadata": {
        "id": "PINECQpD8p96"
      }
    },
    {
      "cell_type": "code",
      "source": [
        "year = int(input())\n",
        "\n",
        "if (year % 4) == 0 and (year % 100) != 0 or (year % 400) == 0:\n",
        "    print(\"1\")\n",
        "else:\n",
        "    print(\"0\")"
      ],
      "metadata": {
        "colab": {
          "base_uri": "https://localhost:8080/"
        },
        "id": "cPHWwpPi8rzD",
        "outputId": "c76c2d2f-edd4-4fa0-cd51-2798ecfe57a7"
      },
      "execution_count": null,
      "outputs": [
        {
          "output_type": "stream",
          "name": "stdout",
          "text": [
            "1999\n",
            "0\n"
          ]
        }
      ]
    },
    {
      "cell_type": "markdown",
      "source": [
        "14681"
      ],
      "metadata": {
        "id": "gP4VI-vL-oma"
      }
    },
    {
      "cell_type": "code",
      "source": [
        "x = int(input())\n",
        "y = int(input())\n",
        "\n",
        "if 0 < x and 0 < y:\n",
        "    print(\"1\")\n",
        "elif 0 > x and 0 < y:\n",
        "    print(\"2\")\n",
        "elif x < 0 and y < 0:\n",
        "    print(\"3\")\n",
        "elif 0 < x and 0 > y:\n",
        "    print(\"4\")"
      ],
      "metadata": {
        "colab": {
          "base_uri": "https://localhost:8080/"
        },
        "id": "S5rOFa0i-rDX",
        "outputId": "b32226d4-c18c-4904-d047-8f5127e3526c"
      },
      "execution_count": null,
      "outputs": [
        {
          "output_type": "stream",
          "name": "stdout",
          "text": [
            "9\n",
            "-13\n",
            "4\n"
          ]
        }
      ]
    },
    {
      "cell_type": "markdown",
      "source": [
        "2884"
      ],
      "metadata": {
        "id": "qqxxVk0tAk2z"
      }
    },
    {
      "cell_type": "code",
      "source": [
        "H, M = map(int, input().split())\n",
        "\n",
        "if M >= 45:\n",
        "    M -= 45\n",
        "else:\n",
        "    M += 15\n",
        "    if H == 0:\n",
        "        H = 23\n",
        "    else:\n",
        "        H -= 1\n",
        "\n",
        "print(H, M)"
      ],
      "metadata": {
        "colab": {
          "base_uri": "https://localhost:8080/"
        },
        "id": "7iqFqV7JAmTE",
        "outputId": "c1861a7d-0e33-4033-b273-fb5e6780d00d"
      },
      "execution_count": null,
      "outputs": [
        {
          "output_type": "stream",
          "name": "stdout",
          "text": [
            "10 10\n",
            "9 25\n"
          ]
        }
      ]
    },
    {
      "cell_type": "markdown",
      "source": [
        "2525"
      ],
      "metadata": {
        "id": "s73AX1nAB6bj"
      }
    },
    {
      "cell_type": "code",
      "source": [
        "H, M = map(int, input().split())\n",
        "CT = int(input())\n",
        "\n",
        "TT = H * 60 + M + CT\n",
        "\n",
        "H = (TT // 60) % 24\n",
        "M = TT % 60\n",
        "\n",
        "print(H, M)"
      ],
      "metadata": {
        "colab": {
          "base_uri": "https://localhost:8080/"
        },
        "id": "S1PsovmTB775",
        "outputId": "46258a6c-6a48-4189-cb09-8cc3d0d6bdb7"
      },
      "execution_count": null,
      "outputs": [
        {
          "output_type": "stream",
          "name": "stdout",
          "text": [
            "17 40\n",
            "80\n",
            "19 0\n"
          ]
        }
      ]
    },
    {
      "cell_type": "markdown",
      "source": [
        "2480"
      ],
      "metadata": {
        "id": "3hYOmoKpDXXl"
      }
    },
    {
      "cell_type": "code",
      "source": [
        "a, b, c = map(int, input().split())\n",
        "\n",
        "if a == b == c:\n",
        "    print(10000 + a * 1000)\n",
        "elif a == b or a == c:\n",
        "    print(1000 + a * 100)\n",
        "elif b == c:\n",
        "    print(1000 + b * 100)\n",
        "else:\n",
        "    print(max(a, b, c) * 100)"
      ],
      "metadata": {
        "colab": {
          "base_uri": "https://localhost:8080/"
        },
        "id": "2UMlPUJFDZtA",
        "outputId": "af3546c1-99d6-471c-ac9f-1e134d368403"
      },
      "execution_count": null,
      "outputs": [
        {
          "output_type": "stream",
          "name": "stdout",
          "text": [
            "6 2 5\n",
            "600\n"
          ]
        }
      ]
    },
    {
      "cell_type": "markdown",
      "source": [
        "2739"
      ],
      "metadata": {
        "id": "1NyEz3T0FI4W"
      }
    },
    {
      "cell_type": "code",
      "source": [
        "N = int(input())\n",
        "\n",
        "for i in range(1, 10):\n",
        "    print(N, \"*\", i, \"=\", N * i)"
      ],
      "metadata": {
        "colab": {
          "base_uri": "https://localhost:8080/"
        },
        "id": "nGr1QjRbFKYR",
        "outputId": "b8281519-7bde-4c4e-8981-40b612cbf29e"
      },
      "execution_count": null,
      "outputs": [
        {
          "output_type": "stream",
          "name": "stdout",
          "text": [
            "2\n",
            "2 * 1 = 2\n",
            "2 * 2 = 4\n",
            "2 * 3 = 6\n",
            "2 * 4 = 8\n",
            "2 * 5 = 10\n",
            "2 * 6 = 12\n",
            "2 * 7 = 14\n",
            "2 * 8 = 16\n",
            "2 * 9 = 18\n"
          ]
        }
      ]
    },
    {
      "cell_type": "markdown",
      "source": [
        "10950"
      ],
      "metadata": {
        "id": "i9wFIFBaJCbG"
      }
    },
    {
      "cell_type": "code",
      "source": [
        "T = int(input())\n",
        "\n",
        "result = []\n",
        "\n",
        "for i in range(T):\n",
        "    A, B = map(int, input().split())\n",
        "    result.append(A + B)\n",
        "\n",
        "for result in result:\n",
        "    print(result)"
      ],
      "metadata": {
        "colab": {
          "base_uri": "https://localhost:8080/"
        },
        "id": "EZ_7Q4poJEN-",
        "outputId": "ee8af18b-3ee0-47ca-9bc7-ee0c74450bfa"
      },
      "execution_count": null,
      "outputs": [
        {
          "output_type": "stream",
          "name": "stdout",
          "text": [
            "5\n",
            "1 1\n",
            "2 3\n",
            "3 4\n",
            "9 8\n",
            "5 2\n",
            "2\n",
            "5\n",
            "7\n",
            "17\n",
            "7\n"
          ]
        }
      ]
    },
    {
      "cell_type": "markdown",
      "source": [
        "8393"
      ],
      "metadata": {
        "id": "9PVBlbFDKtKQ"
      }
    },
    {
      "cell_type": "code",
      "source": [
        "n = int(input())\n",
        "result = 0\n",
        "\n",
        "for i in range(1, n + 1):\n",
        "    result += i\n",
        "\n",
        "print(result)"
      ],
      "metadata": {
        "colab": {
          "base_uri": "https://localhost:8080/"
        },
        "id": "g1lwyAwaKvVZ",
        "outputId": "bb8ef4e0-abf4-4843-c036-f44e455adb52"
      },
      "execution_count": null,
      "outputs": [
        {
          "output_type": "stream",
          "name": "stdout",
          "text": [
            "10\n",
            "55\n"
          ]
        }
      ]
    },
    {
      "cell_type": "markdown",
      "source": [
        "25304"
      ],
      "metadata": {
        "id": "CZyle_NsL6cW"
      }
    },
    {
      "cell_type": "code",
      "source": [
        "X = int(input())\n",
        "N = int(input())\n",
        "\n",
        "result = 0\n",
        "\n",
        "for i in range(N):\n",
        "    a, b = map(int, input().split())\n",
        "    result += a * b\n",
        "if result == X:\n",
        "    print(\"Yes\")\n",
        "else:\n",
        "    print(\"No\")"
      ],
      "metadata": {
        "colab": {
          "base_uri": "https://localhost:8080/"
        },
        "id": "be0YLAsmL-zh",
        "outputId": "3bc91e0f-e80e-4338-9cf2-d9af48b6aa49"
      },
      "execution_count": null,
      "outputs": [
        {
          "output_type": "stream",
          "name": "stdout",
          "text": [
            "250000\n",
            "4\n",
            "20000 5\n",
            "30000 2\n",
            "10000 6\n",
            "5000 8\n",
            "No\n"
          ]
        }
      ]
    },
    {
      "cell_type": "markdown",
      "source": [
        "#12/25"
      ],
      "metadata": {
        "id": "NbFejWmKkCi7"
      }
    },
    {
      "cell_type": "markdown",
      "source": [
        "25314"
      ],
      "metadata": {
        "id": "0FLeQtfLkERL"
      }
    },
    {
      "cell_type": "code",
      "source": [
        "N = int(input())\n",
        "\n",
        "result = N // 4\n",
        "\n",
        "for i in range(result):\n",
        "    print(\"long\", end=\" \")\n",
        "print(\"int\")"
      ],
      "metadata": {
        "colab": {
          "base_uri": "https://localhost:8080/"
        },
        "id": "kV2NAjpnkD-k",
        "outputId": "9b5661df-87ac-4cd4-ba38-2c26b7a28b6d"
      },
      "execution_count": null,
      "outputs": [
        {
          "output_type": "stream",
          "name": "stdout",
          "text": [
            "100\n",
            "long long long long long long long long long long long long long long long long long long long long long long long long long int\n"
          ]
        }
      ]
    },
    {
      "cell_type": "markdown",
      "source": [
        "15552"
      ],
      "metadata": {
        "id": "y02n0CEjlbZS"
      }
    },
    {
      "cell_type": "code",
      "source": [
        "import sys\n",
        "\n",
        "T = int(sys.stdin.readline().rstrip())\n",
        "\n",
        "for _ in range(T):\n",
        "    A, B = map(int, sys.stdin.readline().split())\n",
        "    sys.stdout.write(f\"{A + B}\\n\")"
      ],
      "metadata": {
        "colab": {
          "base_uri": "https://localhost:8080/",
          "height": 211
        },
        "collapsed": true,
        "id": "A-OHYI_-ldPc",
        "outputId": "9708bb60-e55a-437f-9cd5-4adeddbea6f3"
      },
      "execution_count": null,
      "outputs": [
        {
          "output_type": "error",
          "ename": "ValueError",
          "evalue": "invalid literal for int() with base 10: ''",
          "traceback": [
            "\u001b[0;31m---------------------------------------------------------------------------\u001b[0m",
            "\u001b[0;31mValueError\u001b[0m                                Traceback (most recent call last)",
            "\u001b[0;32m<ipython-input-8-68cbda9e11cd>\u001b[0m in \u001b[0;36m<cell line: 3>\u001b[0;34m()\u001b[0m\n\u001b[1;32m      1\u001b[0m \u001b[0;32mimport\u001b[0m \u001b[0msys\u001b[0m\u001b[0;34m\u001b[0m\u001b[0;34m\u001b[0m\u001b[0m\n\u001b[1;32m      2\u001b[0m \u001b[0;34m\u001b[0m\u001b[0m\n\u001b[0;32m----> 3\u001b[0;31m \u001b[0mT\u001b[0m \u001b[0;34m=\u001b[0m \u001b[0mint\u001b[0m\u001b[0;34m(\u001b[0m\u001b[0msys\u001b[0m\u001b[0;34m.\u001b[0m\u001b[0mstdin\u001b[0m\u001b[0;34m.\u001b[0m\u001b[0mreadline\u001b[0m\u001b[0;34m(\u001b[0m\u001b[0;34m)\u001b[0m\u001b[0;34m.\u001b[0m\u001b[0mrstrip\u001b[0m\u001b[0;34m(\u001b[0m\u001b[0;34m)\u001b[0m\u001b[0;34m)\u001b[0m\u001b[0;34m\u001b[0m\u001b[0;34m\u001b[0m\u001b[0m\n\u001b[0m\u001b[1;32m      4\u001b[0m \u001b[0;34m\u001b[0m\u001b[0m\n\u001b[1;32m      5\u001b[0m \u001b[0;32mfor\u001b[0m \u001b[0m_\u001b[0m \u001b[0;32min\u001b[0m \u001b[0mrange\u001b[0m\u001b[0;34m(\u001b[0m\u001b[0mT\u001b[0m\u001b[0;34m)\u001b[0m\u001b[0;34m:\u001b[0m\u001b[0;34m\u001b[0m\u001b[0;34m\u001b[0m\u001b[0m\n",
            "\u001b[0;31mValueError\u001b[0m: invalid literal for int() with base 10: ''"
          ]
        }
      ]
    },
    {
      "cell_type": "markdown",
      "source": [
        "155552-2(Jupyter에선sys.stdin.readline() 지원X)"
      ],
      "metadata": {
        "id": "puOOs41An7vS"
      }
    },
    {
      "cell_type": "code",
      "source": [
        "import sys\n",
        "from io import StringIO\n",
        "\n",
        "# 테스트용 입력 데이터\n",
        "test_input = \"\"\"5\n",
        "1 1\n",
        "12 34\n",
        "5 500\n",
        "40 60\n",
        "1000 1000\n",
        "\"\"\"\n",
        "sys.stdin = StringIO(test_input)\n",
        "\n",
        "T = int(sys.stdin.readline().rstrip())\n",
        "for _ in range(T):\n",
        "    A, B = map(int, sys.stdin.readline().split())\n",
        "    print(A + B)"
      ],
      "metadata": {
        "colab": {
          "base_uri": "https://localhost:8080/"
        },
        "id": "yjjQnV37oNuK",
        "outputId": "bb8fe3ec-d0e6-4d43-fe65-8142a3048942"
      },
      "execution_count": null,
      "outputs": [
        {
          "output_type": "stream",
          "name": "stdout",
          "text": [
            "2\n",
            "46\n",
            "505\n",
            "100\n",
            "2000\n"
          ]
        }
      ]
    },
    {
      "cell_type": "markdown",
      "source": [
        "11021(sys.stdin.readline() 지원X)"
      ],
      "metadata": {
        "id": "QdiEmotxoVwf"
      }
    },
    {
      "cell_type": "code",
      "source": [
        "import sys\n",
        "\n",
        "T = int(sys.stdin.readline().rstrip())\n",
        "\n",
        "for i in range(1, T + 1):\n",
        "    A, B = map(int, sys.stdin.readline().split())\n",
        "    print(f\"Case #{i}: {A + B}\")"
      ],
      "metadata": {
        "colab": {
          "base_uri": "https://localhost:8080/",
          "height": 211
        },
        "collapsed": true,
        "id": "WTwfZxelofQJ",
        "outputId": "bb01698a-d4aa-446c-b318-b1d8ff619e61"
      },
      "execution_count": null,
      "outputs": [
        {
          "output_type": "error",
          "ename": "ValueError",
          "evalue": "invalid literal for int() with base 10: ''",
          "traceback": [
            "\u001b[0;31m---------------------------------------------------------------------------\u001b[0m",
            "\u001b[0;31mValueError\u001b[0m                                Traceback (most recent call last)",
            "\u001b[0;32m<ipython-input-10-53b9363d9eae>\u001b[0m in \u001b[0;36m<cell line: 3>\u001b[0;34m()\u001b[0m\n\u001b[1;32m      1\u001b[0m \u001b[0;32mimport\u001b[0m \u001b[0msys\u001b[0m\u001b[0;34m\u001b[0m\u001b[0;34m\u001b[0m\u001b[0m\n\u001b[1;32m      2\u001b[0m \u001b[0;34m\u001b[0m\u001b[0m\n\u001b[0;32m----> 3\u001b[0;31m \u001b[0mT\u001b[0m \u001b[0;34m=\u001b[0m \u001b[0mint\u001b[0m\u001b[0;34m(\u001b[0m\u001b[0msys\u001b[0m\u001b[0;34m.\u001b[0m\u001b[0mstdin\u001b[0m\u001b[0;34m.\u001b[0m\u001b[0mreadline\u001b[0m\u001b[0;34m(\u001b[0m\u001b[0;34m)\u001b[0m\u001b[0;34m.\u001b[0m\u001b[0mrstrip\u001b[0m\u001b[0;34m(\u001b[0m\u001b[0;34m)\u001b[0m\u001b[0;34m)\u001b[0m\u001b[0;34m\u001b[0m\u001b[0;34m\u001b[0m\u001b[0m\n\u001b[0m\u001b[1;32m      4\u001b[0m \u001b[0;34m\u001b[0m\u001b[0m\n\u001b[1;32m      5\u001b[0m \u001b[0;32mfor\u001b[0m \u001b[0mi\u001b[0m \u001b[0;32min\u001b[0m \u001b[0mrange\u001b[0m\u001b[0;34m(\u001b[0m\u001b[0;36m1\u001b[0m\u001b[0;34m,\u001b[0m \u001b[0mT\u001b[0m \u001b[0;34m+\u001b[0m \u001b[0;36m1\u001b[0m\u001b[0;34m)\u001b[0m\u001b[0;34m:\u001b[0m\u001b[0;34m\u001b[0m\u001b[0;34m\u001b[0m\u001b[0m\n",
            "\u001b[0;31mValueError\u001b[0m: invalid literal for int() with base 10: ''"
          ]
        }
      ]
    },
    {
      "cell_type": "markdown",
      "source": [
        "11022(sys.stdin.readline() 지원X)"
      ],
      "metadata": {
        "id": "WUhnPALkpD0x"
      }
    },
    {
      "cell_type": "code",
      "source": [
        "import sys\n",
        "\n",
        "T = int(sys.stdin.readline().rstrip())\n",
        "\n",
        "for i in range(1, T + 1):\n",
        "    A, B = map(int, sys.stdin.readline().split())\n",
        "    print(f\"Case #{i}: {A} + {B} = {A + B}\")"
      ],
      "metadata": {
        "id": "GYZlTNCgpDN2"
      },
      "execution_count": null,
      "outputs": []
    },
    {
      "cell_type": "markdown",
      "source": [
        "2438"
      ],
      "metadata": {
        "id": "pihe8nb0pWcj"
      }
    },
    {
      "cell_type": "code",
      "source": [
        "N = int(input())\n",
        "\n",
        "for i in range(1, N + 1):\n",
        "    print(\"*\" * i)"
      ],
      "metadata": {
        "colab": {
          "base_uri": "https://localhost:8080/"
        },
        "id": "M3GX5jRapdNY",
        "outputId": "26ca9c93-265e-4b80-f893-e2ec8c6237ef"
      },
      "execution_count": null,
      "outputs": [
        {
          "output_type": "stream",
          "name": "stdout",
          "text": [
            "5\n",
            "*\n",
            "**\n",
            "***\n",
            "****\n",
            "*****\n"
          ]
        }
      ]
    },
    {
      "cell_type": "markdown",
      "source": [
        "2439"
      ],
      "metadata": {
        "id": "AWC2zi8Npq9u"
      }
    },
    {
      "cell_type": "code",
      "source": [
        "N = int(input())\n",
        "\n",
        "for i in range(1, N + 1):\n",
        "    print(\" \" * (N - i) + \"*\" * i)"
      ],
      "metadata": {
        "colab": {
          "base_uri": "https://localhost:8080/"
        },
        "id": "G7ouNPozpswh",
        "outputId": "a9b1962e-1634-42aa-a397-2bcf0056c0c9"
      },
      "execution_count": null,
      "outputs": [
        {
          "output_type": "stream",
          "name": "stdout",
          "text": [
            "5\n",
            "    *\n",
            "   **\n",
            "  ***\n",
            " ****\n",
            "*****\n"
          ]
        }
      ]
    },
    {
      "cell_type": "markdown",
      "source": [
        "10952"
      ],
      "metadata": {
        "id": "D8BLkDM5qOoG"
      }
    },
    {
      "cell_type": "code",
      "source": [
        "while True:\n",
        "  try:\n",
        "    A, B = map(int, input().split())\n",
        "    print(A + B)\n",
        "  except:\n",
        "    break"
      ],
      "metadata": {
        "colab": {
          "base_uri": "https://localhost:8080/"
        },
        "id": "hog1f9yeqQE_",
        "outputId": "a206fa7e-5484-4b43-fbdc-7573f75b0530"
      },
      "execution_count": null,
      "outputs": [
        {
          "name": "stdout",
          "output_type": "stream",
          "text": [
            "1 1\n",
            "2\n",
            "2 3\n",
            "5\n",
            "3 4\n",
            "7\n",
            "9 8\n",
            "17\n",
            "5 2\n",
            "7\n",
            "\n"
          ]
        }
      ]
    },
    {
      "cell_type": "markdown",
      "source": [
        "#12/26"
      ],
      "metadata": {
        "id": "sZTG1Z5cWSZ7"
      }
    },
    {
      "cell_type": "markdown",
      "source": [
        "10807"
      ],
      "metadata": {
        "id": "kYRGLEcQWUgl"
      }
    },
    {
      "cell_type": "code",
      "source": [
        "N = int(input())\n",
        "A = list(map(int, input().split()))\n",
        "v = int(input())\n",
        "\n",
        "print(A.count(v))"
      ],
      "metadata": {
        "colab": {
          "base_uri": "https://localhost:8080/"
        },
        "id": "OXSsP0dvWedD",
        "outputId": "49c49dff-220e-4c18-c209-80587275f65c"
      },
      "execution_count": 3,
      "outputs": [
        {
          "output_type": "stream",
          "name": "stdout",
          "text": [
            "11\n",
            "1 4 1 2 4 2 4 2 3 4 4\n",
            "5\n",
            "0\n"
          ]
        }
      ]
    },
    {
      "cell_type": "markdown",
      "source": [
        "10871"
      ],
      "metadata": {
        "id": "kXIgtuu7a6pI"
      }
    },
    {
      "cell_type": "code",
      "source": [
        "N, X = map(int, input().split())\n",
        "A = list(map(int, input().split()))\n",
        "\n",
        "for i in range(N):\n",
        "    if A[i] < X:\n",
        "        print(A[i], end=\" \")"
      ],
      "metadata": {
        "colab": {
          "base_uri": "https://localhost:8080/"
        },
        "id": "EyVgLhaga-Vf",
        "outputId": "c2023c7b-97c5-42b5-febc-2ef9330f52cf"
      },
      "execution_count": 4,
      "outputs": [
        {
          "output_type": "stream",
          "name": "stdout",
          "text": [
            "10 5\n",
            "1 10 4 9 2 3 8 5 7 6\n",
            "1 4 2 3 "
          ]
        }
      ]
    },
    {
      "cell_type": "markdown",
      "source": [
        "10818"
      ],
      "metadata": {
        "id": "IcZlwn19blPX"
      }
    },
    {
      "cell_type": "code",
      "source": [
        "N = map(int, input())\n",
        "A = list(map(int, input().split()))\n",
        "\n",
        "print(min(A), max(A))"
      ],
      "metadata": {
        "colab": {
          "base_uri": "https://localhost:8080/"
        },
        "id": "L9VG7fgqbmiz",
        "outputId": "ccdef010-3372-481a-fb42-0dbcf3882e76"
      },
      "execution_count": 5,
      "outputs": [
        {
          "output_type": "stream",
          "name": "stdout",
          "text": [
            "5\n",
            "20 10 35  30 7\n",
            "7 35\n"
          ]
        }
      ]
    },
    {
      "cell_type": "markdown",
      "source": [
        "2562"
      ],
      "metadata": {
        "id": "lylg8A5icKMd"
      }
    },
    {
      "cell_type": "code",
      "source": [
        "for (i, n) in enumerate(range(9)):\n",
        "    n = int(input())\n",
        "    if i == 0:\n",
        "        max = n\n",
        "        max_index = 1\n",
        "    elif n > max:\n",
        "        max = n\n",
        "        max_index = i + 1\n",
        "\n",
        "print(max)\n",
        "print(max_index)"
      ],
      "metadata": {
        "colab": {
          "base_uri": "https://localhost:8080/"
        },
        "id": "T7yEUwBCcLjP",
        "outputId": "0d16247d-f1cf-4546-e502-6fd25bd63bc9"
      },
      "execution_count": 8,
      "outputs": [
        {
          "output_type": "stream",
          "name": "stdout",
          "text": [
            "3\n",
            "29\n",
            "38\n",
            "12\n",
            "57\n",
            "74\n",
            "40\n",
            "85\n",
            "61\n",
            "85\n",
            "8\n"
          ]
        }
      ]
    },
    {
      "cell_type": "markdown",
      "source": [
        "10810"
      ],
      "metadata": {
        "id": "gZczwSmXdzUI"
      }
    },
    {
      "cell_type": "code",
      "source": [
        "N, M = map(int, input().split())\n",
        "A = [0] * N\n",
        "\n",
        "for _ in range(M):\n",
        "    i, j, k = map(int, input().split())\n",
        "    for n in range(i - 1, j):\n",
        "        A[n] = k\n",
        "\n",
        "for a in A:\n",
        "    print(a, end=\" \")"
      ],
      "metadata": {
        "colab": {
          "base_uri": "https://localhost:8080/"
        },
        "id": "ZZmbIeaMd1Ig",
        "outputId": "6bce70ad-0bb5-470b-9345-c2a656f9859d"
      },
      "execution_count": 11,
      "outputs": [
        {
          "output_type": "stream",
          "name": "stdout",
          "text": [
            "5 4\n",
            "1 2 3\n",
            "3 4 4\n",
            "1 4 1\n",
            "2 2 2\n",
            "1 2 1 1 0 "
          ]
        }
      ]
    },
    {
      "cell_type": "markdown",
      "source": [
        "10813"
      ],
      "metadata": {
        "id": "e6cUothReysJ"
      }
    },
    {
      "cell_type": "code",
      "source": [
        "N, M = map(int, input().split())\n",
        "A = list(range(1, N + 1))\n",
        "\n",
        "for _ in range(M):\n",
        "    i, j = map(int, input().split())\n",
        "    A[i - 1], A[j - 1] = A[j - 1], A[i - 1]\n",
        "\n",
        "for a in A:\n",
        "    print(a, end=\" \")"
      ],
      "metadata": {
        "colab": {
          "base_uri": "https://localhost:8080/"
        },
        "id": "x2yZqEhhez6F",
        "outputId": "d6745831-9155-4825-c7cf-09a97ae458e1"
      },
      "execution_count": 13,
      "outputs": [
        {
          "output_type": "stream",
          "name": "stdout",
          "text": [
            "5 4\n",
            "1 2\n",
            "3 4\n",
            "1 4\n",
            "2 2\n",
            "3 1 4 2 5 "
          ]
        }
      ]
    },
    {
      "cell_type": "markdown",
      "source": [
        "5597"
      ],
      "metadata": {
        "id": "AlVabh5FgVse"
      }
    },
    {
      "cell_type": "code",
      "source": [
        "all_students = set(range(1, 31))\n",
        "submitted_students = {int(input()) for _ in range(28)}\n",
        "missing_students = sorted(all_students - submitted_students)\n",
        "\n",
        "print(missing_students[0])\n",
        "print(missing_students[1])"
      ],
      "metadata": {
        "colab": {
          "base_uri": "https://localhost:8080/"
        },
        "id": "TD3lntTtgXjT",
        "outputId": "c730a75c-6399-49e7-88f6-18247ee1eff5"
      },
      "execution_count": 19,
      "outputs": [
        {
          "output_type": "stream",
          "name": "stdout",
          "text": [
            "3\n",
            "1\n",
            "4\n",
            "5\n",
            "7\n",
            "9\n",
            "6\n",
            "10\n",
            "11\n",
            "12\n",
            "13\n",
            "14\n",
            "15\n",
            "16\n",
            "17\n",
            "18\n",
            "19\n",
            "20\n",
            "21\n",
            "22\n",
            "23\n",
            "24\n",
            "25\n",
            "26\n",
            "27\n",
            "28\n",
            "29\n",
            "30\n",
            "2\n",
            "8\n"
          ]
        }
      ]
    },
    {
      "cell_type": "markdown",
      "source": [
        "3052"
      ],
      "metadata": {
        "id": "5boCLE8Wi1YC"
      }
    },
    {
      "cell_type": "code",
      "source": [
        "remainders = set()\n",
        "\n",
        "for _ in range(10):\n",
        "    number = int(input())\n",
        "    remainders.add(number % 42)\n",
        "\n",
        "print(len(remainders))"
      ],
      "metadata": {
        "colab": {
          "base_uri": "https://localhost:8080/"
        },
        "id": "N1IXbfEli3Vc",
        "outputId": "bd508eda-98cc-4484-c48b-9d92cbc11a08"
      },
      "execution_count": 23,
      "outputs": [
        {
          "output_type": "stream",
          "name": "stdout",
          "text": [
            "39\n",
            "40\n",
            "41\n",
            "42\n",
            "43\n",
            "44\n",
            "82\n",
            "83\n",
            "84\n",
            "85\n",
            "6\n"
          ]
        }
      ]
    },
    {
      "cell_type": "markdown",
      "source": [
        "10811"
      ],
      "metadata": {
        "id": "l51CMh7gk6yV"
      }
    },
    {
      "cell_type": "code",
      "source": [
        "N, M = map(int, input().split())\n",
        "A = list(range(1, N + 1))\n",
        "\n",
        "for _ in range(M):\n",
        "    i, j = map(int, input().split())\n",
        "    A[i - 1:j] = reversed(A[i - 1:j])\n",
        "\n",
        "for a in A:\n",
        "    print(a, end=\" \")"
      ],
      "metadata": {
        "colab": {
          "base_uri": "https://localhost:8080/"
        },
        "id": "T7ZFxoUrk76H",
        "outputId": "97c2457f-4bc8-401a-a1ba-8f5613b67db0"
      },
      "execution_count": 24,
      "outputs": [
        {
          "output_type": "stream",
          "name": "stdout",
          "text": [
            "5 4\n",
            "1 2\n",
            "3 4\n",
            "1 4\n",
            "2 2\n",
            "3 4 1 2 5 "
          ]
        }
      ]
    },
    {
      "cell_type": "markdown",
      "source": [
        "1546"
      ],
      "metadata": {
        "id": "PcGCUEjJlY33"
      }
    },
    {
      "cell_type": "code",
      "source": [
        "N = int(input())\n",
        "scores = list(map(int, input().split()))\n",
        "\n",
        "best_score = max(scores)\n",
        "\n",
        "new_scores = [score / best_score * 100 for score in scores]\n",
        "\n",
        "average = sum(new_scores) / N\n",
        "\n",
        "print(average)"
      ],
      "metadata": {
        "colab": {
          "base_uri": "https://localhost:8080/"
        },
        "id": "oXVaDfeDlwDh",
        "outputId": "885315b3-d830-438b-b7bc-bc7478b9debb"
      },
      "execution_count": 1,
      "outputs": [
        {
          "output_type": "stream",
          "name": "stdout",
          "text": [
            "9\n",
            "10 20 30 40 50 60 70 80 90\n",
            "55.55555555555556\n"
          ]
        }
      ]
    }
  ]
}
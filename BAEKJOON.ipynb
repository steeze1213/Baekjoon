{
  "nbformat": 4,
  "nbformat_minor": 0,
  "metadata": {
    "colab": {
      "provenance": [],
      "collapsed_sections": [
        "_oXJuJXA5b4c",
        "5PjZLqCI5exu",
        "NbFejWmKkCi7",
        "sZTG1Z5cWSZ7",
        "4uTlZq7WR-xQ",
        "Gm9v596-j1-5",
        "KYmjuBPYPbk5",
        "ULRQJv9o0w0d",
        "tjcAW8an7wg1",
        "4KrXrz-ShJlU",
        "wKR4JNn98gf6",
        "lEHTyHZlaWoG",
        "roehsjX6opWN",
        "ks4fTsta0r33",
        "X14uOfejO53y",
        "7A3DqitAmr5s",
        "qWWNXP9ZyRBd",
        "tcuXZvEi-Hft",
        "Cbi-7nT3F-ns",
        "RqoEgyWR3bP5",
        "i0bxVIGnycB8",
        "WFr_0BMsieGu",
        "l1bxYck4oS6k",
        "XbyZTHgBuLF_",
        "O9cHFdJnAU-3",
        "1hZRUb5__cXr",
        "j88P6gtkyDTC",
        "bxK3oCd6kvyy",
        "_cjXRHH0SoMu",
        "b1hH_F1OqqpN",
        "SiQahXPmqDXW",
        "gP3HJLT67jEk",
        "3WLudVOIEsNg",
        "BizYlglUW45t",
        "96iNVjsk-foA",
        "AZz2viRFif0d",
        "kyJ3pNpAuDLQ",
        "Pke_zzR_wvaV",
        "xUt9dTpJx1-F",
        "-bTENNd_FG75",
        "SAaosD6DJQ_s",
        "ijPuVwRxQtKW",
        "xefaC7jxWtS_",
        "VwzLCIqKfAKi",
        "Jax1WF39uoqP",
        "SSwVPptzzAB8",
        "mUytq6ZDG89t",
        "r18DmZktX3fB",
        "Umv-M9HcYXFX",
        "xk9UtD2VkiTU",
        "AG1W9G-4dyms",
        "4RwZlvLdkEVs",
        "I4iS-1B8O8wW",
        "1kb8NbmPTuVQ",
        "aht5DYUPei6Q",
        "Lan0fZZphh1x",
        "uDvVuFFyrvCA",
        "d9NWspe62uw8",
        "nXB4se31FA7m",
        "ParhapIvUxtm",
        "hE8l5KGcctiK",
        "psUgqQTBungD",
        "x2tKZ4iovkRi",
        "gsybb43Ny892",
        "t1e__gaFuK35",
        "pZ_oZBIVMHzL",
        "0ldtJf3Fnzi3",
        "pKucIxfv_xPI",
        "E89ka-crJio_",
        "K7EqzyEy4MsQ",
        "DePqfI0U77NL",
        "CGcUhqrmR63y",
        "4tP7ON8ieE9v",
        "kmU-_90SV7gS",
        "DxfA5ZUrXfA-",
        "aYazd9taxLmH",
        "l4mgGhl42sB6",
        "3fIQvxZo0JKp",
        "D-Pczk59v5_e",
        "BZRDI23vme3s",
        "9IXq6MA1TxCe",
        "VX9MZO_SgMzI",
        "Be1gpwO74R1u",
        "CvkPnOplgtCl",
        "VP3WCZY0yx_c",
        "BEbXdjh1gQJH",
        "fnCqLyNDrP2c",
        "Cr5Vc6T7asNy",
        "aXuCdi9ZnUUb",
        "q0--kTTs4hEl",
        "IE2yVKiB5AEj",
        "dUwrJI_P-a1a",
        "ClpD0XFKcrA_",
        "ZlCX9-Xje4W0",
        "-LV_EdU8VEjY",
        "nCdoDYDk3o0Z",
        "mP725sey0_q3",
        "2PnlERYkCB1V",
        "uyNUnTJFBPny",
        "rwkMkWMJZq-6",
        "bxAyUjXEJkkS",
        "eZ6z2NMRZvzM",
        "iTTwpaenavPK",
        "-WPRM61f4ngL",
        "5NFzQLw7UJSq",
        "HubVFQGIMu8O",
        "3w-GQEKQk0fw"
      ],
      "authorship_tag": "ABX9TyM/s5KY/KiVC7qhAgbKgWwL",
      "include_colab_link": true
    },
    "kernelspec": {
      "name": "python3",
      "display_name": "Python 3"
    },
    "language_info": {
      "name": "python"
    }
  },
  "cells": [
    {
      "cell_type": "markdown",
      "metadata": {
        "id": "view-in-github",
        "colab_type": "text"
      },
      "source": [
        "<a href=\"https://colab.research.google.com/github/steeze1213/Baekjoon/blob/main/BAEKJOON.ipynb\" target=\"_parent\"><img src=\"https://colab.research.google.com/assets/colab-badge.svg\" alt=\"Open In Colab\"/></a>"
      ]
    },
    {
      "cell_type": "markdown",
      "source": [
        "#12/23"
      ],
      "metadata": {
        "id": "_oXJuJXA5b4c"
      }
    },
    {
      "cell_type": "markdown",
      "source": [
        "###1-2557"
      ],
      "metadata": {
        "id": "j0T4OLa6KLfg"
      }
    },
    {
      "cell_type": "code",
      "execution_count": null,
      "metadata": {
        "colab": {
          "base_uri": "https://localhost:8080/"
        },
        "id": "LxQXuQi68sy6",
        "outputId": "8e5f9f7f-33d7-4051-d783-7c378aff53a4"
      },
      "outputs": [
        {
          "output_type": "stream",
          "name": "stdout",
          "text": [
            "Hello Wolrd!\n"
          ]
        }
      ],
      "source": [
        "print(\"Hello Wolrd!\")"
      ]
    },
    {
      "cell_type": "markdown",
      "source": [
        "###2-1000"
      ],
      "metadata": {
        "id": "LwrXac1PKOAF"
      }
    },
    {
      "cell_type": "code",
      "source": [
        "a, b = map(int, input().split())\n",
        "print(a+b)"
      ],
      "metadata": {
        "colab": {
          "base_uri": "https://localhost:8080/"
        },
        "id": "Xhxq6IhN9L4L",
        "outputId": "9a869122-8c0a-4f7a-b47c-4c56ce41f01c"
      },
      "execution_count": null,
      "outputs": [
        {
          "output_type": "stream",
          "name": "stdout",
          "text": [
            "1 2\n",
            "3\n"
          ]
        }
      ]
    },
    {
      "cell_type": "markdown",
      "source": [
        "###3-1001"
      ],
      "metadata": {
        "id": "89HL-9vOKP1J"
      }
    },
    {
      "cell_type": "code",
      "source": [
        "a, b = map(int, input().split())\n",
        "print(a-b)"
      ],
      "metadata": {
        "colab": {
          "base_uri": "https://localhost:8080/"
        },
        "id": "ZFVUNjL8-NTG",
        "outputId": "c8901e6e-90e4-41be-a9ee-ab348ec88c89"
      },
      "execution_count": null,
      "outputs": [
        {
          "output_type": "stream",
          "name": "stdout",
          "text": [
            "1 2\n",
            "-1\n"
          ]
        }
      ]
    },
    {
      "cell_type": "markdown",
      "source": [
        "###4-10998"
      ],
      "metadata": {
        "id": "dLMnEaLsKRNo"
      }
    },
    {
      "cell_type": "code",
      "source": [
        "a, b = map(int, input().split())\n",
        "print(a*b)"
      ],
      "metadata": {
        "colab": {
          "base_uri": "https://localhost:8080/"
        },
        "id": "2GrJuoB9-nX3",
        "outputId": "68034206-459c-47d7-bbd8-fdfb22325a1c"
      },
      "execution_count": null,
      "outputs": [
        {
          "output_type": "stream",
          "name": "stdout",
          "text": [
            "1 2\n",
            "2\n"
          ]
        }
      ]
    },
    {
      "cell_type": "markdown",
      "source": [
        "###5-1008"
      ],
      "metadata": {
        "id": "zUnCKsvMKUmZ"
      }
    },
    {
      "cell_type": "code",
      "source": [
        "a, b = map(int, input().split())\n",
        "print(a/b)"
      ],
      "metadata": {
        "colab": {
          "base_uri": "https://localhost:8080/"
        },
        "id": "-NdtPeef_cPd",
        "outputId": "c1c69917-2e26-4edd-e587-5f5b1482de83"
      },
      "execution_count": null,
      "outputs": [
        {
          "output_type": "stream",
          "name": "stdout",
          "text": [
            "1 2\n",
            "0.5\n"
          ]
        }
      ]
    },
    {
      "cell_type": "markdown",
      "source": [
        "###6-10869"
      ],
      "metadata": {
        "id": "93dD_dokKW5f"
      }
    },
    {
      "cell_type": "code",
      "source": [
        "a, b = map(int, input().split())\n",
        "print(a+b)\n",
        "print(a-b)\n",
        "print(a*b)\n",
        "print(a//b)\n",
        "print(a%b)"
      ],
      "metadata": {
        "colab": {
          "base_uri": "https://localhost:8080/"
        },
        "id": "IaoqnaRJ_sjf",
        "outputId": "faca9aaf-91e4-4850-d708-60a889a56314"
      },
      "execution_count": null,
      "outputs": [
        {
          "output_type": "stream",
          "name": "stdout",
          "text": [
            "7 3\n",
            "10\n",
            "4\n",
            "21\n",
            "2\n",
            "1\n"
          ]
        }
      ]
    },
    {
      "cell_type": "markdown",
      "source": [
        "###7-10926"
      ],
      "metadata": {
        "id": "kMeThCjvKZUh"
      }
    },
    {
      "cell_type": "code",
      "source": [
        "a=input()\n",
        "print(a+'??!')"
      ],
      "metadata": {
        "colab": {
          "base_uri": "https://localhost:8080/"
        },
        "id": "Ujbdbh8uA_fa",
        "outputId": "3e507663-5bee-4c0e-c589-ad99185ac1d0"
      },
      "execution_count": null,
      "outputs": [
        {
          "output_type": "stream",
          "name": "stdout",
          "text": [
            "baekjoon\n",
            "baekjoon??!\n"
          ]
        }
      ]
    },
    {
      "cell_type": "markdown",
      "source": [
        "###8-18108"
      ],
      "metadata": {
        "id": "-xjm178EKbnS"
      }
    },
    {
      "cell_type": "code",
      "source": [
        "2541 - 1998"
      ],
      "metadata": {
        "colab": {
          "base_uri": "https://localhost:8080/"
        },
        "id": "q7SxpjN9CLtT",
        "outputId": "c632a0f8-dc94-406d-b748-bfc55d71c32a"
      },
      "execution_count": null,
      "outputs": [
        {
          "output_type": "execute_result",
          "data": {
            "text/plain": [
              "543"
            ]
          },
          "metadata": {},
          "execution_count": 14
        }
      ]
    },
    {
      "cell_type": "code",
      "source": [
        "a=int(input())\n",
        "print(a-543)"
      ],
      "metadata": {
        "colab": {
          "base_uri": "https://localhost:8080/"
        },
        "id": "vfo9WkM0B3U7",
        "outputId": "eac0b8e4-a58d-4f6c-d134-a2c059254e68"
      },
      "execution_count": null,
      "outputs": [
        {
          "output_type": "stream",
          "name": "stdout",
          "text": [
            "2541\n",
            "1998\n"
          ]
        }
      ]
    },
    {
      "cell_type": "markdown",
      "source": [
        "###9-10430"
      ],
      "metadata": {
        "id": "rSBMSYtGKhWc"
      }
    },
    {
      "cell_type": "code",
      "source": [
        "a, b, c = map(int, input().split())\n",
        "print((a+b)%c)\n",
        "print(((a%c)+(b%c))%c)\n",
        "print((a*b)%c)\n",
        "print(((a%c)*(b%c))%c)"
      ],
      "metadata": {
        "colab": {
          "base_uri": "https://localhost:8080/"
        },
        "id": "a70Zpc43HIE9",
        "outputId": "c4e15e1b-1e2a-4cd4-ce2f-51eb4f50cfc7"
      },
      "execution_count": null,
      "outputs": [
        {
          "output_type": "stream",
          "name": "stdout",
          "text": [
            "5 8 4\n",
            "1\n",
            "1\n",
            "0\n",
            "0\n"
          ]
        }
      ]
    },
    {
      "cell_type": "markdown",
      "source": [
        "###10-2588"
      ],
      "metadata": {
        "id": "3-BO2DB4KkXq"
      }
    },
    {
      "cell_type": "code",
      "source": [
        "a = int(input())\n",
        "b = input()\n",
        "\n",
        "for i in range(len(b)-1, -1, -1):\n",
        "    result=a * int(b[i])\n",
        "    print(result)\n",
        "\n",
        "final_result=a * int(b)\n",
        "print(final_result)"
      ],
      "metadata": {
        "colab": {
          "base_uri": "https://localhost:8080/"
        },
        "id": "jmh3UARkI5BP",
        "outputId": "97cc547b-7894-4f85-bd00-6d602946aa07"
      },
      "execution_count": null,
      "outputs": [
        {
          "output_type": "stream",
          "name": "stdout",
          "text": [
            "472\n",
            "385\n",
            "2360\n",
            "3776\n",
            "1416\n",
            "181720\n"
          ]
        }
      ]
    },
    {
      "cell_type": "markdown",
      "source": [
        "#12/24"
      ],
      "metadata": {
        "id": "5PjZLqCI5exu"
      }
    },
    {
      "cell_type": "markdown",
      "source": [
        "###1-11382"
      ],
      "metadata": {
        "id": "sQCjM6SY5Yw2"
      }
    },
    {
      "cell_type": "code",
      "source": [
        "a, b, c = map(int, input().split())\n",
        "print(a+b+c)"
      ],
      "metadata": {
        "colab": {
          "base_uri": "https://localhost:8080/"
        },
        "id": "sPLiA36D5FE1",
        "outputId": "9000a128-1daf-4195-b56a-6443255090ac"
      },
      "execution_count": null,
      "outputs": [
        {
          "output_type": "stream",
          "name": "stdout",
          "text": [
            "77 77 7777\n",
            "7931\n"
          ]
        }
      ]
    },
    {
      "cell_type": "markdown",
      "source": [
        "###2-10171"
      ],
      "metadata": {
        "id": "e4eZkJMY5ntd"
      }
    },
    {
      "cell_type": "code",
      "source": [
        "print(\"\\\\    /\\\\\")\n",
        "print(\" )  ( ')\")\n",
        "print(\"(  /  )\")\n",
        "print(\" \\\\(__)|\")"
      ],
      "metadata": {
        "colab": {
          "base_uri": "https://localhost:8080/"
        },
        "id": "RTpMrA7a5w7R",
        "outputId": "91a0b1fb-2b37-49f9-c424-eb512ed70871"
      },
      "execution_count": null,
      "outputs": [
        {
          "output_type": "stream",
          "name": "stdout",
          "text": [
            "\\    /\\\n",
            " )  ( ')\n",
            "(  /  )\n",
            " \\(__)|\n"
          ]
        }
      ]
    },
    {
      "cell_type": "markdown",
      "source": [
        "###3-10172"
      ],
      "metadata": {
        "id": "AUGRRLhv6BvP"
      }
    },
    {
      "cell_type": "code",
      "source": [
        "print(\"|\\_/|\")\n",
        "print(\"|q p|   /}\")\n",
        "print(\"( 0 )\\\"\\\"\\\"\\\\\")\n",
        "print(\"|\\\"^\\\"`    |\")\n",
        "print(\"||_/=\\\\\\__|\")"
      ],
      "metadata": {
        "colab": {
          "base_uri": "https://localhost:8080/"
        },
        "id": "F0wq3BL56C9d",
        "outputId": "6ee8e070-ad07-4d4e-a9f8-9fddd261e18b"
      },
      "execution_count": null,
      "outputs": [
        {
          "output_type": "stream",
          "name": "stdout",
          "text": [
            "|\\_/|\n",
            "|q p|   /}\n",
            "( 0 )\"\"\"\\\n",
            "|\"^\"`    |\n",
            "||_/=\\\\__|\n"
          ]
        }
      ]
    },
    {
      "cell_type": "markdown",
      "source": [
        "###4-1330"
      ],
      "metadata": {
        "id": "q1wDS2j96cJJ"
      }
    },
    {
      "cell_type": "code",
      "source": [
        "a, b = map(int, input().split())\n",
        "\n",
        "if a > b:\n",
        "    print(\">\")\n",
        "elif a < b:\n",
        "    print(\"<\")\n",
        "else:\n",
        "    print(\"==\")"
      ],
      "metadata": {
        "colab": {
          "base_uri": "https://localhost:8080/"
        },
        "id": "0A38Vbfd6elV",
        "outputId": "2de5c514-1cf0-43bf-96f5-876806df6e61"
      },
      "execution_count": null,
      "outputs": [
        {
          "output_type": "stream",
          "name": "stdout",
          "text": [
            "1 2\n",
            "<\n"
          ]
        }
      ]
    },
    {
      "cell_type": "markdown",
      "source": [
        "###5-9498"
      ],
      "metadata": {
        "id": "Hfuob9rz6eDA"
      }
    },
    {
      "cell_type": "code",
      "source": [
        "score = int(input())\n",
        "\n",
        "if 90 <= score <= 100:\n",
        "    print(\"A\")\n",
        "elif 80 <= score <= 89:\n",
        "    print(\"B\")\n",
        "elif 70 <= score <= 79:\n",
        "    print(\"C\")\n",
        "elif 60 <= score <= 69:\n",
        "    print(\"D\")\n",
        "else:\n",
        "    print(\"F\")"
      ],
      "metadata": {
        "colab": {
          "base_uri": "https://localhost:8080/"
        },
        "id": "3NXfxjkt8Ga7",
        "outputId": "e61693cd-c8b8-4f50-f7e8-eca289e9d8ce"
      },
      "execution_count": null,
      "outputs": [
        {
          "output_type": "stream",
          "name": "stdout",
          "text": [
            "100\n",
            "A\n"
          ]
        }
      ]
    },
    {
      "cell_type": "markdown",
      "source": [
        "###6-2753"
      ],
      "metadata": {
        "id": "PINECQpD8p96"
      }
    },
    {
      "cell_type": "code",
      "source": [
        "year = int(input())\n",
        "\n",
        "if (year % 4) == 0 and (year % 100) != 0 or (year % 400) == 0:\n",
        "    print(\"1\")\n",
        "else:\n",
        "    print(\"0\")"
      ],
      "metadata": {
        "colab": {
          "base_uri": "https://localhost:8080/"
        },
        "id": "cPHWwpPi8rzD",
        "outputId": "c76c2d2f-edd4-4fa0-cd51-2798ecfe57a7"
      },
      "execution_count": null,
      "outputs": [
        {
          "output_type": "stream",
          "name": "stdout",
          "text": [
            "1999\n",
            "0\n"
          ]
        }
      ]
    },
    {
      "cell_type": "markdown",
      "source": [
        "###7-14681"
      ],
      "metadata": {
        "id": "gP4VI-vL-oma"
      }
    },
    {
      "cell_type": "code",
      "source": [
        "x = int(input())\n",
        "y = int(input())\n",
        "\n",
        "if 0 < x and 0 < y:\n",
        "    print(\"1\")\n",
        "elif 0 > x and 0 < y:\n",
        "    print(\"2\")\n",
        "elif x < 0 and y < 0:\n",
        "    print(\"3\")\n",
        "elif 0 < x and 0 > y:\n",
        "    print(\"4\")"
      ],
      "metadata": {
        "colab": {
          "base_uri": "https://localhost:8080/"
        },
        "id": "S5rOFa0i-rDX",
        "outputId": "b32226d4-c18c-4904-d047-8f5127e3526c"
      },
      "execution_count": null,
      "outputs": [
        {
          "output_type": "stream",
          "name": "stdout",
          "text": [
            "9\n",
            "-13\n",
            "4\n"
          ]
        }
      ]
    },
    {
      "cell_type": "markdown",
      "source": [
        "###8-2884"
      ],
      "metadata": {
        "id": "qqxxVk0tAk2z"
      }
    },
    {
      "cell_type": "code",
      "source": [
        "H, M = map(int, input().split())\n",
        "\n",
        "if M >= 45:\n",
        "    M -= 45\n",
        "else:\n",
        "    M += 15\n",
        "    if H == 0:\n",
        "        H = 23\n",
        "    else:\n",
        "        H -= 1\n",
        "\n",
        "print(H, M)"
      ],
      "metadata": {
        "colab": {
          "base_uri": "https://localhost:8080/"
        },
        "id": "7iqFqV7JAmTE",
        "outputId": "c1861a7d-0e33-4033-b273-fb5e6780d00d"
      },
      "execution_count": null,
      "outputs": [
        {
          "output_type": "stream",
          "name": "stdout",
          "text": [
            "10 10\n",
            "9 25\n"
          ]
        }
      ]
    },
    {
      "cell_type": "markdown",
      "source": [
        "###9-2525"
      ],
      "metadata": {
        "id": "s73AX1nAB6bj"
      }
    },
    {
      "cell_type": "code",
      "source": [
        "H, M = map(int, input().split())\n",
        "CT = int(input())\n",
        "\n",
        "TT = H * 60 + M + CT\n",
        "\n",
        "H = (TT // 60) % 24\n",
        "M = TT % 60\n",
        "\n",
        "print(H, M)"
      ],
      "metadata": {
        "colab": {
          "base_uri": "https://localhost:8080/"
        },
        "id": "S1PsovmTB775",
        "outputId": "46258a6c-6a48-4189-cb09-8cc3d0d6bdb7"
      },
      "execution_count": null,
      "outputs": [
        {
          "output_type": "stream",
          "name": "stdout",
          "text": [
            "17 40\n",
            "80\n",
            "19 0\n"
          ]
        }
      ]
    },
    {
      "cell_type": "markdown",
      "source": [
        "###10-2480"
      ],
      "metadata": {
        "id": "3hYOmoKpDXXl"
      }
    },
    {
      "cell_type": "code",
      "source": [
        "a, b, c = map(int, input().split())\n",
        "\n",
        "if a == b == c:\n",
        "    print(10000 + a * 1000)\n",
        "elif a == b or a == c:\n",
        "    print(1000 + a * 100)\n",
        "elif b == c:\n",
        "    print(1000 + b * 100)\n",
        "else:\n",
        "    print(max(a, b, c) * 100)"
      ],
      "metadata": {
        "colab": {
          "base_uri": "https://localhost:8080/"
        },
        "id": "2UMlPUJFDZtA",
        "outputId": "af3546c1-99d6-471c-ac9f-1e134d368403"
      },
      "execution_count": null,
      "outputs": [
        {
          "output_type": "stream",
          "name": "stdout",
          "text": [
            "6 2 5\n",
            "600\n"
          ]
        }
      ]
    },
    {
      "cell_type": "markdown",
      "source": [
        "###11-2739"
      ],
      "metadata": {
        "id": "1NyEz3T0FI4W"
      }
    },
    {
      "cell_type": "code",
      "source": [
        "N = int(input())\n",
        "\n",
        "for i in range(1, 10):\n",
        "    print(N, \"*\", i, \"=\", N * i)"
      ],
      "metadata": {
        "colab": {
          "base_uri": "https://localhost:8080/"
        },
        "id": "nGr1QjRbFKYR",
        "outputId": "b8281519-7bde-4c4e-8981-40b612cbf29e"
      },
      "execution_count": null,
      "outputs": [
        {
          "output_type": "stream",
          "name": "stdout",
          "text": [
            "2\n",
            "2 * 1 = 2\n",
            "2 * 2 = 4\n",
            "2 * 3 = 6\n",
            "2 * 4 = 8\n",
            "2 * 5 = 10\n",
            "2 * 6 = 12\n",
            "2 * 7 = 14\n",
            "2 * 8 = 16\n",
            "2 * 9 = 18\n"
          ]
        }
      ]
    },
    {
      "cell_type": "markdown",
      "source": [
        "###12-10950"
      ],
      "metadata": {
        "id": "i9wFIFBaJCbG"
      }
    },
    {
      "cell_type": "code",
      "source": [
        "T = int(input())\n",
        "\n",
        "result = []\n",
        "\n",
        "for i in range(T):\n",
        "    A, B = map(int, input().split())\n",
        "    result.append(A + B)\n",
        "\n",
        "for result in result:\n",
        "    print(result)"
      ],
      "metadata": {
        "colab": {
          "base_uri": "https://localhost:8080/"
        },
        "id": "EZ_7Q4poJEN-",
        "outputId": "ee8af18b-3ee0-47ca-9bc7-ee0c74450bfa"
      },
      "execution_count": null,
      "outputs": [
        {
          "output_type": "stream",
          "name": "stdout",
          "text": [
            "5\n",
            "1 1\n",
            "2 3\n",
            "3 4\n",
            "9 8\n",
            "5 2\n",
            "2\n",
            "5\n",
            "7\n",
            "17\n",
            "7\n"
          ]
        }
      ]
    },
    {
      "cell_type": "markdown",
      "source": [
        "###13-8393"
      ],
      "metadata": {
        "id": "9PVBlbFDKtKQ"
      }
    },
    {
      "cell_type": "code",
      "source": [
        "n = int(input())\n",
        "result = 0\n",
        "\n",
        "for i in range(1, n + 1):\n",
        "    result += i\n",
        "\n",
        "print(result)"
      ],
      "metadata": {
        "colab": {
          "base_uri": "https://localhost:8080/"
        },
        "id": "g1lwyAwaKvVZ",
        "outputId": "bb8ef4e0-abf4-4843-c036-f44e455adb52"
      },
      "execution_count": null,
      "outputs": [
        {
          "output_type": "stream",
          "name": "stdout",
          "text": [
            "10\n",
            "55\n"
          ]
        }
      ]
    },
    {
      "cell_type": "markdown",
      "source": [
        "###14-25304"
      ],
      "metadata": {
        "id": "CZyle_NsL6cW"
      }
    },
    {
      "cell_type": "code",
      "source": [
        "X = int(input())\n",
        "N = int(input())\n",
        "\n",
        "result = 0\n",
        "\n",
        "for i in range(N):\n",
        "    a, b = map(int, input().split())\n",
        "    result += a * b\n",
        "if result == X:\n",
        "    print(\"Yes\")\n",
        "else:\n",
        "    print(\"No\")"
      ],
      "metadata": {
        "colab": {
          "base_uri": "https://localhost:8080/"
        },
        "id": "be0YLAsmL-zh",
        "outputId": "3bc91e0f-e80e-4338-9cf2-d9af48b6aa49"
      },
      "execution_count": null,
      "outputs": [
        {
          "output_type": "stream",
          "name": "stdout",
          "text": [
            "250000\n",
            "4\n",
            "20000 5\n",
            "30000 2\n",
            "10000 6\n",
            "5000 8\n",
            "No\n"
          ]
        }
      ]
    },
    {
      "cell_type": "markdown",
      "source": [
        "#12/25"
      ],
      "metadata": {
        "id": "NbFejWmKkCi7"
      }
    },
    {
      "cell_type": "markdown",
      "source": [
        "###1-25314"
      ],
      "metadata": {
        "id": "0FLeQtfLkERL"
      }
    },
    {
      "cell_type": "code",
      "source": [
        "N = int(input())\n",
        "\n",
        "result = N // 4\n",
        "\n",
        "for i in range(result):\n",
        "    print(\"long\", end=\" \")\n",
        "print(\"int\")"
      ],
      "metadata": {
        "colab": {
          "base_uri": "https://localhost:8080/"
        },
        "id": "kV2NAjpnkD-k",
        "outputId": "9b5661df-87ac-4cd4-ba38-2c26b7a28b6d"
      },
      "execution_count": null,
      "outputs": [
        {
          "output_type": "stream",
          "name": "stdout",
          "text": [
            "100\n",
            "long long long long long long long long long long long long long long long long long long long long long long long long long int\n"
          ]
        }
      ]
    },
    {
      "cell_type": "markdown",
      "source": [
        "###2-15552"
      ],
      "metadata": {
        "id": "y02n0CEjlbZS"
      }
    },
    {
      "cell_type": "code",
      "source": [
        "import sys\n",
        "\n",
        "T = int(sys.stdin.readline().rstrip())\n",
        "\n",
        "for _ in range(T):\n",
        "    A, B = map(int, sys.stdin.readline().split())\n",
        "    sys.stdout.write(f\"{A + B}\\n\")"
      ],
      "metadata": {
        "id": "TRBT5iou_RSO"
      },
      "execution_count": null,
      "outputs": []
    },
    {
      "cell_type": "markdown",
      "source": [
        "15552-2(Jupyter에선sys.stdin.readline() 지원X)"
      ],
      "metadata": {
        "id": "puOOs41An7vS"
      }
    },
    {
      "cell_type": "code",
      "source": [
        "import sys\n",
        "from io import StringIO\n",
        "\n",
        "# 테스트용 입력 데이터\n",
        "test_input = \"\"\"5\n",
        "1 1\n",
        "12 34\n",
        "5 500\n",
        "40 60\n",
        "1000 1000\n",
        "\"\"\"\n",
        "sys.stdin = StringIO(test_input)\n",
        "\n",
        "T = int(sys.stdin.readline().rstrip())\n",
        "for _ in range(T):\n",
        "    A, B = map(int, sys.stdin.readline().split())\n",
        "    print(A + B)"
      ],
      "metadata": {
        "colab": {
          "base_uri": "https://localhost:8080/"
        },
        "id": "yjjQnV37oNuK",
        "outputId": "bb8fe3ec-d0e6-4d43-fe65-8142a3048942"
      },
      "execution_count": null,
      "outputs": [
        {
          "output_type": "stream",
          "name": "stdout",
          "text": [
            "2\n",
            "46\n",
            "505\n",
            "100\n",
            "2000\n"
          ]
        }
      ]
    },
    {
      "cell_type": "markdown",
      "source": [
        "###3-11021"
      ],
      "metadata": {
        "id": "QdiEmotxoVwf"
      }
    },
    {
      "cell_type": "code",
      "source": [
        "import sys\n",
        "\n",
        "T = int(sys.stdin.readline().rstrip())\n",
        "\n",
        "for i in range(1, T + 1):\n",
        "    A, B = map(int, sys.stdin.readline().split())\n",
        "    print(f\"Case #{i}: {A + B}\")"
      ],
      "metadata": {
        "id": "3HV9MU_E_JKC"
      },
      "execution_count": null,
      "outputs": []
    },
    {
      "cell_type": "markdown",
      "source": [
        "###4-11022"
      ],
      "metadata": {
        "id": "WUhnPALkpD0x"
      }
    },
    {
      "cell_type": "code",
      "source": [
        "import sys\n",
        "\n",
        "T = int(sys.stdin.readline().rstrip())\n",
        "\n",
        "for i in range(1, T + 1):\n",
        "    A, B = map(int, sys.stdin.readline().split())\n",
        "    print(f\"Case #{i}: {A} + {B} = {A + B}\")"
      ],
      "metadata": {
        "id": "GYZlTNCgpDN2"
      },
      "execution_count": null,
      "outputs": []
    },
    {
      "cell_type": "markdown",
      "source": [
        "###5-2438"
      ],
      "metadata": {
        "id": "pihe8nb0pWcj"
      }
    },
    {
      "cell_type": "code",
      "source": [
        "N = int(input())\n",
        "\n",
        "for i in range(1, N + 1):\n",
        "    print(\"*\" * i)"
      ],
      "metadata": {
        "colab": {
          "base_uri": "https://localhost:8080/"
        },
        "id": "M3GX5jRapdNY",
        "outputId": "26ca9c93-265e-4b80-f893-e2ec8c6237ef"
      },
      "execution_count": null,
      "outputs": [
        {
          "output_type": "stream",
          "name": "stdout",
          "text": [
            "5\n",
            "*\n",
            "**\n",
            "***\n",
            "****\n",
            "*****\n"
          ]
        }
      ]
    },
    {
      "cell_type": "markdown",
      "source": [
        "###6-2439"
      ],
      "metadata": {
        "id": "AWC2zi8Npq9u"
      }
    },
    {
      "cell_type": "code",
      "source": [
        "N = int(input())\n",
        "\n",
        "for i in range(1, N + 1):\n",
        "    print(\" \" * (N - i) + \"*\" * i)"
      ],
      "metadata": {
        "colab": {
          "base_uri": "https://localhost:8080/"
        },
        "id": "G7ouNPozpswh",
        "outputId": "a9b1962e-1634-42aa-a397-2bcf0056c0c9"
      },
      "execution_count": null,
      "outputs": [
        {
          "output_type": "stream",
          "name": "stdout",
          "text": [
            "5\n",
            "    *\n",
            "   **\n",
            "  ***\n",
            " ****\n",
            "*****\n"
          ]
        }
      ]
    },
    {
      "cell_type": "markdown",
      "source": [
        "###7-10952"
      ],
      "metadata": {
        "id": "D8BLkDM5qOoG"
      }
    },
    {
      "cell_type": "code",
      "source": [
        "while True:\n",
        "  try:\n",
        "    A, B = map(int, input().split())\n",
        "    print(A + B)\n",
        "  except:\n",
        "    break"
      ],
      "metadata": {
        "colab": {
          "base_uri": "https://localhost:8080/"
        },
        "id": "hog1f9yeqQE_",
        "outputId": "a206fa7e-5484-4b43-fbdc-7573f75b0530"
      },
      "execution_count": null,
      "outputs": [
        {
          "name": "stdout",
          "output_type": "stream",
          "text": [
            "1 1\n",
            "2\n",
            "2 3\n",
            "5\n",
            "3 4\n",
            "7\n",
            "9 8\n",
            "17\n",
            "5 2\n",
            "7\n",
            "\n"
          ]
        }
      ]
    },
    {
      "cell_type": "markdown",
      "source": [
        "#12/26"
      ],
      "metadata": {
        "id": "sZTG1Z5cWSZ7"
      }
    },
    {
      "cell_type": "markdown",
      "source": [
        "###1-10807"
      ],
      "metadata": {
        "id": "kYRGLEcQWUgl"
      }
    },
    {
      "cell_type": "code",
      "source": [
        "N = int(input())\n",
        "A = list(map(int, input().split()))\n",
        "v = int(input())\n",
        "\n",
        "print(A.count(v))"
      ],
      "metadata": {
        "colab": {
          "base_uri": "https://localhost:8080/"
        },
        "id": "OXSsP0dvWedD",
        "outputId": "49c49dff-220e-4c18-c209-80587275f65c"
      },
      "execution_count": null,
      "outputs": [
        {
          "output_type": "stream",
          "name": "stdout",
          "text": [
            "11\n",
            "1 4 1 2 4 2 4 2 3 4 4\n",
            "5\n",
            "0\n"
          ]
        }
      ]
    },
    {
      "cell_type": "markdown",
      "source": [
        "###2-10871"
      ],
      "metadata": {
        "id": "kXIgtuu7a6pI"
      }
    },
    {
      "cell_type": "code",
      "source": [
        "N, X = map(int, input().split())\n",
        "A = list(map(int, input().split()))\n",
        "\n",
        "for i in range(N):\n",
        "    if A[i] < X:\n",
        "        print(A[i], end=\" \")"
      ],
      "metadata": {
        "colab": {
          "base_uri": "https://localhost:8080/"
        },
        "id": "EyVgLhaga-Vf",
        "outputId": "c2023c7b-97c5-42b5-febc-2ef9330f52cf"
      },
      "execution_count": null,
      "outputs": [
        {
          "output_type": "stream",
          "name": "stdout",
          "text": [
            "10 5\n",
            "1 10 4 9 2 3 8 5 7 6\n",
            "1 4 2 3 "
          ]
        }
      ]
    },
    {
      "cell_type": "markdown",
      "source": [
        "###3-10818"
      ],
      "metadata": {
        "id": "IcZlwn19blPX"
      }
    },
    {
      "cell_type": "code",
      "source": [
        "N = map(int, input())\n",
        "A = list(map(int, input().split()))\n",
        "\n",
        "print(min(A), max(A))"
      ],
      "metadata": {
        "colab": {
          "base_uri": "https://localhost:8080/"
        },
        "id": "L9VG7fgqbmiz",
        "outputId": "ccdef010-3372-481a-fb42-0dbcf3882e76"
      },
      "execution_count": null,
      "outputs": [
        {
          "output_type": "stream",
          "name": "stdout",
          "text": [
            "5\n",
            "20 10 35  30 7\n",
            "7 35\n"
          ]
        }
      ]
    },
    {
      "cell_type": "markdown",
      "source": [
        "###4-2562"
      ],
      "metadata": {
        "id": "lylg8A5icKMd"
      }
    },
    {
      "cell_type": "code",
      "source": [
        "for (i, n) in enumerate(range(9)):\n",
        "    n = int(input())\n",
        "    if i == 0:\n",
        "        max = n\n",
        "        max_index = 1\n",
        "    elif n > max:\n",
        "        max = n\n",
        "        max_index = i + 1\n",
        "\n",
        "print(max)\n",
        "print(max_index)"
      ],
      "metadata": {
        "colab": {
          "base_uri": "https://localhost:8080/"
        },
        "id": "T7yEUwBCcLjP",
        "outputId": "0d16247d-f1cf-4546-e502-6fd25bd63bc9"
      },
      "execution_count": null,
      "outputs": [
        {
          "output_type": "stream",
          "name": "stdout",
          "text": [
            "3\n",
            "29\n",
            "38\n",
            "12\n",
            "57\n",
            "74\n",
            "40\n",
            "85\n",
            "61\n",
            "85\n",
            "8\n"
          ]
        }
      ]
    },
    {
      "cell_type": "markdown",
      "source": [
        "###5-10810"
      ],
      "metadata": {
        "id": "gZczwSmXdzUI"
      }
    },
    {
      "cell_type": "code",
      "source": [
        "N, M = map(int, input().split())\n",
        "A = [0] * N\n",
        "\n",
        "for _ in range(M):\n",
        "    i, j, k = map(int, input().split())\n",
        "    for n in range(i - 1, j):\n",
        "        A[n] = k\n",
        "\n",
        "for a in A:\n",
        "    print(a, end=\" \")"
      ],
      "metadata": {
        "colab": {
          "base_uri": "https://localhost:8080/"
        },
        "id": "ZZmbIeaMd1Ig",
        "outputId": "6bce70ad-0bb5-470b-9345-c2a656f9859d"
      },
      "execution_count": null,
      "outputs": [
        {
          "output_type": "stream",
          "name": "stdout",
          "text": [
            "5 4\n",
            "1 2 3\n",
            "3 4 4\n",
            "1 4 1\n",
            "2 2 2\n",
            "1 2 1 1 0 "
          ]
        }
      ]
    },
    {
      "cell_type": "markdown",
      "source": [
        "###6-10813"
      ],
      "metadata": {
        "id": "e6cUothReysJ"
      }
    },
    {
      "cell_type": "code",
      "source": [
        "N, M = map(int, input().split())\n",
        "A = list(range(1, N + 1))\n",
        "\n",
        "for _ in range(M):\n",
        "    i, j = map(int, input().split())\n",
        "    A[i - 1], A[j - 1] = A[j - 1], A[i - 1]\n",
        "\n",
        "for a in A:\n",
        "    print(a, end=\" \")"
      ],
      "metadata": {
        "colab": {
          "base_uri": "https://localhost:8080/"
        },
        "id": "x2yZqEhhez6F",
        "outputId": "d6745831-9155-4825-c7cf-09a97ae458e1"
      },
      "execution_count": null,
      "outputs": [
        {
          "output_type": "stream",
          "name": "stdout",
          "text": [
            "5 4\n",
            "1 2\n",
            "3 4\n",
            "1 4\n",
            "2 2\n",
            "3 1 4 2 5 "
          ]
        }
      ]
    },
    {
      "cell_type": "markdown",
      "source": [
        "###7-5597"
      ],
      "metadata": {
        "id": "AlVabh5FgVse"
      }
    },
    {
      "cell_type": "code",
      "source": [
        "all_students = set(range(1, 31))\n",
        "submitted_students = {int(input()) for _ in range(28)}\n",
        "missing_students = sorted(all_students - submitted_students)\n",
        "\n",
        "print(missing_students[0])\n",
        "print(missing_students[1])"
      ],
      "metadata": {
        "colab": {
          "base_uri": "https://localhost:8080/"
        },
        "id": "TD3lntTtgXjT",
        "outputId": "c730a75c-6399-49e7-88f6-18247ee1eff5"
      },
      "execution_count": null,
      "outputs": [
        {
          "output_type": "stream",
          "name": "stdout",
          "text": [
            "3\n",
            "1\n",
            "4\n",
            "5\n",
            "7\n",
            "9\n",
            "6\n",
            "10\n",
            "11\n",
            "12\n",
            "13\n",
            "14\n",
            "15\n",
            "16\n",
            "17\n",
            "18\n",
            "19\n",
            "20\n",
            "21\n",
            "22\n",
            "23\n",
            "24\n",
            "25\n",
            "26\n",
            "27\n",
            "28\n",
            "29\n",
            "30\n",
            "2\n",
            "8\n"
          ]
        }
      ]
    },
    {
      "cell_type": "markdown",
      "source": [
        "###8-3052"
      ],
      "metadata": {
        "id": "5boCLE8Wi1YC"
      }
    },
    {
      "cell_type": "code",
      "source": [
        "remainders = set()\n",
        "\n",
        "for _ in range(10):\n",
        "    number = int(input())\n",
        "    remainders.add(number % 42)\n",
        "\n",
        "print(len(remainders))"
      ],
      "metadata": {
        "colab": {
          "base_uri": "https://localhost:8080/"
        },
        "id": "N1IXbfEli3Vc",
        "outputId": "bd508eda-98cc-4484-c48b-9d92cbc11a08"
      },
      "execution_count": null,
      "outputs": [
        {
          "output_type": "stream",
          "name": "stdout",
          "text": [
            "39\n",
            "40\n",
            "41\n",
            "42\n",
            "43\n",
            "44\n",
            "82\n",
            "83\n",
            "84\n",
            "85\n",
            "6\n"
          ]
        }
      ]
    },
    {
      "cell_type": "markdown",
      "source": [
        "###9-10811"
      ],
      "metadata": {
        "id": "l51CMh7gk6yV"
      }
    },
    {
      "cell_type": "code",
      "source": [
        "N, M = map(int, input().split())\n",
        "A = list(range(1, N + 1))\n",
        "\n",
        "for _ in range(M):\n",
        "    i, j = map(int, input().split())\n",
        "    A[i - 1:j] = reversed(A[i - 1:j])\n",
        "\n",
        "for a in A:\n",
        "    print(a, end=\" \")"
      ],
      "metadata": {
        "colab": {
          "base_uri": "https://localhost:8080/"
        },
        "id": "T7ZFxoUrk76H",
        "outputId": "97c2457f-4bc8-401a-a1ba-8f5613b67db0"
      },
      "execution_count": null,
      "outputs": [
        {
          "output_type": "stream",
          "name": "stdout",
          "text": [
            "5 4\n",
            "1 2\n",
            "3 4\n",
            "1 4\n",
            "2 2\n",
            "3 4 1 2 5 "
          ]
        }
      ]
    },
    {
      "cell_type": "markdown",
      "source": [
        "###10-1546"
      ],
      "metadata": {
        "id": "PcGCUEjJlY33"
      }
    },
    {
      "cell_type": "code",
      "source": [
        "N = int(input())\n",
        "scores = list(map(int, input().split()))\n",
        "\n",
        "best_score = max(scores)\n",
        "\n",
        "new_scores = [score / best_score * 100 for score in scores]\n",
        "\n",
        "average = sum(new_scores) / N\n",
        "\n",
        "print(average)"
      ],
      "metadata": {
        "colab": {
          "base_uri": "https://localhost:8080/"
        },
        "id": "oXVaDfeDlwDh",
        "outputId": "885315b3-d830-438b-b7bc-bc7478b9debb"
      },
      "execution_count": null,
      "outputs": [
        {
          "output_type": "stream",
          "name": "stdout",
          "text": [
            "9\n",
            "10 20 30 40 50 60 70 80 90\n",
            "55.55555555555556\n"
          ]
        }
      ]
    },
    {
      "cell_type": "markdown",
      "source": [
        "#12/27"
      ],
      "metadata": {
        "id": "4uTlZq7WR-xQ"
      }
    },
    {
      "cell_type": "markdown",
      "source": [
        "###1-27866"
      ],
      "metadata": {
        "id": "0TJzSOq7SBeq"
      }
    },
    {
      "cell_type": "code",
      "source": [
        "S = input()\n",
        "i = int(input())\n",
        "\n",
        "print(S[i-1])"
      ],
      "metadata": {
        "colab": {
          "base_uri": "https://localhost:8080/"
        },
        "id": "L2I07ZT-SBNm",
        "outputId": "d2bc6f9f-d5ba-4baa-ba28-a61fbf7ac560"
      },
      "execution_count": null,
      "outputs": [
        {
          "output_type": "stream",
          "name": "stdout",
          "text": [
            "sprout\n",
            "3\n",
            "r\n"
          ]
        }
      ]
    },
    {
      "cell_type": "markdown",
      "source": [
        "###2-2743"
      ],
      "metadata": {
        "id": "wXkuSce-TTVI"
      }
    },
    {
      "cell_type": "code",
      "source": [
        "A = input()\n",
        "print(len(A))"
      ],
      "metadata": {
        "colab": {
          "base_uri": "https://localhost:8080/"
        },
        "id": "l12U5L7JTUfq",
        "outputId": "d6b92e5f-022d-4228-878f-22586036d516"
      },
      "execution_count": null,
      "outputs": [
        {
          "output_type": "stream",
          "name": "stdout",
          "text": [
            "pulljima\n",
            "8\n"
          ]
        }
      ]
    },
    {
      "cell_type": "markdown",
      "source": [
        "###3-9086"
      ],
      "metadata": {
        "id": "ykkbgt9eTxs7"
      }
    },
    {
      "cell_type": "code",
      "source": [
        "T = int(input())\n",
        "\n",
        "for _ in range(T):\n",
        "  S = input()\n",
        "print(S[0] + S[-1])"
      ],
      "metadata": {
        "colab": {
          "base_uri": "https://localhost:8080/"
        },
        "id": "8rOc_9GlT0Bt",
        "outputId": "0b96749e-570b-4e08-fada-ec9cfbf9a55a"
      },
      "execution_count": null,
      "outputs": [
        {
          "output_type": "stream",
          "name": "stdout",
          "text": [
            "3\n",
            "asdflwo\n",
            "oo\n",
            "ab\n",
            "ab\n"
          ]
        }
      ]
    },
    {
      "cell_type": "code",
      "source": [
        "T = int(input())\n",
        "\n",
        "test_cases = [input().strip() for _ in range(T)]\n",
        "\n",
        "for S in test_cases:\n",
        "    print(S[0] + S[-1])"
      ],
      "metadata": {
        "colab": {
          "base_uri": "https://localhost:8080/"
        },
        "id": "dE_kf3SNVrVz",
        "outputId": "afd3e2bf-12e2-449a-fe5d-e162e3188db5"
      },
      "execution_count": null,
      "outputs": [
        {
          "output_type": "stream",
          "name": "stdout",
          "text": [
            "3\n",
            "adsge\n",
            "o\n",
            "ab\n",
            "ae\n",
            "oo\n",
            "ab\n"
          ]
        }
      ]
    },
    {
      "cell_type": "markdown",
      "source": [
        "###4-11654"
      ],
      "metadata": {
        "id": "UDuqwC5DXoCg"
      }
    },
    {
      "cell_type": "code",
      "source": [
        "print(ord(input()))"
      ],
      "metadata": {
        "colab": {
          "base_uri": "https://localhost:8080/"
        },
        "id": "8xvz8RqXX8BA",
        "outputId": "959e52a7-2a6f-40e0-a8f2-9af06b0c12ee"
      },
      "execution_count": null,
      "outputs": [
        {
          "output_type": "stream",
          "name": "stdout",
          "text": [
            "A\n",
            "65\n"
          ]
        }
      ]
    },
    {
      "cell_type": "markdown",
      "source": [
        "###5-11720"
      ],
      "metadata": {
        "id": "UFUkOzNGYC3Z"
      }
    },
    {
      "cell_type": "code",
      "source": [
        "T = int(input())\n",
        "N = input()\n",
        "result = 0\n",
        "\n",
        "for n in N:\n",
        "    result += int(n)\n",
        "\n",
        "print(result)"
      ],
      "metadata": {
        "colab": {
          "base_uri": "https://localhost:8080/"
        },
        "id": "n1rYEPD5YT63",
        "outputId": "6f6cf8f7-5338-4477-ba48-215abf92b409"
      },
      "execution_count": null,
      "outputs": [
        {
          "output_type": "stream",
          "name": "stdout",
          "text": [
            "5\n",
            "54321\n",
            "15\n"
          ]
        }
      ]
    },
    {
      "cell_type": "markdown",
      "source": [
        "###6-10809"
      ],
      "metadata": {
        "id": "1UDZMRRmYw6G"
      }
    },
    {
      "cell_type": "code",
      "source": [
        "S = input()\n",
        "alphabet = \"abcdefghijklmnopqrstuvwxyz\"\n",
        "\n",
        "for a in alphabet:\n",
        "    print(S.find(a), end=\" \")"
      ],
      "metadata": {
        "colab": {
          "base_uri": "https://localhost:8080/"
        },
        "id": "kQFPUuKIYyqn",
        "outputId": "0c84142d-3ba2-400b-a3a7-9af3aa87624d"
      },
      "execution_count": null,
      "outputs": [
        {
          "output_type": "stream",
          "name": "stdout",
          "text": [
            "baekjoon\n",
            "1 0 -1 -1 2 -1 -1 -1 -1 4 3 -1 -1 7 5 -1 -1 -1 -1 -1 -1 -1 -1 -1 -1 -1 "
          ]
        }
      ]
    },
    {
      "cell_type": "markdown",
      "source": [
        "###7-2675"
      ],
      "metadata": {
        "id": "2cPZTxuGZiYO"
      }
    },
    {
      "cell_type": "code",
      "source": [
        "R = int(input())\n",
        "\n",
        "for _ in range(R):\n",
        "    T = input().split()\n",
        "    result = \"\"\n",
        "    for t in T[1]:\n",
        "        result += t * int(T[0])\n",
        "    print(result)"
      ],
      "metadata": {
        "colab": {
          "base_uri": "https://localhost:8080/"
        },
        "id": "iSBbHwAaZiHb",
        "outputId": "ac386133-2c58-44e0-e4e7-9cfe331ff299"
      },
      "execution_count": null,
      "outputs": [
        {
          "output_type": "stream",
          "name": "stdout",
          "text": [
            "2\n",
            "3 ABC\n",
            "AAABBBCCC\n",
            "5 /HTP\n",
            "/////HHHHHTTTTTPPPPP\n"
          ]
        }
      ]
    },
    {
      "cell_type": "markdown",
      "source": [
        "###8-1152"
      ],
      "metadata": {
        "id": "Hsp7MDJPZ-Tx"
      }
    },
    {
      "cell_type": "code",
      "source": [
        "S = input().split()\n",
        "print(len(S))"
      ],
      "metadata": {
        "colab": {
          "base_uri": "https://localhost:8080/"
        },
        "id": "V1RLCzSwZ_8i",
        "outputId": "da46999f-5437-4c79-e9e7-aa49e0413fb2"
      },
      "execution_count": null,
      "outputs": [
        {
          "output_type": "stream",
          "name": "stdout",
          "text": [
            "The Curious Case of Benjamin Button\n",
            "6\n"
          ]
        }
      ]
    },
    {
      "cell_type": "markdown",
      "source": [
        "###9-2908"
      ],
      "metadata": {
        "id": "LL4Mi36SalG4"
      }
    },
    {
      "cell_type": "code",
      "source": [
        "N1, N2 = input().split()\n",
        "\n",
        "print(max(int(N1[::-1]), int(N2[::-1])))"
      ],
      "metadata": {
        "colab": {
          "base_uri": "https://localhost:8080/"
        },
        "id": "0dY9StecameB",
        "outputId": "1734ae29-0cae-48d3-f202-876115b87bc5"
      },
      "execution_count": null,
      "outputs": [
        {
          "output_type": "stream",
          "name": "stdout",
          "text": [
            "734 893\n",
            "437\n"
          ]
        }
      ]
    },
    {
      "cell_type": "markdown",
      "source": [
        "###10-5622"
      ],
      "metadata": {
        "id": "oDvDgPL3bAos"
      }
    },
    {
      "cell_type": "code",
      "source": [
        "S = input()\n",
        "dial = [\"ABC\", \"DEF\", \"GHI\", \"JKL\", \"MNO\", \"PQRS\", \"TUV\", \"WXYZ\"]\n",
        "\n",
        "result = 0\n",
        "\n",
        "for s in S:\n",
        "    for d in dial:\n",
        "        if s in d:\n",
        "            result += dial.index(d) + 3\n",
        "\n",
        "print(result)"
      ],
      "metadata": {
        "colab": {
          "base_uri": "https://localhost:8080/"
        },
        "id": "LbirHQQ2bCIm",
        "outputId": "b4cc8639-6e62-477a-becd-738a433cb7a4"
      },
      "execution_count": null,
      "outputs": [
        {
          "output_type": "stream",
          "name": "stdout",
          "text": [
            "WA\n",
            "13\n"
          ]
        }
      ]
    },
    {
      "cell_type": "markdown",
      "source": [
        "###11-11718"
      ],
      "metadata": {
        "id": "Dka6w_O7bcaY"
      }
    },
    {
      "cell_type": "code",
      "source": [
        "while True:\n",
        "    try:\n",
        "        print(input())\n",
        "    except:\n",
        "        break"
      ],
      "metadata": {
        "colab": {
          "base_uri": "https://localhost:8080/"
        },
        "id": "4V5gInlxeK5O",
        "outputId": "3972fd06-7d9a-4198-f034-cc2449e0f462"
      },
      "execution_count": null,
      "outputs": [
        {
          "name": "stdout",
          "output_type": "stream",
          "text": [
            "Hello\n",
            "Hello\n",
            "Baekjoon\n",
            "Baekjoon\n",
            "a\n"
          ]
        }
      ]
    },
    {
      "cell_type": "markdown",
      "source": [
        "###12-25083"
      ],
      "metadata": {
        "id": "KNm-KG2Gfn8V"
      }
    },
    {
      "cell_type": "code",
      "source": [
        "print('''         ,r'\"7\n",
        "r`-_   ,'  ,/\n",
        " \\. \". L_r'\n",
        "   `~\\/\n",
        "      |\n",
        "      |''')"
      ],
      "metadata": {
        "colab": {
          "base_uri": "https://localhost:8080/"
        },
        "id": "1NUkRY5pgWSj",
        "outputId": "f1c6bed2-0540-43a9-9d15-8e0a9cd611be"
      },
      "execution_count": null,
      "outputs": [
        {
          "output_type": "stream",
          "name": "stdout",
          "text": [
            "         ,r'\"7\n",
            "r`-_   ,'  ,/\n",
            " \\. \". L_r'\n",
            "   `~\\/\n",
            "      |\n",
            "      |\n"
          ]
        }
      ]
    },
    {
      "cell_type": "markdown",
      "source": [
        "###13-3003"
      ],
      "metadata": {
        "id": "PjS4yN3qgoDV"
      }
    },
    {
      "cell_type": "code",
      "source": [
        "K, Q, R, B, Kn, P = map(int, input().split())\n",
        "\n",
        "print(1 - K, 1 - Q, 2 - R, 2 - B, 2 - Kn, 8 - P)"
      ],
      "metadata": {
        "colab": {
          "base_uri": "https://localhost:8080/"
        },
        "id": "srNgNoN8gppy",
        "outputId": "3f25df21-b8f3-4ed7-c6f3-7832993be5fa"
      },
      "execution_count": null,
      "outputs": [
        {
          "output_type": "stream",
          "name": "stdout",
          "text": [
            "0 1 2 2 2 7\n",
            "1 0 0 0 0 1\n"
          ]
        }
      ]
    },
    {
      "cell_type": "markdown",
      "source": [
        "###14-2444"
      ],
      "metadata": {
        "id": "XEScYnREhGWs"
      }
    },
    {
      "cell_type": "code",
      "source": [
        "N = int(input())\n",
        "\n",
        "for i in range(1, N*2, 2):\n",
        "    print(\" \" * ((2 * N - 1 - i) // 2) + \"*\" * i)\n",
        "\n",
        "for i in range(N*2-3, 0, -2):\n",
        "    print(\" \" * ((2 * N - 1 - i) // 2) + \"*\" * i)"
      ],
      "metadata": {
        "colab": {
          "base_uri": "https://localhost:8080/"
        },
        "id": "Dr_iFUkjhHnk",
        "outputId": "3bd975b4-7026-473d-b4c0-cc721125b3c7"
      },
      "execution_count": null,
      "outputs": [
        {
          "output_type": "stream",
          "name": "stdout",
          "text": [
            "5\n",
            "    *\n",
            "   ***\n",
            "  *****\n",
            " *******\n",
            "*********\n",
            " *******\n",
            "  *****\n",
            "   ***\n",
            "    *\n"
          ]
        }
      ]
    },
    {
      "cell_type": "markdown",
      "source": [
        "###15-10988"
      ],
      "metadata": {
        "id": "qE_DncTklGU4"
      }
    },
    {
      "cell_type": "code",
      "source": [
        "W = input()\n",
        "\n",
        "if W == W[::-1]:\n",
        "    print(1)\n",
        "else:\n",
        "    print(0)"
      ],
      "metadata": {
        "colab": {
          "base_uri": "https://localhost:8080/"
        },
        "id": "0fvNYFGwlHjC",
        "outputId": "c718ff9f-b135-428d-ff61-f095e55a7157"
      },
      "execution_count": null,
      "outputs": [
        {
          "output_type": "stream",
          "name": "stdout",
          "text": [
            "baekjoon\n",
            "0\n"
          ]
        }
      ]
    },
    {
      "cell_type": "markdown",
      "source": [
        "###16-1157"
      ],
      "metadata": {
        "id": "5xZz0AQ3ljF_"
      }
    },
    {
      "cell_type": "code",
      "source": [
        "W = input()\n",
        "W = W.upper()\n",
        "\n",
        "alphabet = \"ABCDEFGHIJKLMNOPQRSTUVWXYZ\"\n",
        "count = []\n",
        "\n",
        "for a in alphabet:\n",
        "    count.append(W.count(a))\n",
        "\n",
        "print(alphabet[count.index(max(count))]) if count.count(max(count)) == 1 else print(\"?\")"
      ],
      "metadata": {
        "colab": {
          "base_uri": "https://localhost:8080/"
        },
        "id": "7QU8pgaNlkoF",
        "outputId": "f64e877f-43ae-4748-e9d8-6276aba2937d"
      },
      "execution_count": null,
      "outputs": [
        {
          "output_type": "stream",
          "name": "stdout",
          "text": [
            "Mississipi\n",
            "?\n"
          ]
        }
      ]
    },
    {
      "cell_type": "markdown",
      "source": [
        "#12/28"
      ],
      "metadata": {
        "id": "Gm9v596-j1-5"
      }
    },
    {
      "cell_type": "markdown",
      "source": [
        "###1-2941"
      ],
      "metadata": {
        "id": "n6EWjSxwj5Kp"
      }
    },
    {
      "cell_type": "code",
      "source": [
        "CA = [\"c=\", \"c-\", \"dz=\", \"d-\", \"lj\", \"nj\", \"s=\", \"z=\"]\n",
        "\n",
        "word = input()\n",
        "\n",
        "for c in CA:\n",
        "    word = word.replace(c, \"*\")\n",
        "\n",
        "print(len(word))"
      ],
      "metadata": {
        "colab": {
          "base_uri": "https://localhost:8080/"
        },
        "id": "usWY05OZj4cM",
        "outputId": "7f66fb13-e2f9-454e-d320-fb48493fd6a1"
      },
      "execution_count": null,
      "outputs": [
        {
          "output_type": "stream",
          "name": "stdout",
          "text": [
            "ljes=njak\n",
            "6\n"
          ]
        }
      ]
    },
    {
      "cell_type": "markdown",
      "source": [
        "#12/29"
      ],
      "metadata": {
        "id": "KYmjuBPYPbk5"
      }
    },
    {
      "cell_type": "markdown",
      "source": [
        "###1-1316"
      ],
      "metadata": {
        "id": "CgslJ0VtPeU0"
      }
    },
    {
      "cell_type": "code",
      "source": [
        "n = int(input())\n",
        "words = [input().strip() for _ in range(n)]\n",
        "\n",
        "def is_group_word(word):\n",
        "    seen = set()\n",
        "    prev_char = ''\n",
        "    for char in word:\n",
        "        if char != prev_char:\n",
        "            if char in seen:\n",
        "                return False\n",
        "            seen.add(char)\n",
        "            prev_char = char\n",
        "    return True\n",
        "\n",
        "group_word_count = sum(1 for word in words if is_group_word(word))\n",
        "\n",
        "print(group_word_count)"
      ],
      "metadata": {
        "colab": {
          "base_uri": "https://localhost:8080/"
        },
        "id": "Yt2_XbAzPd8m",
        "outputId": "84c436e0-8da7-406a-e291-e0c73c90c658"
      },
      "execution_count": null,
      "outputs": [
        {
          "output_type": "stream",
          "name": "stdout",
          "text": [
            "5\n",
            "ab\n",
            "aa\n",
            "aca\n",
            "ba\n",
            "bb\n",
            "4\n"
          ]
        }
      ]
    },
    {
      "cell_type": "markdown",
      "source": [
        "#12/30"
      ],
      "metadata": {
        "id": "ULRQJv9o0w0d"
      }
    },
    {
      "cell_type": "markdown",
      "source": [
        "###1-25206"
      ],
      "metadata": {
        "id": "CWdRo-7L0ySn"
      }
    },
    {
      "cell_type": "code",
      "source": [
        "grade_to_score = {\n",
        "    \"A+\": 4.5,\n",
        "    \"A0\": 4.0,\n",
        "    \"B+\": 3.5,\n",
        "    \"B0\": 3.0,\n",
        "    \"C+\": 2.5,\n",
        "    \"C0\": 2.0,\n",
        "    \"D+\": 1.5,\n",
        "    \"D0\": 1.0,\n",
        "    \"F\": 0.0\n",
        "}\n",
        "\n",
        "total_credits = 0\n",
        "total_points = 0\n",
        "\n",
        "for _ in range(20):\n",
        "    line = input().split()\n",
        "    subject, credit, grade = line[0], float(line[1]), line[2]\n",
        "\n",
        "    if grade == \"P\":\n",
        "        continue\n",
        "\n",
        "    total_credits += credit\n",
        "    total_points += credit * grade_to_score[grade]\n",
        "\n",
        "gpa = total_points / total_credits if total_credits > 0 else 0.0\n",
        "\n",
        "print(f\"{gpa:.6f}\")"
      ],
      "metadata": {
        "colab": {
          "base_uri": "https://localhost:8080/"
        },
        "id": "-mqIlCY41C1D",
        "outputId": "196876ad-8623-4998-b43a-e43aa1b1d9b8"
      },
      "execution_count": null,
      "outputs": [
        {
          "output_type": "stream",
          "name": "stdout",
          "text": [
            "ObjectOrientedProgramming1 3.0 A+\n",
            "IntroductiontoComputerEngineering 3.0 A+\n",
            "ObjectOrientedProgramming2 3.0 A0\n",
            "CreativeComputerEngineeringDesign 3.0 A+\n",
            "AssemblyLanguage 3.0 A+\n",
            "InternetProgramming 3.0 B0\n",
            "ApplicationProgramminginJava 3.0 A0\n",
            "SystemProgramming 3.0 B0\n",
            "OperatingSystem 3.0 B0\n",
            "WirelessCommunicationsandNetworking 3.0 C+\n",
            "LogicCircuits 3.0 B0\n",
            "DataStructure 4.0 A+\n",
            "MicroprocessorApplication 3.0 B+\n",
            "EmbeddedSoftware 3.0 C0\n",
            "ComputerSecurity 3.0 D+\n",
            "Database 3.0 C+\n",
            "Algorithm 3.0 B0\n",
            "CapstoneDesigninCSE 3.0 B+\n",
            "CompilerDesign 3.0 D0\n",
            "ProblemSolving 4.0 P\n",
            "3.284483\n"
          ]
        }
      ]
    },
    {
      "cell_type": "markdown",
      "source": [
        "###2-2738"
      ],
      "metadata": {
        "id": "uEQBqUaC3KF2"
      }
    },
    {
      "cell_type": "code",
      "source": [
        "N, M = map(int, input().split())\n",
        "\n",
        "A = [list(map(int, input().split())) for _ in range(N)]\n",
        "B = [list(map(int, input().split())) for _ in range(N)]\n",
        "\n",
        "for i in range(N):\n",
        "    for j in range(M):\n",
        "        print(A[i][j] + B[i][j], end=\" \")\n",
        "    print()"
      ],
      "metadata": {
        "colab": {
          "base_uri": "https://localhost:8080/"
        },
        "id": "G1w8mff23rYY",
        "outputId": "bbb656d7-08fe-4eb5-f6de-548ba8f13c60"
      },
      "execution_count": null,
      "outputs": [
        {
          "output_type": "stream",
          "name": "stdout",
          "text": [
            "3 3\n",
            "1 1 1\n",
            "2 2 2\n",
            "0 1 0\n",
            "3 3 3\n",
            "4 4 4\n",
            "5 5 100\n",
            "4 4 4 \n",
            "6 6 6 \n",
            "5 6 100 \n"
          ]
        }
      ]
    },
    {
      "cell_type": "markdown",
      "source": [
        "###3-2566"
      ],
      "metadata": {
        "id": "yvQ5JvT24cl6"
      }
    },
    {
      "cell_type": "code",
      "source": [
        "table = [list(map(int, input().split())) for _ in range(9)]\n",
        "\n",
        "max_num = 0\n",
        "max_row, max_col = 0, 0\n",
        "for row in range(9):\n",
        "    for col in range(9):\n",
        "        if max_num <= table[row][col]:\n",
        "            max_row = row + 1\n",
        "            max_col = col + 1\n",
        "            max_num = table[row][col]\n",
        "\n",
        "print(max_num)\n",
        "print(max_row, max_col)"
      ],
      "metadata": {
        "colab": {
          "base_uri": "https://localhost:8080/"
        },
        "id": "D2zgOQUS4dxw",
        "outputId": "9becea50-2cca-40fa-f7b9-25ad09fb374b"
      },
      "execution_count": null,
      "outputs": [
        {
          "output_type": "stream",
          "name": "stdout",
          "text": [
            "3 23 85 34 17 74 25 52 65\n",
            "10 7 39 42 88 52 14 72 63\n",
            "87 42 18 78 53 45 18 84 53\n",
            "34 28 64 85 12 16 75 36 55\n",
            "21 77 45 35 28 75 90 76 1\n",
            "25 87 65 15 28 11 37 28 74\n",
            "65 27 75 41 7 89 78 64 39\n",
            "47 47 70 45 23 65 3 41 44\n",
            "87 13 82 38 31 12 29 29 80\n",
            "90\n",
            "5 7\n"
          ]
        }
      ]
    },
    {
      "cell_type": "markdown",
      "source": [
        "###4-10798"
      ],
      "metadata": {
        "id": "p1614rfU7ej2"
      }
    },
    {
      "cell_type": "code",
      "source": [
        "table = [input() for _ in range(5)]\n",
        "\n",
        "max_length = max(map(len, table))\n",
        "\n",
        "for col in range(max_length):\n",
        "    for row in range(5):\n",
        "        if col < len(table[row]):\n",
        "            print(table[row][col], end=\"\")"
      ],
      "metadata": {
        "colab": {
          "base_uri": "https://localhost:8080/"
        },
        "id": "VEshbW4v7gMe",
        "outputId": "5efe7ed4-f785-44b7-bc28-da16961af9d6"
      },
      "execution_count": null,
      "outputs": [
        {
          "output_type": "stream",
          "name": "stdout",
          "text": [
            "ABCDE\n",
            "abcde\n",
            "01234\n",
            "FGHIJ\n",
            "fghij\n",
            "Aa0FfBb1GgCc2HhDd3IiEe4Jj"
          ]
        }
      ]
    },
    {
      "cell_type": "markdown",
      "source": [
        "###5-2563"
      ],
      "metadata": {
        "id": "w0smVDHK8OhO"
      }
    },
    {
      "cell_type": "code",
      "source": [
        "N = int(input())\n",
        "\n",
        "canvas = [[0] * 100 for _ in range(100)]\n",
        "\n",
        "for _ in range(N):\n",
        "    x, y = map(int, input().split())\n",
        "    for i in range(x, x + 10):\n",
        "        for j in range(y, y + 10):\n",
        "            canvas[i][j] = 1\n",
        "\n",
        "count = 0\n",
        "for row in canvas:\n",
        "    count += sum(row)\n",
        "\n",
        "print(count)"
      ],
      "metadata": {
        "colab": {
          "base_uri": "https://localhost:8080/"
        },
        "id": "Dy266jO18P2M",
        "outputId": "be3b5a93-ccb4-46cd-f653-319f7b88286d"
      },
      "execution_count": null,
      "outputs": [
        {
          "output_type": "stream",
          "name": "stdout",
          "text": [
            "3\n",
            "3 7\n",
            "15 7\n",
            "5 2\n",
            "260\n"
          ]
        }
      ]
    },
    {
      "cell_type": "markdown",
      "source": [
        "###6-2745"
      ],
      "metadata": {
        "id": "NKLtubq7-to1"
      }
    },
    {
      "cell_type": "code",
      "source": [
        "N, B = input().split()\n",
        "N = int(N, int(B))\n",
        "print(N)"
      ],
      "metadata": {
        "colab": {
          "base_uri": "https://localhost:8080/"
        },
        "id": "9en9maMW-vt1",
        "outputId": "c9dd00d7-546a-43fa-e791-aa51fa5aceb0"
      },
      "execution_count": null,
      "outputs": [
        {
          "output_type": "stream",
          "name": "stdout",
          "text": [
            "ZZZZZ 36\n",
            "60466175\n"
          ]
        }
      ]
    },
    {
      "cell_type": "markdown",
      "source": [
        "###7-11005"
      ],
      "metadata": {
        "id": "GVDbmNW6_8jv"
      }
    },
    {
      "cell_type": "code",
      "source": [
        "def decimal_to_base(N, B):\n",
        "    chars = \"0123456789ABCDEFGHIJKLMNOPQRSTUVWXYZ\"\n",
        "    result = \"\"\n",
        "    while N > 0:\n",
        "        result = chars[N % B] + result\n",
        "        N //= B\n",
        "    return result\n",
        "\n",
        "N, B = map(int, input().split())\n",
        "print(decimal_to_base(N, B))"
      ],
      "metadata": {
        "colab": {
          "base_uri": "https://localhost:8080/"
        },
        "id": "Bcw8zSFT_-FG",
        "outputId": "20bcf215-1924-4c61-d68e-a3faca7f3ef3"
      },
      "execution_count": null,
      "outputs": [
        {
          "output_type": "stream",
          "name": "stdout",
          "text": [
            "60466175 36\n",
            "ZZZZZ\n"
          ]
        }
      ]
    },
    {
      "cell_type": "markdown",
      "source": [
        "###8-2720"
      ],
      "metadata": {
        "id": "HlYI-tSzCJAG"
      }
    },
    {
      "cell_type": "code",
      "source": [
        "T = int(input())\n",
        "coins = [25, 10, 5, 1]\n",
        "results = []\n",
        "\n",
        "for _ in range(T):\n",
        "    C = int(input())\n",
        "    result = []\n",
        "    for coin in coins:\n",
        "        count = C // coin\n",
        "        result.append(count)\n",
        "        C %= coin\n",
        "    results.append(result)\n",
        "\n",
        "for res in results:\n",
        "    print(*res)"
      ],
      "metadata": {
        "colab": {
          "base_uri": "https://localhost:8080/"
        },
        "id": "E6w6n_pjCKIW",
        "outputId": "bf1ebddd-150d-40a0-dc35-eec9b3b19bde"
      },
      "execution_count": null,
      "outputs": [
        {
          "output_type": "stream",
          "name": "stdout",
          "text": [
            "3\n",
            "124\n",
            "25\n",
            "194\n",
            "4 2 0 4\n",
            "1 0 0 0\n",
            "7 1 1 4\n"
          ]
        }
      ]
    },
    {
      "cell_type": "markdown",
      "source": [
        "###9-2903"
      ],
      "metadata": {
        "id": "wKaZDoPoDF2M"
      }
    },
    {
      "cell_type": "code",
      "source": [
        "N = int(input())\n",
        "points = (2 ** N + 1) ** 2\n",
        "print(points)"
      ],
      "metadata": {
        "colab": {
          "base_uri": "https://localhost:8080/"
        },
        "id": "sD5v-gBmDG2K",
        "outputId": "b907d5f7-ffd7-40c4-b347-dce2043e3791"
      },
      "execution_count": null,
      "outputs": [
        {
          "output_type": "stream",
          "name": "stdout",
          "text": [
            "2\n",
            "25\n"
          ]
        }
      ]
    },
    {
      "cell_type": "markdown",
      "source": [
        "###10-2292"
      ],
      "metadata": {
        "id": "-QjoeoMDE2q2"
      }
    },
    {
      "cell_type": "code",
      "source": [
        "N = int(input())\n",
        "room = 1\n",
        "count = 1\n",
        "while N > room:\n",
        "    room += 6 * count\n",
        "    count += 1\n",
        "print(count)"
      ],
      "metadata": {
        "colab": {
          "base_uri": "https://localhost:8080/"
        },
        "id": "2Jqem_TgE361",
        "outputId": "e4905737-5d21-4228-a3ee-b9d0eade2c5b"
      },
      "execution_count": null,
      "outputs": [
        {
          "output_type": "stream",
          "name": "stdout",
          "text": [
            "13\n",
            "3\n"
          ]
        }
      ]
    },
    {
      "cell_type": "markdown",
      "source": [
        "###11-1193"
      ],
      "metadata": {
        "id": "zrDtJk8GFEZT"
      }
    },
    {
      "cell_type": "code",
      "source": [
        "X = int(input())\n",
        "line = 1\n",
        "while X > line:\n",
        "    X -= line\n",
        "    line += 1\n",
        "if line % 2 == 0:\n",
        "    print(f\"{X}/{line - X + 1}\")\n",
        "else:\n",
        "    print(f\"{line - X + 1}/{X}\")"
      ],
      "metadata": {
        "colab": {
          "base_uri": "https://localhost:8080/"
        },
        "id": "t6yzstgWFGpR",
        "outputId": "86d80ffe-183c-4e48-cfaf-7e777ae29d72"
      },
      "execution_count": null,
      "outputs": [
        {
          "output_type": "stream",
          "name": "stdout",
          "text": [
            "14\n",
            "2/4\n"
          ]
        }
      ]
    },
    {
      "cell_type": "markdown",
      "source": [
        "###12-2869"
      ],
      "metadata": {
        "id": "b7b2wIH_Fd32"
      }
    },
    {
      "cell_type": "code",
      "source": [
        "A, B, V = map(int, input().split())\n",
        "days = (V - B - 1) // (A - B) + 1\n",
        "print(days)"
      ],
      "metadata": {
        "colab": {
          "base_uri": "https://localhost:8080/"
        },
        "id": "OmXI0OEtFfQn",
        "outputId": "b3e3a654-9228-42b8-dfc8-a941d741ffe4"
      },
      "execution_count": null,
      "outputs": [
        {
          "output_type": "stream",
          "name": "stdout",
          "text": [
            "2 1 5\n",
            "4\n"
          ]
        }
      ]
    },
    {
      "cell_type": "markdown",
      "source": [
        "###13-5086"
      ],
      "metadata": {
        "id": "YnTVHYBLFyrB"
      }
    },
    {
      "cell_type": "code",
      "source": [
        "while True:\n",
        "    a, b = map(int, input().split())\n",
        "    if a == 0 and b == 0:\n",
        "        break\n",
        "    if b % a == 0:\n",
        "        print(\"factor\")\n",
        "    elif a % b == 0:\n",
        "        print(\"multiple\")\n",
        "    else:\n",
        "        print(\"neither\")"
      ],
      "metadata": {
        "colab": {
          "base_uri": "https://localhost:8080/"
        },
        "id": "SZrjLYWvF0u3",
        "outputId": "80074edd-e458-4798-d22a-0ffaff322467"
      },
      "execution_count": null,
      "outputs": [
        {
          "name": "stdout",
          "output_type": "stream",
          "text": [
            "8 16\n",
            "factor\n",
            "32 4\n",
            "multiple\n",
            "17 5\n",
            "neither\n",
            "0 0\n"
          ]
        }
      ]
    },
    {
      "cell_type": "markdown",
      "source": [
        "###14-2501"
      ],
      "metadata": {
        "id": "8KUx4_ugHFGm"
      }
    },
    {
      "cell_type": "code",
      "source": [
        "N, K = map(int, input().split())\n",
        "factors = []\n",
        "for i in range(1, N + 1):\n",
        "    if N % i == 0:\n",
        "        factors.append(i)\n",
        "        if len(factors) == K:\n",
        "            print(i)\n",
        "            break\n",
        "else:\n",
        "    print(0)"
      ],
      "metadata": {
        "colab": {
          "base_uri": "https://localhost:8080/"
        },
        "id": "7EiUOfTXHGNO",
        "outputId": "e2f715cc-56dd-4833-f58d-b331a3d3362c"
      },
      "execution_count": null,
      "outputs": [
        {
          "output_type": "stream",
          "name": "stdout",
          "text": [
            "2735 1\n",
            "1\n"
          ]
        }
      ]
    },
    {
      "cell_type": "markdown",
      "source": [
        "###15-9506"
      ],
      "metadata": {
        "id": "BqjX8STrHcw0"
      }
    },
    {
      "cell_type": "code",
      "source": [
        "while True:\n",
        "    n = int(input())\n",
        "    if n == -1:\n",
        "        break\n",
        "\n",
        "    divisors = []\n",
        "    for i in range(1, int(n**0.5) + 1):\n",
        "        if n % i == 0:\n",
        "            divisors.append(i)\n",
        "            if i != 1 and i != n // i:\n",
        "                divisors.append(n // i)\n",
        "\n",
        "    if sum(divisors) == n:\n",
        "        divisors.sort()\n",
        "        print(f\"{n} = {' + '.join(map(str, divisors))}\")\n",
        "    else:\n",
        "        print(f\"{n} is NOT perfect.\")"
      ],
      "metadata": {
        "colab": {
          "base_uri": "https://localhost:8080/"
        },
        "id": "7ZXxAzY9HeLe",
        "outputId": "083c2828-03bf-4b8f-8c43-d31bcc87a2c5"
      },
      "execution_count": null,
      "outputs": [
        {
          "name": "stdout",
          "output_type": "stream",
          "text": [
            "6\n",
            "6 = 1 + 2 + 3\n",
            "12\n",
            "12 is NOT perfect.\n",
            "28\n",
            "28 = 1 + 2 + 4 + 7 + 14\n",
            "-1\n"
          ]
        }
      ]
    },
    {
      "cell_type": "markdown",
      "source": [
        "#12/31"
      ],
      "metadata": {
        "id": "tjcAW8an7wg1"
      }
    },
    {
      "cell_type": "markdown",
      "source": [
        "###1-1978"
      ],
      "metadata": {
        "id": "84VIrgdK7yjJ"
      }
    },
    {
      "cell_type": "code",
      "source": [
        "N = int(input())\n",
        "nums = list(map(int, input().split()))\n",
        "count = 0\n",
        "\n",
        "for num in nums:\n",
        "    if num == 1:\n",
        "        continue\n",
        "    if all(num % i != 0 for i in range(2, int(num**0.5) + 1)):\n",
        "        count += 1\n",
        "\n",
        "print(count)"
      ],
      "metadata": {
        "colab": {
          "base_uri": "https://localhost:8080/"
        },
        "id": "emZqzQEo7yGM",
        "outputId": "5cb24c8a-56d9-4ab2-f41b-6c4b8e08299b"
      },
      "execution_count": null,
      "outputs": [
        {
          "output_type": "stream",
          "name": "stdout",
          "text": [
            "4\n",
            "1 3 5 7\n",
            "3\n"
          ]
        }
      ]
    },
    {
      "cell_type": "markdown",
      "source": [
        "#1/1"
      ],
      "metadata": {
        "id": "4KrXrz-ShJlU"
      }
    },
    {
      "cell_type": "markdown",
      "source": [
        "###1-2581"
      ],
      "metadata": {
        "id": "X5kG3TtKhOUb"
      }
    },
    {
      "cell_type": "code",
      "source": [
        "M = int(input())\n",
        "N = int(input())\n",
        "primes = []\n",
        "\n",
        "for num in range(M, N + 1):\n",
        "    if num == 1:\n",
        "        continue\n",
        "    is_prime = True\n",
        "\n",
        "    for i in range(2, int(num**0.5) + 1):\n",
        "        if num % i == 0:\n",
        "            is_prime = False\n",
        "            break\n",
        "\n",
        "    if is_prime:\n",
        "        primes.append(num)\n",
        "\n",
        "if primes:\n",
        "    print(sum(primes))\n",
        "    print(min(primes))\n",
        "\n",
        "else:\n",
        "    print(-1)"
      ],
      "metadata": {
        "colab": {
          "base_uri": "https://localhost:8080/"
        },
        "id": "U2-khJP_hLFb",
        "outputId": "8ed2b90e-75b9-44fa-d8ab-7e1a7158bf54"
      },
      "execution_count": null,
      "outputs": [
        {
          "output_type": "stream",
          "name": "stdout",
          "text": [
            "64\n",
            "65\n",
            "-1\n"
          ]
        }
      ]
    },
    {
      "cell_type": "markdown",
      "source": [
        "#1/2"
      ],
      "metadata": {
        "id": "wKR4JNn98gf6"
      }
    },
    {
      "cell_type": "markdown",
      "source": [
        "###1-11653"
      ],
      "metadata": {
        "id": "Nus9vzyh8lnt"
      }
    },
    {
      "cell_type": "code",
      "source": [
        "N = int(input())\n",
        "\n",
        "for i in range(2, N + 1):\n",
        "    while N % i == 0:\n",
        "        print(i)\n",
        "        N //= i"
      ],
      "metadata": {
        "colab": {
          "base_uri": "https://localhost:8080/"
        },
        "id": "Hq07Q9uf8vpy",
        "outputId": "ac9e81b3-60b9-4668-f843-10b1cf26fd2a"
      },
      "execution_count": null,
      "outputs": [
        {
          "output_type": "stream",
          "name": "stdout",
          "text": [
            "72\n",
            "2\n",
            "2\n",
            "2\n",
            "3\n",
            "3\n"
          ]
        }
      ]
    },
    {
      "cell_type": "markdown",
      "source": [
        "###2-27323"
      ],
      "metadata": {
        "id": "kCRNUrri8v6q"
      }
    },
    {
      "cell_type": "code",
      "source": [
        "A = int(input())\n",
        "B = int(input())\n",
        "print(A * B)"
      ],
      "metadata": {
        "colab": {
          "base_uri": "https://localhost:8080/"
        },
        "id": "f3ygV4sB80WQ",
        "outputId": "6df16d4a-a4f6-42bb-9f98-c51c833c9a90"
      },
      "execution_count": null,
      "outputs": [
        {
          "output_type": "stream",
          "name": "stdout",
          "text": [
            "2\n",
            "3\n",
            "6\n"
          ]
        }
      ]
    },
    {
      "cell_type": "markdown",
      "source": [
        "###3-1085"
      ],
      "metadata": {
        "id": "-SvZRQQy80oL"
      }
    },
    {
      "cell_type": "code",
      "source": [
        "x, y, w, h = map(int, input().split())\n",
        "print(min(x, y, w - x, h - y))"
      ],
      "metadata": {
        "colab": {
          "base_uri": "https://localhost:8080/"
        },
        "id": "ViuxZEV29W1C",
        "outputId": "b9fb9003-14f7-43d0-82c7-d0561c10599a"
      },
      "execution_count": null,
      "outputs": [
        {
          "output_type": "stream",
          "name": "stdout",
          "text": [
            "6 2 10 3\n",
            "1\n"
          ]
        }
      ]
    },
    {
      "cell_type": "markdown",
      "source": [
        "###4-3009"
      ],
      "metadata": {
        "id": "5xnqv5Sd834h"
      }
    },
    {
      "cell_type": "code",
      "source": [
        "x_coords = []\n",
        "y_coords = []\n",
        "\n",
        "for _ in range(3):\n",
        "    x, y = map(int, input().split())\n",
        "    x_coords.append(x)\n",
        "    y_coords.append(y)\n",
        "\n",
        "x4 = [x for x in x_coords if x_coords.count(x) == 1][0]\n",
        "y4 = [y for y in y_coords if y_coords.count(y) == 1][0]\n",
        "\n",
        "print(x4, y4)"
      ],
      "metadata": {
        "colab": {
          "base_uri": "https://localhost:8080/"
        },
        "id": "ZcAupgg-9Wkf",
        "outputId": "e676ee66-1b18-4e96-9afd-6e834cfd2aaa"
      },
      "execution_count": null,
      "outputs": [
        {
          "output_type": "stream",
          "name": "stdout",
          "text": [
            "5 5\n",
            "5 7\n",
            "7 5\n",
            "7 7\n"
          ]
        }
      ]
    },
    {
      "cell_type": "markdown",
      "source": [
        "###5-15894"
      ],
      "metadata": {
        "id": "qZ-SzErF85WK"
      }
    },
    {
      "cell_type": "code",
      "source": [
        "n = int(input())\n",
        "print(n * 4)"
      ],
      "metadata": {
        "colab": {
          "base_uri": "https://localhost:8080/"
        },
        "id": "A1hj0TUA9WH5",
        "outputId": "fce0174e-e4c9-4db0-fc58-7294005e8c32"
      },
      "execution_count": null,
      "outputs": [
        {
          "output_type": "stream",
          "name": "stdout",
          "text": [
            "1\n",
            "4\n"
          ]
        }
      ]
    },
    {
      "cell_type": "markdown",
      "source": [
        "###6-9063"
      ],
      "metadata": {
        "id": "OwDqXxPx87B2"
      }
    },
    {
      "cell_type": "code",
      "source": [
        "N = int(input())\n",
        "points = []\n",
        "for _ in range(N):\n",
        "    x, y = map(int, input().split())\n",
        "    points.append((x, y))\n",
        "\n",
        "x_min = min(points, key=lambda x: x[0])[0]\n",
        "x_max = max(points, key=lambda x: x[0])[0]\n",
        "y_min = min(points, key=lambda x: x[1])[1]\n",
        "y_max = max(points, key=lambda x: x[1])[1]\n",
        "\n",
        "print((x_max - x_min) * (y_max - y_min))"
      ],
      "metadata": {
        "colab": {
          "base_uri": "https://localhost:8080/"
        },
        "id": "3N2t4oYF9V5u",
        "outputId": "f37eb475-44d1-43db-c41e-a7c1d03788cb"
      },
      "execution_count": null,
      "outputs": [
        {
          "output_type": "stream",
          "name": "stdout",
          "text": [
            "3\n",
            "20 24\n",
            "40 21\n",
            "10 12\n",
            "360\n"
          ]
        }
      ]
    },
    {
      "cell_type": "markdown",
      "source": [
        "###7-10101"
      ],
      "metadata": {
        "id": "5lWHGO5d88zp"
      }
    },
    {
      "cell_type": "code",
      "source": [
        "a = int(input())\n",
        "b = int(input())\n",
        "c = int(input())\n",
        "if a == b == c == 60:\n",
        "    print(\"Equilateral\")\n",
        "\n",
        "elif a + b + c == 180:\n",
        "    if a == b or b == c or a == c:\n",
        "        print(\"Isosceles\")\n",
        "    else:\n",
        "        print(\"Scalene\")\n",
        "else:\n",
        "    print(\"Error\")"
      ],
      "metadata": {
        "colab": {
          "base_uri": "https://localhost:8080/"
        },
        "id": "cdXozcK19Voq",
        "outputId": "edf5ef97-a826-43ca-b3c6-763c15e9d7d6"
      },
      "execution_count": null,
      "outputs": [
        {
          "output_type": "stream",
          "name": "stdout",
          "text": [
            "60\n",
            "70\n",
            "50\n",
            "Scalene\n"
          ]
        }
      ]
    },
    {
      "cell_type": "markdown",
      "source": [
        "###8-5073"
      ],
      "metadata": {
        "id": "YrGtXaiE8-Np"
      }
    },
    {
      "cell_type": "code",
      "source": [
        "while True:\n",
        "    a, b, c = map(int, input().split())\n",
        "    if a == 0 and b == 0 and c == 0:\n",
        "        break\n",
        "    sides = sorted([a, b, c])\n",
        "    if sides[0] + sides[1] <= sides[2]:\n",
        "        print(\"Invalid\")\n",
        "    elif a == b == c:\n",
        "        print(\"Equilateral\")\n",
        "    elif a == b or b == c or a == c:\n",
        "        print(\"Isosceles\")\n",
        "    else:\n",
        "        print(\"Scalene\")"
      ],
      "metadata": {
        "colab": {
          "base_uri": "https://localhost:8080/"
        },
        "id": "zohYtBd49VNb",
        "outputId": "1e3540d1-1c30-4951-cd91-73d8b2b69265"
      },
      "execution_count": null,
      "outputs": [
        {
          "name": "stdout",
          "output_type": "stream",
          "text": [
            "7 7 7\n",
            "Equilateral\n",
            "6 5 4\n",
            "Scalene\n",
            "3 2 5\n",
            "Invalid\n",
            "6 2 6\n",
            "Isosceles\n",
            "0 0 0\n"
          ]
        }
      ]
    },
    {
      "cell_type": "markdown",
      "source": [
        "###9-14125"
      ],
      "metadata": {
        "id": "otUV_m3v8_0o"
      }
    },
    {
      "cell_type": "code",
      "source": [
        "a, b, c = map(int, input().split())\n",
        "sides = sorted([a, b, c])\n",
        "\n",
        "while sides[0] + sides[1] <= sides[2]:\n",
        "    sides[2] -= 1\n",
        "\n",
        "print(sum(sides))"
      ],
      "metadata": {
        "colab": {
          "base_uri": "https://localhost:8080/"
        },
        "id": "61SYJSOg9U9f",
        "outputId": "eb4b954f-6558-4f46-a77c-523240bb6e0b"
      },
      "execution_count": null,
      "outputs": [
        {
          "output_type": "stream",
          "name": "stdout",
          "text": [
            "41 64 16\n",
            "113\n"
          ]
        }
      ]
    },
    {
      "cell_type": "markdown",
      "source": [
        "###10-24262"
      ],
      "metadata": {
        "id": "H4FHYTzv9GEd"
      }
    },
    {
      "cell_type": "code",
      "source": [
        "n = int(input())\n",
        "\n",
        "print(1)\n",
        "print(0)"
      ],
      "metadata": {
        "colab": {
          "base_uri": "https://localhost:8080/"
        },
        "id": "2gjq6CYI9Urp",
        "outputId": "02fa57f7-be6a-4836-ffa5-1393f6cfc4aa"
      },
      "execution_count": null,
      "outputs": [
        {
          "output_type": "stream",
          "name": "stdout",
          "text": [
            "1\n",
            "1\n",
            "0\n"
          ]
        }
      ]
    },
    {
      "cell_type": "markdown",
      "source": [
        "###11-24263"
      ],
      "metadata": {
        "id": "pPCw5jjt9H2-"
      }
    },
    {
      "cell_type": "code",
      "source": [
        "n = int(input())\n",
        "\n",
        "print(n)\n",
        "\n",
        "if n <= 500000:\n",
        "    print(1)\n",
        "else:\n",
        "    print(4)"
      ],
      "metadata": {
        "colab": {
          "base_uri": "https://localhost:8080/"
        },
        "id": "GopQv_LC9UZ3",
        "outputId": "15ab8934-66e6-40e5-c307-9ac474c4aa06"
      },
      "execution_count": null,
      "outputs": [
        {
          "output_type": "stream",
          "name": "stdout",
          "text": [
            "7\n",
            "7\n",
            "1\n"
          ]
        }
      ]
    },
    {
      "cell_type": "markdown",
      "source": [
        "###12-24264"
      ],
      "metadata": {
        "id": "IDiMhElk9JuT"
      }
    },
    {
      "cell_type": "code",
      "source": [
        "n = int(input())\n",
        "\n",
        "print(n ** 2)\n",
        "\n",
        "if n <= 500000:\n",
        "    print(2)\n",
        "else:\n",
        "    print(4)"
      ],
      "metadata": {
        "colab": {
          "base_uri": "https://localhost:8080/"
        },
        "id": "0lPOfFl39UK1",
        "outputId": "db8d6c86-a288-48cd-d11d-93f44c1c9fec"
      },
      "execution_count": null,
      "outputs": [
        {
          "output_type": "stream",
          "name": "stdout",
          "text": [
            "7\n",
            "49\n",
            "2\n"
          ]
        }
      ]
    },
    {
      "cell_type": "markdown",
      "source": [
        "###13-24265"
      ],
      "metadata": {
        "id": "CCmWjsZw9LbK"
      }
    },
    {
      "cell_type": "code",
      "source": [
        "n = int(input())\n",
        "\n",
        "execution_count = n * (n - 1) // 2\n",
        "\n",
        "print(execution_count)\n",
        "print(2)"
      ],
      "metadata": {
        "colab": {
          "base_uri": "https://localhost:8080/"
        },
        "id": "M434IMCa9T65",
        "outputId": "6506d2e1-f1f7-40dd-e5ec-4d7d67ccf566"
      },
      "execution_count": null,
      "outputs": [
        {
          "output_type": "stream",
          "name": "stdout",
          "text": [
            "7\n",
            "21\n",
            "2\n"
          ]
        }
      ]
    },
    {
      "cell_type": "markdown",
      "source": [
        "###14-24266"
      ],
      "metadata": {
        "id": "VxHMR32_9M6y"
      }
    },
    {
      "cell_type": "code",
      "source": [
        "n = int(input())\n",
        "\n",
        "execution_count = n ** 3\n",
        "\n",
        "highest_degree = 3\n",
        "\n",
        "print(execution_count)\n",
        "print(highest_degree)"
      ],
      "metadata": {
        "colab": {
          "base_uri": "https://localhost:8080/"
        },
        "id": "-bcnFbM19Toa",
        "outputId": "d0b61081-bec5-421e-b03c-fab720efb3eb"
      },
      "execution_count": null,
      "outputs": [
        {
          "output_type": "stream",
          "name": "stdout",
          "text": [
            "7\n",
            "343\n",
            "3\n"
          ]
        }
      ]
    },
    {
      "cell_type": "markdown",
      "source": [
        "###15-24267"
      ],
      "metadata": {
        "id": "teo9KiZO9Oc6"
      }
    },
    {
      "cell_type": "code",
      "source": [
        "n = int(input())\n",
        "\n",
        "execution_count = (n * (n - 1) * (n - 2)) // 6 if n >= 3 else 0\n",
        "\n",
        "highest_degree = 3\n",
        "\n",
        "print(execution_count)\n",
        "print(highest_degree)"
      ],
      "metadata": {
        "colab": {
          "base_uri": "https://localhost:8080/"
        },
        "id": "4Mp1R02T9TRa",
        "outputId": "2a0e07d7-a411-4d75-d0f9-1aa517dd9356"
      },
      "execution_count": null,
      "outputs": [
        {
          "output_type": "stream",
          "name": "stdout",
          "text": [
            "7\n",
            "35\n",
            "3\n"
          ]
        }
      ]
    },
    {
      "cell_type": "markdown",
      "source": [
        "###16-24313"
      ],
      "metadata": {
        "id": "rv2IvldE9PhU"
      }
    },
    {
      "cell_type": "code",
      "source": [
        "a1, a0 = map(int, input().split())\n",
        "c = int(input())\n",
        "n0 = int(input())\n",
        "\n",
        "for n in range(n0, 101):\n",
        "    if a1 * n + a0 > c * n:\n",
        "        print(0)\n",
        "        break\n",
        "else:\n",
        "    print(1)"
      ],
      "metadata": {
        "colab": {
          "base_uri": "https://localhost:8080/"
        },
        "id": "GUl4s79W9S__",
        "outputId": "a4ea4a0c-66c6-4f7f-ef51-dd65019f6c73"
      },
      "execution_count": null,
      "outputs": [
        {
          "output_type": "stream",
          "name": "stdout",
          "text": [
            "7 7\n",
            "8\n",
            "1\n",
            "0\n"
          ]
        }
      ]
    },
    {
      "cell_type": "markdown",
      "source": [
        "#1/3"
      ],
      "metadata": {
        "id": "lEHTyHZlaWoG"
      }
    },
    {
      "cell_type": "markdown",
      "source": [
        "###1-2798"
      ],
      "metadata": {
        "id": "ilr1ipUDaafr"
      }
    },
    {
      "cell_type": "code",
      "source": [
        "N, M = map(int, input().split())\n",
        "cards = list(map(int, input().split()))\n",
        "closest_sum = 0\n",
        "\n",
        "for i in range(N):\n",
        "    for j in range(i + 1, N):\n",
        "        for k in range(j + 1, N):\n",
        "            sum_of_three = cards[i] + cards[j] + cards[k]\n",
        "            if sum_of_three > M:\n",
        "                continue\n",
        "            if closest_sum == 0 or abs(M - sum_of_three) < abs(M - closest_sum):\n",
        "                closest_sum = sum_of_three\n",
        "\n",
        "print(closest_sum)"
      ],
      "metadata": {
        "colab": {
          "base_uri": "https://localhost:8080/"
        },
        "id": "mjizpkWfaZlH",
        "outputId": "0c917322-f9d7-490e-ae26-ea9683ecbc8d"
      },
      "execution_count": null,
      "outputs": [
        {
          "output_type": "stream",
          "name": "stdout",
          "text": [
            "10 500\n",
            "93 181 245 214 315 36 185 138 216 195\n",
            "497\n"
          ]
        }
      ]
    },
    {
      "cell_type": "markdown",
      "source": [
        "###2-2231"
      ],
      "metadata": {
        "id": "Bs9419lfbGGn"
      }
    },
    {
      "cell_type": "code",
      "source": [
        "N = int(input())\n",
        "result = 0\n",
        "\n",
        "for i in range(1, N + 1):\n",
        "    digits = list(map(int, str(i)))\n",
        "    result = i + sum(digits)\n",
        "    if result == N:\n",
        "        print(i)\n",
        "        break\n",
        "else:\n",
        "    print(0)"
      ],
      "metadata": {
        "colab": {
          "base_uri": "https://localhost:8080/"
        },
        "id": "zdSEw5x7bHdB",
        "outputId": "a970eae5-77a7-4710-f664-55f0b4db57fa"
      },
      "execution_count": null,
      "outputs": [
        {
          "output_type": "stream",
          "name": "stdout",
          "text": [
            "216\n",
            "198\n"
          ]
        }
      ]
    },
    {
      "cell_type": "markdown",
      "source": [
        "###3-19532"
      ],
      "metadata": {
        "id": "UVnPVvOkbaqb"
      }
    },
    {
      "cell_type": "code",
      "source": [
        "a, b, c, d, e, f = map(int, input().split())\n",
        "\n",
        "if a * e - b * d != 0:\n",
        "    x = (c * e - b * f) / (a * e - b * d)\n",
        "    y = (a * f - c * d) / (a * e - b * d)\n",
        "    print(int(x), int(y))\n",
        "else:\n",
        "    print(0)"
      ],
      "metadata": {
        "colab": {
          "base_uri": "https://localhost:8080/"
        },
        "id": "wrIx9wtvbg8T",
        "outputId": "ac77ad73-be79-45f0-d393-7c51939090f9"
      },
      "execution_count": null,
      "outputs": [
        {
          "output_type": "stream",
          "name": "stdout",
          "text": [
            "1 3 -1 4 1 7\n",
            "2 -1\n"
          ]
        }
      ]
    },
    {
      "cell_type": "markdown",
      "source": [
        "###4-1018"
      ],
      "metadata": {
        "id": "MSbD7wP1byG3"
      }
    },
    {
      "cell_type": "code",
      "source": [
        "N, M = map(int, input().split())\n",
        "board = [input() for _ in range(N)]\n",
        "\n",
        "chess_pattern1 = [\n",
        "    \"WBWBWBWB\",\n",
        "    \"BWBWBWBW\",\n",
        "    \"WBWBWBWB\",\n",
        "    \"BWBWBWBW\",\n",
        "    \"WBWBWBWB\",\n",
        "    \"BWBWBWBW\",\n",
        "    \"WBWBWBWB\",\n",
        "    \"BWBWBWBW\"\n",
        "]\n",
        "\n",
        "chess_pattern2 = [\n",
        "    \"BWBWBWBW\",\n",
        "    \"WBWBWBWB\",\n",
        "    \"BWBWBWBW\",\n",
        "    \"WBWBWBWB\",\n",
        "    \"BWBWBWBW\",\n",
        "    \"WBWBWBWB\",\n",
        "    \"BWBWBWBW\",\n",
        "    \"WBWBWBWB\"\n",
        "]\n",
        "\n",
        "min_flips = float('inf')\n",
        "\n",
        "for i in range(N - 7):\n",
        "    for j in range(M - 7):\n",
        "        flips1 = 0\n",
        "        flips2 = 0\n",
        "        for k in range(8):\n",
        "            for l in range(8):\n",
        "                if board[i + k][j + l] != chess_pattern1[k][l]:\n",
        "                    flips1 += 1\n",
        "                if board[i + k][j + l] != chess_pattern2[k][l]:\n",
        "                    flips2 += 1\n",
        "        min_flips = min(min_flips, flips1, flips2)\n",
        "\n",
        "print(min_flips)"
      ],
      "metadata": {
        "colab": {
          "base_uri": "https://localhost:8080/"
        },
        "id": "atDm9AOtbzNA",
        "outputId": "2ef850da-cb7d-4e20-9ec2-d8ba7a697e48"
      },
      "execution_count": null,
      "outputs": [
        {
          "output_type": "stream",
          "name": "stdout",
          "text": [
            "11 12\n",
            "BWWBWWBWWBWW\n",
            "BWWBWBBWWBWW\n",
            "WBWWBWBBWWBW\n",
            "BWWBWBBWWBWW\n",
            "WBWWBWBBWWBW\n",
            "BWWBWBBWWBWW\n",
            "WBWWBWBBWWBW\n",
            "BWWBWBWWWBWW\n",
            "WBWWBWBBWWBW\n",
            "BWWBWBBWWBWW\n",
            "WBWWBWBBWWBW\n",
            "15\n"
          ]
        }
      ]
    },
    {
      "cell_type": "markdown",
      "source": [
        "###5-1436"
      ],
      "metadata": {
        "id": "a67w85GGdcEA"
      }
    },
    {
      "cell_type": "code",
      "source": [
        "N = int(input())\n",
        "\n",
        "count = 0\n",
        "num = 666\n",
        "\n",
        "while count < N:\n",
        "    if '666' in str(num):\n",
        "        count += 1\n",
        "    num += 1\n",
        "\n",
        "print(num - 1)"
      ],
      "metadata": {
        "colab": {
          "base_uri": "https://localhost:8080/"
        },
        "id": "1-DmFEWgddeu",
        "outputId": "74b9a36a-2322-4370-ac82-aefce1e1a5b0"
      },
      "execution_count": null,
      "outputs": [
        {
          "output_type": "stream",
          "name": "stdout",
          "text": [
            "187\n",
            "66666\n"
          ]
        }
      ]
    },
    {
      "cell_type": "markdown",
      "source": [
        "###6-2839"
      ],
      "metadata": {
        "id": "nhfTOJjIdyV8"
      }
    },
    {
      "cell_type": "code",
      "source": [
        "N = int(input())\n",
        "bag = 0\n",
        "\n",
        "while N >= 0:\n",
        "    if N % 5 == 0:\n",
        "        bag += N // 5\n",
        "        print(bag)\n",
        "        break\n",
        "    N -= 3\n",
        "    bag += 1\n",
        "else:\n",
        "    print(-1)"
      ],
      "metadata": {
        "colab": {
          "base_uri": "https://localhost:8080/"
        },
        "id": "8K3bNAcKdzvo",
        "outputId": "b7f9ba69-8729-4b44-cecf-60056d1c6d2f"
      },
      "execution_count": null,
      "outputs": [
        {
          "output_type": "stream",
          "name": "stdout",
          "text": [
            "11\n",
            "3\n"
          ]
        }
      ]
    },
    {
      "cell_type": "markdown",
      "source": [
        "###7-2750"
      ],
      "metadata": {
        "id": "7zMwdQBdeYjR"
      }
    },
    {
      "cell_type": "code",
      "source": [
        "N = int(input())\n",
        "nums = []\n",
        "\n",
        "for _ in range(N):\n",
        "    num = int(input())\n",
        "    nums.append(num)\n",
        "\n",
        "nums.sort()\n",
        "\n",
        "for num in nums:\n",
        "    print(num)"
      ],
      "metadata": {
        "colab": {
          "base_uri": "https://localhost:8080/"
        },
        "id": "7w6bXVM4eaYN",
        "outputId": "93b61440-3132-48c9-ef60-79d79bc25e08"
      },
      "execution_count": null,
      "outputs": [
        {
          "output_type": "stream",
          "name": "stdout",
          "text": [
            "5\n",
            "5\n",
            "2\n",
            "3\n",
            "4\n",
            "1\n",
            "1\n",
            "2\n",
            "3\n",
            "4\n",
            "5\n"
          ]
        }
      ]
    },
    {
      "cell_type": "markdown",
      "source": [
        "###8-2587"
      ],
      "metadata": {
        "id": "2tEuLvj7feZf"
      }
    },
    {
      "cell_type": "code",
      "source": [
        "nums = []\n",
        "\n",
        "for _ in range(5):\n",
        "    num = int(input())\n",
        "    nums.append(num)\n",
        "\n",
        "nums.sort()\n",
        "\n",
        "print(sum(nums) // 5)\n",
        "print(nums[2])"
      ],
      "metadata": {
        "colab": {
          "base_uri": "https://localhost:8080/"
        },
        "id": "XAbbCpVPfgEW",
        "outputId": "3195cf58-e823-495c-c4b9-fdaaf376c155"
      },
      "execution_count": null,
      "outputs": [
        {
          "output_type": "stream",
          "name": "stdout",
          "text": [
            "10\n",
            "40\n",
            "30\n",
            "60\n",
            "30\n",
            "34\n",
            "30\n"
          ]
        }
      ]
    },
    {
      "cell_type": "markdown",
      "source": [
        "###9-25305"
      ],
      "metadata": {
        "id": "UsTY5exTgZAt"
      }
    },
    {
      "cell_type": "code",
      "source": [
        "N, k = map(int, input().split())\n",
        "scores = list(map(int, input().split()))\n",
        "scores.sort(reverse=True)\n",
        "print(scores[k - 1])"
      ],
      "metadata": {
        "colab": {
          "base_uri": "https://localhost:8080/"
        },
        "id": "JMGpqq9DgaoF",
        "outputId": "503a5c0f-afeb-4ac5-8dd7-2ab3796b504f"
      },
      "execution_count": null,
      "outputs": [
        {
          "output_type": "stream",
          "name": "stdout",
          "text": [
            "5 2\n",
            "100 76 85 93 98\n",
            "98\n"
          ]
        }
      ]
    },
    {
      "cell_type": "markdown",
      "source": [
        "###10-2751"
      ],
      "metadata": {
        "id": "TlwyMTsLg7gi"
      }
    },
    {
      "cell_type": "code",
      "source": [
        "import sys\n",
        "input=sys.stdin.readline\n",
        "\n",
        "n=int(input())\n",
        "li=[]\n",
        "\n",
        "for i in range(n):\n",
        "    li.append(int(input()))\n",
        "\n",
        "for i in sorted(li):\n",
        "    print(i)"
      ],
      "metadata": {
        "id": "NGoXWX7Jil_E"
      },
      "execution_count": null,
      "outputs": []
    },
    {
      "cell_type": "markdown",
      "source": [
        "###11-10989"
      ],
      "metadata": {
        "id": "YMpZuBjjhOmu"
      }
    },
    {
      "cell_type": "code",
      "source": [
        "import sys\n",
        "\n",
        "def input():\n",
        "    return sys.stdin.readline()\n",
        "\n",
        "n = int(input())\n",
        "\n",
        "count = [0] * 10001\n",
        "\n",
        "for _ in range(n):\n",
        "    num = int(input())\n",
        "    count[num] += 1\n",
        "\n",
        "for i in range(1, 10001):\n",
        "    if count[i] != 0:\n",
        "        for _ in range(count[i]):\n",
        "            print(i)"
      ],
      "metadata": {
        "id": "k0A-pfSMj9tk"
      },
      "execution_count": null,
      "outputs": []
    },
    {
      "cell_type": "markdown",
      "source": [
        "###12-1427"
      ],
      "metadata": {
        "id": "-C7vWAsXkbKt"
      }
    },
    {
      "cell_type": "code",
      "source": [
        "N = int(input())\n",
        "nums = list(map(int, str(N)))\n",
        "nums.sort(reverse=True)\n",
        "print(''.join(map(str, nums)))"
      ],
      "metadata": {
        "colab": {
          "base_uri": "https://localhost:8080/"
        },
        "id": "z-9wLAbokdhP",
        "outputId": "fe54329c-c4a7-4c94-db27-f376ad11b6a6"
      },
      "execution_count": null,
      "outputs": [
        {
          "output_type": "stream",
          "name": "stdout",
          "text": [
            "2143\n",
            "4321\n"
          ]
        }
      ]
    },
    {
      "cell_type": "markdown",
      "source": [
        "###13-11650"
      ],
      "metadata": {
        "id": "p92rvQGYk5DP"
      }
    },
    {
      "cell_type": "code",
      "source": [
        "N = int(input())\n",
        "points = []\n",
        "\n",
        "for _ in range(N):\n",
        "    x, y = map(int, input().split())\n",
        "    points.append((x, y))\n",
        "\n",
        "points.sort(key=lambda point: (point[0], point[1]))\n",
        "\n",
        "for x, y in points:\n",
        "    print(x, y)"
      ],
      "metadata": {
        "colab": {
          "base_uri": "https://localhost:8080/"
        },
        "id": "T2KQ4X5zk_CW",
        "outputId": "7d4d4089-6cfa-47c4-ba70-dede7f6dacdd"
      },
      "execution_count": null,
      "outputs": [
        {
          "output_type": "stream",
          "name": "stdout",
          "text": [
            "5\n",
            "3 4\n",
            "1 1\n",
            "1 -1\n",
            "2 2\n",
            "3 3\n",
            "1 -1\n",
            "1 1\n",
            "2 2\n",
            "3 3\n",
            "3 4\n"
          ]
        }
      ]
    },
    {
      "cell_type": "markdown",
      "source": [
        "###14-11651"
      ],
      "metadata": {
        "id": "RYCwDLNomD8A"
      }
    },
    {
      "cell_type": "code",
      "source": [
        "N = int(input())\n",
        "points = []\n",
        "\n",
        "for _ in range(N):\n",
        "    x, y = map(int, input().split())\n",
        "    points.append((x, y))\n",
        "\n",
        "points.sort(key=lambda point: (point[1], point[0]))\n",
        "\n",
        "for x, y in points:\n",
        "    print(x, y)"
      ],
      "metadata": {
        "colab": {
          "base_uri": "https://localhost:8080/"
        },
        "id": "l0mbILyWmFBN",
        "outputId": "655d81e1-f957-4893-d4a3-144d6b67b105"
      },
      "execution_count": null,
      "outputs": [
        {
          "output_type": "stream",
          "name": "stdout",
          "text": [
            "5\n",
            "0 4\n",
            "1 2\n",
            "1 -1\n",
            "2 2\n",
            "3 3\n",
            "1 -1\n",
            "1 2\n",
            "2 2\n",
            "3 3\n",
            "0 4\n"
          ]
        }
      ]
    },
    {
      "cell_type": "markdown",
      "source": [
        "###15-1181"
      ],
      "metadata": {
        "id": "0hg2nlUWeXxq"
      }
    },
    {
      "cell_type": "code",
      "source": [
        "N = int(input())\n",
        "words = []\n",
        "\n",
        "for _ in range(N):\n",
        "    word = input()\n",
        "    words.append(word)\n",
        "\n",
        "words = list(set(words))\n",
        "words.sort()\n",
        "words.sort(key=len)\n",
        "\n",
        "for word in words:\n",
        "    print(word)"
      ],
      "metadata": {
        "colab": {
          "base_uri": "https://localhost:8080/"
        },
        "id": "a8utgUcgnHeN",
        "outputId": "e0789af4-ba66-4341-8e9a-b7afe618f40e"
      },
      "execution_count": null,
      "outputs": [
        {
          "output_type": "stream",
          "name": "stdout",
          "text": [
            "13\n",
            "but\n",
            "i\n",
            "wont\n",
            "hesitate\n",
            "no\n",
            "more\n",
            "no\n",
            "more\n",
            "it\n",
            "cannot\n",
            "wait\n",
            "im\n",
            "yours\n",
            "i\n",
            "im\n",
            "it\n",
            "no\n",
            "but\n",
            "more\n",
            "wait\n",
            "wont\n",
            "yours\n",
            "cannot\n",
            "hesitate\n"
          ]
        }
      ]
    },
    {
      "cell_type": "markdown",
      "source": [
        "#1/4"
      ],
      "metadata": {
        "id": "roehsjX6opWN"
      }
    },
    {
      "cell_type": "markdown",
      "source": [
        "###1-10814"
      ],
      "metadata": {
        "id": "LleyBAO4owS6"
      }
    },
    {
      "cell_type": "code",
      "source": [
        "N = int(input())\n",
        "members = []\n",
        "\n",
        "for _ in range(N):\n",
        "    age, name = input().split()\n",
        "    members.append((int(age), name))\n",
        "\n",
        "members.sort(key=lambda member: member[0])\n",
        "\n",
        "for age, name in members:\n",
        "    print(age, name)"
      ],
      "metadata": {
        "colab": {
          "base_uri": "https://localhost:8080/"
        },
        "id": "hSJ7NFmloukJ",
        "outputId": "3e07ab4f-ae1a-4467-e07b-012c071775a1"
      },
      "execution_count": null,
      "outputs": [
        {
          "output_type": "stream",
          "name": "stdout",
          "text": [
            "3\n",
            "21 Junkyu\n",
            "21 Dohyun\n",
            "20 Sunyoung\n",
            "20 Sunyoung\n",
            "21 Junkyu\n",
            "21 Dohyun\n"
          ]
        }
      ]
    },
    {
      "cell_type": "markdown",
      "source": [
        "#1/5"
      ],
      "metadata": {
        "id": "ks4fTsta0r33"
      }
    },
    {
      "cell_type": "markdown",
      "source": [
        "###1-18870"
      ],
      "metadata": {
        "id": "BqA--Yg802vc"
      }
    },
    {
      "cell_type": "code",
      "source": [
        "N = int(input())\n",
        "nums = list(map(int, input().split()))\n",
        "\n",
        "sorted_nums = sorted(set(nums))\n",
        "num_dict = {sorted_nums[i]: i for i in range(len(sorted_nums))}\n",
        "\n",
        "for num in nums:\n",
        "    print(num_dict[num], end=' ')"
      ],
      "metadata": {
        "colab": {
          "base_uri": "https://localhost:8080/"
        },
        "id": "bqvz2FC_0upe",
        "outputId": "508ca700-4839-4cb1-f847-cc30e8e85895"
      },
      "execution_count": null,
      "outputs": [
        {
          "output_type": "stream",
          "name": "stdout",
          "text": [
            "5\n",
            "2 4 -10 4 -9\n",
            "2 3 0 3 1 "
          ]
        }
      ]
    },
    {
      "cell_type": "markdown",
      "source": [
        "#1/6"
      ],
      "metadata": {
        "id": "X14uOfejO53y"
      }
    },
    {
      "cell_type": "markdown",
      "source": [
        "###1-10815"
      ],
      "metadata": {
        "id": "sTukuNe_O71t"
      }
    },
    {
      "cell_type": "code",
      "source": [
        "N = int(input())\n",
        "cards = set(map(int, input().split()))\n",
        "M = int(input())\n",
        "nums = list(map(int, input().split()))\n",
        "\n",
        "for num in nums:\n",
        "    if num in cards:\n",
        "        print(1, end=' ')\n",
        "    else:\n",
        "        print(0, end=' ')"
      ],
      "metadata": {
        "colab": {
          "base_uri": "https://localhost:8080/"
        },
        "id": "CZ8nl3YrPIRh",
        "outputId": "5c971bf2-02b1-4cfd-9cd0-e35090b595ff"
      },
      "execution_count": null,
      "outputs": [
        {
          "output_type": "stream",
          "name": "stdout",
          "text": [
            "5\n",
            "6 3 2 10 -10\n",
            "8\n",
            "10 9 -5 2 3 4 5 -10\n",
            "1 0 0 1 1 0 0 1 "
          ]
        }
      ]
    },
    {
      "cell_type": "markdown",
      "source": [
        "###2-14425"
      ],
      "metadata": {
        "id": "vtaSlbM06-TU"
      }
    },
    {
      "cell_type": "code",
      "source": [
        "N, M = map(int, input().split())\n",
        "words = set()\n",
        "\n",
        "for _ in range(N):\n",
        "    word = input()\n",
        "    words.add(word)\n",
        "\n",
        "count = 0\n",
        "for _ in range(M):\n",
        "    word = input()\n",
        "    if word in words:\n",
        "        count += 1\n",
        "\n",
        "print(count)"
      ],
      "metadata": {
        "colab": {
          "base_uri": "https://localhost:8080/"
        },
        "id": "2JQzYkKk6-lt",
        "outputId": "e865d776-e267-4631-d0e9-639bb9a82608"
      },
      "execution_count": null,
      "outputs": [
        {
          "output_type": "stream",
          "name": "stdout",
          "text": [
            "5 11\n",
            "baekjoononlinejudge\n",
            "startlink\n",
            "codeplus\n",
            "sundaycoding\n",
            "codingsh\n",
            "baekjoon\n",
            "codeplus\n",
            "codeminus\n",
            "startlink\n",
            "starlink\n",
            "sundaycoding\n",
            "codingsh\n",
            "codinghs\n",
            "sondaycoding\n",
            "startrink\n",
            "icerink\n",
            "4\n"
          ]
        }
      ]
    },
    {
      "cell_type": "markdown",
      "source": [
        "###3-7785"
      ],
      "metadata": {
        "id": "wHJoHuzs77hV"
      }
    },
    {
      "cell_type": "code",
      "source": [
        "n = int(input())\n",
        "\n",
        "current_people = set()\n",
        "\n",
        "for _ in range(n):\n",
        "    name, action = input().split()\n",
        "    if action == \"enter\":\n",
        "        current_people.add(name)\n",
        "    elif action == \"leave\":\n",
        "        current_people.discard(name)\n",
        "\n",
        "for name in sorted(current_people, reverse=True):\n",
        "    print(name)"
      ],
      "metadata": {
        "colab": {
          "base_uri": "https://localhost:8080/"
        },
        "id": "MBleJ-Jo7717",
        "outputId": "bfbe9003-711b-405f-c73b-6ad64673a3a7"
      },
      "execution_count": null,
      "outputs": [
        {
          "output_type": "stream",
          "name": "stdout",
          "text": [
            "4\n",
            "Baha enter\n",
            "Askar enter\n",
            "Baha leave\n",
            "Artem enter\n",
            "Askar\n",
            "Artem\n"
          ]
        }
      ]
    },
    {
      "cell_type": "markdown",
      "source": [
        "###4-1620"
      ],
      "metadata": {
        "id": "17U66wY09Il5"
      }
    },
    {
      "cell_type": "code",
      "source": [
        "N, M = map(int, input().split())\n",
        "\n",
        "name_to_number = {}\n",
        "number_to_name = {}\n",
        "\n",
        "for i in range(1, N + 1):\n",
        "    pokemon = input().strip()\n",
        "    name_to_number[pokemon] = i\n",
        "    number_to_name[i] = pokemon\n",
        "\n",
        "answers = []\n",
        "for _ in range(M):\n",
        "    query = input().strip()\n",
        "    if query.isdigit():\n",
        "        answers.append(number_to_name[int(query)])\n",
        "    else:\n",
        "        answers.append(name_to_number[query])\n",
        "\n",
        "print(\"\\n\".join(map(str, answers)))"
      ],
      "metadata": {
        "colab": {
          "base_uri": "https://localhost:8080/"
        },
        "id": "YddtCXxe9Ix7",
        "outputId": "e628d546-9c9e-4819-9998-6bc0e010419f"
      },
      "execution_count": null,
      "outputs": [
        {
          "output_type": "stream",
          "name": "stdout",
          "text": [
            "26 5\n",
            "Bulbasaur\n",
            "Ivysaur\n",
            "Venusaur\n",
            "Charmander\n",
            "Charmeleon\n",
            "Charizard\n",
            "Squirtle\n",
            "Wartortle\n",
            "Blastoise\n",
            "Caterpie\n",
            "Metapod\n",
            "Butterfree\n",
            "Weedle\n",
            "Kakuna\n",
            "Beedrill\n",
            "Pidgey\n",
            "Pidgeotto\n",
            "Pidgeot\n",
            "Rattata\n",
            "Raticate\n",
            "Spearow\n",
            "Fearow\n",
            "Ekans\n",
            "Arbok\n",
            "Pikachu\n",
            "Raichu\n",
            "25\n",
            "Raichu\n",
            "3\n",
            "Pidgey\n",
            "Kakuna\n",
            "Pikachu\n",
            "26\n",
            "Venusaur\n",
            "16\n",
            "14\n"
          ]
        }
      ]
    },
    {
      "cell_type": "markdown",
      "source": [
        "###5-10816"
      ],
      "metadata": {
        "id": "RRgwHhUd-dRq"
      }
    },
    {
      "cell_type": "code",
      "source": [
        "N = int(input())\n",
        "cards = list(map(int, input().split()))\n",
        "M = int(input())\n",
        "nums = list(map(int, input().split()))\n",
        "\n",
        "card_dict = {}\n",
        "\n",
        "for card in cards:\n",
        "    if card in card_dict:\n",
        "        card_dict[card] += 1\n",
        "    else:\n",
        "        card_dict[card] = 1\n",
        "\n",
        "for num in nums:\n",
        "    if num in card_dict:\n",
        "        print(card_dict[num], end=' ')\n",
        "    else:\n",
        "        print(0, end=' ')"
      ],
      "metadata": {
        "colab": {
          "base_uri": "https://localhost:8080/"
        },
        "id": "Eqs_k0uq-fL1",
        "outputId": "48dda00e-45b6-44cf-b4c7-b1a2e42ba766"
      },
      "execution_count": null,
      "outputs": [
        {
          "output_type": "stream",
          "name": "stdout",
          "text": [
            "10\n",
            "6 3 2 10 10 10 -10 -10 7 3\n",
            "8\n",
            "10 9 -5 2 3 4 5 -10\n",
            "3 0 0 1 2 0 0 2 "
          ]
        }
      ]
    },
    {
      "cell_type": "markdown",
      "source": [
        "###6-1764"
      ],
      "metadata": {
        "id": "St4RyHCsAjEo"
      }
    },
    {
      "cell_type": "code",
      "source": [
        "N, M = map(int, input().split())\n",
        "\n",
        "non = set()\n",
        "both = set()\n",
        "\n",
        "for _ in range(N):\n",
        "    name = input()\n",
        "    non.add(name)\n",
        "\n",
        "for _ in range(M):\n",
        "    name = input()\n",
        "    if name in non:\n",
        "        both.add(name)\n",
        "\n",
        "print(len(both))\n",
        "for name in sorted(both):\n",
        "    print(name)"
      ],
      "metadata": {
        "colab": {
          "base_uri": "https://localhost:8080/"
        },
        "id": "6oINrBjPAk7R",
        "outputId": "48e02ba0-7407-4aed-ca7c-d8c26018e0e8"
      },
      "execution_count": null,
      "outputs": [
        {
          "output_type": "stream",
          "name": "stdout",
          "text": [
            "3 4\n",
            "ohhenrie\n",
            "charlie\n",
            "baesangwook\n",
            "obama\n",
            "baesangwook\n",
            "ohhenrie\n",
            "clinton\n",
            "2\n",
            "baesangwook\n",
            "ohhenrie\n"
          ]
        }
      ]
    },
    {
      "cell_type": "markdown",
      "source": [
        "###7-1269"
      ],
      "metadata": {
        "id": "nPMll1wTBNIt"
      }
    },
    {
      "cell_type": "code",
      "source": [
        "A, B = map(int, input().split())\n",
        "set_A = set(map(int, input().split()))\n",
        "set_B = set(map(int, input().split()))\n",
        "\n",
        "union = set_A.union(set_B)\n",
        "intersection = set_A.intersection(set_B)\n",
        "\n",
        "result = len(union) - len(intersection)\n",
        "print(result)"
      ],
      "metadata": {
        "colab": {
          "base_uri": "https://localhost:8080/"
        },
        "id": "8jFb_mVyBQAX",
        "outputId": "85bc0499-0385-4268-a231-2e21cb8b0741"
      },
      "execution_count": null,
      "outputs": [
        {
          "output_type": "stream",
          "name": "stdout",
          "text": [
            "3 5\n",
            "1 2 4\n",
            "2 3 4 5 6\n",
            "4\n"
          ]
        }
      ]
    },
    {
      "cell_type": "markdown",
      "source": [
        "###8-11478"
      ],
      "metadata": {
        "id": "cR9ZouLDBgKK"
      }
    },
    {
      "cell_type": "code",
      "source": [
        "S = input()\n",
        "substrings = set()\n",
        "\n",
        "for i in range(len(S)):\n",
        "    for j in range(i + 1, len(S) + 1):\n",
        "        substrings.add(S[i:j])\n",
        "\n",
        "print(len(substrings))"
      ],
      "metadata": {
        "colab": {
          "base_uri": "https://localhost:8080/"
        },
        "id": "nw9dat9HEAsp",
        "outputId": "c864dcb8-8239-464f-ad4e-9ed71da1c52f"
      },
      "execution_count": null,
      "outputs": [
        {
          "output_type": "stream",
          "name": "stdout",
          "text": [
            "ababc\n",
            "12\n"
          ]
        }
      ]
    },
    {
      "cell_type": "markdown",
      "source": [
        "###9-1934"
      ],
      "metadata": {
        "id": "SejwU2mRE7ZR"
      }
    },
    {
      "cell_type": "code",
      "source": [
        "T = int(input())\n",
        "\n",
        "def gcd(a, b):\n",
        "    while b != 0:\n",
        "        a, b = b, a % b\n",
        "    return a\n",
        "\n",
        "for _ in range(T):\n",
        "    A, B = map(int, input().split())\n",
        "    lcm = (A * B) // gcd(A, B)\n",
        "    print(lcm)"
      ],
      "metadata": {
        "colab": {
          "base_uri": "https://localhost:8080/"
        },
        "id": "A5klqDUXFI9X",
        "outputId": "c4332517-ee7c-4744-f754-600a51a3ccdf"
      },
      "execution_count": null,
      "outputs": [
        {
          "output_type": "stream",
          "name": "stdout",
          "text": [
            "3\n",
            "1 45000\n",
            "45000\n",
            "6 10\n",
            "30\n",
            "13 17\n",
            "221\n"
          ]
        }
      ]
    },
    {
      "cell_type": "markdown",
      "source": [
        "###10-13241"
      ],
      "metadata": {
        "id": "iD4p0iq3E-P5"
      }
    },
    {
      "cell_type": "code",
      "source": [
        "A, B = map(int, input().split())\n",
        "\n",
        "def gcd(a, b):\n",
        "    while b != 0:\n",
        "        a, b = b, a % b\n",
        "    return a\n",
        "\n",
        "lcm = (A * B) // gcd(A, B)\n",
        "print(lcm)"
      ],
      "metadata": {
        "colab": {
          "base_uri": "https://localhost:8080/"
        },
        "id": "SJKBydTdFJgd",
        "outputId": "8008a7e1-273d-44de-e43a-0e35362a18e0"
      },
      "execution_count": null,
      "outputs": [
        {
          "output_type": "stream",
          "name": "stdout",
          "text": [
            "1 1\n",
            "1\n"
          ]
        }
      ]
    },
    {
      "cell_type": "markdown",
      "source": [
        "###11-1735"
      ],
      "metadata": {
        "id": "C4VCLmLuE_tJ"
      }
    },
    {
      "cell_type": "code",
      "source": [
        "from math import gcd\n",
        "\n",
        "a1, b1 = map(int, input().split())\n",
        "a2, b2 = map(int, input().split())\n",
        "\n",
        "numerator = a1 * b2 + a2 * b1\n",
        "denominator = b1 * b2\n",
        "\n",
        "g = gcd(numerator, denominator)\n",
        "numerator //= g\n",
        "denominator //= g\n",
        "\n",
        "print(numerator, denominator)"
      ],
      "metadata": {
        "colab": {
          "base_uri": "https://localhost:8080/"
        },
        "id": "OX_Xpg7AFJ6Y",
        "outputId": "b1b757d5-6fb0-4cfb-cf81-f335c7582dd2"
      },
      "execution_count": null,
      "outputs": [
        {
          "output_type": "stream",
          "name": "stdout",
          "text": [
            "2 7\n",
            "3 5\n",
            "31 35\n"
          ]
        }
      ]
    },
    {
      "cell_type": "markdown",
      "source": [
        "###12-2485"
      ],
      "metadata": {
        "id": "R84pvSk6FA5L"
      }
    },
    {
      "cell_type": "code",
      "source": [
        "from math import gcd\n",
        "from functools import reduce\n",
        "\n",
        "N = int(input())\n",
        "positions = [int(input()) for _ in range(N)]\n",
        "\n",
        "distances = [positions[i+1] - positions[i] for i in range(N - 1)]\n",
        "\n",
        "common_gcd = reduce(gcd, distances)\n",
        "\n",
        "result = sum((distance // common_gcd) - 1 for distance in distances)\n",
        "\n",
        "print(result)"
      ],
      "metadata": {
        "colab": {
          "base_uri": "https://localhost:8080/"
        },
        "id": "zElTSud3FKN1",
        "outputId": "d1343464-2164-4d59-8699-26c82bddd775"
      },
      "execution_count": null,
      "outputs": [
        {
          "output_type": "stream",
          "name": "stdout",
          "text": [
            "4\n",
            "1\n",
            "3\n",
            "7\n",
            "13\n",
            "3\n"
          ]
        }
      ]
    },
    {
      "cell_type": "markdown",
      "source": [
        "###13-4134"
      ],
      "metadata": {
        "id": "1Q5LeldvFCJP"
      }
    },
    {
      "cell_type": "code",
      "source": [
        "import math\n",
        "\n",
        "def is_prime(num):\n",
        "    if num <= 1:\n",
        "        return False\n",
        "    if num <= 3:\n",
        "        return True\n",
        "    if num % 2 == 0 or num % 3 == 0:\n",
        "        return False\n",
        "    i = 5\n",
        "    while i * i <= num:\n",
        "        if num % i == 0 or num % (i + 2) == 0:\n",
        "            return False\n",
        "        i += 6\n",
        "    return True\n",
        "\n",
        "def next_prime(n):\n",
        "    if n <= 2:\n",
        "        return 2\n",
        "    if n % 2 == 0:\n",
        "        n += 1\n",
        "    while not is_prime(n):\n",
        "        n += 2\n",
        "    return n\n",
        "\n",
        "t = int(input())\n",
        "results = []\n",
        "for _ in range(t):\n",
        "    n = int(input())\n",
        "    results.append(next_prime(n))\n",
        "\n",
        "print(\"\\n\".join(map(str, results)))"
      ],
      "metadata": {
        "colab": {
          "base_uri": "https://localhost:8080/"
        },
        "id": "KrjebJsdFKwp",
        "outputId": "757f5ebf-34c7-4cdc-904d-07e74677ec51"
      },
      "execution_count": null,
      "outputs": [
        {
          "output_type": "stream",
          "name": "stdout",
          "text": [
            "3\n",
            "6\n",
            "20\n",
            "100\n",
            "7\n",
            "23\n",
            "101\n"
          ]
        }
      ]
    },
    {
      "cell_type": "markdown",
      "source": [
        "###14-1929"
      ],
      "metadata": {
        "id": "eLTf-9l1FDbk"
      }
    },
    {
      "cell_type": "code",
      "source": [
        "M, N = map(int, input().split())\n",
        "\n",
        "def is_prime(num):\n",
        "    if num <= 1:\n",
        "        return False\n",
        "    if num <= 3:\n",
        "        return True\n",
        "    if num % 2 == 0 or num % 3 == 0:\n",
        "        return False\n",
        "    i = 5\n",
        "    while i * i <= num:\n",
        "        if num % i == 0 or num % (i + 2) == 0:\n",
        "            return False\n",
        "        i += 6\n",
        "    return True\n",
        "\n",
        "for num in range(M, N + 1):\n",
        "    if is_prime(num):\n",
        "        print(num)"
      ],
      "metadata": {
        "colab": {
          "base_uri": "https://localhost:8080/"
        },
        "id": "mSSf3b-UFLEm",
        "outputId": "bec132d8-4437-407f-dae4-2a2a14437db0"
      },
      "execution_count": null,
      "outputs": [
        {
          "output_type": "stream",
          "name": "stdout",
          "text": [
            "3 16\n",
            "3\n",
            "5\n",
            "7\n",
            "11\n",
            "13\n"
          ]
        }
      ]
    },
    {
      "cell_type": "markdown",
      "source": [
        "###15-4948"
      ],
      "metadata": {
        "id": "xuC-4ivEFErP"
      }
    },
    {
      "cell_type": "code",
      "source": [
        "import math\n",
        "\n",
        "def sieve_of_eratosthenes(limit):\n",
        "    is_prime = [True] * (limit + 1)\n",
        "    is_prime[0] = is_prime[1] = False\n",
        "    for i in range(2, int(math.sqrt(limit)) + 1):\n",
        "        if is_prime[i]:\n",
        "            for j in range(i * i, limit + 1, i):\n",
        "                is_prime[j] = False\n",
        "    return is_prime\n",
        "\n",
        "def count_primes_in_range(is_prime, n):\n",
        "    count = 0\n",
        "    for i in range(n + 1, 2 * n + 1):\n",
        "        if is_prime[i]:\n",
        "            count += 1\n",
        "    return count\n",
        "\n",
        "def main():\n",
        "    limit = 123456 * 2\n",
        "    is_prime = sieve_of_eratosthenes(limit)\n",
        "\n",
        "    results = []\n",
        "    while True:\n",
        "        n = int(input())\n",
        "        if n == 0:\n",
        "            break\n",
        "        results.append(count_primes_in_range(is_prime, n))\n",
        "\n",
        "    for result in results:\n",
        "        print(result)\n",
        "\n",
        "if __name__ == \"__main__\":\n",
        "    main()"
      ],
      "metadata": {
        "colab": {
          "base_uri": "https://localhost:8080/"
        },
        "id": "oHp2iFTIFLlk",
        "outputId": "a25a5c73-3e05-4270-e929-4c9ef482afa1"
      },
      "execution_count": null,
      "outputs": [
        {
          "output_type": "stream",
          "name": "stdout",
          "text": [
            "1\n",
            "10\n",
            "13\n",
            "100\n",
            "1000\n",
            "10000\n",
            "100000\n",
            "0\n",
            "1\n",
            "4\n",
            "3\n",
            "21\n",
            "135\n",
            "1033\n",
            "8392\n"
          ]
        }
      ]
    },
    {
      "cell_type": "markdown",
      "source": [
        "###16-17103"
      ],
      "metadata": {
        "id": "kEyqP2E1FHEK"
      }
    },
    {
      "cell_type": "code",
      "source": [
        "import math\n",
        "\n",
        "def sieve_of_eratosthenes(limit):\n",
        "    is_prime = [True] * (limit + 1)\n",
        "    is_prime[0] = is_prime[1] = False\n",
        "    for i in range(2, int(math.sqrt(limit)) + 1):\n",
        "        if is_prime[i]:\n",
        "            for j in range(i * i, limit + 1, i):\n",
        "                is_prime[j] = False\n",
        "    return is_prime\n",
        "\n",
        "def count_goldbach_partitions(n, is_prime):\n",
        "    count = 0\n",
        "    for i in range(2, n // 2 + 1):\n",
        "        if is_prime[i] and is_prime[n - i]:\n",
        "            count += 1\n",
        "    return count\n",
        "\n",
        "def main():\n",
        "    limit = 1_000_000\n",
        "    is_prime = sieve_of_eratosthenes(limit)\n",
        "\n",
        "    T = int(input())\n",
        "    results = []\n",
        "    for _ in range(T):\n",
        "        N = int(input())\n",
        "        results.append(count_goldbach_partitions(N, is_prime))\n",
        "\n",
        "    for result in results:\n",
        "        print(result)\n",
        "\n",
        "if __name__ == \"__main__\":\n",
        "    main()"
      ],
      "metadata": {
        "colab": {
          "base_uri": "https://localhost:8080/"
        },
        "id": "N_TLPZNgFL3g",
        "outputId": "755a9947-2ceb-4e04-9059-d6be5bcfb8a4"
      },
      "execution_count": null,
      "outputs": [
        {
          "output_type": "stream",
          "name": "stdout",
          "text": [
            "5\n",
            "6\n",
            "8\n",
            "10\n",
            "12\n",
            "100\n",
            "1\n",
            "1\n",
            "2\n",
            "1\n",
            "6\n"
          ]
        }
      ]
    },
    {
      "cell_type": "markdown",
      "source": [
        "#1/7"
      ],
      "metadata": {
        "id": "7A3DqitAmr5s"
      }
    },
    {
      "cell_type": "markdown",
      "source": [
        "###1-13909"
      ],
      "metadata": {
        "id": "5IIP-ECzmvyc"
      }
    },
    {
      "cell_type": "code",
      "source": [
        "import math\n",
        "\n",
        "N = int(input())\n",
        "\n",
        "result = int(math.sqrt(N))\n",
        "\n",
        "print(result)"
      ],
      "metadata": {
        "colab": {
          "base_uri": "https://localhost:8080/"
        },
        "id": "QanPXZzGmwOd",
        "outputId": "27efa140-2682-4555-df03-47f14c1955cd"
      },
      "execution_count": null,
      "outputs": [
        {
          "output_type": "stream",
          "name": "stdout",
          "text": [
            "3\n",
            "1\n"
          ]
        }
      ]
    },
    {
      "cell_type": "markdown",
      "source": [
        "###2-28278"
      ],
      "metadata": {
        "id": "_mFGiAVRoWmr"
      }
    },
    {
      "cell_type": "code",
      "source": [
        "import sys\n",
        "input = sys.stdin.read\n",
        "\n",
        "data = input().splitlines()\n",
        "N = int(data[0])\n",
        "commands = data[1:]\n",
        "\n",
        "stack = []\n",
        "result = []\n",
        "\n",
        "for command in commands:\n",
        "    parts = command.split()\n",
        "    cmd = parts[0]\n",
        "\n",
        "    if cmd == '1':\n",
        "        stack.append(int(parts[1]))\n",
        "    elif cmd == '2':\n",
        "        if stack:\n",
        "            result.append(stack.pop())\n",
        "        else:\n",
        "            result.append(-1)\n",
        "    elif cmd == '3':\n",
        "        result.append(len(stack))\n",
        "    elif cmd == '4':\n",
        "        result.append(1 if not stack else 0)\n",
        "    elif cmd == '5':\n",
        "        if stack:\n",
        "            result.append(stack[-1])\n",
        "        else:\n",
        "            result.append(-1)\n",
        "\n",
        "sys.stdout.write('\\n'.join(map(str, result)) + '\\n')"
      ],
      "metadata": {
        "id": "Yfg8lTQyp7nE"
      },
      "execution_count": null,
      "outputs": []
    },
    {
      "cell_type": "markdown",
      "source": [
        "###3-10773"
      ],
      "metadata": {
        "id": "eUGHC5Y_qB5p"
      }
    },
    {
      "cell_type": "code",
      "source": [
        "K = int(input())\n",
        "stack = []\n",
        "\n",
        "for _ in range(K):\n",
        "    x = int(input())\n",
        "    if x == 0:\n",
        "        stack.pop()\n",
        "    else:\n",
        "        stack.append(x)\n",
        "\n",
        "print(sum(stack))"
      ],
      "metadata": {
        "colab": {
          "base_uri": "https://localhost:8080/"
        },
        "id": "9f4PGSt1qCJk",
        "outputId": "9954655f-d470-4a9f-94f1-30ada6e391cf"
      },
      "execution_count": null,
      "outputs": [
        {
          "output_type": "stream",
          "name": "stdout",
          "text": [
            "4\n",
            "3\n",
            "0\n",
            "4\n",
            "0\n",
            "0\n"
          ]
        }
      ]
    },
    {
      "cell_type": "markdown",
      "source": [
        "###4-9012"
      ],
      "metadata": {
        "id": "Qg9HECvRquvF"
      }
    },
    {
      "cell_type": "code",
      "source": [
        "T = int(input())\n",
        "\n",
        "for _ in range(T):\n",
        "    stack = []\n",
        "    sequence = input()\n",
        "    is_vps = True\n",
        "\n",
        "    for char in sequence:\n",
        "        if char == '(':\n",
        "            stack.append(char)\n",
        "        elif char == ')':\n",
        "            if stack:\n",
        "                stack.pop()\n",
        "            else:\n",
        "                is_vps = False\n",
        "                break\n",
        "\n",
        "    if is_vps and not stack:\n",
        "        print(\"YES\")\n",
        "    else:\n",
        "        print(\"NO\")"
      ],
      "metadata": {
        "colab": {
          "base_uri": "https://localhost:8080/"
        },
        "id": "S8kLE0L5qwdC",
        "outputId": "6d7c893d-4609-4731-96cd-1f72bb6c81bc"
      },
      "execution_count": null,
      "outputs": [
        {
          "output_type": "stream",
          "name": "stdout",
          "text": [
            "6\n",
            "(())())\n",
            "NO\n",
            "(((()())()\n",
            "NO\n",
            "(()())((()))\n",
            "YES\n",
            "((()()(()))(((())))()\n",
            "NO\n",
            "()()()()(()()())()\n",
            "YES\n",
            "(()((())()(\n",
            "NO\n"
          ]
        }
      ]
    },
    {
      "cell_type": "markdown",
      "source": [
        "###5-4949"
      ],
      "metadata": {
        "id": "qx-g1lDNsuPb"
      }
    },
    {
      "cell_type": "code",
      "source": [
        "import sys\n",
        "\n",
        "def is_balanced(s):\n",
        "    stack = []\n",
        "    for char in s:\n",
        "        if char in \"([\":\n",
        "            stack.append(char)\n",
        "        elif char == ')':\n",
        "            if not stack or stack[-1] != '(':\n",
        "                return False\n",
        "            stack.pop()\n",
        "        elif char == ']':\n",
        "            if not stack or stack[-1] != '[':\n",
        "                return False\n",
        "            stack.pop()\n",
        "    return not stack\n",
        "\n",
        "def main():\n",
        "    input = sys.stdin.read\n",
        "    lines = input().splitlines()\n",
        "\n",
        "    for line in lines:\n",
        "        if line == \".\":\n",
        "            break\n",
        "        print(\"yes\" if is_balanced(line) else \"no\")\n",
        "\n",
        "if __name__ == \"__main__\":\n",
        "    main()"
      ],
      "metadata": {
        "id": "T1v2x7oks5fr"
      },
      "execution_count": null,
      "outputs": []
    },
    {
      "cell_type": "markdown",
      "source": [
        "###6-12789"
      ],
      "metadata": {
        "id": "vNWJl_vAtvl0"
      }
    },
    {
      "cell_type": "code",
      "source": [
        "def can_receive_snacks(N, students):\n",
        "    stack = []\n",
        "    current = 1\n",
        "\n",
        "    for student in students:\n",
        "        while stack and stack[-1] == current:\n",
        "            stack.pop()\n",
        "            current += 1\n",
        "        if student == current:\n",
        "            current += 1\n",
        "        else:\n",
        "            stack.append(student)\n",
        "\n",
        "    while stack and stack[-1] == current:\n",
        "        stack.pop()\n",
        "        current += 1\n",
        "\n",
        "    return \"Nice\" if current == N + 1 else \"Sad\"\n",
        "\n",
        "if __name__ == \"__main__\":\n",
        "    N = int(input())\n",
        "    students = list(map(int, input().split()))\n",
        "    print(can_receive_snacks(N, students))"
      ],
      "metadata": {
        "colab": {
          "base_uri": "https://localhost:8080/"
        },
        "id": "R4SFh0tutxBV",
        "outputId": "2aebb531-7321-4f12-904b-f06721144616"
      },
      "execution_count": null,
      "outputs": [
        {
          "output_type": "stream",
          "name": "stdout",
          "text": [
            "5\n",
            "5 4 1 3 2\n",
            "Nice\n"
          ]
        }
      ]
    },
    {
      "cell_type": "markdown",
      "source": [
        "###7-18258"
      ],
      "metadata": {
        "id": "srvjlgkLuJCs"
      }
    },
    {
      "cell_type": "code",
      "source": [
        "import sys\n",
        "from collections import deque\n",
        "\n",
        "input = sys.stdin.read\n",
        "data = input().splitlines()\n",
        "\n",
        "N = int(data[0])\n",
        "commands = data[1:]\n",
        "\n",
        "queue = deque()\n",
        "result = []\n",
        "\n",
        "for command in commands:\n",
        "    if command.startswith(\"push\"):\n",
        "        _, x = command.split()\n",
        "        queue.append(int(x))\n",
        "    elif command == \"pop\":\n",
        "        result.append(queue.popleft() if queue else -1)\n",
        "    elif command == \"size\":\n",
        "        result.append(len(queue))\n",
        "    elif command == \"empty\":\n",
        "        result.append(1 if not queue else 0)\n",
        "    elif command == \"front\":\n",
        "        result.append(queue[0] if queue else -1)\n",
        "    elif command == \"back\":\n",
        "        result.append(queue[-1] if queue else -1)\n",
        "\n",
        "sys.stdout.write(\"\\n\".join(map(str, result)) + \"\\n\")"
      ],
      "metadata": {
        "id": "59c6NTrNuLLf"
      },
      "execution_count": null,
      "outputs": []
    },
    {
      "cell_type": "markdown",
      "source": [
        "###8-2164"
      ],
      "metadata": {
        "id": "rtPIdU-_uYMy"
      }
    },
    {
      "cell_type": "code",
      "source": [
        "from collections import deque\n",
        "\n",
        "N = int(input())\n",
        "\n",
        "queue = deque(range(1, N + 1))\n",
        "\n",
        "while len(queue) > 1:\n",
        "    queue.popleft()\n",
        "    queue.append(queue.popleft())\n",
        "\n",
        "print(queue[0])"
      ],
      "metadata": {
        "colab": {
          "base_uri": "https://localhost:8080/"
        },
        "id": "bn70y-G5uZmZ",
        "outputId": "6078d275-702f-46db-e00b-b7a54a9967d2"
      },
      "execution_count": null,
      "outputs": [
        {
          "output_type": "stream",
          "name": "stdout",
          "text": [
            "6\n",
            "4\n"
          ]
        }
      ]
    },
    {
      "cell_type": "markdown",
      "source": [
        "###9-11866"
      ],
      "metadata": {
        "id": "jo1b08li6x4c"
      }
    },
    {
      "cell_type": "code",
      "source": [
        "N, K = map(int, input().split())\n",
        "\n",
        "queue = list(range(1, N + 1))\n",
        "result = []\n",
        "current = 0\n",
        "\n",
        "while queue:\n",
        "    current = (current + K - 1) % len(queue)\n",
        "    result.append(str(queue.pop(current)))\n",
        "\n",
        "print(\"<\" + \", \".join(result) + \">\")"
      ],
      "metadata": {
        "colab": {
          "base_uri": "https://localhost:8080/"
        },
        "id": "TZQEL9lv6zW5",
        "outputId": "173ee153-5515-4114-e53a-94eb9ea5e363"
      },
      "execution_count": null,
      "outputs": [
        {
          "output_type": "stream",
          "name": "stdout",
          "text": [
            "7 3\n",
            "<3, 6, 2, 7, 5, 1, 4>\n"
          ]
        }
      ]
    },
    {
      "cell_type": "markdown",
      "source": [
        "###10-28279"
      ],
      "metadata": {
        "id": "ZauwxOh58m_H"
      }
    },
    {
      "cell_type": "code",
      "source": [
        "from collections import deque\n",
        "import sys\n",
        "\n",
        "input = sys.stdin.read\n",
        "data = input().splitlines()\n",
        "\n",
        "N = int(data[0])\n",
        "commands = data[1:]\n",
        "\n",
        "dq = deque()\n",
        "result = []\n",
        "\n",
        "for command in commands:\n",
        "    parts = command.split()\n",
        "    cmd = int(parts[0])\n",
        "\n",
        "    if cmd == 1:\n",
        "        dq.appendleft(int(parts[1]))\n",
        "    elif cmd == 2:\n",
        "        dq.append(int(parts[1]))\n",
        "    elif cmd == 3:\n",
        "        if dq:\n",
        "            result.append(str(dq.popleft()))\n",
        "        else:\n",
        "            result.append('-1')\n",
        "    elif cmd == 4:\n",
        "        if dq:\n",
        "            result.append(str(dq.pop()))\n",
        "        else:\n",
        "            result.append('-1')\n",
        "    elif cmd == 5:\n",
        "        result.append(str(len(dq)))\n",
        "    elif cmd == 6:\n",
        "        if dq:\n",
        "            result.append('0')\n",
        "        else:\n",
        "            result.append('1')\n",
        "    elif cmd == 7:\n",
        "        if dq:\n",
        "            result.append(str(dq[0]))\n",
        "        else:\n",
        "            result.append('-1')\n",
        "    elif cmd == 8:\n",
        "        if dq:\n",
        "            result.append(str(dq[-1]))\n",
        "        else:\n",
        "            result.append('-1')\n",
        "\n",
        "sys.stdout.write(\"\\n\".join(result) + \"\\n\")"
      ],
      "metadata": {
        "id": "5PdrwF1r9fja"
      },
      "execution_count": null,
      "outputs": []
    },
    {
      "cell_type": "markdown",
      "source": [
        "#1/8"
      ],
      "metadata": {
        "id": "qWWNXP9ZyRBd"
      }
    },
    {
      "cell_type": "markdown",
      "source": [
        "###1-2346"
      ],
      "metadata": {
        "id": "942-cdkByT6X"
      }
    },
    {
      "cell_type": "code",
      "source": [
        "from collections import deque\n",
        "\n",
        "n = int(input())\n",
        "balloons = list(map(int, input().split()))\n",
        "\n",
        "deq = deque(enumerate(balloons))\n",
        "answer = []\n",
        "\n",
        "while deq:\n",
        "    idx, now_turn = deq.popleft()\n",
        "    answer.append(idx + 1)\n",
        "\n",
        "    if now_turn > 0:\n",
        "        deq.rotate(-(now_turn - 1))\n",
        "    elif now_turn < 0:\n",
        "        deq.rotate(-now_turn)\n",
        "\n",
        "print(' '.join(map(str, answer)))"
      ],
      "metadata": {
        "colab": {
          "base_uri": "https://localhost:8080/"
        },
        "id": "QA27IlPdyWun",
        "outputId": "1c361705-646a-47ba-ec0a-dcfa1c71d875"
      },
      "execution_count": null,
      "outputs": [
        {
          "output_type": "stream",
          "name": "stdout",
          "text": [
            "5\n",
            "3 2 1 -3 -1\n",
            "1 4 5 3 2\n"
          ]
        }
      ]
    },
    {
      "cell_type": "markdown",
      "source": [
        "###2-24511"
      ],
      "metadata": {
        "id": "dooWZt4ByXEX"
      }
    },
    {
      "cell_type": "code",
      "source": [
        "import sys\n",
        "from collections import deque\n",
        "input = sys.stdin.readline\n",
        "\n",
        "N = int(input())\n",
        "sequence_A = list(map(int, input().split()))\n",
        "sequence_B = list(map(int, input().split()))\n",
        "M = int(input())\n",
        "sequence_C = list(map(int, input().split()))\n",
        "\n",
        "queue = deque([])\n",
        "for i in range(N):\n",
        "  if sequence_A[i] == 0:\n",
        "    queue.appendleft(sequence_B[i])\n",
        "else:\n",
        "  if queue == []:\n",
        "    print(*sequence_C)\n",
        "    sys.exit()\n",
        "\n",
        "for i in range(M):\n",
        "  queue.append(sequence_C[i])\n",
        "  print(queue.popleft(), end = \" \")"
      ],
      "metadata": {
        "colab": {
          "base_uri": "https://localhost:8080/"
        },
        "id": "77cybfuLyY1C",
        "outputId": "d9a8419b-b6f9-4ad7-a491-0ca25b280cc5"
      },
      "execution_count": null,
      "outputs": [
        {
          "output_type": "stream",
          "name": "stdout",
          "text": [
            "5\n",
            "1 1 1 1 1\n",
            "1 2 3 4 5\n",
            "3\n",
            "1 3 5\n",
            "1 3 5\n"
          ]
        }
      ]
    },
    {
      "cell_type": "markdown",
      "source": [
        "###3-1002"
      ],
      "metadata": {
        "id": "bVgPkSCuPzWN"
      }
    },
    {
      "cell_type": "code",
      "source": [
        "T = int(input())\n",
        "\n",
        "for _ in range(T):\n",
        "    x1, y1, r1, x2, y2, r2 = map(int, input().split())\n",
        "    distance = ((x1 - x2) ** 2 + (y1 - y2) ** 2) ** 0.5\n",
        "    if distance == 0 and r1 == r2:\n",
        "        print(-1)\n",
        "\n",
        "    elif abs(r1 - r2) == distance or r1 + r2 == distance:\n",
        "        print(1)\n",
        "\n",
        "    elif abs(r1 - r2) < distance < r1 + r2:\n",
        "        print(2)\n",
        "\n",
        "    else:\n",
        "        print(0)"
      ],
      "metadata": {
        "colab": {
          "base_uri": "https://localhost:8080/"
        },
        "id": "-FdWEzQLPzpe",
        "outputId": "1ba88a85-74a3-47bf-86f4-7e0c6f3bbfeb"
      },
      "execution_count": null,
      "outputs": [
        {
          "output_type": "stream",
          "name": "stdout",
          "text": [
            "3\n",
            "0 0 13 40 0 37\n",
            "2\n",
            "0 0 3 0 7 4\n",
            "1\n",
            "1 1 1 1 1 5\n",
            "0\n"
          ]
        }
      ]
    },
    {
      "cell_type": "markdown",
      "source": [
        "###4-1003"
      ],
      "metadata": {
        "id": "7v7h9Z2AQS2O"
      }
    },
    {
      "cell_type": "code",
      "source": [
        "T = int(input())\n",
        "\n",
        "fib_calls = [(1, 0)]\n",
        "for i in range(1, 41):\n",
        "    if i == 1:\n",
        "        fib_calls.append((0, 1))\n",
        "    else:\n",
        "        zero_count = fib_calls[i - 1][0] + fib_calls[i - 2][0]\n",
        "        one_count = fib_calls[i - 1][1] + fib_calls[i - 2][1]\n",
        "        fib_calls.append((zero_count, one_count))\n",
        "\n",
        "for _ in range(T):\n",
        "    n = int(input())\n",
        "    print(fib_calls[n][0], fib_calls[n][1])"
      ],
      "metadata": {
        "colab": {
          "base_uri": "https://localhost:8080/"
        },
        "id": "bEy4Vyy6QYpX",
        "outputId": "37ce53f5-8b52-49d3-c0ea-b80b7aba23ef"
      },
      "execution_count": null,
      "outputs": [
        {
          "output_type": "stream",
          "name": "stdout",
          "text": [
            "3\n",
            "0\n",
            "1 0\n",
            "1\n",
            "0 1\n",
            "3\n",
            "1 2\n"
          ]
        }
      ]
    },
    {
      "cell_type": "markdown",
      "source": [
        "###5-1004"
      ],
      "metadata": {
        "id": "RRUPAoZKapj_"
      }
    },
    {
      "cell_type": "code",
      "source": [
        "import math\n",
        "\n",
        "T = int(input())\n",
        "\n",
        "for _ in range(T):\n",
        "\n",
        "    x1, y1, x2, y2 = map(int, input().split())\n",
        "    n = int(input())\n",
        "    count = 0\n",
        "\n",
        "    for _ in range(n):\n",
        "\n",
        "        cx, cy, r = map(int, input().split())\n",
        "\n",
        "\n",
        "        start_inside = math.sqrt((x1 - cx) ** 2 + (y1 - cy) ** 2) < r\n",
        "        end_inside = math.sqrt((x2 - cx) ** 2 + (y2 - cy) ** 2) < r\n",
        "\n",
        "        if start_inside != end_inside:\n",
        "            count += 1\n",
        "    print(count)"
      ],
      "metadata": {
        "colab": {
          "base_uri": "https://localhost:8080/"
        },
        "id": "Jg1U24Mvaq3t",
        "outputId": "b20e353d-723a-4a6b-8f63-bd8bde9cf833"
      },
      "execution_count": null,
      "outputs": [
        {
          "output_type": "stream",
          "name": "stdout",
          "text": [
            "2\n",
            "-5 1 12 1\n",
            "7\n",
            "1 1 8\n",
            "-3 -1 1\n",
            "2 2 2\n",
            "5 5 1\n",
            "-4 5 1\n",
            "12 1 1\n",
            "12 1 2\n",
            "3\n",
            "-5 1 5 1\n",
            "1\n",
            "0 0 2\n",
            "0\n"
          ]
        }
      ]
    },
    {
      "cell_type": "markdown",
      "source": [
        "###6-1005"
      ],
      "metadata": {
        "id": "5gYnVD1rc2wX"
      }
    },
    {
      "cell_type": "code",
      "source": [
        "from collections import deque\n",
        "from sys import stdin\n",
        "input = stdin.readline\n",
        "\n",
        "t = int(input())\n",
        "res = []\n",
        "\n",
        "for _ in range(t):\n",
        "    n, k = map(int, input().split())\n",
        "    time = [0] + list(map(int, input().split()))\n",
        "    graph = [[] for _ in range(n+1)]\n",
        "    indegree = [0] * (n+1)\n",
        "    dp = [0] * (n+1)\n",
        "    for _ in range(k):\n",
        "        a, b = map(int ,input().split())\n",
        "        graph[a].append(b)\n",
        "        indegree[b] += 1\n",
        "\n",
        "    que = deque()\n",
        "    for i in range(1, n+1):\n",
        "        if indegree[i] == 0:\n",
        "            que.append(i)\n",
        "            dp[i] = time[i]\n",
        "\n",
        "    while que:\n",
        "        tmp = que.popleft()\n",
        "        for i in graph[tmp]:\n",
        "            indegree[i] -= 1\n",
        "            dp[i] = max(dp[tmp] + time[i], dp[i])\n",
        "            if indegree[i] == 0:\n",
        "                que.append(i)\n",
        "\n",
        "    w = int(input())\n",
        "    res.append(dp[w])\n",
        "\n",
        "for i in res:\n",
        "    print(i)"
      ],
      "metadata": {
        "id": "KUh09RIic40Q"
      },
      "execution_count": null,
      "outputs": []
    },
    {
      "cell_type": "code",
      "source": [
        "from collections import deque\n",
        "\n",
        "t = int(input())\n",
        "res = []\n",
        "\n",
        "for _ in range(t):\n",
        "    n, k = map(int, input().split())\n",
        "    time = [0] + list(map(int, input().split()))\n",
        "    graph = [[] for _ in range(n + 1)]\n",
        "    indegree = [0] * (n + 1)\n",
        "    dp = [0] * (n + 1)\n",
        "\n",
        "    for _ in range(k):\n",
        "        a, b = map(int, input().split())\n",
        "        graph[a].append(b)\n",
        "        indegree[b] += 1\n",
        "\n",
        "    que = deque()\n",
        "    for i in range(1, n + 1):\n",
        "        if indegree[i] == 0:\n",
        "            que.append(i)\n",
        "            dp[i] = time[i]\n",
        "\n",
        "    while que:\n",
        "        tmp = que.popleft()\n",
        "        for i in graph[tmp]:\n",
        "            indegree[i] -= 1\n",
        "            dp[i] = max(dp[tmp] + time[i], dp[i])\n",
        "            if indegree[i] == 0:\n",
        "                que.append(i)\n",
        "\n",
        "    w = int(input())\n",
        "    res.append(dp[w])\n",
        "\n",
        "for i in res:\n",
        "    print(i)"
      ],
      "metadata": {
        "colab": {
          "base_uri": "https://localhost:8080/"
        },
        "id": "K68k1OIvfHxZ",
        "outputId": "ffe49fd2-35a6-4cf0-fcdf-a8bf004aa0f2"
      },
      "execution_count": null,
      "outputs": [
        {
          "output_type": "stream",
          "name": "stdout",
          "text": [
            "2\n",
            "4 4\n",
            "10 1 100 10\n",
            "1 2\n",
            "1 3\n",
            "2 4\n",
            "3 4\n",
            "4 \n",
            "8 8\n",
            "10 20 1 5 8 7 1 43\n",
            "1 2\n",
            "1 3\n",
            "2 4\n",
            "2 5\n",
            "3 6\n",
            "5 7\n",
            "6 7\n",
            "7 8\n",
            "7\n",
            "120\n",
            "39\n"
          ]
        }
      ]
    },
    {
      "cell_type": "markdown",
      "source": [
        "###7-1920"
      ],
      "metadata": {
        "id": "hytVZNepgXWn"
      }
    },
    {
      "cell_type": "code",
      "source": [
        "N = int(input())\n",
        "A = list(map(int, input().split()))\n",
        "M = int(input())\n",
        "queries = list(map(int, input().split()))\n",
        "\n",
        "def binary_search(arr, target):\n",
        "    left, right = 0, len(arr) - 1\n",
        "    while left <= right:\n",
        "        mid = (left + right) // 2\n",
        "        if arr[mid] == target:\n",
        "            return 1\n",
        "        elif arr[mid] < target:\n",
        "            left = mid + 1\n",
        "        else:\n",
        "            right = mid - 1\n",
        "    return 0\n",
        "\n",
        "A.sort()\n",
        "results = [binary_search(A, query) for query in queries]\n",
        "\n",
        "for result in results:\n",
        "    print(result)"
      ],
      "metadata": {
        "colab": {
          "base_uri": "https://localhost:8080/"
        },
        "id": "F6lUFwo1mMVS",
        "outputId": "76a9f2a8-21b6-4fd6-9809-1240df3c4565"
      },
      "execution_count": null,
      "outputs": [
        {
          "output_type": "stream",
          "name": "stdout",
          "text": [
            "5\n",
            "4 1 5 2 3\n",
            "5\n",
            "1 3 7 9 5\n",
            "1\n",
            "1\n",
            "0\n",
            "0\n",
            "1\n"
          ]
        }
      ]
    },
    {
      "cell_type": "markdown",
      "source": [
        "###8-1463"
      ],
      "metadata": {
        "id": "8pOT28A-m9Zf"
      }
    },
    {
      "cell_type": "code",
      "source": [
        "N = int(input())\n",
        "\n",
        "dp = [0] * (N + 1)\n",
        "\n",
        "for i in range(2, N + 1):\n",
        "\n",
        "    dp[i] = dp[i - 1] + 1\n",
        "\n",
        "    if i % 2 == 0:\n",
        "        dp[i] = min(dp[i], dp[i // 2] + 1)\n",
        "\n",
        "\n",
        "    if i % 3 == 0:\n",
        "        dp[i] = min(dp[i], dp[i // 3] + 1)\n",
        "\n",
        "print(dp[N])"
      ],
      "metadata": {
        "colab": {
          "base_uri": "https://localhost:8080/"
        },
        "id": "vriopCzTm-7t",
        "outputId": "e8ab5083-9bc8-4283-a293-19af96525d94"
      },
      "execution_count": null,
      "outputs": [
        {
          "output_type": "stream",
          "name": "stdout",
          "text": [
            "2\n",
            "1\n"
          ]
        }
      ]
    },
    {
      "cell_type": "markdown",
      "source": [
        "###9-1260"
      ],
      "metadata": {
        "id": "Ovza053gnxC5"
      }
    },
    {
      "cell_type": "code",
      "source": [
        "from collections import deque\n",
        "\n",
        "N, M, V = map(int, input().split())\n",
        "graph = [[] for _ in range(N + 1)]\n",
        "\n",
        "for _ in range(M):\n",
        "    u, v = map(int, input().split())\n",
        "    graph[u].append(v)\n",
        "    graph[v].append(u)\n",
        "\n",
        "for adj_list in graph:\n",
        "    adj_list.sort()\n",
        "\n",
        "def dfs(v, visited):\n",
        "    visited[v] = True\n",
        "    result = [v]\n",
        "    for neighbor in graph[v]:\n",
        "        if not visited[neighbor]:\n",
        "            result.extend(dfs(neighbor, visited))\n",
        "    return result\n",
        "\n",
        "def bfs(v):\n",
        "    visited = [False] * (N + 1)\n",
        "    queue = deque([v])\n",
        "    visited[v] = True\n",
        "    result = [v]\n",
        "\n",
        "    while queue:\n",
        "        current = queue.popleft()\n",
        "        for neighbor in graph[current]:\n",
        "            if not visited[neighbor]:\n",
        "                visited[neighbor] = True\n",
        "                queue.append(neighbor)\n",
        "                result.append(neighbor)\n",
        "    return result\n",
        "\n",
        "dfs_result = dfs(V, [False] * (N + 1))\n",
        "bfs_result = bfs(V)\n",
        "\n",
        "print(' '.join(map(str, dfs_result)))\n",
        "print(' '.join(map(str, bfs_result)))"
      ],
      "metadata": {
        "colab": {
          "base_uri": "https://localhost:8080/"
        },
        "id": "DIOq1yylnzO8",
        "outputId": "83e40fbd-61e6-4059-c8db-ebe35207adef"
      },
      "execution_count": null,
      "outputs": [
        {
          "output_type": "stream",
          "name": "stdout",
          "text": [
            "1000 1 1000\n",
            "999 1000\n",
            "1000 999\n",
            "1000 999\n"
          ]
        }
      ]
    },
    {
      "cell_type": "markdown",
      "source": [
        "###10-10828"
      ],
      "metadata": {
        "id": "yXrFxkSGoVSn"
      }
    },
    {
      "cell_type": "code",
      "source": [
        "import sys\n",
        "n = int(sys.stdin.readline())\n",
        "\n",
        "stack=[]\n",
        "for i in range(n):\n",
        "    command = sys.stdin.readline().split()\n",
        "\n",
        "    if command[0]=='push':\n",
        "        stack.append(command[1])\n",
        "    elif command[0]=='pop':\n",
        "        if len(stack)==0:\n",
        "            print(-1)\n",
        "        else:\n",
        "            print(stack.pop())\n",
        "    elif command[0] == 'size':\n",
        "        print(len(stack))\n",
        "    elif command[0] == 'empty':\n",
        "        if len(stack)==0:\n",
        "            print(1)\n",
        "        else:\n",
        "            print(0)\n",
        "    elif command[0] == 'top':\n",
        "        if len(stack)==0:\n",
        "            print(-1)\n",
        "        else:\n",
        "            print(stack[-1])"
      ],
      "metadata": {
        "id": "C7B7tVJCoX4o"
      },
      "execution_count": null,
      "outputs": []
    },
    {
      "cell_type": "markdown",
      "source": [
        "#1/9"
      ],
      "metadata": {
        "id": "tcuXZvEi-Hft"
      }
    },
    {
      "cell_type": "markdown",
      "source": [
        "###1-1009"
      ],
      "metadata": {
        "id": "4EFQAl2L-LKz"
      }
    },
    {
      "cell_type": "code",
      "source": [
        "T = int(input())\n",
        "\n",
        "for _ in range(T):\n",
        "    a, b = map(int, input().split())\n",
        "    result = pow(a, b, 10)\n",
        "    if result == 0:\n",
        "        print(10)\n",
        "    else:\n",
        "        print(result)"
      ],
      "metadata": {
        "colab": {
          "base_uri": "https://localhost:8080/"
        },
        "id": "j2mX-yEv-Le8",
        "outputId": "33f5ea65-d741-4ae1-ed1e-6bd766fe1845"
      },
      "execution_count": null,
      "outputs": [
        {
          "output_type": "stream",
          "name": "stdout",
          "text": [
            "5\n",
            "1 6\n",
            "1\n",
            "3 7\n",
            "7\n",
            "6 2\n",
            "6\n",
            "7 100\n",
            "1\n",
            "9 635\n",
            "9\n"
          ]
        }
      ]
    },
    {
      "cell_type": "markdown",
      "source": [
        "###2-1032"
      ],
      "metadata": {
        "id": "aPb-7VP6_DWn"
      }
    },
    {
      "cell_type": "code",
      "source": [
        "N = int(input())\n",
        "\n",
        "file_names = []\n",
        "for _ in range(N):\n",
        "    file_names.append(input())\n",
        "\n",
        "result = ''\n",
        "\n",
        "for i in range(len(file_names[0])):\n",
        "    for j in range(1, N):\n",
        "        if file_names[0][i] != file_names[j][i]:\n",
        "            result += '?'\n",
        "            break\n",
        "    else:\n",
        "        result += file_names[0][i]\n",
        "\n",
        "print(result)"
      ],
      "metadata": {
        "colab": {
          "base_uri": "https://localhost:8080/"
        },
        "id": "swFkxOlG_BS-",
        "outputId": "822c99ab-692c-4c69-cc59-084c7ac59f38"
      },
      "execution_count": null,
      "outputs": [
        {
          "output_type": "stream",
          "name": "stdout",
          "text": [
            "3\n",
            "config.sys\n",
            "config.inf\n",
            "configures\n",
            "config????\n"
          ]
        }
      ]
    },
    {
      "cell_type": "markdown",
      "source": [
        "###3-1037"
      ],
      "metadata": {
        "id": "4Eqk7sDAUxzG"
      }
    },
    {
      "cell_type": "code",
      "source": [
        "N = int(input())\n",
        "factors = list(map(int, input().split()))\n",
        "\n",
        "min_factor = min(factors)\n",
        "max_factor = max(factors)\n",
        "\n",
        "print(min_factor * max_factor)"
      ],
      "metadata": {
        "colab": {
          "base_uri": "https://localhost:8080/"
        },
        "id": "bsnHxqDkU5wC",
        "outputId": "b17d01d2-38e7-433e-f752-5074290990ad"
      },
      "execution_count": null,
      "outputs": [
        {
          "output_type": "stream",
          "name": "stdout",
          "text": [
            "2\n",
            "4 2\n",
            "8\n"
          ]
        }
      ]
    },
    {
      "cell_type": "markdown",
      "source": [
        "###4-1075"
      ],
      "metadata": {
        "id": "aShY7bPBVByN"
      }
    },
    {
      "cell_type": "code",
      "source": [
        "N = int(input())\n",
        "F = int(input())\n",
        "\n",
        "N = (N // 100) * 100\n",
        "\n",
        "for i in range(100):\n",
        "    if (N + i) % F == 0:\n",
        "        print(f\"{i:02d}\")\n",
        "        break"
      ],
      "metadata": {
        "colab": {
          "base_uri": "https://localhost:8080/"
        },
        "id": "2crWQHWtVJN6",
        "outputId": "45fae46c-74f4-4434-8938-f4b7ce4b1217"
      },
      "execution_count": null,
      "outputs": [
        {
          "output_type": "stream",
          "name": "stdout",
          "text": [
            "1000\n",
            "3\n",
            "02\n"
          ]
        }
      ]
    },
    {
      "cell_type": "markdown",
      "source": [
        "###5-1076"
      ],
      "metadata": {
        "id": "0xba0uw2WsG-"
      }
    },
    {
      "cell_type": "code",
      "source": [
        "C = ['black', 'brown', 'red', 'orange', 'yellow', 'green', 'blue', 'violet', 'grey', 'white']\n",
        "first = input()\n",
        "second = input()\n",
        "third = input()\n",
        "\n",
        "print((C.index(first) * 10 + C.index(second)) * (10 ** C.index(third)))"
      ],
      "metadata": {
        "colab": {
          "base_uri": "https://localhost:8080/"
        },
        "id": "YnWTnjRRWvdS",
        "outputId": "16218c49-495b-4347-f24c-616577002c76"
      },
      "execution_count": null,
      "outputs": [
        {
          "output_type": "stream",
          "name": "stdout",
          "text": [
            "yellow\n",
            "violet\n",
            "red\n",
            "4700\n"
          ]
        }
      ]
    },
    {
      "cell_type": "markdown",
      "source": [
        "###6-1100"
      ],
      "metadata": {
        "id": "mHF1TqPfXwvF"
      }
    },
    {
      "cell_type": "code",
      "source": [
        "board = [input() for _ in range(8)]\n",
        "count = 0\n",
        "\n",
        "for i in range(8):\n",
        "    for j in range(8):\n",
        "        if (i + j) % 2 == 0 and board[i][j] == 'F':\n",
        "            count += 1\n",
        "\n",
        "print(count)"
      ],
      "metadata": {
        "colab": {
          "base_uri": "https://localhost:8080/"
        },
        "id": "qGr3oLX2X3sK",
        "outputId": "0dfc1297-cf5c-42f4-9ade-29c0bb8814f0"
      },
      "execution_count": null,
      "outputs": [
        {
          "output_type": "stream",
          "name": "stdout",
          "text": [
            ".F.F...F\n",
            "F...F.F.\n",
            "...F.F.F\n",
            "F.F...F.\n",
            ".F...F..\n",
            "F...F.F.\n",
            ".F.F.F.F\n",
            "..FF..F.\n",
            "1\n"
          ]
        }
      ]
    },
    {
      "cell_type": "markdown",
      "source": [
        "###7-1110"
      ],
      "metadata": {
        "id": "hxVHFVlPYZLb"
      }
    },
    {
      "cell_type": "code",
      "source": [
        "N = int(input())\n",
        "original = N\n",
        "count = 0\n",
        "\n",
        "while True:\n",
        "    count += 1\n",
        "    tens = N // 10\n",
        "    ones = N % 10\n",
        "    sum_digits = tens + ones\n",
        "    N = (ones * 10) + (sum_digits % 10)\n",
        "\n",
        "    if N == original:\n",
        "        break\n",
        "\n",
        "print(count)"
      ],
      "metadata": {
        "colab": {
          "base_uri": "https://localhost:8080/"
        },
        "id": "VXomJfRGYfZi",
        "outputId": "8a402599-d686-4802-a795-24bd014f4d8e"
      },
      "execution_count": null,
      "outputs": [
        {
          "output_type": "stream",
          "name": "stdout",
          "text": [
            "26\n",
            "4\n"
          ]
        }
      ]
    },
    {
      "cell_type": "markdown",
      "source": [
        "###8-1145"
      ],
      "metadata": {
        "id": "_3w4-81mZNbo"
      }
    },
    {
      "cell_type": "code",
      "source": [
        "numbers = list(map(int, input().split()))\n",
        "\n",
        "candidate = 1\n",
        "\n",
        "while True:\n",
        "    count = 0\n",
        "    for num in numbers:\n",
        "        if candidate % num == 0:\n",
        "            count += 1\n",
        "    if count >= 3:\n",
        "        print(candidate)\n",
        "        break\n",
        "    candidate += 1"
      ],
      "metadata": {
        "colab": {
          "base_uri": "https://localhost:8080/"
        },
        "id": "x6oQM51HZQUD",
        "outputId": "4a3e8740-5356-4a8d-8bfe-672cd1f0a5bd"
      },
      "execution_count": null,
      "outputs": [
        {
          "output_type": "stream",
          "name": "stdout",
          "text": [
            "30 42 70 35 90\n",
            "210\n"
          ]
        }
      ]
    },
    {
      "cell_type": "markdown",
      "source": [
        "###9-1159"
      ],
      "metadata": {
        "id": "Iq_hccouZ-Yl"
      }
    },
    {
      "cell_type": "code",
      "source": [
        "N = int(input())\n",
        "players = {}\n",
        "\n",
        "for _ in range(N):\n",
        "    name = input().strip()\n",
        "    first_letter = name[0]\n",
        "    if first_letter not in players:\n",
        "        players[first_letter] = []\n",
        "    players[first_letter].append(name)\n",
        "\n",
        "result = []\n",
        "for letter, names in players.items():\n",
        "    if len(names) >= 5:\n",
        "        result.append(letter)\n",
        "\n",
        "if result:\n",
        "    print(''.join(sorted(result)))\n",
        "else:\n",
        "    print('PREDAJA')"
      ],
      "metadata": {
        "colab": {
          "base_uri": "https://localhost:8080/"
        },
        "id": "I9zjMHXXaCWq",
        "outputId": "24d31fe8-e3c8-4f32-eef9-4fe332ca0b2b"
      },
      "execution_count": null,
      "outputs": [
        {
          "output_type": "stream",
          "name": "stdout",
          "text": [
            "18\n",
            "babic\n",
            "keksic\n",
            "boric\n",
            "bukic\n",
            "sarmic\n",
            "balic\n",
            "kruzic\n",
            "hrenovkic\n",
            "beslic\n",
            "boksic\n",
            "krafnic\n",
            "pecivic\n",
            "klavirkovic\n",
            "kukumaric\n",
            "sunkic\n",
            "kolacic\n",
            "kovacic\n",
            "prijestolonasljednikovi\n",
            "bk\n"
          ]
        }
      ]
    },
    {
      "cell_type": "markdown",
      "source": [
        "###10-1173"
      ],
      "metadata": {
        "id": "tmCHXMvAbw8m"
      }
    },
    {
      "cell_type": "code",
      "source": [
        "N, m, M, T, R = map(int, input().split())\n",
        "\n",
        "if m + T > M:\n",
        "    print(-1)\n",
        "else:\n",
        "    count = 0\n",
        "    exercise_time = 0\n",
        "    pulse = m\n",
        "\n",
        "    while exercise_time < N:\n",
        "        if pulse + T <= M:\n",
        "            pulse += T\n",
        "            exercise_time += 1\n",
        "        else:\n",
        "            pulse -= R\n",
        "            if pulse < m:\n",
        "                pulse = m\n",
        "\n",
        "        count += 1\n",
        "\n",
        "    print(count)"
      ],
      "metadata": {
        "colab": {
          "base_uri": "https://localhost:8080/"
        },
        "id": "zJ0Hho_mb3q7",
        "outputId": "9cf96cec-e889-49b4-efdc-7c4447bd3821"
      },
      "execution_count": null,
      "outputs": [
        {
          "output_type": "stream",
          "name": "stdout",
          "text": [
            "5 70 120 25 15\n",
            "10\n"
          ]
        }
      ]
    },
    {
      "cell_type": "markdown",
      "source": [
        "#1/10"
      ],
      "metadata": {
        "id": "Cbi-7nT3F-ns"
      }
    },
    {
      "cell_type": "markdown",
      "source": [
        "###1-1212"
      ],
      "metadata": {
        "id": "BjKyrKc1GKpW"
      }
    },
    {
      "cell_type": "code",
      "source": [
        "octal = input().strip()\n",
        "binary = bin(int(octal, 8))[2:]\n",
        "print(binary)"
      ],
      "metadata": {
        "colab": {
          "base_uri": "https://localhost:8080/"
        },
        "id": "x42cplA2HIBF",
        "outputId": "1d70aecc-64ce-4043-b729-0791899a0d8f"
      },
      "execution_count": null,
      "outputs": [
        {
          "output_type": "stream",
          "name": "stdout",
          "text": [
            "314\n",
            "11001100\n"
          ]
        }
      ]
    },
    {
      "cell_type": "markdown",
      "source": [
        "###2-1225"
      ],
      "metadata": {
        "id": "Bz8XrzZGI3pf"
      }
    },
    {
      "cell_type": "code",
      "source": [
        "A, B = input().split()\n",
        "\n",
        "sum_a = sum(int(digit) for digit in A)\n",
        "sum_b = sum(int(digit) for digit in B)\n",
        "\n",
        "result = sum_a * sum_b\n",
        "\n",
        "print(result)"
      ],
      "metadata": {
        "colab": {
          "base_uri": "https://localhost:8080/"
        },
        "id": "oRrB5MYEI9QV",
        "outputId": "710b5d20-3374-4f37-9fb1-10dda3a0fb2f"
      },
      "execution_count": null,
      "outputs": [
        {
          "output_type": "stream",
          "name": "stdout",
          "text": [
            "123 45\n",
            "54\n"
          ]
        }
      ]
    },
    {
      "cell_type": "markdown",
      "source": [
        "###3-1233"
      ],
      "metadata": {
        "id": "FSBIO1OWKv9_"
      }
    },
    {
      "cell_type": "code",
      "source": [
        "S1, S2, S3 = map(int, input().split())\n",
        "\n",
        "sum_count = {}\n",
        "\n",
        "for i in range(1, S1 + 1):\n",
        "    for j in range(1, S2 + 1):\n",
        "        for k in range(1, S3 + 1):\n",
        "            current_sum = i + j + k\n",
        "            if current_sum not in sum_count:\n",
        "                sum_count[current_sum] = 0\n",
        "            sum_count[current_sum] += 1\n",
        "\n",
        "max_frequency = max(sum_count.values())\n",
        "most_frequent_sum = min(key for key, value in sum_count.items() if value == max_frequency)\n",
        "\n",
        "print(most_frequent_sum)"
      ],
      "metadata": {
        "colab": {
          "base_uri": "https://localhost:8080/"
        },
        "id": "0f6FNfjnKxlK",
        "outputId": "6d798180-8f65-45d3-c2c1-d2ed6d8ac48f"
      },
      "execution_count": null,
      "outputs": [
        {
          "output_type": "stream",
          "name": "stdout",
          "text": [
            "3 2 3\n",
            "5\n"
          ]
        }
      ]
    },
    {
      "cell_type": "markdown",
      "source": [
        "###4-1236"
      ],
      "metadata": {
        "id": "aymJ63ZzMI7J"
      }
    },
    {
      "cell_type": "code",
      "source": [
        "N, M = map(int, input().split())\n",
        "castle = [input().strip() for _ in range(N)]\n",
        "\n",
        "row_guard = 0\n",
        "col_guard = 0\n",
        "\n",
        "for i in range(N):\n",
        "    if 'X' not in castle[i]:\n",
        "        row_guard += 1\n",
        "\n",
        "for j in range(M):\n",
        "    if all(castle[i][j] != 'X' for i in range(N)):\n",
        "        col_guard += 1\n",
        "\n",
        "print(max(row_guard, col_guard))"
      ],
      "metadata": {
        "colab": {
          "base_uri": "https://localhost:8080/"
        },
        "id": "SoVioO17MKwH",
        "outputId": "9b94417c-4f6d-4946-eccb-a6ad40e2f689"
      },
      "execution_count": null,
      "outputs": [
        {
          "output_type": "stream",
          "name": "stdout",
          "text": [
            "5 8\n",
            "....XXXX\n",
            "........\n",
            "XX.X.XX.\n",
            "........\n",
            "........\n",
            "3\n"
          ]
        }
      ]
    },
    {
      "cell_type": "markdown",
      "source": [
        "###5-1247"
      ],
      "metadata": {
        "id": "7Yq-ryOISJPf"
      }
    },
    {
      "cell_type": "code",
      "source": [
        "for _ in range(3):\n",
        "    N = int(input())\n",
        "    total = 0\n",
        "    for _ in range(N):\n",
        "        total += int(input())\n",
        "    if total > 0:\n",
        "        print(\"+\")\n",
        "    elif total < 0:\n",
        "        print(\"-\")\n",
        "    else:\n",
        "        print(\"0\")"
      ],
      "metadata": {
        "colab": {
          "base_uri": "https://localhost:8080/"
        },
        "id": "--vO2JIJSI_H",
        "outputId": "db611d90-ac3e-4194-c1d5-7a8ac1566306"
      },
      "execution_count": null,
      "outputs": [
        {
          "output_type": "stream",
          "name": "stdout",
          "text": [
            "3\n",
            "0\n",
            "0\n",
            "0\n",
            "0\n",
            "10\n",
            "1\n",
            "2\n",
            "4\n",
            "8\n",
            "16\n",
            "32\n",
            "64\n",
            "128\n",
            "256\n",
            "-512\n",
            "-\n",
            "6\n",
            "9223372036854775807\n",
            "9223372036854775806\n",
            "9223372036854775805\n",
            "-9223372036854775807\n",
            "-9223372036854775806\n",
            "-9223372036854775804\n",
            "+\n"
          ]
        }
      ]
    },
    {
      "cell_type": "markdown",
      "source": [
        "###6-1252"
      ],
      "metadata": {
        "id": "yDIUciusau2_"
      }
    },
    {
      "cell_type": "code",
      "source": [
        "num1, num2 = input().split()\n",
        "\n",
        "binary_sum = bin(int(num1, 2) + int(num2, 2))[2:]\n",
        "\n",
        "print(binary_sum)"
      ],
      "metadata": {
        "colab": {
          "base_uri": "https://localhost:8080/"
        },
        "id": "cr_v20Z5avIy",
        "outputId": "4e95dc9d-4934-44a3-a9bc-b926effb0753"
      },
      "execution_count": null,
      "outputs": [
        {
          "output_type": "stream",
          "name": "stdout",
          "text": [
            "1001101 10010\n",
            "1011111\n"
          ]
        }
      ]
    },
    {
      "cell_type": "markdown",
      "source": [
        "###7-1259"
      ],
      "metadata": {
        "id": "cTxReENVc4S0"
      }
    },
    {
      "cell_type": "code",
      "source": [
        "while True:\n",
        "    number = input()\n",
        "    if number == \"0\":\n",
        "        break\n",
        "    if number == number[::-1]:\n",
        "        print(\"yes\")\n",
        "    else:\n",
        "        print(\"no\")"
      ],
      "metadata": {
        "colab": {
          "base_uri": "https://localhost:8080/"
        },
        "id": "9DC8-w5tc8VJ",
        "outputId": "e27ba83e-8be9-41f3-aee1-cbea67e5d712"
      },
      "execution_count": null,
      "outputs": [
        {
          "name": "stdout",
          "output_type": "stream",
          "text": [
            "121\n",
            "yes\n",
            "1231\n",
            "no\n",
            "12421\n",
            "yes\n",
            "0\n"
          ]
        }
      ]
    },
    {
      "cell_type": "markdown",
      "source": [
        "###8-1264"
      ],
      "metadata": {
        "id": "rMxEcYifeLtp"
      }
    },
    {
      "cell_type": "code",
      "source": [
        "vowels = \"aeiouAEIOU\"\n",
        "\n",
        "while True:\n",
        "    line = input()\n",
        "    if line == \"#\":\n",
        "        break\n",
        "    count = sum(1 for char in line if char in vowels)\n",
        "    print(count)"
      ],
      "metadata": {
        "colab": {
          "base_uri": "https://localhost:8080/"
        },
        "id": "esMU3wWlePFt",
        "outputId": "ed4e0070-b1e4-4de4-dfee-5ec385c3b396"
      },
      "execution_count": null,
      "outputs": [
        {
          "name": "stdout",
          "output_type": "stream",
          "text": [
            "How are you today?\n",
            "7\n",
            "Quite well, thank you, how about yourself?\n",
            "14\n",
            "I live at number twenty four.\n",
            "9\n",
            "#\n"
          ]
        }
      ]
    },
    {
      "cell_type": "markdown",
      "source": [
        "###9-1267"
      ],
      "metadata": {
        "id": "nV1jJJr9fDkr"
      }
    },
    {
      "cell_type": "code",
      "source": [
        "N = int(input())\n",
        "T = list(map(int, input().split()))\n",
        "\n",
        "Y = 0\n",
        "M = 0\n",
        "\n",
        "for time in T:\n",
        "    Y += (time // 30) * 10 + 10\n",
        "    M += (time // 60) * 15 + 15\n",
        "\n",
        "if Y < M:\n",
        "    print(\"Y\", Y)\n",
        "elif Y > M:\n",
        "    print(\"M\", M)\n",
        "else:\n",
        "    print(\"Y M\", Y)"
      ],
      "metadata": {
        "colab": {
          "base_uri": "https://localhost:8080/"
        },
        "id": "afIWcMHhfG2G",
        "outputId": "9a5845ca-5bed-4149-c0ce-5568eecedda5"
      },
      "execution_count": null,
      "outputs": [
        {
          "output_type": "stream",
          "name": "stdout",
          "text": [
            "3\n",
            "40 40 40\n",
            "M 45\n"
          ]
        }
      ]
    },
    {
      "cell_type": "markdown",
      "source": [
        "###10-1271"
      ],
      "metadata": {
        "id": "fJlQAY5AgGnE"
      }
    },
    {
      "cell_type": "code",
      "source": [
        "n, m = map(int, input().split())\n",
        "print(n // m)\n",
        "print(n % m)"
      ],
      "metadata": {
        "colab": {
          "base_uri": "https://localhost:8080/"
        },
        "id": "Xp4iKiO2gIfV",
        "outputId": "c8bbb02b-445b-4ebe-d820-612aab50c1f4"
      },
      "execution_count": null,
      "outputs": [
        {
          "output_type": "stream",
          "name": "stdout",
          "text": [
            "1000 100\n",
            "10\n",
            "0\n"
          ]
        }
      ]
    },
    {
      "cell_type": "markdown",
      "source": [
        "###11-1284"
      ],
      "metadata": {
        "id": "oOR-hr4IjH1K"
      }
    },
    {
      "cell_type": "code",
      "source": [
        "while True:\n",
        "    number = input().strip()\n",
        "    if number == \"0\":\n",
        "        break\n",
        "\n",
        "    width = 2\n",
        "\n",
        "    for digit in number:\n",
        "        if digit == \"1\":\n",
        "            width += 2\n",
        "        elif digit == \"0\":\n",
        "            width += 4\n",
        "        else:\n",
        "            width += 3\n",
        "\n",
        "    width += len(number) - 1\n",
        "\n",
        "    print(width)"
      ],
      "metadata": {
        "colab": {
          "base_uri": "https://localhost:8080/"
        },
        "id": "7PB6PZK_jK9t",
        "outputId": "39185d3e-a19b-43d7-e7b0-9a2441e6bfb0"
      },
      "execution_count": null,
      "outputs": [
        {
          "name": "stdout",
          "output_type": "stream",
          "text": [
            "120\n",
            "13\n",
            "5611\n",
            "15\n",
            "100\n",
            "14\n",
            "0\n"
          ]
        }
      ]
    },
    {
      "cell_type": "markdown",
      "source": [
        "###12-30518"
      ],
      "metadata": {
        "id": "Vaq5zEU4nvgc"
      }
    },
    {
      "cell_type": "code",
      "source": [
        "import sys\n",
        "input = sys.stdin.readline\n",
        "from itertools import combinations\n",
        "\n",
        "MOD = 1_000_000_007\n",
        "\n",
        "lighter = input().rstrip()\n",
        "smallant = input().rstrip()\n",
        "\n",
        "total_string = lighter + smallant\n",
        "\n",
        "avail = 0\n",
        "for how_many_pick in range(1, len(smallant)+1):\n",
        "    for tpl in combinations(range(len(smallant)), how_many_pick):\n",
        "        string = lighter\n",
        "        for idx in tpl:\n",
        "            string += smallant[idx]\n",
        "        is_ok = True\n",
        "        for i in range(len(string)-2):\n",
        "            a, b, c = string[i], string[i+1], string[i+2]\n",
        "            if a == 'R' and b == 'S' and c == 'S':\n",
        "                is_ok = False\n",
        "                break\n",
        "            if a == 'S' and b == 'P' and c == 'P':\n",
        "                is_ok = False\n",
        "                break\n",
        "            if a == 'P' and b == 'R' and c == 'R':\n",
        "                is_ok = False\n",
        "                break\n",
        "        if is_ok:\n",
        "            avail += 1\n",
        "print(avail % MOD)"
      ],
      "metadata": {
        "id": "1RnhQEFBpznf"
      },
      "execution_count": null,
      "outputs": []
    },
    {
      "cell_type": "markdown",
      "source": [
        "###13-2252"
      ],
      "metadata": {
        "id": "BaVIZG8uqw5K"
      }
    },
    {
      "cell_type": "code",
      "source": [
        "from collections import deque\n",
        "\n",
        "n, m = map(int, input().split())\n",
        "graph = [[] for _ in range(n + 1)]\n",
        "in_degree = [0] * (n + 1)\n",
        "\n",
        "for _ in range(m):\n",
        "    a, b = map(int, input().split())\n",
        "    graph[a].append(b)\n",
        "    in_degree[b] += 1\n",
        "\n",
        "def topological_sort():\n",
        "    result = []\n",
        "    queue = deque()\n",
        "\n",
        "    for i in range(1, n + 1):\n",
        "        if in_degree[i] == 0:\n",
        "            queue.append(i)\n",
        "\n",
        "    while queue:\n",
        "        current = queue.popleft()\n",
        "        result.append(current)\n",
        "\n",
        "        for neighbor in graph[current]:\n",
        "            in_degree[neighbor] -= 1\n",
        "            if in_degree[neighbor] == 0:\n",
        "                queue.append(neighbor)\n",
        "\n",
        "    return result\n",
        "\n",
        "result = topological_sort()\n",
        "print(\" \".join(map(str, result)))"
      ],
      "metadata": {
        "colab": {
          "base_uri": "https://localhost:8080/"
        },
        "id": "9R4kg1puq0u-",
        "outputId": "20a93a1e-48e8-495b-a899-004ceab9e025"
      },
      "execution_count": null,
      "outputs": [
        {
          "output_type": "stream",
          "name": "stdout",
          "text": [
            "3 2\n",
            "1 3\n",
            "2 3\n",
            "1 2 3\n"
          ]
        }
      ]
    },
    {
      "cell_type": "markdown",
      "source": [
        "###14-2213"
      ],
      "metadata": {
        "id": "wrGhbUR3r3LE"
      }
    },
    {
      "cell_type": "code",
      "source": [
        "from collections import defaultdict\n",
        "\n",
        "n = int(input())\n",
        "weights = list(map(int, input().split()))\n",
        "edges = []\n",
        "while True:\n",
        "    try:\n",
        "        line = input().strip()\n",
        "        if not line:\n",
        "            break\n",
        "        edges.append(tuple(map(int, line.split())))\n",
        "    except EOFError:\n",
        "        break\n",
        "\n",
        "tree = defaultdict(list)\n",
        "for u, v in edges:\n",
        "    tree[u].append(v)\n",
        "    tree[v].append(u)\n",
        "\n",
        "dp = [[0, 0] for _ in range(n + 1)]\n",
        "visited = [False] * (n + 1)\n",
        "selected_nodes = []\n",
        "\n",
        "def dfs(node):\n",
        "    visited[node] = True\n",
        "    dp[node][0] = 0\n",
        "    dp[node][1] = weights[node - 1]\n",
        "    for child in tree[node]:\n",
        "        if not visited[child]:\n",
        "            dfs(child)\n",
        "            dp[node][0] += max(dp[child][0], dp[child][1])\n",
        "            dp[node][1] += dp[child][0]\n",
        "\n",
        "def trace(node, include):\n",
        "    visited[node] = True\n",
        "    if include:\n",
        "        selected_nodes.append(node)\n",
        "        for child in tree[node]:\n",
        "            if not visited[child]:\n",
        "                trace(child, False)\n",
        "    else:\n",
        "        for child in tree[node]:\n",
        "            if not visited[child]:\n",
        "                if dp[child][0] < dp[child][1]:\n",
        "                    trace(child, True)\n",
        "                else:\n",
        "                    trace(child, False)\n",
        "\n",
        "dfs(1)\n",
        "visited = [False] * (n + 1)\n",
        "if dp[1][0] < dp[1][1]:\n",
        "    trace(1, True)\n",
        "else:\n",
        "    trace(1, False)\n",
        "\n",
        "selected_nodes.sort()\n",
        "print(max(dp[1][0], dp[1][1]))\n",
        "print(\" \".join(map(str, selected_nodes)))"
      ],
      "metadata": {
        "colab": {
          "base_uri": "https://localhost:8080/"
        },
        "id": "mEoEzfgcr67I",
        "outputId": "a8033d15-82ca-415c-f75c-ab3a23a5f05c"
      },
      "execution_count": null,
      "outputs": [
        {
          "output_type": "stream",
          "name": "stdout",
          "text": [
            "7\n",
            "10 30 40 10 20 20 70\n",
            "1 2\n",
            "2 3\n",
            "4 3\n",
            "4 5\n",
            "6 2\n",
            "6 7\n",
            "\n",
            "140\n",
            "1 3 5 7\n"
          ]
        }
      ]
    },
    {
      "cell_type": "markdown",
      "source": [
        "###15-1292"
      ],
      "metadata": {
        "id": "lvphgwpQtAVm"
      }
    },
    {
      "cell_type": "code",
      "source": [
        "A, B = map(int, input().split())\n",
        "\n",
        "sequence = []\n",
        "i = 1\n",
        "while len(sequence) < B:\n",
        "    sequence.extend([i] * i)\n",
        "    i += 1\n",
        "\n",
        "result = sum(sequence[A-1:B])\n",
        "print(result)"
      ],
      "metadata": {
        "colab": {
          "base_uri": "https://localhost:8080/"
        },
        "id": "ClsruNdnxXrb",
        "outputId": "a4a11099-7588-4dc5-9d58-119848dc0c9b"
      },
      "execution_count": null,
      "outputs": [
        {
          "output_type": "stream",
          "name": "stdout",
          "text": [
            "3 7\n",
            "15\n"
          ]
        }
      ]
    },
    {
      "cell_type": "markdown",
      "source": [
        "#1/11"
      ],
      "metadata": {
        "id": "RqoEgyWR3bP5"
      }
    },
    {
      "cell_type": "markdown",
      "source": [
        "###1-1080"
      ],
      "metadata": {
        "id": "vIVh-WMF3W8S"
      }
    },
    {
      "cell_type": "code",
      "source": [
        "def flip_matrix(matrix, x, y):\n",
        "    for i in range(3):\n",
        "        for j in range(3):\n",
        "            matrix[x + i][y + j] ^= 1\n",
        "\n",
        "def min_operations_to_convert(n, m, A, B):\n",
        "    if n < 3 or m < 3:\n",
        "        return -1 if A != B else 0\n",
        "\n",
        "    operations = 0\n",
        "\n",
        "    for i in range(n - 2):\n",
        "        for j in range(m - 2):\n",
        "            if A[i][j] != B[i][j]:\n",
        "                flip_matrix(A, i, j)\n",
        "                operations += 1\n",
        "\n",
        "    return operations if A == B else -1\n",
        "\n",
        "n, m = map(int, input().split())\n",
        "A = [list(map(int, input().strip())) for _ in range(n)]\n",
        "B = [list(map(int, input().strip())) for _ in range(n)]\n",
        "\n",
        "print(min_operations_to_convert(n, m, A, B))"
      ],
      "metadata": {
        "colab": {
          "base_uri": "https://localhost:8080/"
        },
        "id": "UX-8Du5a3hYi",
        "outputId": "0380f7a8-652a-4d64-86e6-386d7ba773c8"
      },
      "execution_count": null,
      "outputs": [
        {
          "output_type": "stream",
          "name": "stdout",
          "text": [
            "3 4\n",
            "0000\n",
            "0010\n",
            "0000\n",
            "1001\n",
            "1011\n",
            "1001\n",
            "2\n"
          ]
        }
      ]
    },
    {
      "cell_type": "markdown",
      "source": [
        "###2-1105"
      ],
      "metadata": {
        "id": "s1NoqD7p4_0W"
      }
    },
    {
      "cell_type": "code",
      "source": [
        "def count_min_eights(L, R):\n",
        "    L, R = str(L), str(R)\n",
        "    min_eights = 0\n",
        "\n",
        "    if len(L) != len(R):\n",
        "        return 0\n",
        "\n",
        "    for l_digit, r_digit in zip(L, R):\n",
        "        if l_digit != r_digit:\n",
        "            break\n",
        "        if l_digit == '8':\n",
        "            min_eights += 1\n",
        "\n",
        "    return min_eights\n",
        "\n",
        "L, R = map(int, input().split())\n",
        "\n",
        "print(count_min_eights(L, R))"
      ],
      "metadata": {
        "colab": {
          "base_uri": "https://localhost:8080/"
        },
        "id": "wBFxgyBv5Bzz",
        "outputId": "d78f457c-faaa-4799-9f10-f335f69e8ca6"
      },
      "execution_count": null,
      "outputs": [
        {
          "output_type": "stream",
          "name": "stdout",
          "text": [
            "8808 8880\n",
            "2\n"
          ]
        }
      ]
    },
    {
      "cell_type": "markdown",
      "source": [
        "###3-1124"
      ],
      "metadata": {
        "id": "c5quGbSl5l5A"
      }
    },
    {
      "cell_type": "code",
      "source": [
        "def sieve_of_eratosthenes(max_n):\n",
        "    is_prime = [True] * (max_n + 1)\n",
        "    is_prime[0] = is_prime[1] = False\n",
        "    for i in range(2, int(max_n ** 0.5) + 1):\n",
        "        if is_prime[i]:\n",
        "            for j in range(i * i, max_n + 1, i):\n",
        "                is_prime[j] = False\n",
        "    return is_prime\n",
        "\n",
        "def prime_factor_count(n, primes):\n",
        "    count = 0\n",
        "    for p in primes:\n",
        "        if p * p > n:\n",
        "            break\n",
        "        while n % p == 0:\n",
        "            count += 1\n",
        "            n //= p\n",
        "    if n > 1:\n",
        "        count += 1\n",
        "    return count\n",
        "\n",
        "def count_underprimes(A, B):\n",
        "    max_n = 100000\n",
        "    is_prime = sieve_of_eratosthenes(max_n)\n",
        "    primes = [i for i in range(2, max_n + 1) if is_prime[i]]\n",
        "\n",
        "    prime_count_is_prime = [False] * (max_n + 1)\n",
        "    for i in range(max_n + 1):\n",
        "        count = prime_factor_count(i, primes)\n",
        "        if count <= max_n and is_prime[count]:\n",
        "            prime_count_is_prime[i] = True\n",
        "\n",
        "    return sum(prime_count_is_prime[A:B + 1])\n",
        "\n",
        "A, B = map(int, input().split())\n",
        "\n",
        "print(count_underprimes(A, B))"
      ],
      "metadata": {
        "colab": {
          "base_uri": "https://localhost:8080/"
        },
        "id": "D-6wKdlp5n-u",
        "outputId": "acb24a6a-a008-4f9a-8983-8930f83080ea"
      },
      "execution_count": null,
      "outputs": [
        {
          "output_type": "stream",
          "name": "stdout",
          "text": [
            "2 10\n",
            "5\n"
          ]
        }
      ]
    },
    {
      "cell_type": "markdown",
      "source": [
        "#1/12"
      ],
      "metadata": {
        "id": "i0bxVIGnycB8"
      }
    },
    {
      "cell_type": "markdown",
      "source": [
        "###1-1141"
      ],
      "metadata": {
        "id": "cBnqXaHAyfv0"
      }
    },
    {
      "cell_type": "code",
      "source": [
        "import sys\n",
        "\n",
        "n = int(sys.stdin.readline())\n",
        "words = [(sys.stdin.readline()).rstrip() for _ in range(n)]\n",
        "\n",
        "words.sort(key=len)\n",
        "res = 0\n",
        "\n",
        "for i in range(n):\n",
        "    flag = False\n",
        "\n",
        "    for j in range(i + 1, n):\n",
        "\n",
        "        if words[i] == words[j][0:len(words[i])]:\n",
        "            flag = True\n",
        "            break\n",
        "\n",
        "    if not flag:\n",
        "        res += 1\n",
        "\n",
        "print(res)"
      ],
      "metadata": {
        "id": "yu0lR0_9zAJV"
      },
      "execution_count": null,
      "outputs": []
    },
    {
      "cell_type": "markdown",
      "source": [
        "#1/13"
      ],
      "metadata": {
        "id": "WFr_0BMsieGu"
      }
    },
    {
      "cell_type": "markdown",
      "source": [
        "###1-1149"
      ],
      "metadata": {
        "id": "bBjoRaH4lppi"
      }
    },
    {
      "cell_type": "code",
      "source": [
        "def rgb_distance_optimized(n, costs):\n",
        "    prev = costs[0]\n",
        "\n",
        "    for i in range(1, n):\n",
        "        curr = [0] * 3\n",
        "        curr[0] = costs[i][0] + min(prev[1], prev[2])\n",
        "        curr[1] = costs[i][1] + min(prev[0], prev[2])\n",
        "        curr[2] = costs[i][2] + min(prev[0], prev[1])\n",
        "        prev = curr\n",
        "\n",
        "    return min(prev)\n",
        "\n",
        "n = int(input())\n",
        "costs = [list(map(int, input().split())) for _ in range(n)]\n",
        "\n",
        "print(rgb_distance_optimized(n, costs))"
      ],
      "metadata": {
        "colab": {
          "base_uri": "https://localhost:8080/"
        },
        "id": "FzbwXEw5igaJ",
        "outputId": "19815212-dd63-49fe-ec6a-9a9756da535c"
      },
      "execution_count": null,
      "outputs": [
        {
          "output_type": "stream",
          "name": "stdout",
          "text": [
            "3\n",
            "1 100 100\n",
            "100 1 100\n",
            "100 100 1\n",
            "3\n"
          ]
        }
      ]
    },
    {
      "cell_type": "markdown",
      "source": [
        "###2-1010"
      ],
      "metadata": {
        "id": "WQHW39sfmxV2"
      }
    },
    {
      "cell_type": "code",
      "source": [
        "import math\n",
        "\n",
        "def cc(n, m):\n",
        "    return math.comb(m, n)\n",
        "\n",
        "t = int(input())\n",
        "results = []\n",
        "\n",
        "for _ in range(t):\n",
        "    n, m = map(int, input().split())\n",
        "    results.append(cc(n, m))\n",
        "\n",
        "for result in results:\n",
        "    print(result)"
      ],
      "metadata": {
        "colab": {
          "base_uri": "https://localhost:8080/"
        },
        "id": "ooOvsDFDm2Ch",
        "outputId": "e4fb2329-e8af-43c2-8edb-f62abe98ad7e"
      },
      "execution_count": null,
      "outputs": [
        {
          "output_type": "stream",
          "name": "stdout",
          "text": [
            "3\n",
            "2 2\n",
            "1 5\n",
            "13 29\n",
            "1\n",
            "5\n",
            "67863915\n"
          ]
        }
      ]
    },
    {
      "cell_type": "markdown",
      "source": [
        "###3-1015"
      ],
      "metadata": {
        "id": "ISbC9H7BnotR"
      }
    },
    {
      "cell_type": "code",
      "source": [
        "n = int(input())\n",
        "a = list(map(int, input().split()))\n",
        "\n",
        "indexed_a = [(val, idx) for idx, val in enumerate(a)]\n",
        "\n",
        "indexed_a.sort()\n",
        "\n",
        "p = [0] * n\n",
        "for new_idx, (_, original_idx) in enumerate(indexed_a):\n",
        "    p[original_idx] = new_idx\n",
        "\n",
        "print(*p)"
      ],
      "metadata": {
        "colab": {
          "base_uri": "https://localhost:8080/"
        },
        "id": "EVjKNp8dnrfy",
        "outputId": "41a6a3d1-20c0-4fa8-9f52-2e579db9fdd2"
      },
      "execution_count": null,
      "outputs": [
        {
          "output_type": "stream",
          "name": "stdout",
          "text": [
            "3\n",
            "2 3 1\n",
            "1 2 0\n"
          ]
        }
      ]
    },
    {
      "cell_type": "markdown",
      "source": [
        "###4-1198"
      ],
      "metadata": {
        "id": "jtl9c28noJ2n"
      }
    },
    {
      "cell_type": "code",
      "source": [
        "from itertools import combinations\n",
        "import math\n",
        "\n",
        "def area(a, b, c):\n",
        "    x1, y1 = a\n",
        "    x2, y2 = b\n",
        "    x3, y3 = c\n",
        "    return abs(x1 * y2 + x2 * y3 + x3 * y1 - x2 * y1 - x3 * y2 - x1 * y3) / 2\n",
        "\n",
        "N = int(input())\n",
        "points = [tuple(map(int, input().split())) for _ in range(N)]\n",
        "\n",
        "max_area = 0\n",
        "\n",
        "for triangle in combinations(points, 3):\n",
        "    max_area = max(max_area, area(*triangle))\n",
        "\n",
        "print(max_area)"
      ],
      "metadata": {
        "colab": {
          "base_uri": "https://localhost:8080/"
        },
        "id": "KFx-qiWzoLyZ",
        "outputId": "216a0bc3-55b2-46b3-e7eb-08dec86932d8"
      },
      "execution_count": null,
      "outputs": [
        {
          "output_type": "stream",
          "name": "stdout",
          "text": [
            "4\n",
            "1 1\n",
            "1 2\n",
            "3 3\n",
            "2 1\n",
            "1.5\n"
          ]
        }
      ]
    },
    {
      "cell_type": "markdown",
      "source": [
        "###5-1021"
      ],
      "metadata": {
        "id": "VxBbmxz6qm21"
      }
    },
    {
      "cell_type": "code",
      "source": [
        "from collections import deque\n",
        "\n",
        "n, m = map(int, input().split())\n",
        "targets = list(map(int, input().split()))\n",
        "\n",
        "queue = deque(range(1, n + 1))\n",
        "\n",
        "total_moves = 0\n",
        "\n",
        "for target in targets:\n",
        "\n",
        "    idx = queue.index(target)\n",
        "    left_moves = idx\n",
        "    right_moves = len(queue) - idx\n",
        "    total_moves += min(left_moves, right_moves)\n",
        "\n",
        "    if left_moves <= right_moves:\n",
        "        queue.rotate(-left_moves)\n",
        "    else:\n",
        "        queue.rotate(right_moves)\n",
        "\n",
        "    queue.popleft()\n",
        "\n",
        "print(total_moves)"
      ],
      "metadata": {
        "colab": {
          "base_uri": "https://localhost:8080/"
        },
        "id": "5cpoQ1fLqtqk",
        "outputId": "0eb5299f-f0ce-4aa1-be12-69688021eb4e"
      },
      "execution_count": null,
      "outputs": [
        {
          "output_type": "stream",
          "name": "stdout",
          "text": [
            "10 3\n",
            "1 2 3\n",
            "0\n"
          ]
        }
      ]
    },
    {
      "cell_type": "markdown",
      "source": [
        "###6-1296"
      ],
      "metadata": {
        "id": "O2m5P-82sePv"
      }
    },
    {
      "cell_type": "code",
      "source": [
        "def cp(name1, name2):\n",
        "    name = name1 + name2\n",
        "    L = name.count('L')\n",
        "    O = name.count('O')\n",
        "    V = name.count('V')\n",
        "    E = name.count('E')\n",
        "    return ((L + O) * (L + V) * (L + E) * (O + V) * (O + E) * (V + E)) % 100\n",
        "\n",
        "y_name = input().strip()\n",
        "n = int(input())\n",
        "team_names = [input().strip() for _ in range(n)]\n",
        "\n",
        "best_team = None\n",
        "max_probability = -1\n",
        "\n",
        "for team in sorted(team_names):\n",
        "    prob = cp(y_name, team)\n",
        "    if prob > max_probability:\n",
        "        max_probability = prob\n",
        "        best_team = team\n",
        "\n",
        "print(best_team)"
      ],
      "metadata": {
        "colab": {
          "base_uri": "https://localhost:8080/"
        },
        "id": "lMwESAo0sg1M",
        "outputId": "f5ebb2a8-9de0-42df-e459-bdad5c2af203"
      },
      "execution_count": null,
      "outputs": [
        {
          "output_type": "stream",
          "name": "stdout",
          "text": [
            "LOVE\n",
            "3\n",
            "JACOB\n",
            "FRANK\n",
            "DANO\n",
            "FRANK\n"
          ]
        }
      ]
    },
    {
      "cell_type": "markdown",
      "source": [
        "###7-1026"
      ],
      "metadata": {
        "id": "ABTRNy9htlbx"
      }
    },
    {
      "cell_type": "code",
      "source": [
        "n = int(input())\n",
        "A = list(map(int, input().split()))\n",
        "B = list(map(int, input().split()))\n",
        "\n",
        "A.sort()\n",
        "B.sort(reverse=True)\n",
        "\n",
        "S = sum(a * b for a, b in zip(A, B))\n",
        "\n",
        "print(S)"
      ],
      "metadata": {
        "colab": {
          "base_uri": "https://localhost:8080/"
        },
        "id": "WUrZALeXtpca",
        "outputId": "88a9ea3b-00ae-42d8-8e93-adcd93e9d070"
      },
      "execution_count": null,
      "outputs": [
        {
          "output_type": "stream",
          "name": "stdout",
          "text": [
            "5\n",
            "1 1 1 6 0\n",
            "2 7 8 3 1\n",
            "18\n"
          ]
        }
      ]
    },
    {
      "cell_type": "markdown",
      "source": [
        "#1/14"
      ],
      "metadata": {
        "id": "l1bxYck4oS6k"
      }
    },
    {
      "cell_type": "markdown",
      "source": [
        "###1-1333"
      ],
      "metadata": {
        "id": "RhphqqwpoWi2"
      }
    },
    {
      "cell_type": "code",
      "source": [
        "N, L, D = map(int, input().split())\n",
        "\n",
        "end_of_album = N * L + (N - 1) * 5\n",
        "\n",
        "time = 0\n",
        "while time <= end_of_album:\n",
        "    is_playing = False\n",
        "    for i in range(N):\n",
        "        start = i * (L + 5)\n",
        "        end = start + L\n",
        "        if start <= time < end:\n",
        "            is_playing = True\n",
        "            break\n",
        "    if not is_playing:\n",
        "        break\n",
        "    time += D\n",
        "\n",
        "print(time)"
      ],
      "metadata": {
        "colab": {
          "base_uri": "https://localhost:8080/"
        },
        "id": "mztch8UGohzD",
        "outputId": "d8c12ff4-491c-457b-e909-18a39e8e102c"
      },
      "execution_count": null,
      "outputs": [
        {
          "output_type": "stream",
          "name": "stdout",
          "text": [
            "6 9 20\n",
            "40\n"
          ]
        }
      ]
    },
    {
      "cell_type": "markdown",
      "source": [
        "###2-1356"
      ],
      "metadata": {
        "id": "tqcqtualoiIE"
      }
    },
    {
      "cell_type": "code",
      "source": [
        "def yujinsu(n):\n",
        "    def product(s):\n",
        "        result = 1\n",
        "        for char in s:\n",
        "            result *= int(char)\n",
        "        return result\n",
        "\n",
        "    n = str(n)\n",
        "    length = len(n)\n",
        "\n",
        "    for i in range(1, length):\n",
        "        p1 = n[:i]\n",
        "        p2 = n[i:]\n",
        "        if product(p1) == product(p2):\n",
        "            return \"YES\"\n",
        "    return \"NO\"\n",
        "\n",
        "n = input().strip()\n",
        "print(yujinsu(n))"
      ],
      "metadata": {
        "colab": {
          "base_uri": "https://localhost:8080/"
        },
        "id": "c0guCI6No7Za",
        "outputId": "1629e4ac-3294-423e-a887-c7da27e8e033"
      },
      "execution_count": null,
      "outputs": [
        {
          "output_type": "stream",
          "name": "stdout",
          "text": [
            "42393338\n",
            "YES\n"
          ]
        }
      ]
    },
    {
      "cell_type": "markdown",
      "source": [
        "###3-1357"
      ],
      "metadata": {
        "id": "BzVAT0Kypf8d"
      }
    },
    {
      "cell_type": "code",
      "source": [
        "def rev_num(n):\n",
        "    return int(str(n)[::-1])\n",
        "\n",
        "x, y = map(int, input().split())\n",
        "\n",
        "result = rev_num(rev_num(x) + rev_num(y))\n",
        "\n",
        "print(result)"
      ],
      "metadata": {
        "colab": {
          "base_uri": "https://localhost:8080/"
        },
        "id": "NcCsOaw2pkpZ",
        "outputId": "eac137f7-da17-4650-9407-70db74e28d92"
      },
      "execution_count": null,
      "outputs": [
        {
          "output_type": "stream",
          "name": "stdout",
          "text": [
            "456 789\n",
            "1461\n"
          ]
        }
      ]
    },
    {
      "cell_type": "markdown",
      "source": [
        "###4-1373"
      ],
      "metadata": {
        "id": "Auhv129XqZq8"
      }
    },
    {
      "cell_type": "code",
      "source": [
        "binary = input().strip()\n",
        "\n",
        "octal = oct(int(binary, 2))[2:]\n",
        "\n",
        "print(octal)"
      ],
      "metadata": {
        "colab": {
          "base_uri": "https://localhost:8080/"
        },
        "id": "3nYzgjfRqblx",
        "outputId": "caeb5857-d617-46bc-9195-7863daefec6c"
      },
      "execution_count": null,
      "outputs": [
        {
          "output_type": "stream",
          "name": "stdout",
          "text": [
            "11001100\n",
            "314\n"
          ]
        }
      ]
    },
    {
      "cell_type": "markdown",
      "source": [
        "###5-1524"
      ],
      "metadata": {
        "id": "h5IHYIVSrCea"
      }
    },
    {
      "cell_type": "code",
      "source": [
        "T = int(input().strip())\n",
        "results = []\n",
        "\n",
        "for _ in range(T):\n",
        "    input()\n",
        "    N, M = map(int, input().split())\n",
        "    sejun = sorted(map(int, input().split()))\n",
        "    sebi = sorted(map(int, input().split()))\n",
        "\n",
        "    if sejun[-1] >= sebi[-1]:\n",
        "        results.append(\"S\")\n",
        "    else:\n",
        "        results.append(\"B\")\n",
        "\n",
        "print(\"\\n\".join(results))"
      ],
      "metadata": {
        "colab": {
          "base_uri": "https://localhost:8080/"
        },
        "id": "hAWZbTDUrIvw",
        "outputId": "228f5704-3402-4c9c-9417-ca307f660dc8"
      },
      "execution_count": null,
      "outputs": [
        {
          "output_type": "stream",
          "name": "stdout",
          "text": [
            "2\n",
            "\n",
            "1 1\n",
            "1\n",
            "1\n",
            "\n",
            "3 2\n",
            "1 3 2\n",
            "5 5\n",
            "S\n",
            "B\n"
          ]
        }
      ]
    },
    {
      "cell_type": "markdown",
      "source": [
        "###6-1526"
      ],
      "metadata": {
        "id": "FSmi-GxyrJHr"
      }
    },
    {
      "cell_type": "code",
      "source": [
        "def num47(num):\n",
        "    for digit in str(num):\n",
        "        if digit != '4' and digit != '7':\n",
        "            return False\n",
        "    return True\n",
        "\n",
        "def largest_num47(N):\n",
        "    for num in range(N, 3, -1):\n",
        "        if num47(num):\n",
        "            return num\n",
        "\n",
        "N = int(input())\n",
        "\n",
        "print(largest_num47(N))"
      ],
      "metadata": {
        "colab": {
          "base_uri": "https://localhost:8080/"
        },
        "id": "7SQHCcIbrL69",
        "outputId": "ef136fb4-2ea8-4b36-e454-d6d6293090de"
      },
      "execution_count": null,
      "outputs": [
        {
          "output_type": "stream",
          "name": "stdout",
          "text": [
            "474747\n",
            "474747\n"
          ]
        }
      ]
    },
    {
      "cell_type": "markdown",
      "source": [
        "###7-1551"
      ],
      "metadata": {
        "id": "1DI4lwSgrMaR"
      }
    },
    {
      "cell_type": "code",
      "source": [
        "N, K = map(int, input().split())\n",
        "A = list(map(int, input().split(',')))\n",
        "\n",
        "for _ in range(K):\n",
        "    A = [A[i+1] - A[i] for i in range(len(A) - 1)]\n",
        "\n",
        "print(','.join(map(str, A)))"
      ],
      "metadata": {
        "colab": {
          "base_uri": "https://localhost:8080/"
        },
        "id": "siSF1O9XrPMx",
        "outputId": "5ce7663e-547f-4c2d-e6ba-c495e9e75fac"
      },
      "execution_count": null,
      "outputs": [
        {
          "output_type": "stream",
          "name": "stdout",
          "text": [
            "8 3\n",
            "4,4,4,4,4,4,4,4\n",
            "0,0,0,0,0\n"
          ]
        }
      ]
    },
    {
      "cell_type": "markdown",
      "source": [
        "###8-1672"
      ],
      "metadata": {
        "id": "ExuIkWn1rPdv"
      }
    },
    {
      "cell_type": "code",
      "source": [
        "decode = {\n",
        "    ('A', 'A'): 'A', ('A', 'G'): 'C', ('A', 'C'): 'A', ('A', 'T'): 'G',\n",
        "    ('G', 'A'): 'C', ('G', 'G'): 'G', ('G', 'C'): 'T', ('G', 'T'): 'A',\n",
        "    ('C', 'A'): 'A', ('C', 'G'): 'T', ('C', 'C'): 'C', ('C', 'T'): 'G',\n",
        "    ('T', 'A'): 'G', ('T', 'G'): 'A', ('T', 'C'): 'G', ('T', 'T'): 'T',\n",
        "}\n",
        "\n",
        "N = int(input())\n",
        "sequence = input().strip()\n",
        "\n",
        "current = sequence[-1]\n",
        "for i in range(N - 2, -1, -1):\n",
        "    current = decode[(sequence[i], current)]\n",
        "\n",
        "print(current)"
      ],
      "metadata": {
        "colab": {
          "base_uri": "https://localhost:8080/"
        },
        "id": "ANJpKkdsrRl7",
        "outputId": "4f1b32df-118b-4196-8ca9-1ab181993b6f"
      },
      "execution_count": null,
      "outputs": [
        {
          "output_type": "stream",
          "name": "stdout",
          "text": [
            "6\n",
            "AAGTCG\n",
            "A\n"
          ]
        }
      ]
    },
    {
      "cell_type": "markdown",
      "source": [
        "###9-1816"
      ],
      "metadata": {
        "id": "icscBVABrR_0"
      }
    },
    {
      "cell_type": "code",
      "source": [
        "import math\n",
        "\n",
        "def generate_primes(limit):\n",
        "    is_prime = [True] * (limit + 1)\n",
        "    is_prime[0] = is_prime[1] = False\n",
        "    for i in range(2, int(math.sqrt(limit)) + 1):\n",
        "        if is_prime[i]:\n",
        "            for j in range(i * i, limit + 1, i):\n",
        "                is_prime[j] = False\n",
        "    return [x for x in range(limit + 1) if is_prime[x]]\n",
        "\n",
        "MAX = 10**6\n",
        "primes = generate_primes(MAX)\n",
        "\n",
        "N = int(input())\n",
        "results = []\n",
        "for _ in range(N):\n",
        "    S = int(input())\n",
        "    is_valid = True\n",
        "\n",
        "    for p in primes:\n",
        "        if p * p > S:\n",
        "            break\n",
        "        if S % p == 0:\n",
        "            is_valid = False\n",
        "            break\n",
        "\n",
        "    if is_valid and S > MAX:\n",
        "        sqrt_s = int(math.sqrt(S))\n",
        "        for p in primes:\n",
        "            if p > sqrt_s:\n",
        "                break\n",
        "            if S % p == 0:\n",
        "                is_valid = False\n",
        "                break\n",
        "\n",
        "    results.append(\"YES\" if is_valid else \"NO\")\n",
        "\n",
        "print(\"\\n\".join(results))"
      ],
      "metadata": {
        "colab": {
          "base_uri": "https://localhost:8080/"
        },
        "id": "dXHMy6WkrUHo",
        "outputId": "4e5ad379-3bd0-4515-c9a1-6fc0270a1fdf"
      },
      "execution_count": null,
      "outputs": [
        {
          "output_type": "stream",
          "name": "stdout",
          "text": [
            "3\n",
            "1000036000099\n",
            "1500035500153\n",
            "20000000000002\n",
            "YES\n",
            "NO\n",
            "NO\n"
          ]
        }
      ]
    },
    {
      "cell_type": "markdown",
      "source": [
        "###10-1834"
      ],
      "metadata": {
        "id": "1U5tjYwYrUkl"
      }
    },
    {
      "cell_type": "code",
      "source": [
        "N = int(input())\n",
        "\n",
        "result = (N + 1) * N * (N - 1) // 2\n",
        "\n",
        "print(result)"
      ],
      "metadata": {
        "colab": {
          "base_uri": "https://localhost:8080/"
        },
        "id": "LzYG3kczrX1Y",
        "outputId": "492b7ae3-8130-4353-9436-2bbd3e1810eb"
      },
      "execution_count": null,
      "outputs": [
        {
          "output_type": "stream",
          "name": "stdout",
          "text": [
            "2000000\n",
            "3999999999999000000\n"
          ]
        }
      ]
    },
    {
      "cell_type": "markdown",
      "source": [
        "#1/15"
      ],
      "metadata": {
        "id": "XbyZTHgBuLF_"
      }
    },
    {
      "cell_type": "markdown",
      "source": [
        "###1-1855"
      ],
      "metadata": {
        "id": "rxgmn1n9uMmU"
      }
    },
    {
      "cell_type": "code",
      "source": [
        "K = int(input())\n",
        "encrypted = input().strip()\n",
        "\n",
        "row_count = len(encrypted) // K\n",
        "\n",
        "matrix = []\n",
        "for i in range(row_count):\n",
        "    start_idx = i * K\n",
        "    end_idx = start_idx + K\n",
        "    row = encrypted[start_idx:end_idx]\n",
        "    if i % 2 == 1:\n",
        "        row = row[::-1]\n",
        "    matrix.append(row)\n",
        "\n",
        "original = \"\"\n",
        "for col in range(K):\n",
        "    for row in range(row_count):\n",
        "        original += matrix[row][col]\n",
        "\n",
        "print(original)"
      ],
      "metadata": {
        "colab": {
          "base_uri": "https://localhost:8080/"
        },
        "id": "5IWwq_8LuPXF",
        "outputId": "494074dc-422a-4b65-8cfb-1dff833d3f8e"
      },
      "execution_count": null,
      "outputs": [
        {
          "output_type": "stream",
          "name": "stdout",
          "text": [
            "3\n",
            "aeijfbcgklhd\n",
            "abcdefghijkl\n"
          ]
        }
      ]
    },
    {
      "cell_type": "markdown",
      "source": [
        "###2-1894"
      ],
      "metadata": {
        "id": "uEzeo3XLMlPa"
      }
    },
    {
      "cell_type": "code",
      "source": [
        "import sys\n",
        "\n",
        "def find_fourth_point(coords):\n",
        "    x1, y1, x2, y2, x3, y3, x4, y4 = coords\n",
        "    if (x1, y1) == (x3, y3):  # A == C\n",
        "        x5 = x2 + x4 - x1\n",
        "        y5 = y2 + y4 - y1\n",
        "    elif (x1, y1) == (x4, y4):  # A == D\n",
        "        x5 = x2 + x3 - x1\n",
        "        y5 = y2 + y3 - y1\n",
        "    elif (x2, y2) == (x3, y3):  # B == C\n",
        "        x5 = x1 + x4 - x2\n",
        "        y5 = y1 + y4 - y2\n",
        "    elif (x2, y2) == (x4, y4):  # B == D\n",
        "        x5 = x1 + x3 - x2\n",
        "        y5 = y1 + y3 - y2\n",
        "    return f\"{x5:.3f} {y5:.3f}\"\n",
        "\n",
        "input_lines = sys.stdin.read().strip().split(\"\\n\")\n",
        "for line in input_lines:\n",
        "    coords = list(map(float, line.split()))\n",
        "    print(find_fourth_point(coords))"
      ],
      "metadata": {
        "id": "SfqGGt-7MnJL"
      },
      "execution_count": null,
      "outputs": []
    },
    {
      "cell_type": "markdown",
      "source": [
        "###3-1924"
      ],
      "metadata": {
        "id": "wYMJmX5kMrb9"
      }
    },
    {
      "cell_type": "code",
      "source": [
        "def find_day_of_week(x, y):\n",
        "    days_in_month = [31, 28, 31, 30, 31, 30, 31, 31, 30, 31, 30, 31]\n",
        "    days_of_week = [\"MON\", \"TUE\", \"WED\", \"THU\", \"FRI\", \"SAT\", \"SUN\"]\n",
        "\n",
        "    total_days = sum(days_in_month[:x - 1]) + y - 1\n",
        "    return days_of_week[total_days % 7]\n",
        "\n",
        "x, y = map(int, input().split())\n",
        "print(find_day_of_week(x, y))"
      ],
      "metadata": {
        "colab": {
          "base_uri": "https://localhost:8080/"
        },
        "id": "uXH4tK4uM7DI",
        "outputId": "132646f3-0b40-422f-ba95-6dc0d28aa9f4"
      },
      "execution_count": null,
      "outputs": [
        {
          "output_type": "stream",
          "name": "stdout",
          "text": [
            "1 1\n",
            "MON\n"
          ]
        }
      ]
    },
    {
      "cell_type": "markdown",
      "source": [
        "###4-1942"
      ],
      "metadata": {
        "id": "aKi9z9HxNtN7"
      }
    },
    {
      "cell_type": "code",
      "source": [
        "def tts(hh, mm, ss):\n",
        "    return hh * 3600 + mm * 60 + ss\n",
        "\n",
        "def stt(seconds):\n",
        "    hh = seconds // 3600\n",
        "    mm = (seconds % 3600) // 60\n",
        "    ss = seconds % 60\n",
        "    return hh, mm, ss\n",
        "\n",
        "def count_3(start_time, end_time):\n",
        "\n",
        "    sh, sm, ss = map(int, start_time.split(\":\"))\n",
        "    eh, em, es = map(int, end_time.split(\":\"))\n",
        "\n",
        "    start_seconds = tts(sh, sm, ss)\n",
        "    end_seconds = tts(eh, em, es)\n",
        "\n",
        "    if start_seconds > end_seconds:\n",
        "        end_seconds += 86400\n",
        "\n",
        "    count = 0\n",
        "    for t in range(start_seconds, end_seconds + 1):\n",
        "        hh, mm, ss = stt(t % 86400)\n",
        "        clock_number = hh * 10000 + mm * 100 + ss\n",
        "        if clock_number % 3 == 0:\n",
        "            count += 1\n",
        "    return count\n",
        "\n",
        "for _ in range(3):\n",
        "    start_time, end_time = input().split()\n",
        "    print(count_3(start_time, end_time))"
      ],
      "metadata": {
        "colab": {
          "base_uri": "https://localhost:8080/"
        },
        "id": "OaiTSptNN_Lb",
        "outputId": "a413f267-fbc7-4a81-a0b2-f998f6cbf7ba"
      },
      "execution_count": null,
      "outputs": [
        {
          "output_type": "stream",
          "name": "stdout",
          "text": [
            "00:59:58 01:01:24\n",
            "29\n",
            "22:47:03 01:03:24\n",
            "2727\n",
            "00:00:09 00:03:37\n",
            "70\n"
          ]
        }
      ]
    },
    {
      "cell_type": "markdown",
      "source": [
        "###5-1952"
      ],
      "metadata": {
        "id": "R3ampP8QS4rk"
      }
    },
    {
      "cell_type": "code",
      "source": [
        "m,n=map(int,input().split())\n",
        "print(2*min(m,n)-1-(m<=n))"
      ],
      "metadata": {
        "colab": {
          "base_uri": "https://localhost:8080/"
        },
        "id": "p5V8RmuvUGQO",
        "outputId": "dcc812da-cb0d-4ff6-b453-342ef8f89581"
      },
      "execution_count": null,
      "outputs": [
        {
          "output_type": "stream",
          "name": "stdout",
          "text": [
            "5 3\n",
            "5\n"
          ]
        }
      ]
    },
    {
      "cell_type": "markdown",
      "source": [
        "###6-2033"
      ],
      "metadata": {
        "id": "HJK8-vm0V0CE"
      }
    },
    {
      "cell_type": "code",
      "source": [
        "N = int(input())\n",
        "\n",
        "start = 10\n",
        "while N > start:\n",
        "  temp = N % start\n",
        "\n",
        "  if temp >= start //2:\n",
        "    N += start\n",
        "  N -= temp\n",
        "  start *= 10\n",
        "\n",
        "print(N)"
      ],
      "metadata": {
        "colab": {
          "base_uri": "https://localhost:8080/"
        },
        "id": "H91BejWlWDgI",
        "outputId": "351edbd3-eebd-4aa9-bea8-c0ffef67369e"
      },
      "execution_count": null,
      "outputs": [
        {
          "output_type": "stream",
          "name": "stdout",
          "text": [
            "446\n",
            "500\n"
          ]
        }
      ]
    },
    {
      "cell_type": "markdown",
      "source": [
        "###7-2037"
      ],
      "metadata": {
        "id": "AlT6hlniXqXl"
      }
    },
    {
      "cell_type": "code",
      "source": [
        "if __name__ == '__main__':\n",
        "    keyboard = [[], ['A', 'B', 'C'], ['D', 'E', 'F'], ['G', 'H', 'I'], ['J', 'K', 'L'], ['M', 'N', 'O'],\n",
        "                ['P', 'Q', 'R', 'S'], ['T', 'U', 'V'], ['W', 'X', 'Y', 'Z']]\n",
        "    p, w = map(int, input().split())\n",
        "    text = input()\n",
        "\n",
        "    total = 0\n",
        "    past_j = ''\n",
        "    for i in range(len(text)):\n",
        "        if text[i] == ' ':\n",
        "            total += p\n",
        "            past_j = ''\n",
        "        for j in range(len(keyboard)):\n",
        "            for k in range(len(keyboard[j])):\n",
        "                if text[i] == keyboard[j][k]:\n",
        "                    if j == past_j:\n",
        "                        total += w\n",
        "                    total += (1+k) * p\n",
        "                    past_j = j\n",
        "    print(total)"
      ],
      "metadata": {
        "colab": {
          "base_uri": "https://localhost:8080/"
        },
        "id": "gHs-p-2kXs07",
        "outputId": "d73aa151-1b1a-40ec-82ac-348c3dbe12ec"
      },
      "execution_count": null,
      "outputs": [
        {
          "output_type": "stream",
          "name": "stdout",
          "text": [
            "2 10\n",
            "ABBAS SALAM\n",
            "72\n"
          ]
        }
      ]
    },
    {
      "cell_type": "markdown",
      "source": [
        "###8-2160"
      ],
      "metadata": {
        "id": "MEVIgQGbaIAa"
      }
    },
    {
      "cell_type": "code",
      "source": [
        "def find_most_similar_pictures(N, pictures):\n",
        "    def count_differences(pic1, pic2):\n",
        "        differences = 0\n",
        "        for row1, row2 in zip(pic1, pic2):\n",
        "            for c1, c2 in zip(row1, row2):\n",
        "                if c1 != c2:\n",
        "                    differences += 1\n",
        "        return differences\n",
        "\n",
        "    min_differences = float('inf')\n",
        "    best_pair = None\n",
        "\n",
        "    for i in range(N):\n",
        "        for j in range(i + 1, N):\n",
        "            diff = count_differences(pictures[i], pictures[j])\n",
        "            if diff < min_differences:\n",
        "                min_differences = diff\n",
        "                best_pair = (i + 1, j + 1)\n",
        "\n",
        "    return best_pair\n",
        "\n",
        "N = int(input())\n",
        "pictures = [input().strip() for _ in range(5 * N)]\n",
        "pictures = [pictures[i * 5:(i + 1) * 5] for i in range(N)]\n",
        "\n",
        "result = find_most_similar_pictures(N, pictures)\n",
        "\n",
        "print(*result)"
      ],
      "metadata": {
        "colab": {
          "base_uri": "https://localhost:8080/"
        },
        "id": "PssQnEa3aK2N",
        "outputId": "b672146f-76fc-45a4-bd41-4b4be54bebea"
      },
      "execution_count": null,
      "outputs": [
        {
          "output_type": "stream",
          "name": "stdout",
          "text": [
            "3\n",
            "..X....\n",
            ".XXX...\n",
            ".XX....\n",
            ".....X.\n",
            ".X...X.\n",
            "...X...\n",
            "..XX...\n",
            ".XX....\n",
            ".XX..X.\n",
            ".X...X.\n",
            "XX.....\n",
            "X......\n",
            "XX...XX\n",
            "XXXX.XX\n",
            "XXX..XX\n",
            "1 2\n"
          ]
        }
      ]
    },
    {
      "cell_type": "markdown",
      "source": [
        "###9-2163"
      ],
      "metadata": {
        "id": "OeGUbp4kbO8L"
      }
    },
    {
      "cell_type": "code",
      "source": [
        "def min_chocolate_cuts(N, M):\n",
        "    return N * M - 1\n",
        "\n",
        "N, M = map(int, input().split())\n",
        "print(min_chocolate_cuts(N, M))"
      ],
      "metadata": {
        "colab": {
          "base_uri": "https://localhost:8080/"
        },
        "id": "XFn3zXeibTne",
        "outputId": "40dc1f99-1a5e-4bd1-fbd4-f7a171d78223"
      },
      "execution_count": null,
      "outputs": [
        {
          "output_type": "stream",
          "name": "stdout",
          "text": [
            "1 1\n",
            "0\n"
          ]
        }
      ]
    },
    {
      "cell_type": "markdown",
      "source": [
        "###10-2183"
      ],
      "metadata": {
        "id": "j3W_pWM8dErT"
      }
    },
    {
      "cell_type": "code",
      "source": [
        "def tennis_match_winner(N, S):\n",
        "    return S[-1]\n",
        "\n",
        "if __name__ == \"__main__\":\n",
        "    import sys\n",
        "    input = sys.stdin.read\n",
        "    data = input().strip().split()\n",
        "    N = int(data[0])\n",
        "    S = data[1]\n",
        "    print(tennis_match_winner(N, S))"
      ],
      "metadata": {
        "id": "W3TLCW-fnrUJ"
      },
      "execution_count": null,
      "outputs": []
    },
    {
      "cell_type": "markdown",
      "source": [
        "#1/16"
      ],
      "metadata": {
        "id": "O9cHFdJnAU-3"
      }
    },
    {
      "cell_type": "markdown",
      "source": [
        "###1-2204"
      ],
      "metadata": {
        "id": "7W23_oPKAXCH"
      }
    },
    {
      "cell_type": "code",
      "source": [
        "def find_earliest_words():\n",
        "    results = []\n",
        "\n",
        "    while True:\n",
        "        n = int(input())\n",
        "        if n == 0:\n",
        "            break\n",
        "\n",
        "        words = [input() for i in range(n)]\n",
        "        earliest_word = min(words, key=lambda word: word.lower())\n",
        "        results.append(earliest_word)\n",
        "\n",
        "    for result in results:\n",
        "        print(result)\n",
        "\n",
        "find_earliest_words()"
      ],
      "metadata": {
        "colab": {
          "base_uri": "https://localhost:8080/"
        },
        "id": "4WeMHDfwAWvt",
        "outputId": "4ae11dca-c355-4226-bb7c-4d75e88e0d39"
      },
      "execution_count": null,
      "outputs": [
        {
          "output_type": "stream",
          "name": "stdout",
          "text": [
            "3\n",
            "Cat\n",
            "fat\n",
            "bAt\n",
            "4\n",
            "call\n",
            "ball\n",
            "All\n",
            "Hall\n",
            "0\n",
            "bAt\n",
            "All\n"
          ]
        }
      ]
    },
    {
      "cell_type": "markdown",
      "source": [
        "###2-2246"
      ],
      "metadata": {
        "id": "mj699j24CFDz"
      }
    },
    {
      "cell_type": "code",
      "source": [
        "def count_candidate_condos():\n",
        "    N = int(input())\n",
        "    condos = []\n",
        "    for _ in range(N):\n",
        "        D, C = map(int, input().split())\n",
        "        condos.append((D, C))\n",
        "\n",
        "    condos.sort()\n",
        "\n",
        "    min_cost = float('inf')\n",
        "    candidate_count = 0\n",
        "\n",
        "    for _, cost in condos:\n",
        "        if cost < min_cost:\n",
        "            candidate_count += 1\n",
        "            min_cost = cost\n",
        "\n",
        "    print(candidate_count)\n",
        "\n",
        "count_candidate_condos()"
      ],
      "metadata": {
        "colab": {
          "base_uri": "https://localhost:8080/"
        },
        "id": "DyOV1MxhCG87",
        "outputId": "4e44fde8-5d45-4c79-f166-d8b9cfb4492f"
      },
      "execution_count": null,
      "outputs": [
        {
          "output_type": "stream",
          "name": "stdout",
          "text": [
            "5\n",
            "300 100\n",
            "100 300\n",
            "400 200\n",
            "200 400\n",
            "100 500\n",
            "2\n"
          ]
        }
      ]
    },
    {
      "cell_type": "markdown",
      "source": [
        "###3-2309"
      ],
      "metadata": {
        "id": "JntE7wx_DBDH"
      }
    },
    {
      "cell_type": "code",
      "source": [
        "def find_seven_dwarfs():\n",
        "    heights = [int(input()) for _ in range(9)]\n",
        "    total_sum = sum(heights)\n",
        "\n",
        "    for i in range(9):\n",
        "        for j in range(i + 1, 9):\n",
        "            if total_sum - heights[i] - heights[j] == 100:\n",
        "                result = sorted([heights[k] for k in range(9) if k != i and k != j])\n",
        "                print(\"\\n\".join(map(str, result)))\n",
        "                return\n",
        "\n",
        "find_seven_dwarfs()"
      ],
      "metadata": {
        "colab": {
          "base_uri": "https://localhost:8080/"
        },
        "id": "uwfU4szqDE51",
        "outputId": "f880795e-219b-4930-9776-0d3171f85d39"
      },
      "execution_count": null,
      "outputs": [
        {
          "output_type": "stream",
          "name": "stdout",
          "text": [
            "20\n",
            "7\n",
            "23\n",
            "19\n",
            "10\n",
            "15\n",
            "25\n",
            "8\n",
            "13\n",
            "7\n",
            "8\n",
            "10\n",
            "13\n",
            "19\n",
            "20\n",
            "23\n"
          ]
        }
      ]
    },
    {
      "cell_type": "markdown",
      "source": [
        "###4-2435"
      ],
      "metadata": {
        "id": "IymS9U1gDPKX"
      }
    },
    {
      "cell_type": "code",
      "source": [
        "def max_temperature_sum():\n",
        "    N, K = map(int, input().split())\n",
        "    temperatures = list(map(int, input().split()))\n",
        "\n",
        "    current_sum = sum(temperatures[:K])\n",
        "    max_sum = current_sum\n",
        "\n",
        "    for i in range(K, N):\n",
        "        current_sum += temperatures[i] - temperatures[i - K]\n",
        "        max_sum = max(max_sum, current_sum)\n",
        "\n",
        "    print(max_sum)\n",
        "\n",
        "max_temperature_sum()"
      ],
      "metadata": {
        "colab": {
          "base_uri": "https://localhost:8080/"
        },
        "id": "bCrpZuLrDTYY",
        "outputId": "09d8efb0-5e4b-44bb-eb1e-f872a46a0ab1"
      },
      "execution_count": null,
      "outputs": [
        {
          "output_type": "stream",
          "name": "stdout",
          "text": [
            "10 2\n",
            "3 -2 -4 -9 0 3 7 13 8 -3\n",
            "21\n"
          ]
        }
      ]
    },
    {
      "cell_type": "markdown",
      "source": [
        "###5-2456"
      ],
      "metadata": {
        "id": "g6Y531AvDtp3"
      }
    },
    {
      "cell_type": "code",
      "source": [
        "def class_president():\n",
        "    N = int(input())\n",
        "    candidate = [0] * 3\n",
        "    squared = [0] * 3\n",
        "\n",
        "    for _ in range(N):\n",
        "        a, b, c = map(int, input().split())\n",
        "        candidate[0] += a\n",
        "        candidate[1] += b\n",
        "        candidate[2] += c\n",
        "\n",
        "        squared[0] += a ** 2\n",
        "        squared[1] += b ** 2\n",
        "        squared[2] += c ** 2\n",
        "\n",
        "    max_score = max(candidate)\n",
        "\n",
        "    if candidate.count(max_score) == 1:\n",
        "        print(candidate.index(max_score) + 1, max_score)\n",
        "    else:\n",
        "        max_squared = max(squared)\n",
        "        elected = 0\n",
        "        for i in range(3):\n",
        "            if squared[i] == max_squared:\n",
        "                elected = i\n",
        "                break\n",
        "\n",
        "        if squared.count(max_squared) > 1:\n",
        "            print(0, max_score)\n",
        "        else:\n",
        "            print(elected + 1, candidate[elected])\n",
        "\n",
        "class_president()"
      ],
      "metadata": {
        "colab": {
          "base_uri": "https://localhost:8080/"
        },
        "id": "_mqqqu0DDykU",
        "outputId": "4fcbdebb-5744-4935-a874-737f6edc331b"
      },
      "execution_count": null,
      "outputs": [
        {
          "output_type": "stream",
          "name": "stdout",
          "text": [
            "6\n",
            "1 2 3\n",
            "3 1 2\n",
            "2 3 1\n",
            "1 2 3\n",
            "3 1 2\n",
            "2 3 1\n",
            "0 12\n"
          ]
        }
      ]
    },
    {
      "cell_type": "markdown",
      "source": [
        "###6-2526"
      ],
      "metadata": {
        "id": "4YYb6tniE373"
      }
    },
    {
      "cell_type": "code",
      "source": [
        "def find_cycle():\n",
        "    N, P = map(int, input().split())\n",
        "    visited = []\n",
        "    current = N\n",
        "\n",
        "    while current not in visited:\n",
        "        visited.append(current)\n",
        "        current = (current * N) % P\n",
        "\n",
        "    cycle_start = visited.index(current)\n",
        "    cycle_length = len(visited) - cycle_start\n",
        "\n",
        "    print(cycle_length)\n",
        "\n",
        "find_cycle()"
      ],
      "metadata": {
        "colab": {
          "base_uri": "https://localhost:8080/"
        },
        "id": "Lo-wApI4E4O-",
        "outputId": "0ebf32e4-a53c-4366-dcd6-80430bc5c8b2"
      },
      "execution_count": null,
      "outputs": [
        {
          "output_type": "stream",
          "name": "stdout",
          "text": [
            "96 61\n",
            "60\n"
          ]
        }
      ]
    },
    {
      "cell_type": "markdown",
      "source": [
        "###7-2546"
      ],
      "metadata": {
        "id": "Ba5vCY4_F2JX"
      }
    },
    {
      "cell_type": "code",
      "source": [
        "T = int(input())\n",
        "\n",
        "for t in range(T):\n",
        "    empty_line = input()\n",
        "    N, M = map(int, input().split())\n",
        "    C = list(map(int, input().split()))\n",
        "    Economics = list(map(int, input().split()))\n",
        "\n",
        "    C_avg = sum(C) / N\n",
        "    Economics_avg = sum(Economics) / M\n",
        "\n",
        "    result = 0\n",
        "\n",
        "    for c in C:\n",
        "        if c < C_avg and c > Economics_avg:\n",
        "            result += 1\n",
        "    print(result)"
      ],
      "metadata": {
        "colab": {
          "base_uri": "https://localhost:8080/"
        },
        "id": "r_5Em-B1F4vq",
        "outputId": "9999db52-8386-490b-d792-030b0cbe608a"
      },
      "execution_count": null,
      "outputs": [
        {
          "output_type": "stream",
          "name": "stdout",
          "text": [
            "1\n",
            "\n",
            "5 5\n",
            "100 101 102 103 104\n",
            "98 100 102 99 101\n",
            "1\n"
          ]
        }
      ]
    },
    {
      "cell_type": "markdown",
      "source": [
        "###8-2596"
      ],
      "metadata": {
        "id": "9mceqsJVHJaQ"
      }
    },
    {
      "cell_type": "code",
      "source": [
        "if __name__ == '__main__':\n",
        "    n = int(input())\n",
        "    s = input()\n",
        "    s_li = []\n",
        "    for i in range(0, n * 6, 6):\n",
        "        s_li.append(s[i: i + 6])\n",
        "    promise = ['000000', '001111',\n",
        "               '010011', '011100',\n",
        "               '100110', '101001',\n",
        "               '110101', '111010']\n",
        "\n",
        "    correct = ''\n",
        "    incorrect = 0\n",
        "    for i in s_li:\n",
        "        incorrect = 0\n",
        "        for j in promise:\n",
        "            cnt = 0\n",
        "            for k in range(6):\n",
        "                if i[k] == j[k]:\n",
        "                    cnt += 1\n",
        "            if cnt >= 5:\n",
        "                correct += chr(promise.index(j) + 65)\n",
        "                break\n",
        "            else:\n",
        "                incorrect += 1\n",
        "        if incorrect == len(promise):\n",
        "            print(s_li.index(i) + 1)\n",
        "            quit()\n",
        "    print(correct)"
      ],
      "metadata": {
        "colab": {
          "base_uri": "https://localhost:8080/"
        },
        "id": "qEkIkUrpHLqi",
        "outputId": "ef645e3c-97e1-4979-b7a6-e9fe6f7b4cdd"
      },
      "execution_count": null,
      "outputs": [
        {
          "output_type": "stream",
          "name": "stdout",
          "text": [
            "5\n",
            "011111000000111111000000111111\n",
            "3\n",
            "3\n",
            "BAA\n"
          ]
        }
      ]
    },
    {
      "cell_type": "markdown",
      "source": [
        "###9-2609"
      ],
      "metadata": {
        "id": "QmlGq5vFJMVe"
      }
    },
    {
      "cell_type": "code",
      "source": [
        "def gcd(a, b):\n",
        "    while b != 0:\n",
        "        a, b = b, a % b\n",
        "    return a\n",
        "\n",
        "def lcm(a, b, gcd_value):\n",
        "    return a * b // gcd_value\n",
        "\n",
        "if __name__ == \"__main__\":\n",
        "    a, b = map(int, input().split())\n",
        "\n",
        "    gcd_value = gcd(a, b)\n",
        "    lcm_value = lcm(a, b, gcd_value)\n",
        "\n",
        "    print(gcd_value)\n",
        "    print(lcm_value)"
      ],
      "metadata": {
        "colab": {
          "base_uri": "https://localhost:8080/"
        },
        "id": "S6LmGAdAJPUg",
        "outputId": "1cbeaf63-71a0-4b9e-d69b-4083c28a1bdd"
      },
      "execution_count": null,
      "outputs": [
        {
          "output_type": "stream",
          "name": "stdout",
          "text": [
            "24 18\n",
            "6\n",
            "72\n"
          ]
        }
      ]
    },
    {
      "cell_type": "markdown",
      "source": [
        "###10-2684"
      ],
      "metadata": {
        "id": "GK-rNu0lJlG_"
      }
    },
    {
      "cell_type": "code",
      "source": [
        "def count_coin_sequences(test_cases):\n",
        "    sequences = ['TTT', 'TTH',\n",
        "                 'THT', 'THH',\n",
        "                 'HTT', 'HTH',\n",
        "                 'HHT', 'HHH']\n",
        "    results = []\n",
        "\n",
        "    for coins in test_cases:\n",
        "        counts = [0] * 8\n",
        "        for i in range(len(coins) - 2):\n",
        "            seq = coins[i:i + 3]\n",
        "            if seq in sequences:\n",
        "                counts[sequences.index(seq)] += 1\n",
        "        results.append(counts)\n",
        "\n",
        "    return results\n",
        "\n",
        "if __name__ == \"__main__\":\n",
        "\n",
        "    P = int(input())\n",
        "    test_cases = [input().strip() for _ in range(P)]\n",
        "\n",
        "    results = count_coin_sequences(test_cases)\n",
        "\n",
        "    for result in results:\n",
        "        print(\" \".join(map(str, result)))"
      ],
      "metadata": {
        "colab": {
          "base_uri": "https://localhost:8080/"
        },
        "id": "oACPMg9rJnWV",
        "outputId": "e82558d3-0dea-4946-9fef-36ff69eeb5c7"
      },
      "execution_count": null,
      "outputs": [
        {
          "output_type": "stream",
          "name": "stdout",
          "text": [
            "4\n",
            "HHHHHHHHHHHHHHHHHHHHHHHHHHHHHHHHHHHHHHHH\n",
            "TTTTTTTTTTTTTTTTTTTTTTTTTTTTTTTTTTTTTTTT\n",
            "HHTTTHHTTTHTHHTHHTTHTTTHHHTHTTHTTHTTTHTH\n",
            "HTHTHHHTHHHTHTHHHHTTTHTTTTTHHTTTTHTHHHHT\n",
            "0 0 0 0 0 0 0 38\n",
            "38 0 0 0 0 0 0 0\n",
            "4 7 6 4 7 4 5 1\n",
            "6 3 4 5 3 6 5 6\n"
          ]
        }
      ]
    },
    {
      "cell_type": "markdown",
      "source": [
        "#1/17"
      ],
      "metadata": {
        "id": "1hZRUb5__cXr"
      }
    },
    {
      "cell_type": "markdown",
      "source": [
        "###1-2693"
      ],
      "metadata": {
        "id": "ayvi3m1b_e-M"
      }
    },
    {
      "cell_type": "code",
      "source": [
        "if __name__ == \"__main__\":\n",
        "    T = int(input())\n",
        "\n",
        "    results = []\n",
        "    for _ in range(T):\n",
        "        A = list(map(int, input().split()))\n",
        "        third_largest = sorted(A, reverse=True)[2]\n",
        "        results.append(third_largest)\n",
        "\n",
        "    for result in results:\n",
        "        print(result)"
      ],
      "metadata": {
        "colab": {
          "base_uri": "https://localhost:8080/"
        },
        "id": "fTyPmAOY_h3l",
        "outputId": "773fb017-ddd1-4d67-fa14-dda9fca5a9d0"
      },
      "execution_count": null,
      "outputs": [
        {
          "output_type": "stream",
          "name": "stdout",
          "text": [
            "4\n",
            "1 2 3 4 5 6 7 8 9 1000\n",
            "338 304 619 95 343 496 489 116 98 127\n",
            "931 240 986 894 826 640 965 833 136 138\n",
            "940 955 364 188 133 254 501 122 768 408\n",
            "8\n",
            "489\n",
            "931\n",
            "768\n"
          ]
        }
      ]
    },
    {
      "cell_type": "markdown",
      "source": [
        "###2-2729"
      ],
      "metadata": {
        "id": "XbPB0SyOAVMs"
      }
    },
    {
      "cell_type": "code",
      "source": [
        "if __name__ == \"__main__\":\n",
        "    T = int(input())\n",
        "    results = []\n",
        "\n",
        "    for _ in range(T):\n",
        "        bin1, bin2 = input().split()\n",
        "        sum_binary = int(bin1, 2) + int(bin2, 2)\n",
        "        results.append(bin(sum_binary)[2:])\n",
        "\n",
        "    for result in results:\n",
        "        print(result)"
      ],
      "metadata": {
        "colab": {
          "base_uri": "https://localhost:8080/"
        },
        "id": "v6GWAsnIAXUT",
        "outputId": "2b0a9f5d-f831-4070-a192-c0f851593d49"
      },
      "execution_count": null,
      "outputs": [
        {
          "output_type": "stream",
          "name": "stdout",
          "text": [
            "3\n",
            "1001101 10010\n",
            "1001001 11001\n",
            "1000111 1010110\n",
            "1011111\n",
            "1100010\n",
            "10011101\n"
          ]
        }
      ]
    },
    {
      "cell_type": "markdown",
      "source": [
        "###3-2748"
      ],
      "metadata": {
        "id": "nNBmufigA5k8"
      }
    },
    {
      "cell_type": "code",
      "source": [
        "def fibonacci(n):\n",
        "    a, b = 0, 1\n",
        "    for _ in range(n):\n",
        "        a, b = b, a + b\n",
        "    return a\n",
        "\n",
        "if __name__ == \"__main__\":\n",
        "    n = int(input())\n",
        "    print(fibonacci(n))"
      ],
      "metadata": {
        "colab": {
          "base_uri": "https://localhost:8080/"
        },
        "id": "9WylncR_A7_l",
        "outputId": "aced08b5-0567-4d5a-c55d-6ba66695349a"
      },
      "execution_count": null,
      "outputs": [
        {
          "output_type": "stream",
          "name": "stdout",
          "text": [
            "10\n",
            "55\n"
          ]
        }
      ]
    },
    {
      "cell_type": "markdown",
      "source": [
        "###4-2755"
      ],
      "metadata": {
        "id": "Wq9kRdQFBP5R"
      }
    },
    {
      "cell_type": "code",
      "source": [
        "from decimal import Decimal, ROUND_HALF_UP\n",
        "\n",
        "n = int(input())\n",
        "\n",
        "grade_to_score = {\n",
        "    'A+': Decimal('4.3'), 'A0': Decimal('4.0'), 'A-': Decimal('3.7'),\n",
        "    'B+': Decimal('3.3'), 'B0': Decimal('3.0'), 'B-': Decimal('2.7'),\n",
        "    'C+': Decimal('2.3'), 'C0': Decimal('2.0'), 'C-': Decimal('1.7'),\n",
        "    'D+': Decimal('1.3'), 'D0': Decimal('1.0'), 'D-': Decimal('0.7'),\n",
        "    'F': Decimal('0.0')\n",
        "}\n",
        "\n",
        "total_credits = Decimal('0')\n",
        "total_score = Decimal('0')\n",
        "\n",
        "for _ in range(n):\n",
        "    _, credit, grade = input().split()\n",
        "    credit = Decimal(credit)\n",
        "    total_credits += credit\n",
        "    total_score += credit * grade_to_score[grade]\n",
        "\n",
        "gpa = total_score / total_credits\n",
        "gpa = gpa.quantize(Decimal('0.01'), rounding=ROUND_HALF_UP)\n",
        "\n",
        "print(f\"{gpa}\")"
      ],
      "metadata": {
        "colab": {
          "base_uri": "https://localhost:8080/"
        },
        "id": "6QuF5OWxBRnH",
        "outputId": "53db8326-8a58-419a-aabf-c05d01cfd90d"
      },
      "execution_count": null,
      "outputs": [
        {
          "output_type": "stream",
          "name": "stdout",
          "text": [
            "7\n",
            "General_Physics_1 3 A+\n",
            "Introduction_to_Computer_Science_and_Eng 3 B0\n",
            "Reading_And_Writing 2 C0\n",
            "English_1 3 C+\n",
            "Analytic_Geometry_and_Calculus_1 3 B+\n",
            "Fortran_Programming 3 B+\n",
            "C_Language_Programming 3 A+\n",
            "3.28\n"
          ]
        }
      ]
    },
    {
      "cell_type": "markdown",
      "source": [
        "###5-2775"
      ],
      "metadata": {
        "id": "O2fnmOg2DcqV"
      }
    },
    {
      "cell_type": "code",
      "source": [
        "t = int(input())\n",
        "\n",
        "results = []\n",
        "\n",
        "for _ in range(t):\n",
        "    k = int(input())\n",
        "    n = int(input())\n",
        "    apartment = [i for i in range(1, n + 1)]\n",
        "\n",
        "    for floor in range(1, k + 1):\n",
        "        for room in range(1, n):\n",
        "            apartment[room] += apartment[room - 1]\n",
        "    results.append(apartment[-1])\n",
        "\n",
        "for result in results:\n",
        "    print(result)"
      ],
      "metadata": {
        "colab": {
          "base_uri": "https://localhost:8080/"
        },
        "id": "ZWHcNw-yDep2",
        "outputId": "d49348a3-5023-47f6-bb9a-95e9e3d353ad"
      },
      "execution_count": null,
      "outputs": [
        {
          "output_type": "stream",
          "name": "stdout",
          "text": [
            "2\n",
            "1\n",
            "3\n",
            "2\n",
            "3\n",
            "6\n",
            "10\n"
          ]
        }
      ]
    },
    {
      "cell_type": "markdown",
      "source": [
        "###6-2804"
      ],
      "metadata": {
        "id": "LqHF-XoRD3wc"
      }
    },
    {
      "cell_type": "code",
      "source": [
        "A, B = input().split()\n",
        "\n",
        "cross_char = None\n",
        "for char in A:\n",
        "    if char in B:\n",
        "        cross_char = char\n",
        "        break\n",
        "\n",
        "x = A.index(cross_char)\n",
        "y = B.index(cross_char)\n",
        "\n",
        "grid = [['.' for _ in range(len(A))] for _ in range(len(B))]\n",
        "\n",
        "for i in range(len(A)):\n",
        "    grid[y][i] = A[i]\n",
        "\n",
        "for i in range(len(B)):\n",
        "    grid[i][x] = B[i]\n",
        "\n",
        "for row in grid:\n",
        "    print(''.join(row))"
      ],
      "metadata": {
        "colab": {
          "base_uri": "https://localhost:8080/"
        },
        "id": "zLA8ZaHeD6ZP",
        "outputId": "a639d080-6c19-4722-eee7-6b21f0a49117"
      },
      "execution_count": null,
      "outputs": [
        {
          "output_type": "stream",
          "name": "stdout",
          "text": [
            "BANANA PIDZAMA\n",
            ".P....\n",
            ".I....\n",
            ".D....\n",
            ".Z....\n",
            "BANANA\n",
            ".M....\n",
            ".A....\n"
          ]
        }
      ]
    },
    {
      "cell_type": "markdown",
      "source": [
        "###7-2810"
      ],
      "metadata": {
        "id": "2__tRwF3EX_S"
      }
    },
    {
      "cell_type": "code",
      "source": [
        "N = int(input())\n",
        "member = input()\n",
        "\n",
        "count_LL = member.count('LL')\n",
        "\n",
        "if count_LL == 0:\n",
        "    print(N)\n",
        "else:\n",
        "    print(N - count_LL + 1)"
      ],
      "metadata": {
        "colab": {
          "base_uri": "https://localhost:8080/"
        },
        "id": "6nfQLq1yEa6s",
        "outputId": "6beab96c-6ab2-4dfe-d13b-2ce6110a43a4"
      },
      "execution_count": null,
      "outputs": [
        {
          "output_type": "stream",
          "name": "stdout",
          "text": [
            "4\n",
            "SLLS\n",
            "4\n"
          ]
        }
      ]
    },
    {
      "cell_type": "markdown",
      "source": [
        "###8-2816"
      ],
      "metadata": {
        "id": "Ickye_BhGgxS"
      }
    },
    {
      "cell_type": "code",
      "source": [
        "n = int(input())\n",
        "channel = []\n",
        "\n",
        "for i in range(n):\n",
        "    name = input()\n",
        "    if name == 'KBS1':\n",
        "        idx1 = i\n",
        "    elif name == 'KBS2':\n",
        "        idx2 = i\n",
        "    channel.append(name)\n",
        "\n",
        "res = ''\n",
        "res += '1' * idx1\n",
        "res += '4' * idx1\n",
        "\n",
        "if idx1 > idx2:\n",
        "    idx2 += 1\n",
        "\n",
        "res += '1' * idx2\n",
        "res += '4' * (idx2 - 1)\n",
        "\n",
        "print(res)"
      ],
      "metadata": {
        "colab": {
          "base_uri": "https://localhost:8080/"
        },
        "id": "UvJWWgDtGilm",
        "outputId": "da37d3de-0979-4172-a1a9-5be57b9d1759"
      },
      "execution_count": null,
      "outputs": [
        {
          "output_type": "stream",
          "name": "stdout",
          "text": [
            "4\n",
            "ABC1\n",
            "ABC02\n",
            "KBS2\n",
            "KBS1\n",
            "11144411144\n"
          ]
        }
      ]
    },
    {
      "cell_type": "markdown",
      "source": [
        "###9-2846"
      ],
      "metadata": {
        "id": "X6u1ewRUIJg7"
      }
    },
    {
      "cell_type": "code",
      "source": [
        "N = int(input())\n",
        "heights = list(map(int, input().split()))\n",
        "\n",
        "max_climb = 0\n",
        "current_climb = 0\n",
        "\n",
        "for i in range(1, N):\n",
        "    if heights[i] > heights[i - 1]:\n",
        "        current_climb += heights[i] - heights[i - 1]\n",
        "    else:\n",
        "        if current_climb > max_climb:\n",
        "            max_climb = current_climb\n",
        "        current_climb = 0\n",
        "\n",
        "if current_climb > max_climb:\n",
        "    max_climb = current_climb\n",
        "\n",
        "print(max_climb)"
      ],
      "metadata": {
        "colab": {
          "base_uri": "https://localhost:8080/"
        },
        "id": "WnXHyRj5IOmv",
        "outputId": "edc01d82-726e-4444-fd1c-5abebec952b8"
      },
      "execution_count": null,
      "outputs": [
        {
          "output_type": "stream",
          "name": "stdout",
          "text": [
            "6\n",
            "10 8 8 6 4 3\n",
            "0\n"
          ]
        }
      ]
    },
    {
      "cell_type": "markdown",
      "source": [
        "###10-2851"
      ],
      "metadata": {
        "id": "qi_Z6zVlIs-D"
      }
    },
    {
      "cell_type": "code",
      "source": [
        "scores = [int(input()) for _ in range(10)]\n",
        "\n",
        "current_sum = 0\n",
        "best_score = 0\n",
        "\n",
        "for score in scores:\n",
        "    current_sum += score\n",
        "    if abs(100 - current_sum) <= abs(100 - best_score):\n",
        "        best_score = current_sum\n",
        "    if current_sum > 100:\n",
        "        break\n",
        "\n",
        "print(best_score)"
      ],
      "metadata": {
        "colab": {
          "base_uri": "https://localhost:8080/"
        },
        "id": "HEWRV1HWIwvW",
        "outputId": "1a70f85d-5f18-4b87-9bce-48e7479e20c3"
      },
      "execution_count": null,
      "outputs": [
        {
          "output_type": "stream",
          "name": "stdout",
          "text": [
            "1\n",
            "2\n",
            "3\n",
            "5\n",
            "8\n",
            "13\n",
            "21\n",
            "34\n",
            "55\n",
            "89\n",
            "87\n"
          ]
        }
      ]
    },
    {
      "cell_type": "markdown",
      "source": [
        "#1/18"
      ],
      "metadata": {
        "id": "j88P6gtkyDTC"
      }
    },
    {
      "cell_type": "markdown",
      "source": [
        "###1-2896"
      ],
      "metadata": {
        "id": "_21zWYRWyJBk"
      }
    },
    {
      "cell_type": "code",
      "source": [
        "A, B, C = map(float, input().split())\n",
        "I, J, K = map(float, input().split())\n",
        "\n",
        "max_cocktails = min(A / I, B / J, C / K)\n",
        "\n",
        "remaining_A = A - (max_cocktails * I)\n",
        "remaining_B = B - (max_cocktails * J)\n",
        "remaining_C = C - (max_cocktails * K)\n",
        "\n",
        "def format_output(value):\n",
        "    if abs(value) < 1e-6:\n",
        "        return \"0\"\n",
        "    return f\"{value:.6f}\"\n",
        "\n",
        "print(f\"{format_output(remaining_A)} {format_output(remaining_B)} {format_output(remaining_C)}\")"
      ],
      "metadata": {
        "colab": {
          "base_uri": "https://localhost:8080/"
        },
        "id": "WXsK8mXbyGNd",
        "outputId": "71004a83-d419-4b11-fbd2-be028583ef64"
      },
      "execution_count": null,
      "outputs": [
        {
          "output_type": "stream",
          "name": "stdout",
          "text": [
            "10 15 18\n",
            "3 4 1\n",
            "0 1.666667 14.666667\n"
          ]
        }
      ]
    },
    {
      "cell_type": "markdown",
      "source": [
        "#1/19"
      ],
      "metadata": {
        "id": "bxK3oCd6kvyy"
      }
    },
    {
      "cell_type": "markdown",
      "source": [
        "###1-2897"
      ],
      "metadata": {
        "id": "eSIiNkVekytP"
      }
    },
    {
      "cell_type": "code",
      "source": [
        "R, C = map(int, input().split())\n",
        "parking_lot = [input() for _ in range(R)]\n",
        "\n",
        "result = [0] * 5\n",
        "\n",
        "for i in range(R - 1):\n",
        "    for j in range(C - 1):\n",
        "        subgrid = [\n",
        "            parking_lot[i][j], parking_lot[i][j + 1],\n",
        "            parking_lot[i + 1][j], parking_lot[i + 1][j + 1]\n",
        "        ]\n",
        "        if '#' in subgrid:\n",
        "            continue\n",
        "\n",
        "        car_count = subgrid.count('X')\n",
        "        result[car_count] += 1\n",
        "\n",
        "for count in result:\n",
        "    print(count)"
      ],
      "metadata": {
        "colab": {
          "base_uri": "https://localhost:8080/"
        },
        "id": "TAhq8Kjbkx7c",
        "outputId": "13335cfa-d43a-47af-c0ad-2b85883b342c"
      },
      "execution_count": null,
      "outputs": [
        {
          "output_type": "stream",
          "name": "stdout",
          "text": [
            "4 4\n",
            "#..#\n",
            "..X.\n",
            "..X.\n",
            "#XX#\n",
            "1\n",
            "1\n",
            "2\n",
            "1\n",
            "0\n"
          ]
        }
      ]
    },
    {
      "cell_type": "markdown",
      "source": [
        "#1/20"
      ],
      "metadata": {
        "id": "_cjXRHH0SoMu"
      }
    },
    {
      "cell_type": "markdown",
      "source": [
        "###1-2929"
      ],
      "metadata": {
        "id": "CwySSZ_PSq6p"
      }
    },
    {
      "cell_type": "code",
      "source": [
        "code = input()\n",
        "\n",
        "current_position = 0\n",
        "nop_count = 0\n",
        "\n",
        "i = 0\n",
        "while i < len(code):\n",
        "    if code[i].isupper():\n",
        "        if current_position % 4 != 0:\n",
        "            nop_needed = 4 - (current_position % 4)\n",
        "            nop_count += nop_needed\n",
        "            current_position += nop_needed\n",
        "\n",
        "        current_position += 1\n",
        "\n",
        "        parameter_count = 0\n",
        "        while i + 1 + parameter_count < len(code) and code[i + 1 + parameter_count].islower():\n",
        "            parameter_count += 1\n",
        "\n",
        "        current_position += parameter_count\n",
        "        i += parameter_count\n",
        "    i += 1\n",
        "\n",
        "print(nop_count)"
      ],
      "metadata": {
        "colab": {
          "base_uri": "https://localhost:8080/"
        },
        "id": "JXuI283ISpvM",
        "outputId": "a1dbdb2a-bd2b-43c2-b930-5bdd0b485c25"
      },
      "execution_count": null,
      "outputs": [
        {
          "output_type": "stream",
          "name": "stdout",
          "text": [
            "AbcbBccCDefgh\n",
            "4\n"
          ]
        }
      ]
    },
    {
      "cell_type": "markdown",
      "source": [
        "###2-2930"
      ],
      "metadata": {
        "id": "myAPLFXATqXl"
      }
    },
    {
      "cell_type": "code",
      "source": [
        "R = int(input())\n",
        "sangkeun_moves = input().strip()\n",
        "N = int(input())\n",
        "friends_moves = [input().strip() for _ in range(N)]\n",
        "\n",
        "def calculate_score(my_move, friend_move):\n",
        "    if my_move == friend_move:\n",
        "        return 1\n",
        "    if (my_move == 'S' and friend_move == 'P') or \\\n",
        "       (my_move == 'P' and friend_move == 'R') or \\\n",
        "       (my_move == 'R' and friend_move == 'S'):\n",
        "        return 2\n",
        "    return 0\n",
        "\n",
        "actual_score = 0\n",
        "for r in range(R):\n",
        "    for friend in friends_moves:\n",
        "        actual_score += calculate_score(sangkeun_moves[r], friend[r])\n",
        "\n",
        "max_score = 0\n",
        "for r in range(R):\n",
        "    best_move_score = 0\n",
        "    for move in ['S', 'P', 'R']:\n",
        "        round_score = 0\n",
        "        for friend in friends_moves:\n",
        "            round_score += calculate_score(move, friend[r])\n",
        "        best_move_score = max(best_move_score, round_score)\n",
        "    max_score += best_move_score\n",
        "\n",
        "print(actual_score)\n",
        "print(max_score)"
      ],
      "metadata": {
        "colab": {
          "base_uri": "https://localhost:8080/"
        },
        "id": "PN5s7l_MTsnm",
        "outputId": "8fb24526-6cee-48ba-c36f-949d3cd0aea9"
      },
      "execution_count": null,
      "outputs": [
        {
          "output_type": "stream",
          "name": "stdout",
          "text": [
            "4\n",
            "SPRS\n",
            "4\n",
            "RPRP\n",
            "SRRR\n",
            "SSPR\n",
            "PSPS\n",
            "12\n",
            "21\n"
          ]
        }
      ]
    },
    {
      "cell_type": "markdown",
      "source": [
        "###3-2947"
      ],
      "metadata": {
        "id": "55AEQhxAUQXH"
      }
    },
    {
      "cell_type": "code",
      "source": [
        "wood_pieces = list(map(int, input().split()))\n",
        "\n",
        "target = [1, 2, 3, 4, 5]\n",
        "\n",
        "while wood_pieces != target:\n",
        "    for i in range(len(wood_pieces) - 1):\n",
        "        if wood_pieces[i] > wood_pieces[i + 1]:\n",
        "            wood_pieces[i], wood_pieces[i + 1] = wood_pieces[i + 1], wood_pieces[i]\n",
        "            print(\" \".join(map(str, wood_pieces)))"
      ],
      "metadata": {
        "colab": {
          "base_uri": "https://localhost:8080/"
        },
        "id": "wdOvNqLJUTrN",
        "outputId": "23899697-9936-421e-dd08-5256eecdb5b2"
      },
      "execution_count": null,
      "outputs": [
        {
          "output_type": "stream",
          "name": "stdout",
          "text": [
            "2 3 4 5 1\n",
            "2 3 4 1 5\n",
            "2 3 1 4 5\n",
            "2 1 3 4 5\n",
            "1 2 3 4 5\n"
          ]
        }
      ]
    },
    {
      "cell_type": "markdown",
      "source": [
        "###4-2999"
      ],
      "metadata": {
        "id": "hYLYBYeHUik3"
      }
    },
    {
      "cell_type": "code",
      "source": [
        "encrypted_message = input()\n",
        "message_length = len(encrypted_message)\n",
        "\n",
        "rows, cols = 0, 0\n",
        "\n",
        "for r in range(1, int(message_length ** 0.5) + 1):\n",
        "    if message_length % r == 0:\n",
        "        c = message_length // r\n",
        "        if r <= c:\n",
        "            rows, cols = r, c\n",
        "\n",
        "for r in range(rows):\n",
        "    for c in range(cols):\n",
        "        print(encrypted_message[r + c * rows], end='')"
      ],
      "metadata": {
        "colab": {
          "base_uri": "https://localhost:8080/"
        },
        "id": "GCYKrL1HUi0A",
        "outputId": "d1106fdb-f54a-4daf-b16d-c329317b6321"
      },
      "execution_count": null,
      "outputs": [
        {
          "output_type": "stream",
          "name": "stdout",
          "text": [
            "boudonuimilcbsai\n",
            "bombonisuuladici"
          ]
        }
      ]
    },
    {
      "cell_type": "markdown",
      "source": [
        "###5-3023"
      ],
      "metadata": {
        "id": "L8W5kvm4VXPz"
      }
    },
    {
      "cell_type": "code",
      "source": [
        "R, C = map(int, input().split())\n",
        "design = [input() for _ in range(R)]\n",
        "A, B = map(int, input().split())\n",
        "\n",
        "top_half = []\n",
        "for row in design:\n",
        "    top_half.append(row + row[::-1])\n",
        "\n",
        "card = top_half + [row for row in reversed(top_half)]\n",
        "\n",
        "A -= 1\n",
        "B -= 1\n",
        "\n",
        "card[A] = card[A][:B] + ('#' if card[A][B] == '.' else '.') + card[A][B+1:]\n",
        "\n",
        "for row in card:\n",
        "    print(row)"
      ],
      "metadata": {
        "colab": {
          "base_uri": "https://localhost:8080/"
        },
        "id": "KRMD_t3FVY0m",
        "outputId": "fc9ba802-17f9-4311-bf08-268b361f7895"
      },
      "execution_count": null,
      "outputs": [
        {
          "output_type": "stream",
          "name": "stdout",
          "text": [
            "3 3\n",
            "###\n",
            "###\n",
            "###\n",
            "1 4\n",
            "###.##\n",
            "######\n",
            "######\n",
            "######\n",
            "######\n",
            "######\n"
          ]
        }
      ]
    },
    {
      "cell_type": "markdown",
      "source": [
        "###6-3035"
      ],
      "metadata": {
        "id": "XAKp4I0eV6Oz"
      }
    },
    {
      "cell_type": "code",
      "source": [
        "R, C, ZR, ZC = map(int, input().split())\n",
        "news = [input() for _ in range(R)]\n",
        "\n",
        "scanned_result = []\n",
        "for row in news:\n",
        "    expanded_row = ''.join(char * ZC for char in row)\n",
        "    for _ in range(ZR):\n",
        "        scanned_result.append(expanded_row)\n",
        "\n",
        "for row in scanned_result:\n",
        "    print(row)"
      ],
      "metadata": {
        "colab": {
          "base_uri": "https://localhost:8080/"
        },
        "id": "RxMarth8V6gb",
        "outputId": "0a3fed90-18cc-4200-af22-81cffb0c802d"
      },
      "execution_count": null,
      "outputs": [
        {
          "output_type": "stream",
          "name": "stdout",
          "text": [
            "3  3 2 1\n",
            ".X.\n",
            "X.X\n",
            ".X.\n",
            ".X.\n",
            ".X.\n",
            "X.X\n",
            "X.X\n",
            ".X.\n",
            ".X.\n"
          ]
        }
      ]
    },
    {
      "cell_type": "markdown",
      "source": [
        "###7-3041"
      ],
      "metadata": {
        "id": "zA5MW_-ZWqBD"
      }
    },
    {
      "cell_type": "code",
      "source": [
        "goal = {\n",
        "    'A': (0, 0), 'B': (0, 1), 'C': (0, 2), 'D': (0, 3),\n",
        "    'E': (1, 0), 'F': (1, 1), 'G': (1, 2), 'H': (1, 3),\n",
        "    'I': (2, 0), 'J': (2, 1), 'K': (2, 2), 'L': (2, 3),\n",
        "    'M': (3, 0), 'N': (3, 1), 'O': (3, 2), '.': (3, 3)\n",
        "}\n",
        "\n",
        "current_puzzle = [input().strip() for _ in range(4)]\n",
        "\n",
        "scatter_degree = 0\n",
        "for i in range(4):\n",
        "    for j in range(4):\n",
        "        tile = current_puzzle[i][j]\n",
        "        if tile != '.':\n",
        "            goal_x, goal_y = goal[tile]\n",
        "            scatter_degree += abs(i - goal_x) + abs(j - goal_y)\n",
        "\n",
        "print(scatter_degree)"
      ],
      "metadata": {
        "colab": {
          "base_uri": "https://localhost:8080/"
        },
        "id": "xXPECtwSWsis",
        "outputId": "d47d64fa-1301-406d-e67d-bdaf98b53438"
      },
      "execution_count": null,
      "outputs": [
        {
          "output_type": "stream",
          "name": "stdout",
          "text": [
            ".BCD\n",
            "EAGH\n",
            "IJFL\n",
            "MNOK\n",
            "6\n"
          ]
        }
      ]
    },
    {
      "cell_type": "markdown",
      "source": [
        "###8-3154"
      ],
      "metadata": {
        "id": "JP412BrjXFex"
      }
    },
    {
      "cell_type": "code",
      "source": [
        "def calc(a, b):\n",
        "    arr = [\n",
        "        (3, 1),\n",
        "        (0, 0), (0, 1), (0, 2),\n",
        "        (1, 0), (1, 1), (1, 2),\n",
        "        (2, 0), (2, 1), (2, 2)\n",
        "    ]\n",
        "    return abs(arr[a][0] - arr[b][0]) + abs(arr[a][1] - arr[b][1])\n",
        "\n",
        "def find_min_effort_alarm(hh, mm):\n",
        "    min_effort = float('inf')\n",
        "    best_h, best_m = 0, 0\n",
        "\n",
        "    for h in range(100):\n",
        "        for m in range(100):\n",
        "            if h % 24 != hh or m % 60 != mm:\n",
        "                continue\n",
        "\n",
        "            effort = (\n",
        "                calc(h // 10, h % 10) +\n",
        "                calc(h % 10, m // 10) +\n",
        "                calc(m // 10, m % 10)\n",
        "            )\n",
        "\n",
        "            if effort < min_effort:\n",
        "                min_effort = effort\n",
        "                best_h, best_m = h, m\n",
        "\n",
        "    return f\"{best_h:02}:{best_m:02}\"\n",
        "\n",
        "input_time = input().strip()\n",
        "hh, mm = map(int, input_time.split(\":\"))\n",
        "\n",
        "result = find_min_effort_alarm(hh, mm)\n",
        "print(result)"
      ],
      "metadata": {
        "colab": {
          "base_uri": "https://localhost:8080/"
        },
        "id": "1sc2V_pzXbD5",
        "outputId": "458aa55b-5a0e-4a54-9ca2-825b1aad3f07"
      },
      "execution_count": null,
      "outputs": [
        {
          "output_type": "stream",
          "name": "stdout",
          "text": [
            "00:11\n",
            "24:11\n"
          ]
        }
      ]
    },
    {
      "cell_type": "markdown",
      "source": [
        "###9-3208"
      ],
      "metadata": {
        "id": "j19wCxdyXaSD"
      }
    },
    {
      "cell_type": "code",
      "source": [
        "R, C = map(int, input().split())\n",
        "\n",
        "if R > C:\n",
        "    print((C - 1) * 2 + 1)\n",
        "else:\n",
        "    print((R - 1) * 2)"
      ],
      "metadata": {
        "colab": {
          "base_uri": "https://localhost:8080/"
        },
        "id": "j_1DhsbAYMoT",
        "outputId": "6fd3d4bc-18cb-4728-8d28-9f221a31efd5"
      },
      "execution_count": null,
      "outputs": [
        {
          "output_type": "stream",
          "name": "stdout",
          "text": [
            "4 10\n",
            "6\n"
          ]
        }
      ]
    },
    {
      "cell_type": "markdown",
      "source": [
        "###10-3226"
      ],
      "metadata": {
        "id": "0EWuuf1dZLFd"
      }
    },
    {
      "cell_type": "code",
      "source": [
        "def calculate_cost(start_time, duration):\n",
        "    HH, MM = map(int, start_time.split(\":\"))\n",
        "    start_minutes = HH * 60 + MM\n",
        "\n",
        "    total_cost = 0\n",
        "    for i in range(duration):\n",
        "        current_time = (start_minutes + i) % 1440\n",
        "        if 420 <= current_time < 1140:\n",
        "            total_cost += 10\n",
        "        else:\n",
        "            total_cost += 5\n",
        "    return total_cost\n",
        "\n",
        "N = int(input())\n",
        "total_cost = 0\n",
        "\n",
        "for _ in range(N):\n",
        "    start_time, duration = input().split()\n",
        "    duration = int(duration)\n",
        "    total_cost += calculate_cost(start_time, duration)\n",
        "\n",
        "print(total_cost)"
      ],
      "metadata": {
        "colab": {
          "base_uri": "https://localhost:8080/"
        },
        "id": "QP1bJQytZNET",
        "outputId": "25fea663-dff3-48d1-ce89-8908a45d4b91"
      },
      "execution_count": null,
      "outputs": [
        {
          "output_type": "stream",
          "name": "stdout",
          "text": [
            "5\n",
            "00:00 05\n",
            "06:47 35\n",
            "11:30 18\n",
            "18:33 60\n",
            "23:59 22\n",
            "1035\n"
          ]
        }
      ]
    },
    {
      "cell_type": "markdown",
      "source": [
        "#1/21"
      ],
      "metadata": {
        "id": "b1hH_F1OqqpN"
      }
    },
    {
      "cell_type": "markdown",
      "source": [
        "###1-3232"
      ],
      "metadata": {
        "id": "fVA0BB0iqsSs"
      }
    },
    {
      "cell_type": "code",
      "source": [
        "def find_smallest_base(p, q, r):\n",
        "    min_base = max(int(max(str(p))), int(max(str(q))), int(max(str(r)))) + 1\n",
        "\n",
        "    for base in range(min_base, 17):\n",
        "        try:\n",
        "            p_base = int(str(p), base)\n",
        "            q_base = int(str(q), base)\n",
        "            r_base = int(str(r), base)\n",
        "            if p_base * q_base == r_base:\n",
        "                return base\n",
        "        except ValueError:\n",
        "            continue1\n",
        "    return 0\n",
        "\n",
        "T = int(input())\n",
        "results = []\n",
        "\n",
        "for _ in range(T):\n",
        "    p, q, r = map(int, input().split())\n",
        "    results.append(find_smallest_base(p, q, r))\n",
        "\n",
        "for res in results:\n",
        "    print(res)"
      ],
      "metadata": {
        "colab": {
          "base_uri": "https://localhost:8080/"
        },
        "id": "8Wa7CDaqqr_1",
        "outputId": "2a683c71-5bc7-44ca-8813-8b37fe5ae3bd"
      },
      "execution_count": null,
      "outputs": [
        {
          "output_type": "stream",
          "name": "stdout",
          "text": [
            "3\n",
            "6 9 42\n",
            "11 11 121\n",
            "2 2 2\n",
            "13\n",
            "3\n",
            "0\n"
          ]
        }
      ]
    },
    {
      "cell_type": "markdown",
      "source": [
        "###2-3282"
      ],
      "metadata": {
        "id": "crDFG-8dt0mc"
      }
    },
    {
      "cell_type": "code",
      "source": [
        "def check(n, rooms):\n",
        "    for i in range(n):\n",
        "        if rooms[i] == 0:\n",
        "            return i\n",
        "    for i in range(n):\n",
        "        if rooms[i] == 1:\n",
        "            return i\n",
        "    return -1\n",
        "\n",
        "def solve():\n",
        "    n, g = map(int, input().split())\n",
        "    rooms = [0] * n\n",
        "\n",
        "    for _ in range(g):\n",
        "        x = int(input())\n",
        "        idx = check(n, rooms)\n",
        "\n",
        "        while x > 0:\n",
        "            rooms[idx] += 1\n",
        "            x -= 1\n",
        "            if rooms[idx] == 2:\n",
        "                idx = check(n, rooms)\n",
        "\n",
        "    for room in rooms:\n",
        "        print(room)\n",
        "\n",
        "if __name__ == \"__main__\":\n",
        "    solve()"
      ],
      "metadata": {
        "id": "DeUM9O083bb0"
      },
      "execution_count": null,
      "outputs": []
    },
    {
      "cell_type": "markdown",
      "source": [
        "###3-3412"
      ],
      "metadata": {
        "id": "j2f2bzAQ3cH5"
      }
    },
    {
      "cell_type": "code",
      "source": [
        "import sys\n",
        "import math\n",
        "\n",
        "def main():\n",
        "    input = sys.stdin.read\n",
        "    data = input().split()\n",
        "    tc = int(data[0])\n",
        "    index = 1\n",
        "    results = []\n",
        "    for _ in range(tc):\n",
        "        n = int(data[index])\n",
        "        index += 1\n",
        "        ans = 0\n",
        "        for _ in range(n):\n",
        "            a, b = int(data[index]), int(data[index + 1])\n",
        "            index += 2\n",
        "            r = math.sqrt(a * a + b * b)\n",
        "            for j in range(1, 11):\n",
        "                if r <= 20 * j:\n",
        "                    ans += 11 - j\n",
        "                    break\n",
        "        results.append(ans)\n",
        "    print(\"\\n\".join(map(str, results)))\n",
        "\n",
        "if __name__ == \"__main__\":\n",
        "    main()"
      ],
      "metadata": {
        "id": "Vi6oGZC45Aga"
      },
      "execution_count": null,
      "outputs": []
    },
    {
      "cell_type": "markdown",
      "source": [
        "#1/22"
      ],
      "metadata": {
        "id": "SiQahXPmqDXW"
      }
    },
    {
      "cell_type": "markdown",
      "source": [
        "###1-1189"
      ],
      "metadata": {
        "id": "9O7tTz2JqEmr"
      }
    },
    {
      "cell_type": "code",
      "source": [
        "r, c, k = map(int, input().strip().split())\n",
        "graph = [list(input().strip()) for _ in range(r)]\n",
        "move = [[-1, 0], [0, 1], [1, 0], [0, -1]]\n",
        "graph[r - 1][0] = 1\n",
        "result = 0\n",
        "\n",
        "def dfs(row, col):\n",
        "    global result\n",
        "    if row == 0 and col == c - 1:\n",
        "        if graph[row][col] == k:\n",
        "            result += 1\n",
        "        return\n",
        "    for i in move:\n",
        "        nrow, ncol = row + i[0], col + i[1]\n",
        "        if 0 <= nrow < r and 0 <= ncol < c and graph[nrow][ncol] == '.':\n",
        "            graph[nrow][ncol] = graph[row][col] + 1\n",
        "            dfs(nrow, ncol)\n",
        "            graph[nrow][ncol] = '.'\n",
        "\n",
        "dfs(r - 1, 0)\n",
        "print(result)"
      ],
      "metadata": {
        "colab": {
          "base_uri": "https://localhost:8080/"
        },
        "id": "3obS_oSOqHs1",
        "outputId": "b382e597-5e5f-4dc6-9065-de6de1dda8b2"
      },
      "execution_count": null,
      "outputs": [
        {
          "output_type": "stream",
          "name": "stdout",
          "text": [
            "3 4 6\n",
            "....\n",
            ".T..\n",
            "....\n",
            "4\n"
          ]
        }
      ]
    },
    {
      "cell_type": "markdown",
      "source": [
        "###2-1195"
      ],
      "metadata": {
        "id": "KZ3Mh3y_uCJi"
      }
    },
    {
      "cell_type": "code",
      "source": [
        "a = input().strip()\n",
        "b = input().strip()\n",
        "\n",
        "len_a = len(a)\n",
        "len_b = len(b)\n",
        "min_width = len_a + len_b\n",
        "\n",
        "for offset in range(-len_b + 1, len_a):\n",
        "    overlap = True\n",
        "    for i in range(len_b):\n",
        "        pos_a = offset + i\n",
        "        if 0 <= pos_a < len_a:\n",
        "            if a[pos_a] == '2' and b[i] == '2':\n",
        "                overlap = False\n",
        "                break\n",
        "    if overlap:\n",
        "        min_width = min(min_width, max(len_a, offset + len_b) - min(0, offset))\n",
        "\n",
        "print(min_width)"
      ],
      "metadata": {
        "colab": {
          "base_uri": "https://localhost:8080/"
        },
        "id": "fg29EbW2uEVH",
        "outputId": "b9cacff3-3b33-4d73-d925-1a1812786eb7"
      },
      "execution_count": null,
      "outputs": [
        {
          "output_type": "stream",
          "name": "stdout",
          "text": [
            "2112112112\n",
            "2212112\n",
            "10\n"
          ]
        }
      ]
    },
    {
      "cell_type": "markdown",
      "source": [
        "###3-1262"
      ],
      "metadata": {
        "id": "bq1CN3jYucbU"
      }
    },
    {
      "cell_type": "code",
      "source": [
        "n, r1, c1, r2, c2 = map(int, input().split())\n",
        "\n",
        "for i in range(r2 - r1 + 1):\n",
        "    s = r1 + i\n",
        "    row = []\n",
        "    for j in range(c2 - c1 + 1):\n",
        "        e = c1 + j\n",
        "        x = s % (2 * n - 1)\n",
        "        y = e % (2 * n - 1)\n",
        "        dis = abs((n - 1) - x) + abs((n - 1) - y)\n",
        "\n",
        "        if dis >= n:\n",
        "            row.append(\".\")\n",
        "        else:\n",
        "            row.append(chr((dis % 26) + ord('a')))\n",
        "    print(\"\".join(row))"
      ],
      "metadata": {
        "colab": {
          "base_uri": "https://localhost:8080/"
        },
        "id": "g0iQgfdBud4W",
        "outputId": "e205a8cf-f7df-4d4c-dd11-eab3bc2db853"
      },
      "execution_count": null,
      "outputs": [
        {
          "output_type": "stream",
          "name": "stdout",
          "text": [
            "5 3 18 10 46\n",
            ".edcbcde..edcbcde..edcbcde..e\n",
            "edcbabcdeedcbabcdeedcbabcdeed\n",
            ".edcbcde..edcbcde..edcbcde..e\n",
            "..edcde....edcde....edcde....\n",
            "...ede......ede......ede.....\n",
            "....e........e........e......\n",
            "....e........e........e......\n",
            "...ede......ede......ede.....\n"
          ]
        }
      ]
    },
    {
      "cell_type": "markdown",
      "source": [
        "###4-1276"
      ],
      "metadata": {
        "id": "Z5crhChQvNeE"
      }
    },
    {
      "cell_type": "code",
      "source": [
        "n = int(input())\n",
        "platforms = []\n",
        "\n",
        "for _ in range(n):\n",
        "    y, x1, x2 = map(int, input().split())\n",
        "    platforms.append((y, x1, x2))\n",
        "\n",
        "platforms.sort(reverse=True)\n",
        "\n",
        "total_length = 0\n",
        "\n",
        "for i in range(n):\n",
        "    y, x1, x2 = platforms[i]\n",
        "    left_pillar = y\n",
        "    right_pillar = y\n",
        "\n",
        "    for j in range(i + 1, n):\n",
        "        below_y, below_x1, below_x2 = platforms[j]\n",
        "\n",
        "        if below_x1 <= x1 < below_x2:\n",
        "            left_pillar = min(left_pillar, y - below_y)\n",
        "\n",
        "        if below_x1 < x2 <= below_x2:\n",
        "            right_pillar = min(right_pillar, y - below_y)\n",
        "\n",
        "    total_length += left_pillar + right_pillar\n",
        "\n",
        "print(total_length)"
      ],
      "metadata": {
        "colab": {
          "base_uri": "https://localhost:8080/"
        },
        "id": "UXRmlxBjvQw8",
        "outputId": "614a4b49-4ecd-4df4-cecf-6f87489f64e3"
      },
      "execution_count": null,
      "outputs": [
        {
          "output_type": "stream",
          "name": "stdout",
          "text": [
            "5\n",
            "50 50 90\n",
            "40 40 80\n",
            "30 30 70\n",
            "20 20 60\n",
            "10 10 50\n",
            "200\n"
          ]
        }
      ]
    },
    {
      "cell_type": "markdown",
      "source": [
        "###5-1283"
      ],
      "metadata": {
        "id": "c1jm2BNDvnja"
      }
    },
    {
      "cell_type": "code",
      "source": [
        "n = int(input())\n",
        "options = [input() for _ in range(n)]\n",
        "\n",
        "shortcuts = set()\n",
        "\n",
        "results = []\n",
        "\n",
        "for option in options:\n",
        "    words = option.split()\n",
        "    found = False\n",
        "\n",
        "    for i, word in enumerate(words):\n",
        "        key = word[0].lower()\n",
        "        if key not in shortcuts:\n",
        "            shortcuts.add(key)\n",
        "            words[i] = f\"[{word[0]}]{word[1:]}\"\n",
        "            found = True\n",
        "            break\n",
        "\n",
        "    if not found:\n",
        "        for i, word in enumerate(words):\n",
        "            for j, char in enumerate(word):\n",
        "                key = char.lower()\n",
        "                if key not in shortcuts:\n",
        "                    shortcuts.add(key)\n",
        "                    words[i] = f\"{word[:j]}[{char}]{word[j+1:]}\"\n",
        "                    found = True\n",
        "                    break\n",
        "            if found:\n",
        "                break\n",
        "\n",
        "    results.append(\" \".join(words))\n",
        "\n",
        "for result in results:\n",
        "    print(result)"
      ],
      "metadata": {
        "colab": {
          "base_uri": "https://localhost:8080/"
        },
        "id": "PdtRtHURvpWY",
        "outputId": "a2997679-a646-48c7-cd41-4708603ac130"
      },
      "execution_count": null,
      "outputs": [
        {
          "output_type": "stream",
          "name": "stdout",
          "text": [
            "5\n",
            "New\n",
            "Open\n",
            "Save\n",
            "Save As\n",
            "Save All\n",
            "[N]ew\n",
            "[O]pen\n",
            "[S]ave\n",
            "Save [A]s\n",
            "Sa[v]e All\n"
          ]
        }
      ]
    },
    {
      "cell_type": "markdown",
      "source": [
        "###6-1303"
      ],
      "metadata": {
        "id": "8LAgEokjyzfQ"
      }
    },
    {
      "cell_type": "code",
      "source": [
        "from collections import deque\n",
        "\n",
        "def bfs(x, y, color, battlefield, visited):\n",
        "    n, m = len(battlefield), len(battlefield[0])\n",
        "    queue = deque([(x, y)])\n",
        "    visited[x][y] = True\n",
        "    size = 0\n",
        "\n",
        "    directions = [(-1, 0), (1, 0), (0, -1), (0, 1)]\n",
        "    while queue:\n",
        "        cx, cy = queue.popleft()\n",
        "        size += 1\n",
        "\n",
        "        for dx, dy in directions:\n",
        "            nx, ny = cx + dx, cy + dy\n",
        "            if 0 <= nx < n and 0 <= ny < m and not visited[nx][ny] and battlefield[nx][ny] == color:\n",
        "                visited[nx][ny] = True\n",
        "                queue.append((nx, ny))\n",
        "    return size\n",
        "\n",
        "n, m = map(int, input().split())\n",
        "battlefield = [input().strip() for _ in range(m)]\n",
        "\n",
        "visited = [[False] * n for _ in range(m)]\n",
        "white_power = 0\n",
        "blue_power = 0\n",
        "\n",
        "for i in range(m):\n",
        "    for j in range(n):\n",
        "        if not visited[i][j]:\n",
        "            group_size = bfs(i, j, battlefield[i][j], battlefield, visited)\n",
        "            power = group_size ** 2\n",
        "            if battlefield[i][j] == 'W':\n",
        "                white_power += power\n",
        "            else:\n",
        "                blue_power += power\n",
        "\n",
        "print(white_power, blue_power)"
      ],
      "metadata": {
        "colab": {
          "base_uri": "https://localhost:8080/"
        },
        "id": "My843AUXy2Wl",
        "outputId": "b54d6a83-9923-40c2-e3f8-972709548ab1"
      },
      "execution_count": null,
      "outputs": [
        {
          "output_type": "stream",
          "name": "stdout",
          "text": [
            "5 5\n",
            "WBWWW\n",
            "WWWWW\n",
            "BBBBB\n",
            "BBBWW\n",
            "WWWWW\n",
            "130 65\n"
          ]
        }
      ]
    },
    {
      "cell_type": "markdown",
      "source": [
        "###7-1309"
      ],
      "metadata": {
        "id": "B-dR_S84zMMl"
      }
    },
    {
      "cell_type": "code",
      "source": [
        "n = int(input())\n",
        "MOD = 9901\n",
        "\n",
        "dp = [1, 1, 1]\n",
        "\n",
        "for _ in range(1, n):\n",
        "    new_dp = [0, 0, 0]\n",
        "    new_dp[0] = (dp[0] + dp[1] + dp[2]) % MOD\n",
        "    new_dp[1] = (dp[0] + dp[2]) % MOD\n",
        "    new_dp[2] = (dp[0] + dp[1]) % MOD\n",
        "    dp = new_dp\n",
        "\n",
        "print(sum(dp) % MOD)"
      ],
      "metadata": {
        "colab": {
          "base_uri": "https://localhost:8080/"
        },
        "id": "wVk0Ano1zOtY",
        "outputId": "e3bbcf66-e663-4fa5-8e60-961f45628a80"
      },
      "execution_count": null,
      "outputs": [
        {
          "output_type": "stream",
          "name": "stdout",
          "text": [
            "4\n",
            "41\n"
          ]
        }
      ]
    },
    {
      "cell_type": "markdown",
      "source": [
        "###8-1325"
      ],
      "metadata": {
        "id": "W1Rius2s0yTx"
      }
    },
    {
      "cell_type": "code",
      "source": [
        "from collections import deque\n",
        "import sys\n",
        "input = sys.stdin.readline\n",
        "\n",
        "def bfs(i):\n",
        "    visited = [0] * (N + 1)\n",
        "    q = deque([i])\n",
        "    visited[i] = 1\n",
        "    cnt = 1\n",
        "\n",
        "    while q:\n",
        "        x = q.popleft()\n",
        "\n",
        "        for nx in computer[x]:\n",
        "            if not visited[nx]:\n",
        "                q.append(nx)\n",
        "                visited[nx] = 1\n",
        "                cnt += 1\n",
        "\n",
        "    return cnt\n",
        "\n",
        "N, M = map(int, input().split())\n",
        "computer = [[] for _ in range(N+1)]\n",
        "\n",
        "for _ in range(M):\n",
        "    A, B = map(int,input().split())\n",
        "    computer[B].append(A)\n",
        "\n",
        "answer = []\n",
        "max_hack = 0\n",
        "for i in range(1, N+1):\n",
        "    result = bfs(i)\n",
        "    if max_hack < result:\n",
        "        max_hack = result\n",
        "        answer.clear()\n",
        "        answer.append(i)\n",
        "    elif max_hack == result:\n",
        "        answer.append(i)\n",
        "\n",
        "print(*answer)"
      ],
      "metadata": {
        "id": "H6yQtzuh1leK"
      },
      "execution_count": null,
      "outputs": []
    },
    {
      "cell_type": "markdown",
      "source": [
        "###9-1342"
      ],
      "metadata": {
        "id": "LKOZcM2F1mN1"
      }
    },
    {
      "cell_type": "code",
      "source": [
        "import sys\n",
        "input = sys.stdin.readline\n",
        "\n",
        "def dfs(pre_word, picked):\n",
        "\n",
        "    if picked == len(S):\n",
        "        return 1\n",
        "    answer = 0\n",
        "    for key in counter.keys():\n",
        "        if pre_word == key:\n",
        "            continue\n",
        "        if counter[key] == 0:\n",
        "            continue\n",
        "        counter[key] -= 1\n",
        "        answer += dfs(key, picked+1)\n",
        "        counter[key] += 1\n",
        "    return answer\n",
        "\n",
        "S = list(input().strip())\n",
        "counter = dict()\n",
        "for s in S:\n",
        "    if s in counter:\n",
        "        counter[s] += 1\n",
        "    else:\n",
        "        counter[s] = 1\n",
        "\n",
        "answer = dfs('', 0)\n",
        "print(answer)"
      ],
      "metadata": {
        "colab": {
          "base_uri": "https://localhost:8080/"
        },
        "id": "qdpYPC276il0",
        "outputId": "aae26c82-42a5-4c72-feaf-0e65b07cfde4"
      },
      "execution_count": null,
      "outputs": [
        {
          "output_type": "stream",
          "name": "stdout",
          "text": [
            "abcdefghij\n",
            "3628800\n"
          ]
        }
      ]
    },
    {
      "cell_type": "markdown",
      "source": [
        "###10-1389"
      ],
      "metadata": {
        "id": "JVgFJ-Jy86As"
      }
    },
    {
      "cell_type": "code",
      "source": [
        "import sys\n",
        "from collections import deque\n",
        "\n",
        "N, M = map(int, sys.stdin.readline().split())\n",
        "friend = [[] for _ in range(N + 1)]\n",
        "\n",
        "for _ in range(M):\n",
        "    a, b = map(int, sys.stdin.readline().split())\n",
        "    friend[a].append(b)\n",
        "    friend[b].append(a)\n",
        "\n",
        "def bfs(start):\n",
        "    visited = [0] * (N + 1)\n",
        "    q = deque([start])\n",
        "    while q:\n",
        "        cur_man = q.popleft()\n",
        "        for next_man in friend[cur_man]:\n",
        "            if not visited[next_man] and next_man != start:\n",
        "                visited[next_man] = visited[cur_man] + 1\n",
        "                q.append(next_man)\n",
        "    return sum(visited)\n",
        "\n",
        "min_kevin_man, min_kevin = 0, float('inf')\n",
        "for i in range(1, N + 1):\n",
        "    kevin = bfs(i)\n",
        "    if kevin < min_kevin:\n",
        "        min_kevin, min_kevin_man = kevin, i\n",
        "\n",
        "print(min_kevin_man)"
      ],
      "metadata": {
        "id": "HCtWPt_8841i"
      },
      "execution_count": null,
      "outputs": []
    },
    {
      "cell_type": "markdown",
      "source": [
        "#1/23"
      ],
      "metadata": {
        "id": "gP3HJLT67jEk"
      }
    },
    {
      "cell_type": "markdown",
      "source": [
        "###1-1393"
      ],
      "metadata": {
        "id": "L284Ovju7nfI"
      }
    },
    {
      "cell_type": "code",
      "source": [
        "import sys\n",
        "import math\n",
        "\n",
        "def get_gcd(a, b):\n",
        "    while b:\n",
        "        a, b = b, a % b\n",
        "    return a\n",
        "\n",
        "def check_distance(x, y):\n",
        "    return (x - xs)**2 + (y - ys)**2\n",
        "\n",
        "xs, ys = map(int, sys.stdin.readline().split())\n",
        "xe, ye, dx, dy = map(int, sys.stdin.readline().split())\n",
        "\n",
        "gcd = get_gcd(dx, dy)\n",
        "dx, dy = dx // gcd, dy // gcd\n",
        "\n",
        "while check_distance(xe, ye) > check_distance(xe + dx, ye + dy):\n",
        "    xe += dx\n",
        "    ye += dy\n",
        "\n",
        "print(xe, ye)"
      ],
      "metadata": {
        "id": "rujkrvtN7nzC"
      },
      "execution_count": null,
      "outputs": []
    },
    {
      "cell_type": "markdown",
      "source": [
        "###2-1421"
      ],
      "metadata": {
        "id": "KLpi0Kyw-HIg"
      }
    },
    {
      "cell_type": "code",
      "source": [
        "def max_profit(N, C, W, lengths):\n",
        "    max_length = max(lengths)\n",
        "    max_money = 0\n",
        "\n",
        "    for target_length in range(1, max_length + 1):\n",
        "        total_money = 0\n",
        "\n",
        "        for length in lengths:\n",
        "            num_pieces = length // target_length\n",
        "            leftover = length % target_length\n",
        "\n",
        "            if num_pieces == 0:\n",
        "                continue\n",
        "\n",
        "            cut_cost = (num_pieces - 1) * C if leftover == 0 else num_pieces * C\n",
        "            profit = num_pieces * target_length * W - cut_cost\n",
        "\n",
        "            if profit > 0:\n",
        "                total_money += profit\n",
        "\n",
        "        max_money = max(max_money, total_money)\n",
        "\n",
        "    return max_money\n",
        "\n",
        "N, C, W = map(int, input().split())\n",
        "lengths = [int(input()) for _ in range(N)]\n",
        "\n",
        "print(max_profit(N, C, W, lengths))"
      ],
      "metadata": {
        "colab": {
          "base_uri": "https://localhost:8080/"
        },
        "id": "tpS4DsgK-IpO",
        "outputId": "40671629-3945-4305-e6a4-df1f521f3574"
      },
      "execution_count": null,
      "outputs": [
        {
          "output_type": "stream",
          "name": "stdout",
          "text": [
            "3 1 10\n",
            "26\n",
            "103\n",
            "59\n",
            "1770\n"
          ]
        }
      ]
    },
    {
      "cell_type": "markdown",
      "source": [
        "###3-1446"
      ],
      "metadata": {
        "id": "RzZg4WvC-5Yv"
      }
    },
    {
      "cell_type": "code",
      "source": [
        "n, d = map(int, input().split())\n",
        "shortcuts = sorted([tuple(map(int, input().split())) for _ in range(n)])\n",
        "dp = list(range(d + 1))\n",
        "\n",
        "for i in range(d + 1):\n",
        "    if i > 0:\n",
        "        dp[i] = min(dp[i], dp[i - 1] + 1)\n",
        "    while shortcuts and shortcuts[0][0] == i:\n",
        "        start, end, length = shortcuts.pop(0)\n",
        "        if end <= d:\n",
        "            dp[end] = min(dp[end], dp[start] + length)\n",
        "\n",
        "print(dp[d])"
      ],
      "metadata": {
        "colab": {
          "base_uri": "https://localhost:8080/"
        },
        "id": "GNVvnDam-65q",
        "outputId": "1104b366-b98e-47c6-f85b-70ed91a790f9"
      },
      "execution_count": null,
      "outputs": [
        {
          "output_type": "stream",
          "name": "stdout",
          "text": [
            "2 100\n",
            "10 60 40\n",
            "50 90 20\n",
            "80\n"
          ]
        }
      ]
    },
    {
      "cell_type": "markdown",
      "source": [
        "###4-1455"
      ],
      "metadata": {
        "id": "dVpWDMtKAMvq"
      }
    },
    {
      "cell_type": "code",
      "source": [
        "n, m = map(int, input().split())\n",
        "coins = [list(map(int, input().strip())) for _ in range(n)]\n",
        "\n",
        "flips = 0\n",
        "\n",
        "for i in range(n - 1, -1, -1):\n",
        "    for j in range(m - 1, -1, -1):\n",
        "        if coins[i][j] == 1:\n",
        "            flips += 1\n",
        "            for x in range(i + 1):\n",
        "                for y in range(j + 1):\n",
        "                    coins[x][y] ^= 1\n",
        "\n",
        "print(flips)"
      ],
      "metadata": {
        "colab": {
          "base_uri": "https://localhost:8080/"
        },
        "id": "NTnxQ-YsAOFs",
        "outputId": "84ee83b6-551d-42a8-a7ca-c55e3229af22"
      },
      "execution_count": null,
      "outputs": [
        {
          "output_type": "stream",
          "name": "stdout",
          "text": [
            "2 2\n",
            "00\n",
            "01\n",
            "4\n"
          ]
        }
      ]
    },
    {
      "cell_type": "markdown",
      "source": [
        "###5-1474"
      ],
      "metadata": {
        "id": "p6LtTUVGAqgW"
      }
    },
    {
      "cell_type": "code",
      "source": [
        "n, m = map(int, input().split())\n",
        "data = [input().strip() for _ in range(n)]\n",
        "\n",
        "default_len, r = divmod(m - sum(len(word) for word in data), n - 1)\n",
        "\n",
        "result = data[0]\n",
        "for i in range(1, n):\n",
        "    extra = 1 if r > 0 and (data[i][0].islower() or n - i <= r) else 0\n",
        "    result += '_' * (default_len + extra) + data[i]\n",
        "    r -= extra\n",
        "\n",
        "print(result)"
      ],
      "metadata": {
        "colab": {
          "base_uri": "https://localhost:8080/"
        },
        "id": "tGJ9QuT8AuFc",
        "outputId": "ca3d6f76-597f-42fd-f4fb-996629a950b3"
      },
      "execution_count": null,
      "outputs": [
        {
          "output_type": "stream",
          "name": "stdout",
          "text": [
            "4 29\n",
            "Hello\n",
            "world\n",
            "John\n",
            "said\n",
            "Hello____world___John____said\n"
          ]
        }
      ]
    },
    {
      "cell_type": "markdown",
      "source": [
        "###6-1495"
      ],
      "metadata": {
        "id": "H1LQVp5YCzvh"
      }
    },
    {
      "cell_type": "code",
      "source": [
        "n, s, m = map(int, input().split())\n",
        "v = list(map(int, input().split()))\n",
        "\n",
        "dp = [[False] * (m + 1) for _ in range(n + 1)]\n",
        "dp[0][s] = True\n",
        "\n",
        "for i in range(1, n + 1):\n",
        "    for j in range(m + 1):\n",
        "        if dp[i - 1][j]:\n",
        "            if j + v[i - 1] <= m:\n",
        "                dp[i][j + v[i - 1]] = True\n",
        "            if j - v[i - 1] >= 0:\n",
        "                dp[i][j - v[i - 1]] = True\n",
        "\n",
        "result = -1\n",
        "for i in range(m, -1, -1):\n",
        "    if dp[n][i]:\n",
        "        result = i\n",
        "        break\n",
        "\n",
        "print(result)"
      ],
      "metadata": {
        "colab": {
          "base_uri": "https://localhost:8080/"
        },
        "id": "upIGwTM0DCsQ",
        "outputId": "05fd1da2-d789-460e-fb81-a9050e267dc7"
      },
      "execution_count": null,
      "outputs": [
        {
          "output_type": "stream",
          "name": "stdout",
          "text": [
            "4 8 20\n",
            "15 2 9 10\n",
            "-1\n"
          ]
        }
      ]
    },
    {
      "cell_type": "markdown",
      "source": [
        "###7-1497"
      ],
      "metadata": {
        "id": "KOAtCoOmDuBo"
      }
    },
    {
      "cell_type": "code",
      "source": [
        "from itertools import combinations\n",
        "import sys\n",
        "input = sys.stdin.readline\n",
        "n, m = map(int,input().split())\n",
        "array = []\n",
        "for _ in range(n):\n",
        "    array.append(list(input().split()))\n",
        "answer = -1\n",
        "cnt = 0\n",
        "for i in range(1,n+1):\n",
        "    n_list = list(combinations(array,i))\n",
        "    for j in range(len(n_list)):\n",
        "        check = [False for _ in range(m)]\n",
        "        for k in n_list[j]:\n",
        "            for l in range(m):\n",
        "                if k[1][l] == 'Y':\n",
        "                    check[l] = True\n",
        "        if check.count(True) > cnt:\n",
        "            answer = i\n",
        "            cnt = check.count(True)\n",
        "print(answer)"
      ],
      "metadata": {
        "id": "rcUOyOWQHBGh"
      },
      "execution_count": null,
      "outputs": []
    },
    {
      "cell_type": "markdown",
      "source": [
        "###8-1522"
      ],
      "metadata": {
        "id": "0J5V3yhTHuEw"
      }
    },
    {
      "cell_type": "code",
      "source": [
        "s = input()\n",
        "a = s.count('a')\n",
        "\n",
        "s += s[:a-1]\n",
        "min_val = min(s[i:i+a].count('b') for i in range(len(s) - a + 1))\n",
        "print(min_val)"
      ],
      "metadata": {
        "colab": {
          "base_uri": "https://localhost:8080/"
        },
        "id": "-r1oErHxHvw9",
        "outputId": "f5bac9a2-b2e8-406f-be0a-c3b3d22f7eea"
      },
      "execution_count": null,
      "outputs": [
        {
          "output_type": "stream",
          "name": "stdout",
          "text": [
            "abababababababa\n",
            "3\n"
          ]
        }
      ]
    },
    {
      "cell_type": "markdown",
      "source": [
        "###9-1527"
      ],
      "metadata": {
        "id": "WCSK9DSjIkAy"
      }
    },
    {
      "cell_type": "code",
      "source": [
        "def generate_lucky_numbers(current):\n",
        "\n",
        "    if current > 1_000_000_000:\n",
        "        return\n",
        "\n",
        "    if current > 0:\n",
        "        lucky_numbers.append(current)\n",
        "\n",
        "    generate_lucky_numbers(current * 10 + 4)\n",
        "    generate_lucky_numbers(current * 10 + 7)\n",
        "\n",
        "A, B = map(int, input().split())\n",
        "\n",
        "lucky_numbers = []\n",
        "\n",
        "generate_lucky_numbers(0)\n",
        "\n",
        "lucky_numbers.sort()\n",
        "\n",
        "count = sum(1 for num in lucky_numbers if A <= num <= B)\n",
        "\n",
        "print(count)"
      ],
      "metadata": {
        "colab": {
          "base_uri": "https://localhost:8080/"
        },
        "id": "ffKOb7_RImv6",
        "outputId": "e5b871f0-44ce-4aee-cc6e-a4fe5d6c4233"
      },
      "execution_count": null,
      "outputs": [
        {
          "output_type": "stream",
          "name": "stdout",
          "text": [
            "1000000 5000000\n",
            "64\n"
          ]
        }
      ]
    },
    {
      "cell_type": "markdown",
      "source": [
        "###10-1564"
      ],
      "metadata": {
        "id": "lqz1HhiSJtEc"
      }
    },
    {
      "cell_type": "code",
      "source": [
        "n = int(input())\n",
        "f = 1\n",
        "for i in range(2,n+1):\n",
        "    f*=i\n",
        "    while True:\n",
        "        if str(f)[-1] == \"0\":\n",
        "            f //= 10\n",
        "        else:\n",
        "            break\n",
        "    f%=100000000000000000\n",
        "\n",
        "print(str(f)[-5:])"
      ],
      "metadata": {
        "colab": {
          "base_uri": "https://localhost:8080/"
        },
        "id": "RiDLvJ47JxCE",
        "outputId": "092fdc56-f2c3-428c-b6cc-b5eb4ec5c165"
      },
      "execution_count": null,
      "outputs": [
        {
          "output_type": "stream",
          "name": "stdout",
          "text": [
            "18\n",
            "05728\n"
          ]
        }
      ]
    },
    {
      "cell_type": "markdown",
      "source": [
        "#1/24"
      ],
      "metadata": {
        "id": "3WLudVOIEsNg"
      }
    },
    {
      "cell_type": "markdown",
      "source": [
        "###1-1569"
      ],
      "metadata": {
        "id": "y8nzfvF7Et7U"
      }
    },
    {
      "cell_type": "code",
      "source": [
        "n = int(input())\n",
        "points = [tuple(map(int, input().split())) for _ in range(n)]\n",
        "\n",
        "mnx = min(x for x, y in points)\n",
        "mxx = max(x for x, y in points)\n",
        "mny = min(y for x, y in points)\n",
        "mxy = max(y for x, y in points)\n",
        "\n",
        "length = max(mxx - mnx, mxy - mny)\n",
        "\n",
        "def is_covered(x_min, y_min):\n",
        "    x_max, y_max = x_min + length, y_min + length\n",
        "    return all(\n",
        "        (x == x_min or x == x_max or y == y_min or y == y_max) and\n",
        "        (x_min <= x <= x_max and y_min <= y <= y_max)\n",
        "        for x, y in points\n",
        "    )\n",
        "\n",
        "if is_covered(mnx, mny) or is_covered(mxx - length, mxy - length):\n",
        "    print(length)\n",
        "else:\n",
        "    print(-1)"
      ],
      "metadata": {
        "colab": {
          "base_uri": "https://localhost:8080/"
        },
        "id": "i6ar6M0RHPc9",
        "outputId": "23d063af-07a8-4a52-a2aa-53d69f1d6082"
      },
      "execution_count": null,
      "outputs": [
        {
          "output_type": "stream",
          "name": "stdout",
          "text": [
            "2\n",
            "0 0\n",
            "1 1\n",
            "1\n"
          ]
        }
      ]
    },
    {
      "cell_type": "markdown",
      "source": [
        "###2-1629"
      ],
      "metadata": {
        "id": "Vd73iqVpHbBu"
      }
    },
    {
      "cell_type": "code",
      "source": [
        "def modular_exponentiation(a, b, c):\n",
        "    if b == 0:\n",
        "        return 1\n",
        "    half = modular_exponentiation(a, b // 2, c)\n",
        "    half = (half * half) % c\n",
        "    if b % 2 == 0:\n",
        "        return half\n",
        "    else:\n",
        "        return (half * a) % c\n",
        "\n",
        "a, b, c = map(int, input().split())\n",
        "\n",
        "print(modular_exponentiation(a, b, c))"
      ],
      "metadata": {
        "colab": {
          "base_uri": "https://localhost:8080/"
        },
        "id": "gli7RGoLHdLD",
        "outputId": "bd7a4c58-761e-4b7f-a064-e9753955f829"
      },
      "execution_count": null,
      "outputs": [
        {
          "output_type": "stream",
          "name": "stdout",
          "text": [
            "10 11 12\n",
            "4\n"
          ]
        }
      ]
    },
    {
      "cell_type": "markdown",
      "source": [
        "###3-1931"
      ],
      "metadata": {
        "id": "X-aIqNr2IODD"
      }
    },
    {
      "cell_type": "code",
      "source": [
        "import sys\n",
        "\n",
        "n = int(input())\n",
        "\n",
        "endPoint: int = 0\n",
        "answer: int = 0\n",
        "\n",
        "arr = []\n",
        "\n",
        "for i in range(0,n):\n",
        "    a, b = map(int,sys.stdin.readline().rstrip().split())\n",
        "    arr.append([a,b])\n",
        "\n",
        "arr.sort(key=lambda x: (x[1], x[0]))\n",
        "\n",
        "for newStart, newEnd in arr:\n",
        "    if endPoint <= newStart:\n",
        "        answer += 1\n",
        "        endPoint = newEnd\n",
        "print(answer)"
      ],
      "metadata": {
        "id": "57ZmD-DWPOKS"
      },
      "execution_count": null,
      "outputs": []
    },
    {
      "cell_type": "markdown",
      "source": [
        "###4-7576"
      ],
      "metadata": {
        "id": "f2tA7jrSPTvA"
      }
    },
    {
      "cell_type": "code",
      "source": [
        "from collections import deque\n",
        "\n",
        "def ripe_tomatoes(M, N, box):\n",
        "    directions = [(-1, 0), (1, 0), (0, -1), (0, 1)]\n",
        "\n",
        "    queue = deque()\n",
        "    for i in range(N):\n",
        "        for j in range(M):\n",
        "            if box[i][j] == 1:\n",
        "                queue.append((i, j))\n",
        "\n",
        "    days = 0\n",
        "    while queue:\n",
        "        x, y = queue.popleft()\n",
        "\n",
        "        for dx, dy in directions:\n",
        "            nx, ny = x + dx, y + dy\n",
        "\n",
        "            if 0 <= nx < N and 0 <= ny < M and box[nx][ny] == 0:\n",
        "                box[nx][ny] = box[x][y] + 1\n",
        "                queue.append((nx, ny))\n",
        "                days = max(days, box[nx][ny] - 1)\n",
        "\n",
        "    for i in range(N):\n",
        "        for j in range(M):\n",
        "            if box[i][j] == 0:\n",
        "                return -1\n",
        "\n",
        "    return days\n",
        "\n",
        "M, N = map(int, input().split())\n",
        "box = [list(map(int, input().split())) for _ in range(N)]\n",
        "\n",
        "print(ripe_tomatoes(M, N, box))"
      ],
      "metadata": {
        "id": "pTKYZGUBP3th"
      },
      "execution_count": null,
      "outputs": []
    },
    {
      "cell_type": "markdown",
      "source": [
        "###5-11729"
      ],
      "metadata": {
        "id": "w_Y0WlZgP865"
      }
    },
    {
      "cell_type": "code",
      "source": [
        "def hanoi(n, source, target, auxiliary, result):\n",
        "    if n == 1:\n",
        "        result.append((source, target))\n",
        "        return\n",
        "    hanoi(n-1, source, auxiliary, target, result)\n",
        "    result.append((source, target))\n",
        "    hanoi(n-1, auxiliary, target, source, result)\n",
        "\n",
        "def hanoi_tower(n):\n",
        "    result = []\n",
        "    hanoi(n, 1, 3, 2, result)\n",
        "    return result\n",
        "\n",
        "n = int(input())\n",
        "\n",
        "result = hanoi_tower(n)\n",
        "\n",
        "print(len(result))\n",
        "for move in result:\n",
        "    print(move[0], move[1])"
      ],
      "metadata": {
        "id": "pI5fJjisQRJ3"
      },
      "execution_count": null,
      "outputs": []
    },
    {
      "cell_type": "markdown",
      "source": [
        "###6-12865"
      ],
      "metadata": {
        "id": "jFRlYyr3Q-OO"
      }
    },
    {
      "cell_type": "code",
      "source": [
        "def knapsack():\n",
        "    N, K = map(int, input().split())\n",
        "    items = [tuple(map(int, input().split())) for _ in range(N)]\n",
        "\n",
        "    dp = [0] * (K + 1)\n",
        "\n",
        "    for weight, value in items:\n",
        "        for i in range(K, weight - 1, -1):\n",
        "            dp[i] = max(dp[i], dp[i - weight] + value)\n",
        "\n",
        "    print(dp[K])\n",
        "\n",
        "knapsack()"
      ],
      "metadata": {
        "id": "RTndWGgWRIYd"
      },
      "execution_count": null,
      "outputs": []
    },
    {
      "cell_type": "markdown",
      "source": [
        "###7-10026"
      ],
      "metadata": {
        "id": "JmJkPkL6RpC4"
      }
    },
    {
      "cell_type": "code",
      "source": [
        "from collections import deque\n",
        "\n",
        "n = int(input())\n",
        "\n",
        "array = [list(input().strip()) for _ in range(n)]\n",
        "\n",
        "dx = [0, 0, -1, 1]\n",
        "dy = [-1, 1, 0, 0]\n",
        "\n",
        "def bfs(x, y, color_blind=False):\n",
        "    color = array[x][y]\n",
        "    q = deque([(x, y)])\n",
        "    visited[x][y] = True\n",
        "\n",
        "    while q:\n",
        "        i, j = q.popleft()\n",
        "\n",
        "        for k in range(4):\n",
        "            nx, ny = i + dx[k], j + dy[k]\n",
        "            if 0 <= nx < n and 0 <= ny < n and not visited[nx][ny]:\n",
        "                if color_blind:\n",
        "                    if (color == 'R' or color == 'G') and (array[nx][ny] == 'R' or array[nx][ny] == 'G'):\n",
        "                        visited[nx][ny] = True\n",
        "                        q.append((nx, ny))\n",
        "                    elif array[nx][ny] == color:\n",
        "                        visited[nx][ny] = True\n",
        "                        q.append((nx, ny))\n",
        "                else:\n",
        "                    if array[nx][ny] == color:\n",
        "                        visited[nx][ny] = True\n",
        "                        q.append((nx, ny))\n",
        "\n",
        "visited = [[False] * n for _ in range(n)]\n",
        "normal_count = 0\n",
        "for i in range(n):\n",
        "    for j in range(n):\n",
        "        if not visited[i][j]:\n",
        "            bfs(i, j)\n",
        "            normal_count += 1\n",
        "\n",
        "visited = [[False] * n for _ in range(n)]\n",
        "blind_count = 0\n",
        "for i in range(n):\n",
        "    for j in range(n):\n",
        "        if not visited[i][j]:\n",
        "            bfs(i, j, color_blind=True)\n",
        "            blind_count += 1\n",
        "\n",
        "print(normal_count, blind_count)"
      ],
      "metadata": {
        "id": "u0gNdwIORriu"
      },
      "execution_count": null,
      "outputs": []
    },
    {
      "cell_type": "markdown",
      "source": [
        "#1/25"
      ],
      "metadata": {
        "id": "BizYlglUW45t"
      }
    },
    {
      "cell_type": "markdown",
      "source": [
        "###1-2447"
      ],
      "metadata": {
        "id": "N3MK5vZ7W813"
      }
    },
    {
      "cell_type": "code",
      "source": [
        "def draw_star(n):\n",
        "    if n == 1:\n",
        "        return ['*']\n",
        "\n",
        "    small_pattern = draw_star(n // 3)\n",
        "    pattern = []\n",
        "\n",
        "    for part in small_pattern:\n",
        "        pattern.append(part * 3)\n",
        "\n",
        "    for part in small_pattern:\n",
        "        pattern.append(part + ' ' * (n // 3) + part)\n",
        "\n",
        "    for part in small_pattern:\n",
        "        pattern.append(part * 3)\n",
        "\n",
        "    return pattern\n",
        "\n",
        "n = int(input())\n",
        "\n",
        "result = draw_star(n)\n",
        "\n",
        "print('\\n'.join(result))"
      ],
      "metadata": {
        "colab": {
          "base_uri": "https://localhost:8080/"
        },
        "id": "Y-Xg3qA-W9H-",
        "outputId": "6fee6882-4058-4a74-e016-d623c03d0aa1"
      },
      "execution_count": null,
      "outputs": [
        {
          "output_type": "stream",
          "name": "stdout",
          "text": [
            "27\n",
            "***************************\n",
            "* ** ** ** ** ** ** ** ** *\n",
            "***************************\n",
            "***   ******   ******   ***\n",
            "* *   * ** *   * ** *   * *\n",
            "***   ******   ******   ***\n",
            "***************************\n",
            "* ** ** ** ** ** ** ** ** *\n",
            "***************************\n",
            "*********         *********\n",
            "* ** ** *         * ** ** *\n",
            "*********         *********\n",
            "***   ***         ***   ***\n",
            "* *   * *         * *   * *\n",
            "***   ***         ***   ***\n",
            "*********         *********\n",
            "* ** ** *         * ** ** *\n",
            "*********         *********\n",
            "***************************\n",
            "* ** ** ** ** ** ** ** ** *\n",
            "***************************\n",
            "***   ******   ******   ***\n",
            "* *   * ** *   * ** *   * *\n",
            "***   ******   ******   ***\n",
            "***************************\n",
            "* ** ** ** ** ** ** ** ** *\n",
            "***************************\n"
          ]
        }
      ]
    },
    {
      "cell_type": "markdown",
      "source": [
        "#1/26"
      ],
      "metadata": {
        "id": "96iNVjsk-foA"
      }
    },
    {
      "cell_type": "markdown",
      "source": [
        "###1-7569"
      ],
      "metadata": {
        "id": "Tcwzugsb-h0E"
      }
    },
    {
      "cell_type": "code",
      "source": [
        "from collections import deque\n",
        "\n",
        "def solve_tomatoes():\n",
        "    m, n, h = map(int, input().split())\n",
        "    box = []\n",
        "    queue = deque()\n",
        "\n",
        "    for z in range(h):\n",
        "        floor = []\n",
        "        for y in range(n):\n",
        "            row = list(map(int, input().split()))\n",
        "            floor.append(row)\n",
        "            for x in range(m):\n",
        "                if row[x] == 1:\n",
        "                    queue.append((z, y, x))\n",
        "        box.append(floor)\n",
        "\n",
        "    dz = [-1, 1, 0, 0, 0, 0]\n",
        "    dy = [0, 0, -1, 1, 0, 0]\n",
        "    dx = [0, 0, 0, 0, -1, 1]\n",
        "\n",
        "    days = 0\n",
        "    while queue:\n",
        "        for _ in range(len(queue)):\n",
        "            z, y, x = queue.popleft()\n",
        "            for i in range(6):\n",
        "                nz, ny, nx = z + dz[i], y + dy[i], x + dx[i]\n",
        "                if 0 <= nz < h and 0 <= ny < n and 0 <= nx < m and box[nz][ny][nx] == 0:\n",
        "                    box[nz][ny][nx] = 1\n",
        "                    queue.append((nz, ny, nx))\n",
        "        days += 1\n",
        "\n",
        "    for floor in box:\n",
        "        for row in floor:\n",
        "            if 0 in row:\n",
        "                return -1\n",
        "\n",
        "    return days - 1 if days > 0 else 0\n",
        "\n",
        "print(solve_tomatoes())"
      ],
      "metadata": {
        "colab": {
          "base_uri": "https://localhost:8080/"
        },
        "id": "iofZmEmw-jTy",
        "outputId": "5672aa55-5668-4ff6-c96b-6cdd54253353"
      },
      "execution_count": null,
      "outputs": [
        {
          "output_type": "stream",
          "name": "stdout",
          "text": [
            "5 3 2\n",
            "0 0 0 0 0\n",
            "0 0 0 0 0\n",
            "0 0 0 0 0\n",
            "0 0 0 0 0\n",
            "0 0 1 0 0\n",
            "0 0 0 0 0\n",
            "4\n"
          ]
        }
      ]
    },
    {
      "cell_type": "markdown",
      "source": [
        "#1/27"
      ],
      "metadata": {
        "id": "AZz2viRFif0d"
      }
    },
    {
      "cell_type": "markdown",
      "source": [
        "###1-9251"
      ],
      "metadata": {
        "id": "xtqZN3z8ihr2"
      }
    },
    {
      "cell_type": "code",
      "source": [
        "def lcs_length(a, b):\n",
        "    len_a, len_b = len(a), len(b)\n",
        "    dp = [[0] * (len_b + 1) for _ in range(len_a + 1)]\n",
        "\n",
        "    for i in range(1, len_a + 1):\n",
        "        for j in range(1, len_b + 1):\n",
        "            if a[i - 1] == b[j - 1]:\n",
        "                dp[i][j] = dp[i - 1][j - 1] + 1\n",
        "            else:\n",
        "                dp[i][j] = max(dp[i - 1][j], dp[i][j - 1])\n",
        "\n",
        "    return dp[len_a][len_b]\n",
        "\n",
        "a = input().strip()\n",
        "b = input().strip()\n",
        "\n",
        "print(lcs_length(a, b))"
      ],
      "metadata": {
        "colab": {
          "base_uri": "https://localhost:8080/"
        },
        "id": "yoyGE233ijia",
        "outputId": "88668026-2a92-4148-d953-47c26fbb88b5"
      },
      "execution_count": null,
      "outputs": [
        {
          "output_type": "stream",
          "name": "stdout",
          "text": [
            "ACAYKP\n",
            "CAPCAK\n",
            "4\n"
          ]
        }
      ]
    },
    {
      "cell_type": "markdown",
      "source": [
        "###2-15686"
      ],
      "metadata": {
        "id": "7fn4_HM5jR-p"
      }
    },
    {
      "cell_type": "code",
      "source": [
        "from itertools import combinations\n",
        "\n",
        "def calculate_city_chicken_distance(houses, chicken_comb):\n",
        "    city_chicken_distance = 0\n",
        "    for house in houses:\n",
        "        house_chicken_distance = min(abs(house[0] - chicken[0]) + abs(house[1] - chicken[1]) for chicken in chicken_comb)\n",
        "        city_chicken_distance += house_chicken_distance\n",
        "    return city_chicken_distance\n",
        "\n",
        "def chicken_delivery(n, m, city_map):\n",
        "    houses = []\n",
        "    chickens = []\n",
        "\n",
        "    for r in range(n):\n",
        "        for c in range(n):\n",
        "            if city_map[r][c] == 1:\n",
        "                houses.append((r, c))\n",
        "            elif city_map[r][c] == 2:\n",
        "                chickens.append((r, c))\n",
        "\n",
        "    chicken_combinations = combinations(chickens, m)\n",
        "    min_chicken_distance = float('inf')\n",
        "\n",
        "    for chicken_comb in chicken_combinations:\n",
        "        city_chicken_distance = calculate_city_chicken_distance(houses, chicken_comb)\n",
        "        min_chicken_distance = min(min_chicken_distance, city_chicken_distance)\n",
        "\n",
        "    return min_chicken_distance\n",
        "\n",
        "n, m = map(int, input().split())\n",
        "city_map = [list(map(int, input().split())) for _ in range(n)]\n",
        "\n",
        "print(chicken_delivery(n, m, city_map))"
      ],
      "metadata": {
        "colab": {
          "base_uri": "https://localhost:8080/"
        },
        "id": "GdK3xisFjUVn",
        "outputId": "86052e2f-569a-451c-a784-7b21de7eaf80"
      },
      "execution_count": null,
      "outputs": [
        {
          "output_type": "stream",
          "name": "stdout",
          "text": [
            "5 2\n",
            "0 2 0 1 0\n",
            "1 0 1 0 0\n",
            "0 0 0 0 0\n",
            "2 0 0 1 1\n",
            "2 2 0 1 2\n",
            "10\n"
          ]
        }
      ]
    },
    {
      "cell_type": "markdown",
      "source": [
        "###3-1074"
      ],
      "metadata": {
        "id": "8sIfDaSLk391"
      }
    },
    {
      "cell_type": "code",
      "source": [
        "def z_order(n, r, c):\n",
        "    if n == 0:\n",
        "        return 0\n",
        "\n",
        "    size = 2 ** (n - 1)\n",
        "    area = size * size\n",
        "\n",
        "    if r < size and c < size:\n",
        "        return z_order(n - 1, r, c)\n",
        "    elif r < size and c >= size:\n",
        "        return area + z_order(n - 1, r, c - size)\n",
        "    elif r >= size and c < size:\n",
        "        return 2 * area + z_order(n - 1, r - size, c)\n",
        "    else:\n",
        "        return 3 * area + z_order(n - 1, r - size, c - size)\n",
        "\n",
        "n, r, c = map(int, input().split())\n",
        "\n",
        "print(z_order(n, r, c))"
      ],
      "metadata": {
        "colab": {
          "base_uri": "https://localhost:8080/"
        },
        "id": "iJ_DyrHGk7Ys",
        "outputId": "0ec545ae-d9e0-4263-f2c3-022c5bab5411"
      },
      "execution_count": null,
      "outputs": [
        {
          "output_type": "stream",
          "name": "stdout",
          "text": [
            "10 512 512\n",
            "786432\n"
          ]
        }
      ]
    },
    {
      "cell_type": "markdown",
      "source": [
        "###4-1759"
      ],
      "metadata": {
        "id": "tituUUpdlagf"
      }
    },
    {
      "cell_type": "code",
      "source": [
        "from itertools import combinations\n",
        "\n",
        "l, c = map(int, input().split())\n",
        "chars = input().split()\n",
        "\n",
        "chars.sort()\n",
        "\n",
        "vowels = {'a', 'e', 'i', 'o', 'u'}\n",
        "\n",
        "for combination in combinations(chars, l):\n",
        "    vowel_count = sum(1 for char in combination if char in vowels)\n",
        "    consonant_count = l - vowel_count\n",
        "\n",
        "    if vowel_count >= 1 and consonant_count >= 2:\n",
        "        print(''.join(combination))"
      ],
      "metadata": {
        "colab": {
          "base_uri": "https://localhost:8080/"
        },
        "id": "aGXpDY3olcJ-",
        "outputId": "564e5227-7b8a-406e-9438-e65e13871691"
      },
      "execution_count": null,
      "outputs": [
        {
          "output_type": "stream",
          "name": "stdout",
          "text": [
            "4 6\n",
            "a t c i s w\n",
            "acis\n",
            "acit\n",
            "aciw\n",
            "acst\n",
            "acsw\n",
            "actw\n",
            "aist\n",
            "aisw\n",
            "aitw\n",
            "astw\n",
            "cist\n",
            "cisw\n",
            "citw\n",
            "istw\n"
          ]
        }
      ]
    },
    {
      "cell_type": "markdown",
      "source": [
        "###5-5430"
      ],
      "metadata": {
        "id": "dYEE4M_Ml58v"
      }
    },
    {
      "cell_type": "code",
      "source": [
        "from collections import deque\n",
        "\n",
        "t = int(input())\n",
        "\n",
        "results = []\n",
        "\n",
        "for _ in range(t):\n",
        "    p = input().strip()\n",
        "    n = int(input())\n",
        "    array = input().strip()[1:-1]\n",
        "    if array:\n",
        "        array = deque(map(int, array.split(',')))\n",
        "    else:\n",
        "        array = deque()\n",
        "\n",
        "    reverse = False\n",
        "    error_occurred = False\n",
        "\n",
        "    for command in p:\n",
        "        if command == 'R':\n",
        "            reverse = not reverse\n",
        "        elif command == 'D':\n",
        "            if not array:\n",
        "                error_occurred = True\n",
        "                break\n",
        "            if reverse:\n",
        "                array.pop()\n",
        "            else:\n",
        "                array.popleft()\n",
        "\n",
        "    if error_occurred:\n",
        "        results.append(\"error\")\n",
        "    else:\n",
        "        if reverse:\n",
        "            array.reverse()\n",
        "        results.append(f\"[{','.join(map(str, array))}]\")\n",
        "\n",
        "for result in results:\n",
        "    print(result)"
      ],
      "metadata": {
        "colab": {
          "base_uri": "https://localhost:8080/"
        },
        "id": "gGacL8yDl6oS",
        "outputId": "97e8f6fd-d440-4ae9-dfe3-d5a277be69e2"
      },
      "execution_count": null,
      "outputs": [
        {
          "output_type": "stream",
          "name": "stdout",
          "text": [
            "4\n",
            "RDD\n",
            "4\n",
            "[1,2,3,4]\n",
            "DD\n",
            "1\n",
            "[42]\n",
            "RRD\n",
            "6\n",
            "[1,1,2,3,5,8]\n",
            "D\n",
            "0\n",
            "[]\n",
            "[2,1]\n",
            "error\n",
            "[1,2,3,5,8]\n",
            "error\n"
          ]
        }
      ]
    },
    {
      "cell_type": "markdown",
      "source": [
        "###6-14503"
      ],
      "metadata": {
        "id": "vpZR3awcn3-h"
      }
    },
    {
      "cell_type": "code",
      "source": [
        "DIRECTIONS = [(-1, 0), (0, 1), (1, 0), (0, -1)]\n",
        "\n",
        "def clean_room(n, m, r, c, d, room):\n",
        "    cleaned_count = 0\n",
        "    while True:\n",
        "        if room[r][c] == 0:\n",
        "            room[r][c] = 2\n",
        "            cleaned_count += 1\n",
        "\n",
        "        found_cleanable = False\n",
        "        for _ in range(4):\n",
        "            d = (d - 1) % 4\n",
        "            nr, nc = r + DIRECTIONS[d][0], c + DIRECTIONS[d][1]\n",
        "            if room[nr][nc] == 0:\n",
        "                r, c = nr, nc\n",
        "                found_cleanable = True\n",
        "                break\n",
        "\n",
        "        if not found_cleanable:\n",
        "            back_d = (d + 2) % 4\n",
        "            nr, nc = r + DIRECTIONS[back_d][0], c + DIRECTIONS[back_d][1]\n",
        "            if room[nr][nc] == 1:\n",
        "                break\n",
        "            else:\n",
        "                r, c = nr, nc\n",
        "\n",
        "    return cleaned_count\n",
        "\n",
        "n, m = map(int, input().split())\n",
        "r, c, d = map(int, input().split())\n",
        "room = [list(map(int, input().split())) for _ in range(n)]\n",
        "\n",
        "print(clean_room(n, m, r, c, d, room))"
      ],
      "metadata": {
        "colab": {
          "base_uri": "https://localhost:8080/"
        },
        "id": "bdWI2wfSn802",
        "outputId": "7fcc2e16-512a-4791-df9d-d39ee8d647f3"
      },
      "execution_count": null,
      "outputs": [
        {
          "output_type": "stream",
          "name": "stdout",
          "text": [
            "3 3\n",
            "1 1 0\n",
            "1 1 1\n",
            "1 0 1\n",
            "1 1 1\n",
            "1\n"
          ]
        }
      ]
    },
    {
      "cell_type": "markdown",
      "source": [
        "###7-1011"
      ],
      "metadata": {
        "id": "KPIyoHpspozj"
      }
    },
    {
      "cell_type": "code",
      "source": [
        "import math\n",
        "\n",
        "def calculate_min_moves(distance):\n",
        "    if distance <= 3:\n",
        "        return distance\n",
        "\n",
        "    square_root = int(math.sqrt(distance))\n",
        "    squared = square_root ** 2\n",
        "\n",
        "    if distance == squared:\n",
        "        return square_root * 2 - 1\n",
        "    elif distance <= squared + square_root:\n",
        "        return square_root * 2\n",
        "    else:\n",
        "        return square_root * 2 + 1\n",
        "\n",
        "case_number = int(input())\n",
        "results = []\n",
        "\n",
        "for _ in range(case_number):\n",
        "    a, b = map(int, input().split())\n",
        "    distance = b - a\n",
        "    results.append(calculate_min_moves(distance))\n",
        "\n",
        "print(\"\\n\".join(map(str, results)))"
      ],
      "metadata": {
        "colab": {
          "base_uri": "https://localhost:8080/"
        },
        "id": "rk_rca68prZo",
        "outputId": "c624061d-8387-41bf-fd93-2f010bbdf0d1"
      },
      "execution_count": null,
      "outputs": [
        {
          "output_type": "stream",
          "name": "stdout",
          "text": [
            "3\n",
            "0 3\n",
            "1 5\n",
            "45 50\n",
            "3\n",
            "3\n",
            "4\n"
          ]
        }
      ]
    },
    {
      "cell_type": "markdown",
      "source": [
        "#1/28"
      ],
      "metadata": {
        "id": "kyJ3pNpAuDLQ"
      }
    },
    {
      "cell_type": "markdown",
      "source": [
        "###1-1916"
      ],
      "metadata": {
        "id": "68I-vZgkuHV2"
      }
    },
    {
      "cell_type": "code",
      "source": [
        "import sys\n",
        "import heapq\n",
        "\n",
        "input = sys.stdin.readline\n",
        "\n",
        "n = int(input())\n",
        "m = int(input())\n",
        "\n",
        "graph = [[] for _ in range(n + 1)]\n",
        "\n",
        "for _ in range(m):\n",
        "    start, end, cost = map(int, input().split())\n",
        "    graph[start].append((end, cost))\n",
        "\n",
        "start_city, end_city = map(int, input().split())\n",
        "\n",
        "INF = float('inf')\n",
        "min_cost = [INF] * (n + 1)\n",
        "min_cost[start_city] = 0\n",
        "priority_queue = [(0, start_city)]\n",
        "\n",
        "while priority_queue:\n",
        "    current_cost, current_city = heapq.heappop(priority_queue)\n",
        "\n",
        "    if min_cost[current_city] < current_cost:\n",
        "        continue\n",
        "\n",
        "    for next_city, travel_cost in graph[current_city]:\n",
        "        total_cost = current_cost + travel_cost\n",
        "\n",
        "        if total_cost < min_cost[next_city]:\n",
        "            min_cost[next_city] = total_cost\n",
        "            heapq.heappush(priority_queue, (total_cost, next_city))\n",
        "\n",
        "print(min_cost[end_city])"
      ],
      "metadata": {
        "id": "dBdOBtLJuLHq"
      },
      "execution_count": null,
      "outputs": []
    },
    {
      "cell_type": "markdown",
      "source": [
        "#1/29"
      ],
      "metadata": {
        "id": "Pke_zzR_wvaV"
      }
    },
    {
      "cell_type": "markdown",
      "source": [
        "###1-1717"
      ],
      "metadata": {
        "id": "yTq0benfwyMd"
      }
    },
    {
      "cell_type": "code",
      "source": [
        "import sys\n",
        "input = sys.stdin.readline\n",
        "sys.setrecursionlimit(1000000)\n",
        "\n",
        "def find(parent, x):\n",
        "    if parent[x] != x:\n",
        "        parent[x] = find(parent, parent[x])\n",
        "    return parent[x]\n",
        "\n",
        "def union(parent, rank, a, b):\n",
        "    root_a = find(parent, a)\n",
        "    root_b = find(parent, b)\n",
        "\n",
        "    if root_a != root_b:\n",
        "        if rank[root_a] > rank[root_b]:\n",
        "            parent[root_b] = root_a\n",
        "        elif rank[root_a] < rank[root_b]:\n",
        "            parent[root_a] = root_b\n",
        "        else:\n",
        "            parent[root_b] = root_a\n",
        "            rank[root_a] += 1\n",
        "\n",
        "n, m = map(int, input().split())\n",
        "\n",
        "parent = list(range(n + 1))\n",
        "rank = [0] * (n + 1)\n",
        "\n",
        "results = []\n",
        "\n",
        "for _ in range(m):\n",
        "    op, a, b = map(int, input().split())\n",
        "    if op == 0:\n",
        "        union(parent, rank, a, b)\n",
        "    elif op == 1:\n",
        "        if find(parent, a) == find(parent, b):\n",
        "            results.append(\"YES\")\n",
        "        else:\n",
        "            results.append(\"NO\")\n",
        "\n",
        "sys.stdout.write(\"\\n\".join(results) + \"\\n\")"
      ],
      "metadata": {
        "id": "R7tWmh7YxKhF"
      },
      "execution_count": null,
      "outputs": []
    },
    {
      "cell_type": "markdown",
      "source": [
        "#1/30"
      ],
      "metadata": {
        "id": "xUt9dTpJx1-F"
      }
    },
    {
      "cell_type": "markdown",
      "source": [
        "###1-13549"
      ],
      "metadata": {
        "id": "7C_L2D8AFKv_"
      }
    },
    {
      "cell_type": "code",
      "source": [
        "from collections import deque\n",
        "\n",
        "def bfs(n, k):\n",
        "    max_pos = 100000\n",
        "    visited = [-1] * (max_pos + 1)\n",
        "    dq = deque([n])\n",
        "    visited[n] = 0\n",
        "\n",
        "    while dq:\n",
        "        cur = dq.popleft()\n",
        "\n",
        "        if cur == k:\n",
        "            return visited[cur]\n",
        "\n",
        "        if 0 <= cur * 2 <= max_pos and visited[cur * 2] == -1:\n",
        "            visited[cur * 2] = visited[cur]\n",
        "            dq.appendleft(cur * 2)\n",
        "\n",
        "        for next_pos in (cur - 1, cur + 1):\n",
        "            if 0 <= next_pos <= max_pos and visited[next_pos] == -1:\n",
        "                visited[next_pos] = visited[cur] + 1\n",
        "                dq.append(next_pos)\n",
        "\n",
        "n, k = map(int, input().split())\n",
        "print(bfs(n, k))"
      ],
      "metadata": {
        "colab": {
          "base_uri": "https://localhost:8080/"
        },
        "id": "S5gWQapBFJzN",
        "outputId": "8b3223c4-6b8d-4dea-b697-63f9b60af93f"
      },
      "execution_count": null,
      "outputs": [
        {
          "output_type": "stream",
          "name": "stdout",
          "text": [
            "5 17\n",
            "2\n"
          ]
        }
      ]
    },
    {
      "cell_type": "markdown",
      "source": [
        "#1/31"
      ],
      "metadata": {
        "id": "-bTENNd_FG75"
      }
    },
    {
      "cell_type": "markdown",
      "source": [
        "###1-1107"
      ],
      "metadata": {
        "id": "r1aTa_wpHJvi"
      }
    },
    {
      "cell_type": "code",
      "source": [
        "def possible(num, broken):\n",
        "    for digit in str(num):\n",
        "        if digit in broken:\n",
        "            return False\n",
        "    return True\n",
        "\n",
        "def min_press(n, broken):\n",
        "    if n == 100:\n",
        "        return 0\n",
        "\n",
        "    min_clicks = abs(n - 100)\n",
        "\n",
        "    for num in range(1000000):\n",
        "        if possible(num, broken):\n",
        "            clicks = len(str(num)) + abs(n - num)\n",
        "            min_clicks = min(min_clicks, clicks)\n",
        "\n",
        "    return min_clicks\n",
        "\n",
        "n = int(input())\n",
        "m = int(input())\n",
        "broken = set(input().split()) if m > 0 else set()\n",
        "\n",
        "print(min_press(n, broken))"
      ],
      "metadata": {
        "colab": {
          "base_uri": "https://localhost:8080/"
        },
        "id": "LzF6T-TCG82K",
        "outputId": "717e77e4-c0e9-451e-a5cd-4a9595f54737"
      },
      "execution_count": null,
      "outputs": [
        {
          "output_type": "stream",
          "name": "stdout",
          "text": [
            "80000\n",
            "2\n",
            "8 9\n",
            "2228\n"
          ]
        }
      ]
    },
    {
      "cell_type": "markdown",
      "source": [
        "#2/1"
      ],
      "metadata": {
        "id": "SAaosD6DJQ_s"
      }
    },
    {
      "cell_type": "markdown",
      "source": [
        "###1-2493"
      ],
      "metadata": {
        "id": "7lwXyxnQJUEm"
      }
    },
    {
      "cell_type": "code",
      "source": [
        "import sys\n",
        "\n",
        "def solve(n, heights):\n",
        "    stack = []\n",
        "    result = [0] * n\n",
        "\n",
        "    for i in range(n):\n",
        "        while stack and stack[-1][1] < heights[i]:\n",
        "            stack.pop()\n",
        "\n",
        "        if stack:\n",
        "            result[i] = stack[-1][0]\n",
        "\n",
        "        stack.append((i + 1, heights[i]))\n",
        "\n",
        "    print(*result)\n",
        "\n",
        "n = int(sys.stdin.readline().strip())\n",
        "heights = list(map(int, sys.stdin.readline().split()))\n",
        "\n",
        "solve(n, heights)"
      ],
      "metadata": {
        "id": "gfyVB40wJ8BR"
      },
      "execution_count": null,
      "outputs": []
    },
    {
      "cell_type": "markdown",
      "source": [
        "#2/2"
      ],
      "metadata": {
        "id": "ijPuVwRxQtKW"
      }
    },
    {
      "cell_type": "markdown",
      "source": [
        "###1-2294"
      ],
      "metadata": {
        "id": "E-64keCfQw8a"
      }
    },
    {
      "cell_type": "code",
      "source": [
        "import sys\n",
        "\n",
        "def solve(n, k, coins):\n",
        "    INF = float('inf')\n",
        "    dp = [INF] * (k + 1)\n",
        "    dp[0] = 0\n",
        "\n",
        "    for coin in coins:\n",
        "        for i in range(coin, k + 1):\n",
        "            dp[i] = min(dp[i], dp[i - coin] + 1)\n",
        "\n",
        "    print(dp[k] if dp[k] != INF else -1)\n",
        "\n",
        "n, k = map(int, sys.stdin.readline().split())\n",
        "coins = list(set(int(sys.stdin.readline().strip()) for _ in range(n)))\n",
        "\n",
        "solve(n, k, coins)"
      ],
      "metadata": {
        "id": "93CxufoNQxu5"
      },
      "execution_count": null,
      "outputs": []
    },
    {
      "cell_type": "markdown",
      "source": [
        "#2/3"
      ],
      "metadata": {
        "id": "xefaC7jxWtS_"
      }
    },
    {
      "cell_type": "markdown",
      "source": [
        "###1-14891"
      ],
      "metadata": {
        "id": "szdadWE5WvBt"
      }
    },
    {
      "cell_type": "code",
      "source": [
        "import sys\n",
        "from collections import deque\n",
        "\n",
        "def rotate_gears(gears, num, direction):\n",
        "    rotations = [(num, direction)]\n",
        "\n",
        "    d = direction\n",
        "    for i in range(num, 0, -1):\n",
        "        if gears[i][6] != gears[i-1][2]:\n",
        "            d *= -1\n",
        "            rotations.append((i-1, d))\n",
        "        else:\n",
        "            break\n",
        "\n",
        "    d = direction\n",
        "    for i in range(num, 3):\n",
        "        if gears[i][2] != gears[i+1][6]:\n",
        "            d *= -1\n",
        "            rotations.append((i+1, d))\n",
        "        else:\n",
        "            break\n",
        "\n",
        "    for idx, d in rotations:\n",
        "        gears[idx].rotate(d)\n",
        "\n",
        "gears = [deque(map(int, sys.stdin.readline().strip())) for _ in range(4)]\n",
        "K = int(sys.stdin.readline().strip())\n",
        "rotations = [tuple(map(int, sys.stdin.readline().split())) for _ in range(K)]\n",
        "\n",
        "for num, direction in rotations:\n",
        "    rotate_gears(gears, num-1, direction)\n",
        "\n",
        "score = sum((2**i) * gears[i][0] for i in range(4))\n",
        "print(score)"
      ],
      "metadata": {
        "id": "HfaWhhRYWuvs"
      },
      "execution_count": null,
      "outputs": []
    },
    {
      "cell_type": "markdown",
      "source": [
        "###2-2225"
      ],
      "metadata": {
        "id": "hhe6S8XKWys7"
      }
    },
    {
      "cell_type": "code",
      "source": [
        "import sys\n",
        "\n",
        "N, K = map(int, sys.stdin.readline().split())\n",
        "\n",
        "dp = [[0] * (N+1) for _ in range(K+1)]\n",
        "\n",
        "for n in range(N+1):\n",
        "    dp[1][n] = 1\n",
        "\n",
        "for k in range(2, K+1):\n",
        "    for n in range(N+1):\n",
        "        dp[k][n] = sum(dp[k-1][:n+1]) % 1000000000\n",
        "\n",
        "print(dp[K][N])"
      ],
      "metadata": {
        "id": "aALYZOPZW1UZ"
      },
      "execution_count": null,
      "outputs": []
    },
    {
      "cell_type": "markdown",
      "source": [
        "###3-2565"
      ],
      "metadata": {
        "id": "17Xy7KDiW1w2"
      }
    },
    {
      "cell_type": "code",
      "source": [
        "import sys\n",
        "\n",
        "N = int(sys.stdin.readline().strip())\n",
        "wires = [tuple(map(int, sys.stdin.readline().split())) for _ in range(N)]\n",
        "\n",
        "wires.sort()\n",
        "\n",
        "B = [b for _, b in wires]\n",
        "dp = [1] * N\n",
        "\n",
        "for i in range(N):\n",
        "    for j in range(i):\n",
        "        if B[j] < B[i]:\n",
        "            dp[i] = max(dp[i], dp[j] + 1)\n",
        "\n",
        "print(N - max(dp))"
      ],
      "metadata": {
        "id": "4E2opnN_W5Z5"
      },
      "execution_count": null,
      "outputs": []
    },
    {
      "cell_type": "markdown",
      "source": [
        "###4-2470"
      ],
      "metadata": {
        "id": "0aKcdjePW6NO"
      }
    },
    {
      "cell_type": "code",
      "source": [
        "import sys\n",
        "\n",
        "N = int(sys.stdin.readline().strip())\n",
        "arr = list(map(int, sys.stdin.readline().split()))\n",
        "\n",
        "arr.sort()\n",
        "\n",
        "left, right = 0, N - 1\n",
        "closest_sum = float('inf')\n",
        "result = (0, 0)\n",
        "\n",
        "while left < right:\n",
        "    total = arr[left] + arr[right]\n",
        "\n",
        "    if abs(total) < abs(closest_sum):\n",
        "        closest_sum = total\n",
        "        result = (arr[left], arr[right])\n",
        "\n",
        "    if total < 0:\n",
        "        left += 1\n",
        "    else:\n",
        "        right -= 1\n",
        "\n",
        "print(result[0], result[1])"
      ],
      "metadata": {
        "id": "0qLuKOuXXAZi"
      },
      "execution_count": null,
      "outputs": []
    },
    {
      "cell_type": "markdown",
      "source": [
        "###5-17070"
      ],
      "metadata": {
        "id": "P4oRoV0TXAql"
      }
    },
    {
      "cell_type": "code",
      "source": [
        "import sys\n",
        "\n",
        "N = int(sys.stdin.readline().strip())\n",
        "grid = [list(map(int, sys.stdin.readline().split())) for _ in range(N)]\n",
        "\n",
        "dp = [[[0] * 3 for _ in range(N)] for _ in range(N)]\n",
        "\n",
        "dp[0][1][0] = 1\n",
        "\n",
        "for y in range(N):\n",
        "    for x in range(2, N):\n",
        "        if grid[y][x] == 1:\n",
        "            continue\n",
        "\n",
        "        dp[y][x][0] = dp[y][x - 1][0] + dp[y][x - 1][2]\n",
        "\n",
        "        if y > 0:\n",
        "            dp[y][x][1] = dp[y - 1][x][1] + dp[y - 1][x][2]\n",
        "\n",
        "        if y > 0 and grid[y - 1][x] == 0 and grid[y][x - 1] == 0:\n",
        "            dp[y][x][2] = dp[y - 1][x - 1][0] + dp[y - 1][x - 1][1] + dp[y - 1][x - 1][2]\n",
        "\n",
        "print(sum(dp[N - 1][N - 1]))"
      ],
      "metadata": {
        "id": "_K8CV_GJXDlv"
      },
      "execution_count": null,
      "outputs": []
    },
    {
      "cell_type": "markdown",
      "source": [
        "###6-1068"
      ],
      "metadata": {
        "id": "NiopejMyXEGT"
      }
    },
    {
      "cell_type": "code",
      "source": [
        "import sys\n",
        "\n",
        "def delete_node(num, arr):\n",
        "    arr[num] = -2\n",
        "    for i in range(len(arr)):\n",
        "        if arr[i] == num:\n",
        "            delete_node(i, arr)\n",
        "\n",
        "def count_leaves(arr):\n",
        "    count = 0\n",
        "    for i in range(len(arr)):\n",
        "        if arr[i] != -2 and i not in arr:\n",
        "            count += 1\n",
        "    return count\n",
        "\n",
        "n = int(sys.stdin.readline().strip())\n",
        "arr = list(map(int, sys.stdin.readline().split()))\n",
        "k = int(sys.stdin.readline().strip())\n",
        "\n",
        "delete_node(k, arr)\n",
        "print(count_leaves(arr))"
      ],
      "metadata": {
        "id": "oAOdZsl0XUL9"
      },
      "execution_count": null,
      "outputs": []
    },
    {
      "cell_type": "markdown",
      "source": [
        "###7-2096"
      ],
      "metadata": {
        "id": "CYvXlwqjXUf2"
      }
    },
    {
      "cell_type": "code",
      "source": [
        "import sys\n",
        "input = sys.stdin.readline\n",
        "\n",
        "N = int(input().strip())\n",
        "max_dp = list(map(int, input().split()))\n",
        "min_dp = max_dp[:]\n",
        "\n",
        "for _ in range(N - 1):\n",
        "    a, b, c = map(int, input().split())\n",
        "\n",
        "    max_dp = [\n",
        "        a + max(max_dp[0], max_dp[1]),\n",
        "        b + max(max_dp),\n",
        "        c + max(max_dp[1], max_dp[2])\n",
        "    ]\n",
        "\n",
        "    min_dp = [\n",
        "        a + min(min_dp[0], min_dp[1]),\n",
        "        b + min(min_dp),\n",
        "        c + min(min_dp[1], min_dp[2])\n",
        "    ]\n",
        "\n",
        "print(max(max_dp), min(min_dp))"
      ],
      "metadata": {
        "id": "rszY0oQ6XWrI"
      },
      "execution_count": null,
      "outputs": []
    },
    {
      "cell_type": "markdown",
      "source": [
        "###8-2504"
      ],
      "metadata": {
        "id": "B8q1z9J6XXDj"
      }
    },
    {
      "cell_type": "code",
      "source": [
        "import sys\n",
        "input = sys.stdin.readline\n",
        "\n",
        "def calculate_bracket_value(s):\n",
        "    stack = []\n",
        "    result = 0\n",
        "    temp = 1\n",
        "\n",
        "    for i, char in enumerate(s):\n",
        "        if char == '(':\n",
        "            stack.append(char)\n",
        "            temp *= 2\n",
        "        elif char == '[':\n",
        "            stack.append(char)\n",
        "            temp *= 3\n",
        "        elif char == ')':\n",
        "            if not stack or stack[-1] != '(':\n",
        "                return 0\n",
        "            if s[i - 1] == '(':\n",
        "                result += temp\n",
        "            stack.pop()\n",
        "            temp //= 2\n",
        "        elif char == ']':\n",
        "            if not stack or stack[-1] != '[':\n",
        "                return 0\n",
        "            if s[i - 1] == '[':\n",
        "                result += temp\n",
        "            stack.pop()\n",
        "            temp //= 3\n",
        "\n",
        "    return result if not stack else 0\n",
        "\n",
        "s = input().strip()\n",
        "print(calculate_bracket_value(s))"
      ],
      "metadata": {
        "id": "TVt99nLMXZEu"
      },
      "execution_count": null,
      "outputs": []
    },
    {
      "cell_type": "markdown",
      "source": [
        "###9-16928"
      ],
      "metadata": {
        "id": "6qJpNB7cXZ6_"
      }
    },
    {
      "cell_type": "code",
      "source": [
        "import sys\n",
        "from collections import deque\n",
        "\n",
        "input = sys.stdin.readline\n",
        "\n",
        "def bfs():\n",
        "    queue = deque([(1, 0)])\n",
        "    visited[1] = True\n",
        "\n",
        "    while queue:\n",
        "        position, count = queue.popleft()\n",
        "\n",
        "        if position == 100:\n",
        "            return count\n",
        "\n",
        "        for dice in range(1, 7):\n",
        "            next_pos = position + dice\n",
        "            if next_pos <= 100 and not visited[next_pos]:\n",
        "                if next_pos in ladders:\n",
        "                    next_pos = ladders[next_pos]\n",
        "                elif next_pos in snakes:\n",
        "                    next_pos = snakes[next_pos]\n",
        "\n",
        "                if not visited[next_pos]:\n",
        "                    visited[next_pos] = True\n",
        "                    queue.append((next_pos, count + 1))\n",
        "\n",
        "N, M = map(int, input().split())\n",
        "ladders = {}\n",
        "snakes = {}\n",
        "\n",
        "for _ in range(N):\n",
        "    x, y = map(int, input().split())\n",
        "    ladders[x] = y\n",
        "\n",
        "for _ in range(M):\n",
        "    u, v = map(int, input().split())\n",
        "    snakes[u] = v\n",
        "\n",
        "visited = [False] * 101\n",
        "print(bfs())"
      ],
      "metadata": {
        "id": "rtTL35pxXq9b"
      },
      "execution_count": null,
      "outputs": []
    },
    {
      "cell_type": "markdown",
      "source": [
        "###10-2467"
      ],
      "metadata": {
        "id": "IeW3rAmNXrXN"
      }
    },
    {
      "cell_type": "code",
      "source": [
        "n = int(input())\n",
        "liquids = list(map(int, input().split()))\n",
        "\n",
        "ans = float(\"INF\")\n",
        "ans_left = 0\n",
        "ans_right = 0\n",
        "\n",
        "for i in range(n-1):\n",
        "    current = liquids[i]\n",
        "\n",
        "    start = i + 1\n",
        "    end = n - 1\n",
        "\n",
        "    while start <= end:\n",
        "        mid = (start + end) // 2\n",
        "        tmp = current + liquids[mid]\n",
        "\n",
        "        if abs(tmp) < ans:\n",
        "            ans = abs(tmp)\n",
        "            ans_left = i\n",
        "            ans_right = mid\n",
        "\n",
        "            if tmp == 0:\n",
        "                break\n",
        "\n",
        "        if tmp < 0:\n",
        "            start = mid + 1\n",
        "        else:\n",
        "            end = mid - 1\n",
        "\n",
        "print(liquids[ans_left], liquids[ans_right])"
      ],
      "metadata": {
        "colab": {
          "base_uri": "https://localhost:8080/"
        },
        "id": "H127qQQcXuep",
        "outputId": "43b0ebee-c81b-4866-8e11-5eb7ff06b0ea"
      },
      "execution_count": null,
      "outputs": [
        {
          "output_type": "stream",
          "name": "stdout",
          "text": [
            "5\n",
            "-99 -2 -1 4 98\n",
            "-99 98\n"
          ]
        }
      ]
    },
    {
      "cell_type": "markdown",
      "source": [
        "#2/4"
      ],
      "metadata": {
        "id": "VwzLCIqKfAKi"
      }
    },
    {
      "cell_type": "markdown",
      "source": [
        "###1-2589"
      ],
      "metadata": {
        "id": "f5rQBFZpfEPJ"
      }
    },
    {
      "cell_type": "code",
      "source": [
        "from collections import deque\n",
        "\n",
        "n, m = map(int, input().split())\n",
        "grid = [list(input().strip()) for _ in range(n)]\n",
        "\n",
        "dx = [-1, 1, 0, 0]\n",
        "dy = [0, 0, -1, 1]\n",
        "\n",
        "def bfs(x, y):\n",
        "    queue = deque([(x, y, 0)])\n",
        "    visited = [[-1] * m for _ in range(n)]\n",
        "    visited[x][y] = 0\n",
        "    max_dist = 0\n",
        "\n",
        "    while queue:\n",
        "        x, y, dist = queue.popleft()\n",
        "        max_dist = max(max_dist, dist)\n",
        "\n",
        "        for i in range(4):\n",
        "            nx, ny = x + dx[i], y + dy[i]\n",
        "            if 0 <= nx < n and 0 <= ny < m and grid[nx][ny] == 'L' and visited[nx][ny] == -1:\n",
        "                visited[nx][ny] = dist + 1\n",
        "                queue.append((nx, ny, dist + 1))\n",
        "\n",
        "    return max_dist\n",
        "\n",
        "answer = 0\n",
        "for i in range(n):\n",
        "    for j in range(m):\n",
        "        if grid[i][j] == 'L':\n",
        "            answer = max(answer, bfs(i, j))\n",
        "\n",
        "print(answer)"
      ],
      "metadata": {
        "id": "JWy-OYy1fFeA",
        "colab": {
          "base_uri": "https://localhost:8080/"
        },
        "outputId": "31d8a5b5-ebce-4804-b4d8-a69a45fd12ff"
      },
      "execution_count": null,
      "outputs": [
        {
          "output_type": "stream",
          "name": "stdout",
          "text": [
            "5 7\n",
            "WLLWWWL\n",
            "LLLWLLL\n",
            "LWLWLWW\n",
            "LWLWLLL\n",
            "WLLWLWW\n",
            "8\n"
          ]
        }
      ]
    },
    {
      "cell_type": "markdown",
      "source": [
        "#2/5"
      ],
      "metadata": {
        "id": "Jax1WF39uoqP"
      }
    },
    {
      "cell_type": "markdown",
      "source": [
        "###1-13023"
      ],
      "metadata": {
        "id": "cm1zD5u-urFO"
      }
    },
    {
      "cell_type": "code",
      "source": [
        "import sys\n",
        "input = sys.stdin.readline\n",
        "\n",
        "n, m = map(int, input().split())\n",
        "graph = [[] for _ in range(n)]\n",
        "\n",
        "for _ in range(m):\n",
        "    a, b = map(int, input().split())\n",
        "    graph[a].append(b)\n",
        "    graph[b].append(a)\n",
        "\n",
        "visited = [False] * n\n",
        "found = False\n",
        "\n",
        "def dfs(node, depth):\n",
        "    global found\n",
        "    if depth == 4:\n",
        "        found = True\n",
        "        return\n",
        "\n",
        "    visited[node] = True\n",
        "    for friend in graph[node]:\n",
        "        if not visited[friend]:\n",
        "            dfs(friend, depth + 1)\n",
        "            if found:\n",
        "                return\n",
        "    visited[node] = False\n",
        "\n",
        "for i in range(n):\n",
        "    visited = [False] * n\n",
        "    dfs(i, 0)\n",
        "    if found:\n",
        "        print(1)\n",
        "        break\n",
        "else:\n",
        "    print(0)"
      ],
      "metadata": {
        "id": "d5mdZKuizbxN"
      },
      "execution_count": null,
      "outputs": []
    },
    {
      "cell_type": "markdown",
      "source": [
        "###2-11000"
      ],
      "metadata": {
        "id": "AXKVYH1Uzcxo"
      }
    },
    {
      "cell_type": "code",
      "source": [
        "import sys\n",
        "import heapq\n",
        "\n",
        "input = sys.stdin.readline\n",
        "\n",
        "n = int(input())\n",
        "lectures = [tuple(map(int, input().split())) for _ in range(n)]\n",
        "\n",
        "lectures.sort()\n",
        "\n",
        "rooms = []\n",
        "\n",
        "for start, end in lectures:\n",
        "    if rooms and rooms[0] <= start:\n",
        "        heapq.heappop(rooms)\n",
        "    heapq.heappush(rooms, end)\n",
        "\n",
        "print(len(rooms))"
      ],
      "metadata": {
        "id": "4kgpVJuizmyt"
      },
      "execution_count": null,
      "outputs": []
    },
    {
      "cell_type": "markdown",
      "source": [
        "###3-9205"
      ],
      "metadata": {
        "id": "1tVlVpH20-IG"
      }
    },
    {
      "cell_type": "code",
      "source": [
        "import sys\n",
        "from collections import deque\n",
        "\n",
        "input = sys.stdin.readline\n",
        "\n",
        "def bfs(start, stores, festival):\n",
        "    queue = deque([start])\n",
        "    visited = set([start])\n",
        "\n",
        "    while queue:\n",
        "        x, y = queue.popleft()\n",
        "\n",
        "        if abs(x - festival[0]) + abs(y - festival[1]) <= 1000:\n",
        "            return \"happy\"\n",
        "\n",
        "        for i in range(len(stores)):\n",
        "            if stores[i] not in visited:\n",
        "                nx, ny = stores[i]\n",
        "                if abs(x - nx) + abs(y - ny) <= 1000:\n",
        "                    visited.add(stores[i])\n",
        "                    queue.append(stores[i])\n",
        "\n",
        "    return \"sad\"\n",
        "\n",
        "t = int(input())\n",
        "\n",
        "for _ in range(t):\n",
        "    n = int(input())\n",
        "\n",
        "    home = tuple(map(int, input().split()))\n",
        "    stores = [tuple(map(int, input().split())) for _ in range(n)]\n",
        "    festival = tuple(map(int, input().split()))\n",
        "\n",
        "    print(bfs(home, stores, festival))"
      ],
      "metadata": {
        "id": "-FWZl20h1AN2"
      },
      "execution_count": null,
      "outputs": []
    },
    {
      "cell_type": "markdown",
      "source": [
        "###4-14719"
      ],
      "metadata": {
        "id": "lBkz6swS1Uvf"
      }
    },
    {
      "cell_type": "code",
      "source": [
        "import sys\n",
        "\n",
        "input = sys.stdin.readline\n",
        "\n",
        "H, W = map(int, input().split())\n",
        "blocks = list(map(int, input().split()))\n",
        "\n",
        "def trap_rainwater(blocks, W):\n",
        "    if W < 3:\n",
        "        return 0\n",
        "\n",
        "    left, right = 0, W - 1\n",
        "    left_max, right_max = blocks[left], blocks[right]\n",
        "    total_water = 0\n",
        "\n",
        "    while left < right:\n",
        "        if left_max < right_max:\n",
        "            left += 1\n",
        "            left_max = max(left_max, blocks[left])\n",
        "            total_water += max(0, left_max - blocks[left])\n",
        "        else:\n",
        "            right -= 1\n",
        "            right_max = max(right_max, blocks[right])\n",
        "            total_water += max(0, right_max - blocks[right])\n",
        "\n",
        "    return total_water\n",
        "\n",
        "print(trap_rainwater(blocks, W))"
      ],
      "metadata": {
        "id": "wXOPsawD1XY8"
      },
      "execution_count": null,
      "outputs": []
    },
    {
      "cell_type": "markdown",
      "source": [
        "###5-2166"
      ],
      "metadata": {
        "id": "Fp2LbJ1z1tXr"
      }
    },
    {
      "cell_type": "code",
      "source": [
        "import sys\n",
        "\n",
        "input = sys.stdin.readline\n",
        "\n",
        "N = int(input())\n",
        "points = [tuple(map(int, input().split())) for _ in range(N)]\n",
        "points.append(points[0])\n",
        "\n",
        "area = 0\n",
        "for i in range(N):\n",
        "    area += points[i][0] * points[i + 1][1]\n",
        "    area -= points[i + 1][0] * points[i][1]\n",
        "\n",
        "print(round(abs(area) / 2, 1))"
      ],
      "metadata": {
        "id": "lydOVymd4kOh"
      },
      "execution_count": null,
      "outputs": []
    },
    {
      "cell_type": "markdown",
      "source": [
        "###6-2023"
      ],
      "metadata": {
        "id": "wFo5R8FU4lUf"
      }
    },
    {
      "cell_type": "code",
      "source": [
        "import sys\n",
        "\n",
        "input = sys.stdin.readline\n",
        "\n",
        "def is_prime(num):\n",
        "    if num < 2:\n",
        "        return False\n",
        "    for i in range(2, int(num ** 0.5) + 1):\n",
        "        if num % i == 0:\n",
        "            return False\n",
        "    return True\n",
        "\n",
        "def generate_prime(num, length):\n",
        "    if len(str(num)) == length:\n",
        "        print(num)\n",
        "        return\n",
        "\n",
        "    for digit in [1, 3, 7, 9]:\n",
        "        new_num = num * 10 + digit\n",
        "        if is_prime(new_num):\n",
        "            generate_prime(new_num, length)\n",
        "\n",
        "N = int(input())\n",
        "\n",
        "for first_digit in [2, 3, 5, 7]:\n",
        "    generate_prime(first_digit, N)"
      ],
      "metadata": {
        "id": "XZgEGBtP4pYZ"
      },
      "execution_count": null,
      "outputs": []
    },
    {
      "cell_type": "markdown",
      "source": [
        "###7-11758"
      ],
      "metadata": {
        "id": "VWtiJKGE5Y7p"
      }
    },
    {
      "cell_type": "code",
      "source": [
        "import sys\n",
        "\n",
        "input = sys.stdin.readline\n",
        "\n",
        "x1, y1 = map(int, input().split())\n",
        "x2, y2 = map(int, input().split())\n",
        "x3, y3 = map(int, input().split())\n",
        "\n",
        "ccw = (x2 - x1) * (y3 - y1) - (y2 - y1) * (x3 - x1)\n",
        "\n",
        "if ccw > 0:\n",
        "    print(1)\n",
        "elif ccw < 0:\n",
        "    print(-1)\n",
        "else:\n",
        "    print(0)"
      ],
      "metadata": {
        "id": "zM8u0CJf5b1x"
      },
      "execution_count": null,
      "outputs": []
    },
    {
      "cell_type": "markdown",
      "source": [
        "#2/6"
      ],
      "metadata": {
        "id": "SSwVPptzzAB8"
      }
    },
    {
      "cell_type": "markdown",
      "source": [
        "###1-2011"
      ],
      "metadata": {
        "id": "g6FVfj9bzCKd"
      }
    },
    {
      "cell_type": "code",
      "source": [
        "s = input().strip()\n",
        "n = len(s)\n",
        "\n",
        "if s[0] == '0':\n",
        "    print(0)\n",
        "else:\n",
        "    dp = [0] * (n + 1)\n",
        "    dp[0], dp[1] = 1, 1\n",
        "\n",
        "    for i in range(2, n + 1):\n",
        "        one_digit = int(s[i - 1])\n",
        "        two_digit = int(s[i - 2:i])\n",
        "\n",
        "        if 1 <= one_digit <= 9:\n",
        "            dp[i] += dp[i - 1]\n",
        "\n",
        "        if 10 <= two_digit <= 26:\n",
        "            dp[i] += dp[i - 2]\n",
        "\n",
        "        dp[i] %= 1000000\n",
        "\n",
        "    print(dp[n])"
      ],
      "metadata": {
        "colab": {
          "base_uri": "https://localhost:8080/"
        },
        "id": "xL5NFE6VzCnB",
        "outputId": "771c6250-2de7-43fc-b641-d412a4d55f47"
      },
      "execution_count": null,
      "outputs": [
        {
          "output_type": "stream",
          "name": "stdout",
          "text": [
            "1111111111\n",
            "89\n"
          ]
        }
      ]
    },
    {
      "cell_type": "markdown",
      "source": [
        "###2-15486"
      ],
      "metadata": {
        "id": "oBK-j0rRzln0"
      }
    },
    {
      "cell_type": "code",
      "source": [
        "import sys\n",
        "input = sys.stdin.readline\n",
        "\n",
        "N = int(input().strip())\n",
        "T, P = [], []\n",
        "\n",
        "for _ in range(N):\n",
        "    t, p = map(int, input().split())\n",
        "    T.append(t)\n",
        "    P.append(p)\n",
        "\n",
        "dp = [0] * (N + 1)\n",
        "\n",
        "for i in range(N - 1, -1, -1):\n",
        "    if i + T[i] <= N:\n",
        "        dp[i] = max(dp[i + 1], P[i] + dp[i + T[i]])\n",
        "    else:\n",
        "        dp[i] = dp[i + 1]\n",
        "\n",
        "print(dp[0])"
      ],
      "metadata": {
        "id": "9-TxpX9izngK"
      },
      "execution_count": null,
      "outputs": []
    },
    {
      "cell_type": "markdown",
      "source": [
        "###3-20055"
      ],
      "metadata": {
        "id": "xYjn09jhzvoc"
      }
    },
    {
      "cell_type": "code",
      "source": [
        "import sys\n",
        "input = sys.stdin.readline\n",
        "\n",
        "N, K = map(int, input().split())\n",
        "A = list(map(int, input().split()))\n",
        "\n",
        "robot = [False] * N\n",
        "step = 0\n",
        "\n",
        "while True:\n",
        "    step += 1\n",
        "\n",
        "    A = [A[-1]] + A[:-1]\n",
        "    robot = [False] + robot[:-1]\n",
        "\n",
        "    if robot[N - 1]:\n",
        "        robot[N - 1] = False\n",
        "\n",
        "    for i in range(N - 2, -1, -1):\n",
        "        if robot[i] and not robot[i + 1] and A[i + 1] > 0:\n",
        "            robot[i] = False\n",
        "            robot[i + 1] = True\n",
        "            A[i + 1] -= 1\n",
        "\n",
        "    if robot[N - 1]:\n",
        "        robot[N - 1] = False\n",
        "\n",
        "    if A[0] > 0:\n",
        "        robot[0] = True\n",
        "        A[0] -= 1\n",
        "\n",
        "    if A.count(0) >= K:\n",
        "        print(step)\n",
        "        break"
      ],
      "metadata": {
        "id": "B3vueE7X0e7t"
      },
      "execution_count": null,
      "outputs": []
    },
    {
      "cell_type": "markdown",
      "source": [
        "###4-1038"
      ],
      "metadata": {
        "id": "HlEAioES0f29"
      }
    },
    {
      "cell_type": "code",
      "source": [
        "from itertools import combinations\n",
        "\n",
        "N = int(input())\n",
        "\n",
        "decreasing_numbers = []\n",
        "\n",
        "for length in range(1, 11):\n",
        "    for comb in combinations(range(10), length):\n",
        "        decreasing_numbers.append(int(\"\".join(map(str, sorted(comb, reverse=True)))))\n",
        "\n",
        "decreasing_numbers.sort()\n",
        "\n",
        "if N >= len(decreasing_numbers):\n",
        "    print(-1)\n",
        "else:\n",
        "    print(decreasing_numbers[N])"
      ],
      "metadata": {
        "colab": {
          "base_uri": "https://localhost:8080/"
        },
        "id": "6dIXXwxi0m6P",
        "outputId": "96dd393f-98ea-4de2-8596-febae6a9560f"
      },
      "execution_count": null,
      "outputs": [
        {
          "output_type": "stream",
          "name": "stdout",
          "text": [
            "18\n",
            "42\n"
          ]
        }
      ]
    },
    {
      "cell_type": "markdown",
      "source": [
        "###5-9084"
      ],
      "metadata": {
        "id": "cT_lhoY80-af"
      }
    },
    {
      "cell_type": "code",
      "source": [
        "T = int(input())\n",
        "\n",
        "for _ in range(T):\n",
        "    N = int(input())\n",
        "    coins = list(map(int, input().split()))\n",
        "    M = int(input())\n",
        "\n",
        "    dp = [0] * (M + 1)\n",
        "    dp[0] = 1\n",
        "\n",
        "    for coin in coins:\n",
        "        for i in range(coin, M + 1):\n",
        "            dp[i] += dp[i - coin]\n",
        "\n",
        "    print(dp[M])"
      ],
      "metadata": {
        "colab": {
          "base_uri": "https://localhost:8080/"
        },
        "id": "uUWAg8Ye1F7b",
        "outputId": "374ab416-17ab-4f86-cbfa-954e7f6c8acc"
      },
      "execution_count": null,
      "outputs": [
        {
          "output_type": "stream",
          "name": "stdout",
          "text": [
            "3\n",
            "2\n",
            "1 2\n",
            "1000\n",
            "501\n",
            "3\n",
            "1 5 10\n",
            "100\n",
            "121\n",
            "2\n",
            "5 7\n",
            "22\n",
            "1\n"
          ]
        }
      ]
    },
    {
      "cell_type": "markdown",
      "source": [
        "#2/7"
      ],
      "metadata": {
        "id": "mUytq6ZDG89t"
      }
    },
    {
      "cell_type": "markdown",
      "source": [
        "###1-12904"
      ],
      "metadata": {
        "id": "XE1_1GA4G_Y-"
      }
    },
    {
      "cell_type": "code",
      "source": [
        "S = input().strip()\n",
        "T = input().strip()\n",
        "\n",
        "while len(T) > len(S):\n",
        "    if T[-1] == 'A':\n",
        "        T = T[:-1]\n",
        "    elif T[-1] == 'B':\n",
        "        T = T[:-1][::-1]\n",
        "    else:\n",
        "        break\n",
        "\n",
        "print(1 if T == S else 0)"
      ],
      "metadata": {
        "colab": {
          "base_uri": "https://localhost:8080/"
        },
        "id": "XLdhlFzlJ0gK",
        "outputId": "3b0d0cf4-525b-4671-d188-8aeeb1bbe00e"
      },
      "execution_count": null,
      "outputs": [
        {
          "output_type": "stream",
          "name": "stdout",
          "text": [
            "B\n",
            "ABBA\n",
            "1\n"
          ]
        }
      ]
    },
    {
      "cell_type": "markdown",
      "source": [
        "###2-5557"
      ],
      "metadata": {
        "id": "rrUjD85iMa4I"
      }
    },
    {
      "cell_type": "code",
      "source": [
        "N = int(input())\n",
        "nums = list(map(int, input().split()))\n",
        "\n",
        "dp = [[0] * 21 for _ in range(N - 1)]\n",
        "dp[0][nums[0]] = 1\n",
        "\n",
        "for i in range(1, N - 1):\n",
        "    for j in range(21):\n",
        "        if dp[i - 1][j]:\n",
        "            if j + nums[i] <= 20:\n",
        "                dp[i][j + nums[i]] += dp[i - 1][j]\n",
        "            if j - nums[i] >= 0:\n",
        "                dp[i][j - nums[i]] += dp[i - 1][j]\n",
        "\n",
        "print(dp[N - 2][nums[-1]])"
      ],
      "metadata": {
        "colab": {
          "base_uri": "https://localhost:8080/"
        },
        "id": "qX2aGAosMd92",
        "outputId": "49800494-08a8-4033-d6b9-7dba9eb461e6"
      },
      "execution_count": null,
      "outputs": [
        {
          "output_type": "stream",
          "name": "stdout",
          "text": [
            "11\n",
            "8 3 2 4 8 7 2 4 0 8 8\n",
            "10\n"
          ]
        }
      ]
    },
    {
      "cell_type": "markdown",
      "source": [
        "###3-2212"
      ],
      "metadata": {
        "id": "gT9A1V50M1y-"
      }
    },
    {
      "cell_type": "code",
      "source": [
        "N = int(input())\n",
        "K = int(input())\n",
        "sensors = list(map(int, input().split()))\n",
        "\n",
        "if K >= N:\n",
        "    print(0)\n",
        "else:\n",
        "    sensors.sort()\n",
        "    distances = [sensors[i] - sensors[i - 1] for i in range(1, N)]\n",
        "    distances.sort(reverse=True)\n",
        "\n",
        "    print(sum(distances[K-1:]))"
      ],
      "metadata": {
        "colab": {
          "base_uri": "https://localhost:8080/"
        },
        "id": "zCNNj54SM5ck",
        "outputId": "bf4a585d-5e43-4297-eb03-90290127151e"
      },
      "execution_count": null,
      "outputs": [
        {
          "output_type": "stream",
          "name": "stdout",
          "text": [
            "6\n",
            "2\n",
            "1 6 9 3 6 7\n",
            "5\n"
          ]
        }
      ]
    },
    {
      "cell_type": "markdown",
      "source": [
        "###4-2170"
      ],
      "metadata": {
        "id": "RmLvM5CpOjyp"
      }
    },
    {
      "cell_type": "code",
      "source": [
        "import sys\n",
        "\n",
        "N = int(sys.stdin.readline())\n",
        "lines = [tuple(map(int, sys.stdin.readline().split())) for _ in range(N)]\n",
        "\n",
        "lines.sort()\n",
        "\n",
        "total_length = 0\n",
        "start, end = lines[0]\n",
        "\n",
        "for x, y in lines[1:]:\n",
        "    if x <= end:\n",
        "        end = max(end, y)\n",
        "    else:\n",
        "        total_length += end - start\n",
        "        start, end = x, y\n",
        "\n",
        "total_length += end - start\n",
        "print(total_length)"
      ],
      "metadata": {
        "id": "VMrrG5CTOlz7"
      },
      "execution_count": null,
      "outputs": []
    },
    {
      "cell_type": "markdown",
      "source": [
        "###5-6593"
      ],
      "metadata": {
        "id": "K7p6PZD_PI3i"
      }
    },
    {
      "cell_type": "code",
      "source": [
        "import sys\n",
        "from collections import deque\n",
        "\n",
        "def bfs(start, end, building, L, R, C):\n",
        "    directions = [(-1, 0, 0), (1, 0, 0), (0, -1, 0), (0, 1, 0), (0, 0, -1), (0, 0, 1)]\n",
        "    queue = deque([(start[0], start[1], start[2], 0)])\n",
        "    visited = set([start])\n",
        "\n",
        "    while queue:\n",
        "        z, x, y, time = queue.popleft()\n",
        "\n",
        "        if (z, x, y) == end:\n",
        "            return f\"Escaped in {time} minute(s).\"\n",
        "\n",
        "        for dz, dx, dy in directions:\n",
        "            nz, nx, ny = z + dz, x + dx, y + dy\n",
        "\n",
        "            if 0 <= nz < L and 0 <= nx < R and 0 <= ny < C:\n",
        "                if building[nz][nx][ny] != \"#\" and (nz, nx, ny) not in visited:\n",
        "                    visited.add((nz, nx, ny))\n",
        "                    queue.append((nz, nx, ny, time + 1))\n",
        "\n",
        "    return \"Trapped!\"\n",
        "\n",
        "\n",
        "while True:\n",
        "    L, R, C = map(int, sys.stdin.readline().split())\n",
        "\n",
        "    if L == 0 and R == 0 and C == 0:\n",
        "        break\n",
        "\n",
        "    building = []\n",
        "    start = end = None\n",
        "\n",
        "    for l in range(L):\n",
        "        floor = [list(sys.stdin.readline().strip()) for _ in range(R)]\n",
        "        sys.stdin.readline()\n",
        "\n",
        "        for i in range(R):\n",
        "            for j in range(C):\n",
        "                if floor[i][j] == 'S':\n",
        "                    start = (l, i, j)\n",
        "                elif floor[i][j] == 'E':\n",
        "                    end = (l, i, j)\n",
        "\n",
        "        building.append(floor)\n",
        "\n",
        "    print(bfs(start, end, building, L, R, C))"
      ],
      "metadata": {
        "id": "MnxVpR1GPr76"
      },
      "execution_count": null,
      "outputs": []
    },
    {
      "cell_type": "markdown",
      "source": [
        "###6-2668"
      ],
      "metadata": {
        "id": "quw5QUHrRQ0A"
      }
    },
    {
      "cell_type": "code",
      "source": [
        "import sys\n",
        "\n",
        "def dfs(start, current, visited, path, graph):\n",
        "    if visited[current]:\n",
        "        if current == start:\n",
        "            return path[:]\n",
        "        return None\n",
        "\n",
        "    visited[current] = True\n",
        "    path.append(current)\n",
        "\n",
        "    result = dfs(start, graph[current], visited, path, graph)\n",
        "\n",
        "    path.pop()\n",
        "    visited[current] = False\n",
        "\n",
        "    return result\n",
        "\n",
        "\n",
        "def find_cycles(N, graph):\n",
        "    cycles = []\n",
        "\n",
        "    for i in range(1, N + 1):\n",
        "        visited = [False] * (N + 1)\n",
        "        cycle = dfs(i, i, visited, [], graph)\n",
        "\n",
        "        if cycle:\n",
        "            cycles.extend(cycle)\n",
        "\n",
        "    return sorted(set(cycles))\n",
        "\n",
        "\n",
        "N = int(sys.stdin.readline().strip())\n",
        "graph = [0] * (N + 1)\n",
        "\n",
        "for i in range(1, N + 1):\n",
        "    graph[i] = int(sys.stdin.readline().strip())\n",
        "\n",
        "cycles = find_cycles(N, graph)\n",
        "\n",
        "print(len(cycles))\n",
        "for num in cycles:\n",
        "    print(num)"
      ],
      "metadata": {
        "id": "6jRjUP72RVrp"
      },
      "execution_count": null,
      "outputs": []
    },
    {
      "cell_type": "markdown",
      "source": [
        "#2/8"
      ],
      "metadata": {
        "id": "r18DmZktX3fB"
      }
    },
    {
      "cell_type": "markdown",
      "source": [
        "###1-21608"
      ],
      "metadata": {
        "id": "UyVaZmnzX5-x"
      }
    },
    {
      "cell_type": "code",
      "source": [
        "import sys\n",
        "\n",
        "dx = [-1, 1, 0, 0]\n",
        "dy = [0, 0, -1, 1]\n",
        "\n",
        "def find_best_seat(N, student, board, friends):\n",
        "    best_positions = []\n",
        "    max_like, max_empty = -1, -1\n",
        "\n",
        "    for x in range(N):\n",
        "        for y in range(N):\n",
        "            if board[x][y] == 0:\n",
        "                like_count, empty_count = 0, 0\n",
        "\n",
        "                for d in range(4):\n",
        "                    nx, ny = x + dx[d], y + dy[d]\n",
        "                    if 0 <= nx < N and 0 <= ny < N:\n",
        "                        if board[nx][ny] in friends[student]:\n",
        "                            like_count += 1\n",
        "                        elif board[nx][ny] == 0:\n",
        "                            empty_count += 1\n",
        "\n",
        "                if (like_count > max_like) or (like_count == max_like and empty_count > max_empty):\n",
        "                    best_positions = [(x, y)]\n",
        "                    max_like, max_empty = like_count, empty_count\n",
        "                elif like_count == max_like and empty_count == max_empty:\n",
        "                    best_positions.append((x, y))\n",
        "\n",
        "    return min(best_positions)\n",
        "\n",
        "def calculate_satisfaction(N, board, friends):\n",
        "    satisfaction = 0\n",
        "    score_table = [0, 1, 10, 100, 1000]\n",
        "\n",
        "    for x in range(N):\n",
        "        for y in range(N):\n",
        "            student = board[x][y]\n",
        "            like_count = 0\n",
        "\n",
        "            for d in range(4):\n",
        "                nx, ny = x + dx[d], y + dy[d]\n",
        "                if 0 <= nx < N and 0 <= ny < N:\n",
        "                    if board[nx][ny] in friends[student]:\n",
        "                        like_count += 1\n",
        "\n",
        "            satisfaction += score_table[like_count]\n",
        "\n",
        "    return satisfaction\n",
        "\n",
        "def main():\n",
        "    N = int(sys.stdin.readline().strip())\n",
        "    students = []\n",
        "    friends = {}\n",
        "\n",
        "    for _ in range(N * N):\n",
        "        data = list(map(int, sys.stdin.readline().split()))\n",
        "        student, likes = data[0], set(data[1:])\n",
        "        students.append(student)\n",
        "        friends[student] = likes\n",
        "\n",
        "    board = [[0] * N for _ in range(N)]\n",
        "\n",
        "    for student in students:\n",
        "        x, y = find_best_seat(N, student, board, friends)\n",
        "        board[x][y] = student\n",
        "\n",
        "    print(calculate_satisfaction(N, board, friends))\n",
        "\n",
        "if __name__ == \"__main__\":\n",
        "    main()"
      ],
      "metadata": {
        "id": "FBbSqIWfX8Oc"
      },
      "execution_count": null,
      "outputs": []
    },
    {
      "cell_type": "markdown",
      "source": [
        "#2/9"
      ],
      "metadata": {
        "id": "Umv-M9HcYXFX"
      }
    },
    {
      "cell_type": "markdown",
      "source": [
        "###1-16926"
      ],
      "metadata": {
        "id": "QWaZuHEAkGs4"
      }
    },
    {
      "cell_type": "code",
      "source": [
        "import sys\n",
        "\n",
        "def rotate_matrix(N, M, R, matrix):\n",
        "    layers = min(N, M) // 2\n",
        "    rotated_matrix = [[0] * M for _ in range(N)]\n",
        "\n",
        "    for layer in range(layers):\n",
        "\n",
        "        top, left = layer, layer\n",
        "        bottom, right = N - layer - 1, M - layer - 1\n",
        "\n",
        "        layer_elements = []\n",
        "\n",
        "        for i in range(left, right + 1):\n",
        "            layer_elements.append(matrix[top][i])\n",
        "        for i in range(top + 1, bottom + 1):\n",
        "            layer_elements.append(matrix[i][right])\n",
        "        for i in range(right - 1, left - 1, -1):\n",
        "            layer_elements.append(matrix[bottom][i])\n",
        "        for i in range(bottom - 1, top, -1):\n",
        "            layer_elements.append(matrix[i][left])\n",
        "\n",
        "        shift = R % len(layer_elements)\n",
        "        rotated_elements = layer_elements[shift:] + layer_elements[:shift]\n",
        "\n",
        "        index = 0\n",
        "        for i in range(left, right + 1):\n",
        "            rotated_matrix[top][i] = rotated_elements[index]\n",
        "            index += 1\n",
        "        for i in range(top + 1, bottom + 1):\n",
        "            rotated_matrix[i][right] = rotated_elements[index]\n",
        "            index += 1\n",
        "        for i in range(right - 1, left - 1, -1):\n",
        "            rotated_matrix[bottom][i] = rotated_elements[index]\n",
        "            index += 1\n",
        "        for i in range(bottom - 1, top, -1):\n",
        "            rotated_matrix[i][left] = rotated_elements[index]\n",
        "            index += 1\n",
        "\n",
        "    return rotated_matrix\n",
        "\n",
        "def main():\n",
        "    N, M, R = map(int, sys.stdin.readline().split())\n",
        "    matrix = [list(map(int, sys.stdin.readline().split())) for _ in range(N)]\n",
        "\n",
        "    result = rotate_matrix(N, M, R, matrix)\n",
        "\n",
        "    for row in result:\n",
        "        print(*row)\n",
        "\n",
        "if __name__ == \"__main__\":\n",
        "    main()"
      ],
      "metadata": {
        "id": "IAQVNIFTkKUC"
      },
      "execution_count": null,
      "outputs": []
    },
    {
      "cell_type": "markdown",
      "source": [
        "#2/10"
      ],
      "metadata": {
        "id": "xk9UtD2VkiTU"
      }
    },
    {
      "cell_type": "markdown",
      "source": [
        "###1-3020"
      ],
      "metadata": {
        "id": "pLuAsLYKHRq_"
      }
    },
    {
      "cell_type": "code",
      "source": [
        "import sys\n",
        "\n",
        "def min_obstacles(N, H, obstacles):\n",
        "    bottom = [0] * (H + 1)\n",
        "    top = [0] * (H + 1)\n",
        "\n",
        "    for i in range(N):\n",
        "        h = obstacles[i]\n",
        "        if i % 2 == 0:\n",
        "            bottom[h] += 1\n",
        "        else:\n",
        "            top[H - h + 1] += 1\n",
        "\n",
        "    for i in range(H - 1, 0, -1):\n",
        "        bottom[i] += bottom[i + 1]\n",
        "    for i in range(1, H + 1):\n",
        "        top[i] += top[i - 1]\n",
        "\n",
        "    min_obstacles = N\n",
        "    count = 0\n",
        "\n",
        "    for h in range(1, H + 1):\n",
        "        total = bottom[h] + top[h]\n",
        "        if total < min_obstacles:\n",
        "            min_obstacles = total\n",
        "            count = 1\n",
        "        elif total == min_obstacles:\n",
        "            count += 1\n",
        "\n",
        "    return min_obstacles, count\n",
        "\n",
        "def main():\n",
        "    N, H = map(int, sys.stdin.readline().split())\n",
        "    obstacles = [int(sys.stdin.readline()) for _ in range(N)]\n",
        "\n",
        "    result = min_obstacles(N, H, obstacles)\n",
        "    print(*result)\n",
        "\n",
        "if __name__ == \"__main__\":\n",
        "    main()"
      ],
      "metadata": {
        "id": "5kJz3et4HT_W"
      },
      "execution_count": null,
      "outputs": []
    },
    {
      "cell_type": "markdown",
      "source": [
        "#2/11"
      ],
      "metadata": {
        "id": "AG1W9G-4dyms"
      }
    },
    {
      "cell_type": "markdown",
      "source": [
        "###1-1914"
      ],
      "metadata": {
        "id": "ft7Vm7utd2U1"
      }
    },
    {
      "cell_type": "code",
      "source": [
        "import sys\n",
        "\n",
        "def hanoi(n, start, end, via, moves):\n",
        "    if n == 1:\n",
        "        moves.append((start, end))\n",
        "        return\n",
        "    hanoi(n - 1, start, via, end, moves)\n",
        "    moves.append((start, end))\n",
        "    hanoi(n - 1, via, end, start, moves)\n",
        "\n",
        "def main():\n",
        "    N = int(sys.stdin.readline().strip())\n",
        "    total_moves = (1 << N) - 1\n",
        "\n",
        "    print(total_moves)\n",
        "\n",
        "    if N <= 20:\n",
        "        moves = []\n",
        "        hanoi(N, 1, 3, 2, moves)\n",
        "        for move in moves:\n",
        "            print(*move)\n",
        "\n",
        "if __name__ == \"__main__\":\n",
        "    main()"
      ],
      "metadata": {
        "id": "9A-NWSFYd8d-"
      },
      "execution_count": null,
      "outputs": []
    },
    {
      "cell_type": "markdown",
      "source": [
        "#2/12"
      ],
      "metadata": {
        "id": "4RwZlvLdkEVs"
      }
    },
    {
      "cell_type": "markdown",
      "source": [
        "###1-5582"
      ],
      "metadata": {
        "id": "qLFGBwJ7kGjg"
      }
    },
    {
      "cell_type": "code",
      "source": [
        "def get_longest_common_substring(x, y):\n",
        "    x = \" \" + x\n",
        "    y = \" \" + y\n",
        "    n = len(x)\n",
        "    m = len(y)\n",
        "\n",
        "    max_length = 0\n",
        "    dp = [0] * n\n",
        "\n",
        "    for r in range(1, m):\n",
        "        saved = [0] * n\n",
        "        for c in range(1, n):\n",
        "            if x[c] == y[r]:\n",
        "                saved[c] = dp[c - 1] + 1\n",
        "                max_length = max(max_length, saved[c])\n",
        "        dp = saved[:]\n",
        "    return max_length\n",
        "\n",
        "\n",
        "str1 = input()\n",
        "str2 = input()\n",
        "\n",
        "print(get_longest_common_substring(str1, str2))"
      ],
      "metadata": {
        "colab": {
          "base_uri": "https://localhost:8080/"
        },
        "id": "6fojpvXnkIUb",
        "outputId": "07c6ce08-020e-4dae-a0b3-de79fca0fa8a"
      },
      "execution_count": null,
      "outputs": [
        {
          "output_type": "stream",
          "name": "stdout",
          "text": [
            "ABRACADABRA\n",
            "ECADADABRBCRDARA\n",
            "5\n"
          ]
        }
      ]
    },
    {
      "cell_type": "markdown",
      "source": [
        "###2-17609"
      ],
      "metadata": {
        "id": "ScLqKoEhkqdT"
      }
    },
    {
      "cell_type": "code",
      "source": [
        "def is_palindrome(s, left, right):\n",
        "    while left < right:\n",
        "        if s[left] != s[right]:\n",
        "            return False\n",
        "        left += 1\n",
        "        right -= 1\n",
        "    return True\n",
        "\n",
        "def classify_string(s):\n",
        "    left, right = 0, len(s) - 1\n",
        "\n",
        "    while left < right:\n",
        "        if s[left] != s[right]:\n",
        "\n",
        "            if is_palindrome(s, left + 1, right) or is_palindrome(s, left, right - 1):\n",
        "                return 1\n",
        "            else:\n",
        "                return 2\n",
        "        left += 1\n",
        "        right -= 1\n",
        "\n",
        "    return 0\n",
        "\n",
        "if __name__ == \"__main__\":\n",
        "    import sys\n",
        "    input = sys.stdin.read\n",
        "    data = input().splitlines()\n",
        "\n",
        "    T = int(data[0])\n",
        "    results = []\n",
        "\n",
        "    for i in range(1, T + 1):\n",
        "        results.append(classify_string(data[i]))\n",
        "\n",
        "    print(\"\\n\".join(map(str, results)))"
      ],
      "metadata": {
        "id": "RfNOHoqCloHL"
      },
      "execution_count": null,
      "outputs": []
    },
    {
      "cell_type": "markdown",
      "source": [
        "###3-15681"
      ],
      "metadata": {
        "id": "NV_uCf85lowq"
      }
    },
    {
      "cell_type": "code",
      "source": [
        "from collections import defaultdict\n",
        "import sys\n",
        "sys.setrecursionlimit(10**6)\n",
        "input = sys.stdin.read\n",
        "\n",
        "def dfs_count_subtree(node, parent):\n",
        "\n",
        "    size[node] = 1\n",
        "    for child in tree[node]:\n",
        "        if child != parent:\n",
        "            dfs_count_subtree(child, node)\n",
        "            size[node] += size[child]\n",
        "\n",
        "data = input().split()\n",
        "N, R, Q = map(int, data[:3])\n",
        "edges = data[3:3 + 2 * (N - 1)]\n",
        "queries = map(int, data[3 + 2 * (N - 1):])\n",
        "\n",
        "tree = defaultdict(list)\n",
        "for i in range(0, len(edges), 2):\n",
        "    U, V = int(edges[i]), int(edges[i + 1])\n",
        "    tree[U].append(V)\n",
        "    tree[V].append(U)\n",
        "\n",
        "size = [0] * (N + 1)\n",
        "dfs_count_subtree(R, -1)\n",
        "\n",
        "result = []\n",
        "for query in queries:\n",
        "    result.append(size[query])\n",
        "\n",
        "sys.stdout.write(\"\\n\".join(map(str, result)) + \"\\n\")"
      ],
      "metadata": {
        "id": "BvCkKKpwlrOb"
      },
      "execution_count": null,
      "outputs": []
    },
    {
      "cell_type": "markdown",
      "source": [
        "###4-6198"
      ],
      "metadata": {
        "id": "VQZVJzNtmGtR"
      }
    },
    {
      "cell_type": "code",
      "source": [
        "def count_visible_buildings():\n",
        "    import sys\n",
        "    input = sys.stdin.read\n",
        "    data = input().split()\n",
        "\n",
        "    N = int(data[0])\n",
        "    heights = list(map(int, data[1:]))\n",
        "\n",
        "    stack = []\n",
        "    visible_count = 0\n",
        "\n",
        "    for h in heights:\n",
        "        while stack and stack[-1] <= h:\n",
        "            stack.pop()\n",
        "\n",
        "        visible_count += len(stack)\n",
        "        stack.append(h)\n",
        "\n",
        "    print(visible_count)\n",
        "\n",
        "count_visible_buildings()"
      ],
      "metadata": {
        "id": "AY2NbI5dmnWD"
      },
      "execution_count": null,
      "outputs": []
    },
    {
      "cell_type": "markdown",
      "source": [
        "###5-2230"
      ],
      "metadata": {
        "id": "0Tth7q_jm3Q_"
      }
    },
    {
      "cell_type": "code",
      "source": [
        "import sys\n",
        "\n",
        "if __name__ == '__main__':\n",
        "    N, M = map(int, sys.stdin.readline().split())\n",
        "    arr = [0] * N\n",
        "\n",
        "    for i in range(N):\n",
        "        arr[i] = int(sys.stdin.readline().rstrip())\n",
        "\n",
        "    arr.sort()\n",
        "    left, right = 0, 1\n",
        "    ans = sys.maxsize\n",
        "\n",
        "    while left < N and right < N:\n",
        "        tmp = arr[right] - arr[left]\n",
        "\n",
        "        if tmp == M:\n",
        "            print(M)\n",
        "            exit(0)\n",
        "\n",
        "        if tmp < M:\n",
        "            right += 1\n",
        "\n",
        "            continue\n",
        "\n",
        "        left += 1\n",
        "        ans = min(ans, tmp)\n",
        "\n",
        "    print(ans)"
      ],
      "metadata": {
        "id": "TuxunSCMnOno"
      },
      "execution_count": null,
      "outputs": []
    },
    {
      "cell_type": "markdown",
      "source": [
        "#2/13"
      ],
      "metadata": {
        "id": "I4iS-1B8O8wW"
      }
    },
    {
      "cell_type": "markdown",
      "source": [
        "###1-21610"
      ],
      "metadata": {
        "id": "U3UJVXwkPA0h"
      }
    },
    {
      "cell_type": "code",
      "source": [
        "def solve_magic_shark(N, M, grid, moves):\n",
        "\n",
        "    dx = [0, -1, -1, -1, 0, 1, 1, 1]\n",
        "    dy = [-1, -1, 0, 1, 1, 1, 0, -1]\n",
        "    diagonal_dx = [-1, -1, 1, 1]\n",
        "    diagonal_dy = [-1, 1, -1, 1]\n",
        "\n",
        "    clouds = [(N-1, 0), (N-1, 1), (N-2, 0), (N-2, 1)]\n",
        "\n",
        "    for d, s in moves:\n",
        "\n",
        "        new_clouds = []\n",
        "        visited = [[False] * N for _ in range(N)]\n",
        "        for x, y in clouds:\n",
        "            nx = (x + dx[d-1] * s) % N\n",
        "            ny = (y + dy[d-1] * s) % N\n",
        "            new_clouds.append((nx, ny))\n",
        "            visited[nx][ny] = True\n",
        "\n",
        "        for x, y in new_clouds:\n",
        "            grid[x][y] += 1\n",
        "\n",
        "        for x, y in new_clouds:\n",
        "            count = 0\n",
        "            for i in range(4):\n",
        "                nx = x + diagonal_dx[i]\n",
        "                ny = y + diagonal_dy[i]\n",
        "                if 0 <= nx < N and 0 <= ny < N and grid[nx][ny] > 0:\n",
        "                    count += 1\n",
        "            grid[x][y] += count\n",
        "\n",
        "        clouds = []\n",
        "        for i in range(N):\n",
        "            for j in range(N):\n",
        "                if grid[i][j] >= 2 and not visited[i][j]:\n",
        "                    clouds.append((i, j))\n",
        "                    grid[i][j] -= 2\n",
        "\n",
        "    return sum(sum(row) for row in grid)\n",
        "\n",
        "N, M = map(int, input().split())\n",
        "grid = [list(map(int, input().split())) for _ in range(N)]\n",
        "moves = [tuple(map(int, input().split())) for _ in range(M)]\n",
        "\n",
        "print(solve_magic_shark(N, M, grid, moves))"
      ],
      "metadata": {
        "colab": {
          "base_uri": "https://localhost:8080/"
        },
        "id": "NxrhmPwJPDI2",
        "outputId": "bc601531-37cd-4b3a-ee12-c81cab9fca75"
      },
      "execution_count": null,
      "outputs": [
        {
          "output_type": "stream",
          "name": "stdout",
          "text": [
            "5 4\n",
            "0 0 1 0 2\n",
            "2 3 2 1 0\n",
            "4 3 2 9 0\n",
            "1 0 2 9 0\n",
            "8 8 2 1 0\n",
            "1 3\n",
            "3 4\n",
            "8 1\n",
            "4 8\n",
            "77\n"
          ]
        }
      ]
    },
    {
      "cell_type": "markdown",
      "source": [
        "###2-1092"
      ],
      "metadata": {
        "id": "3o3A0KpnP8d5"
      }
    },
    {
      "cell_type": "code",
      "source": [
        "import sys\n",
        "input = sys.stdin.readline\n",
        "\n",
        "N = int(input())\n",
        "cranes = list(map(int, input().split()))\n",
        "M = int(input())\n",
        "boxes = list(map(int, input().split()))\n",
        "\n",
        "cranes.sort(reverse=True)\n",
        "boxes.sort(reverse=True)\n",
        "\n",
        "cnt = 0\n",
        "\n",
        "if boxes[0] > cranes[0]: cnt = -1\n",
        "else:\n",
        "    while boxes:\n",
        "        for c in cranes:\n",
        "            if boxes and c < boxes[-1]:\n",
        "                continue\n",
        "            for b in boxes:\n",
        "                if c >= b:\n",
        "                    boxes.remove(b)\n",
        "                    break\n",
        "        cnt+=1\n",
        "\n",
        "print(cnt)"
      ],
      "metadata": {
        "colab": {
          "base_uri": "https://localhost:8080/"
        },
        "id": "NGWiOqRJP918",
        "outputId": "157573fb-e742-48b3-aa5d-f72a2da7573e"
      },
      "execution_count": null,
      "outputs": [
        {
          "output_type": "stream",
          "name": "stdout",
          "text": [
            "3\n",
            "6 8 9\n",
            "5\n",
            "2 5 2 4 7\n",
            "2\n"
          ]
        }
      ]
    },
    {
      "cell_type": "markdown",
      "source": [
        "###3-13398"
      ],
      "metadata": {
        "id": "1OVpfml4Q7wa"
      }
    },
    {
      "cell_type": "code",
      "source": [
        "import sys\n",
        "\n",
        "input = sys.stdin.readline\n",
        "\n",
        "N = int(input())\n",
        "input_array = list(map(int, input().split()))\n",
        "\n",
        "current_no_remove = input_array[0]\n",
        "current_one_remove = 0\n",
        "max_sum = input_array[0]\n",
        "\n",
        "for i in range(1, N):\n",
        "    current_one_remove = max(current_no_remove, current_one_remove + input_array[i])\n",
        "    current_no_remove = max(current_no_remove + input_array[i], input_array[i])\n",
        "    max_sum = max(max_sum, current_no_remove, current_one_remove)\n",
        "\n",
        "print(max_sum)"
      ],
      "metadata": {
        "id": "S4q3iUItR0aD"
      },
      "execution_count": null,
      "outputs": []
    },
    {
      "cell_type": "markdown",
      "source": [
        "###4-15989"
      ],
      "metadata": {
        "id": "LLpgYerQR9sh"
      }
    },
    {
      "cell_type": "code",
      "source": [
        "t = int(input())\n",
        "\n",
        "dp = [1] * 10001\n",
        "\n",
        "for i in range(2, 10001):\n",
        "    dp[i] += dp[i - 2]\n",
        "\n",
        "for i in range(3, 10001):\n",
        "    dp[i] += dp[i - 3]\n",
        "\n",
        "for _ in range(t):\n",
        "    n = int(input())\n",
        "    print(dp[n])"
      ],
      "metadata": {
        "colab": {
          "base_uri": "https://localhost:8080/"
        },
        "id": "oevbzPBnSK7U",
        "outputId": "032433de-1969-4398-92ec-7c34c962ef03"
      },
      "execution_count": null,
      "outputs": [
        {
          "output_type": "stream",
          "name": "stdout",
          "text": [
            "3\n",
            "4\n",
            "7\n",
            "4\n",
            "8\n",
            "10\n",
            "14\n"
          ]
        }
      ]
    },
    {
      "cell_type": "markdown",
      "source": [
        "###5-18405"
      ],
      "metadata": {
        "id": "t-ABlb1CSjZo"
      }
    },
    {
      "cell_type": "code",
      "source": [
        "import sys\n",
        "from collections import deque\n",
        "\n",
        "input = sys.stdin.read\n",
        "data = input().split()\n",
        "\n",
        "N, K = map(int, data[:2])\n",
        "graph = []\n",
        "viruses = []\n",
        "\n",
        "index = 2\n",
        "for i in range(N):\n",
        "    row = list(map(int, data[index:index + N]))\n",
        "    index += N\n",
        "    graph.append(row)\n",
        "    for j in range(N):\n",
        "        if row[j] != 0:\n",
        "            viruses.append((row[j], 0, i, j))\n",
        "\n",
        "S, X, Y = map(int, data[index:index + 3])\n",
        "\n",
        "viruses.sort()\n",
        "queue = deque(viruses)\n",
        "\n",
        "dx = [-1, 1, 0, 0]\n",
        "dy = [0, 0, -1, 1]\n",
        "\n",
        "while queue:\n",
        "    virus, time, x, y = queue.popleft()\n",
        "\n",
        "    if time == S:\n",
        "        break\n",
        "\n",
        "    for i in range(4):\n",
        "        nx, ny = x + dx[i], y + dy[i]\n",
        "\n",
        "        if 0 <= nx < N and 0 <= ny < N and graph[nx][ny] == 0:\n",
        "            graph[nx][ny] = virus\n",
        "            queue.append((virus, time + 1, nx, ny))\n",
        "\n",
        "print(graph[X - 1][Y - 1])"
      ],
      "metadata": {
        "id": "Xc19K4JwTUfB"
      },
      "execution_count": null,
      "outputs": []
    },
    {
      "cell_type": "markdown",
      "source": [
        "#2/14"
      ],
      "metadata": {
        "id": "1kb8NbmPTuVQ"
      }
    },
    {
      "cell_type": "markdown",
      "source": [
        "###1-2660"
      ],
      "metadata": {
        "id": "8ZOLde6TTwhn"
      }
    },
    {
      "cell_type": "code",
      "source": [
        "import sys\n",
        "input = sys.stdin.read\n",
        "\n",
        "INF = float('inf')\n",
        "\n",
        "data = input().splitlines()\n",
        "N = int(data[0])\n",
        "relations = data[1:]\n",
        "\n",
        "dist = [[INF] * N for _ in range(N)]\n",
        "for i in range(N):\n",
        "    dist[i][i] = 0\n",
        "\n",
        "for line in relations:\n",
        "    a, b = map(int, line.split())\n",
        "    if a == -1 and b == -1:\n",
        "        break\n",
        "    dist[a - 1][b - 1] = 1\n",
        "    dist[b - 1][a - 1] = 1\n",
        "\n",
        "for k in range(N):\n",
        "    for i in range(N):\n",
        "        for j in range(N):\n",
        "            dist[i][j] = min(dist[i][j], dist[i][k] + dist[k][j])\n",
        "\n",
        "scores = [max(dist[i]) for i in range(N)]\n",
        "\n",
        "min_score = min(scores)\n",
        "candidates = [i + 1 for i in range(N) if scores[i] == min_score]\n",
        "\n",
        "print(min_score, len(candidates))\n",
        "print(*candidates)"
      ],
      "metadata": {
        "id": "9S0HvlVgTyqn"
      },
      "execution_count": null,
      "outputs": []
    },
    {
      "cell_type": "markdown",
      "source": [
        "###2-2240"
      ],
      "metadata": {
        "id": "Im3Y-h8uUg6L"
      }
    },
    {
      "cell_type": "code",
      "source": [
        "import sys\n",
        "input = sys.stdin.read\n",
        "data = input().split()\n",
        "T, W = map(int, data[:2])\n",
        "trees = list(map(int, data[2:]))\n",
        "\n",
        "dp = [[0] * (W + 1) for _ in range(T + 1)]\n",
        "\n",
        "for t in range(1, T + 1):\n",
        "    for w in range(W + 1):\n",
        "\n",
        "        current_tree = trees[t - 1]\n",
        "        current_position = 1 if w % 2 == 0 else 2\n",
        "        catch = 1 if current_tree == current_position else 0\n",
        "\n",
        "        if w == 0:\n",
        "            dp[t][w] = dp[t - 1][w] + catch\n",
        "        else:\n",
        "            dp[t][w] = max(dp[t - 1][w], dp[t - 1][w - 1]) + catch\n",
        "\n",
        "print(max(dp[T]))"
      ],
      "metadata": {
        "id": "uVSvwca9UmCQ"
      },
      "execution_count": null,
      "outputs": []
    },
    {
      "cell_type": "markdown",
      "source": [
        "###3-1041"
      ],
      "metadata": {
        "id": "rvzlHIPoU9Kc"
      }
    },
    {
      "cell_type": "code",
      "source": [
        "if __name__ == '__main__':\n",
        "    import sys\n",
        "    input = sys.stdin.read\n",
        "    data = input().split()\n",
        "\n",
        "    N = int(data[0])\n",
        "    arr = list(map(int, data[1:]))\n",
        "\n",
        "    ans = 0\n",
        "    min_lists = []\n",
        "\n",
        "    if N == 1:\n",
        "        arr.sort()\n",
        "        ans = sum(arr[:5])\n",
        "    else:\n",
        "        min_lists.append(min(arr[0], arr[5]))\n",
        "        min_lists.append(min(arr[1], arr[4]))\n",
        "        min_lists.append(min(arr[2], arr[3]))\n",
        "\n",
        "        min_lists.sort()\n",
        "\n",
        "        min1 = min_lists[0]\n",
        "        min2 = min_lists[0] + min_lists[1]\n",
        "        min3 = sum(min_lists)\n",
        "\n",
        "        n1 = 4 * (N - 2) * (N - 1) + (N - 2) ** 2\n",
        "        n2 = 4 * (N - 1) + 4 * (N - 2)\n",
        "        n3 = 4\n",
        "\n",
        "        ans += min1 * n1\n",
        "        ans += min2 * n2\n",
        "        ans += min3 * n3\n",
        "\n",
        "    print(ans)"
      ],
      "metadata": {
        "id": "jNS7kOmrU-sB"
      },
      "execution_count": null,
      "outputs": []
    },
    {
      "cell_type": "markdown",
      "source": [
        "####4-1013"
      ],
      "metadata": {
        "id": "gNB-ozDpZ9Ys"
      }
    },
    {
      "cell_type": "code",
      "source": [
        "import re\n",
        "\n",
        "def is_valid_signal(signal):\n",
        "    pattern = re.compile(r\"^(100+1+|01)+$\")\n",
        "    return \"YES\" if pattern.match(signal) else \"NO\"\n",
        "\n",
        "if __name__ == \"__main__\":\n",
        "    T = int(input())\n",
        "    results = []\n",
        "\n",
        "    for _ in range(T):\n",
        "        signal = input().strip()\n",
        "        results.append(is_valid_signal(signal))\n",
        "\n",
        "    print(\"\\n\".join(results))"
      ],
      "metadata": {
        "colab": {
          "base_uri": "https://localhost:8080/"
        },
        "id": "9WgYlwoEaCqd",
        "outputId": "28c5005d-6a5e-4ce0-d873-62b0f5dac49e"
      },
      "execution_count": null,
      "outputs": [
        {
          "output_type": "stream",
          "name": "stdout",
          "text": [
            "3\n",
            "10010111\n",
            "011000100110001\n",
            "0110001011001\n",
            "NO\n",
            "NO\n",
            "YES\n"
          ]
        }
      ]
    },
    {
      "cell_type": "markdown",
      "source": [
        "###5-1052"
      ],
      "metadata": {
        "id": "7EZc8EIGbG3K"
      }
    },
    {
      "cell_type": "code",
      "source": [
        "def min_bottles_to_buy(N, K):\n",
        "    bottles_to_buy = 0\n",
        "\n",
        "    while bin(N).count('1') > K:\n",
        "        N += 1\n",
        "        bottles_to_buy += 1\n",
        "    return bottles_to_buy\n",
        "\n",
        "if __name__ == \"__main__\":\n",
        "    N, K = map(int, input().split())\n",
        "    print(min_bottles_to_buy(N, K))"
      ],
      "metadata": {
        "colab": {
          "base_uri": "https://localhost:8080/"
        },
        "id": "TY3UDzg2bJ3f",
        "outputId": "b5d5b1c3-ac50-4a35-c070-46ba47fee703"
      },
      "execution_count": null,
      "outputs": [
        {
          "output_type": "stream",
          "name": "stdout",
          "text": [
            "1000000 5\n",
            "15808\n"
          ]
        }
      ]
    },
    {
      "cell_type": "markdown",
      "source": [
        "#2/15"
      ],
      "metadata": {
        "id": "aht5DYUPei6Q"
      }
    },
    {
      "cell_type": "markdown",
      "source": [
        "###1-1240"
      ],
      "metadata": {
        "id": "bsENZZ1_ekch"
      }
    },
    {
      "cell_type": "code",
      "source": [
        "from collections import defaultdict, deque\n",
        "import sys\n",
        "input = sys.stdin.readline\n",
        "\n",
        "def bfs_distance(start, target, graph):\n",
        "    queue = deque([(start, 0)])\n",
        "    visited = [False] * (N + 1)\n",
        "    visited[start] = True\n",
        "\n",
        "    while queue:\n",
        "        current, dist = queue.popleft()\n",
        "        if current == target:\n",
        "            return dist\n",
        "        for neighbor, weight in graph[current]:\n",
        "            if not visited[neighbor]:\n",
        "                visited[neighbor] = True\n",
        "                queue.append((neighbor, dist + weight))\n",
        "    return -1\n",
        "\n",
        "def main():\n",
        "    global N\n",
        "    N, M = map(int, input().split())\n",
        "    graph = defaultdict(list)\n",
        "\n",
        "    for _ in range(N - 1):\n",
        "        u, v, w = map(int, input().split())\n",
        "        graph[u].append((v, w))\n",
        "        graph[v].append((u, w))\n",
        "\n",
        "    queries = []\n",
        "    for _ in range(M):\n",
        "        a, b = map(int, input().split())\n",
        "        queries.append((a, b))\n",
        "\n",
        "    results = []\n",
        "    for a, b in queries:\n",
        "        results.append(bfs_distance(a, b, graph))\n",
        "\n",
        "    print(\"\\n\".join(map(str, results)))\n",
        "\n",
        "if __name__ == \"__main__\":\n",
        "    main()"
      ],
      "metadata": {
        "id": "gg_M4CAZemJt"
      },
      "execution_count": null,
      "outputs": []
    },
    {
      "cell_type": "markdown",
      "source": [
        "#2/16"
      ],
      "metadata": {
        "id": "Lan0fZZphh1x"
      }
    },
    {
      "cell_type": "markdown",
      "source": [
        "###1-5972"
      ],
      "metadata": {
        "id": "vTpsV-gphj7X"
      }
    },
    {
      "cell_type": "code",
      "source": [
        "import heapq\n",
        "import sys\n",
        "from collections import defaultdict\n",
        "input = sys.stdin.readline\n",
        "\n",
        "def dijkstra(start, end, graph, n):\n",
        "    dist = [float('inf')] * (n + 1)\n",
        "    dist[start] = 0\n",
        "\n",
        "    pq = [(0, start)]\n",
        "\n",
        "    while pq:\n",
        "        current_cost, current_node = heapq.heappop(pq)\n",
        "\n",
        "        if current_cost > dist[current_node]:\n",
        "            continue\n",
        "\n",
        "        for neighbor, cost in graph[current_node]:\n",
        "            new_cost = current_cost + cost\n",
        "\n",
        "            if new_cost < dist[neighbor]:\n",
        "                dist[neighbor] = new_cost\n",
        "                heapq.heappush(pq, (new_cost, neighbor))\n",
        "\n",
        "    return dist[end]\n",
        "\n",
        "def main():\n",
        "    n, m = map(int, input().split())\n",
        "    graph = defaultdict(list)\n",
        "\n",
        "    for _ in range(m):\n",
        "        a, b, c = map(int, input().split())\n",
        "        graph[a].append((b, c))\n",
        "        graph[b].append((a, c))\n",
        "\n",
        "    result = dijkstra(1, n, graph, n)\n",
        "    print(result)\n",
        "\n",
        "if __name__ == \"__main__\":\n",
        "    main()"
      ],
      "metadata": {
        "id": "xmJFIHffhl0F"
      },
      "execution_count": null,
      "outputs": []
    },
    {
      "cell_type": "markdown",
      "source": [
        "#2/17"
      ],
      "metadata": {
        "id": "uDvVuFFyrvCA"
      }
    },
    {
      "cell_type": "markdown",
      "source": [
        "###1-16987"
      ],
      "metadata": {
        "id": "juA_NVPzrxnu"
      }
    },
    {
      "cell_type": "code",
      "source": [
        "def break_eggs(idx, eggs, n, max_broken):\n",
        "\n",
        "    if idx == n:\n",
        "        broken_count = sum(1 for durability, _ in eggs if durability <= 0)\n",
        "        max_broken[0] = max(max_broken[0], broken_count)\n",
        "        return\n",
        "\n",
        "    if eggs[idx][0] <= 0:\n",
        "        break_eggs(idx + 1, eggs, n, max_broken)\n",
        "        return\n",
        "\n",
        "    hit_any = False\n",
        "    for target in range(n):\n",
        "        if idx != target and eggs[target][0] > 0:\n",
        "            hit_any = True\n",
        "\n",
        "            eggs[idx][0] -= eggs[target][1]\n",
        "            eggs[target][0] -= eggs[idx][1]\n",
        "\n",
        "            break_eggs(idx + 1, eggs, n, max_broken)\n",
        "\n",
        "            eggs[idx][0] += eggs[target][1]\n",
        "            eggs[target][0] += eggs[idx][1]\n",
        "\n",
        "    if not hit_any:\n",
        "        break_eggs(idx + 1, eggs, n, max_broken)\n",
        "\n",
        "def main():\n",
        "    import sys\n",
        "    input = sys.stdin.readline\n",
        "\n",
        "    n = int(input().strip())\n",
        "    eggs = [list(map(int, input().split())) for _ in range(n)]\n",
        "\n",
        "    max_broken = [0]\n",
        "    break_eggs(0, eggs, n, max_broken)\n",
        "    print(max_broken[0])\n",
        "\n",
        "if __name__ == \"__main__\":\n",
        "    main()"
      ],
      "metadata": {
        "id": "oiil_KFLr0Ma"
      },
      "execution_count": null,
      "outputs": []
    },
    {
      "cell_type": "markdown",
      "source": [
        "###2-12919"
      ],
      "metadata": {
        "id": "_M6QtXXMuhPA"
      }
    },
    {
      "cell_type": "code",
      "source": [
        "import sys\n",
        "\n",
        "S=list(input())\n",
        "T=list(input())\n",
        "\n",
        "def dfs(t):\n",
        "\n",
        "    if t==S:\n",
        "        print(1)\n",
        "        sys.exit()\n",
        "\n",
        "    if len(t)==0:\n",
        "        return 0\n",
        "\n",
        "    if t[-1]=='A':\n",
        "        dfs(t[:-1])\n",
        "\n",
        "    if t[0]=='B':\n",
        "        dfs(t[1:][::-1])\n",
        "\n",
        "dfs(T)\n",
        "print(0)"
      ],
      "metadata": {
        "id": "U6-gy8NtvFxX"
      },
      "execution_count": null,
      "outputs": []
    },
    {
      "cell_type": "markdown",
      "source": [
        "###3-13164"
      ],
      "metadata": {
        "id": "ZZa1IBgTvs_B"
      }
    },
    {
      "cell_type": "code",
      "source": [
        "def minimize_cost(N, K, heights):\n",
        "\n",
        "    differences = [heights[i + 1] - heights[i] for i in range(N - 1)]\n",
        "    differences.sort(reverse=True)\n",
        "\n",
        "    return sum(differences[K-1:])\n",
        "\n",
        "N, K = map(int, input().split())\n",
        "heights = list(map(int, input().split()))\n",
        "\n",
        "print(minimize_cost(N, K, heights))"
      ],
      "metadata": {
        "colab": {
          "base_uri": "https://localhost:8080/"
        },
        "id": "47Qi7rQOvugc",
        "outputId": "12eaf1f3-9bac-44fc-df3f-b1a7b4630493"
      },
      "execution_count": null,
      "outputs": [
        {
          "output_type": "stream",
          "name": "stdout",
          "text": [
            "5 3\n",
            "1 3 5 6 10\n",
            "3\n"
          ]
        }
      ]
    },
    {
      "cell_type": "markdown",
      "source": [
        "###4-16935"
      ],
      "metadata": {
        "id": "K-VLb_VMwPxv"
      }
    },
    {
      "cell_type": "code",
      "source": [
        "import sys\n",
        "input = sys.stdin.read\n",
        "data = input().split()\n",
        "\n",
        "N, M, R = map(int, data[:3])\n",
        "\n",
        "array = []\n",
        "index = 3\n",
        "for _ in range(N):\n",
        "    array.append(list(map(int, data[index:index + M])))\n",
        "    index += M\n",
        "\n",
        "operations = list(map(int, data[index:]))\n",
        "\n",
        "def operation1(arr):\n",
        "    return arr[::-1]\n",
        "\n",
        "def operation2(arr):\n",
        "    return [row[::-1] for row in arr]\n",
        "\n",
        "def operation3(arr):\n",
        "    return [list(row) for row in zip(*arr[::-1])]\n",
        "\n",
        "def operation4(arr):\n",
        "    return [list(row) for row in zip(*arr)][::-1]\n",
        "\n",
        "def operation5(arr):\n",
        "    n, m = len(arr), len(arr[0])\n",
        "    half_n, half_m = n // 2, m // 2\n",
        "    top_left = [row[:half_m] for row in arr[:half_n]]\n",
        "    top_right = [row[half_m:] for row in arr[:half_n]]\n",
        "    bottom_right = [row[half_m:] for row in arr[half_n:]]\n",
        "    bottom_left = [row[:half_m] for row in arr[half_n:]]\n",
        "\n",
        "    new_arr = []\n",
        "    for i in range(half_n):\n",
        "        new_arr.append(bottom_left[i] + top_left[i])\n",
        "    for i in range(half_n):\n",
        "        new_arr.append(bottom_right[i] + top_right[i])\n",
        "    return new_arr\n",
        "\n",
        "def operation6(arr):\n",
        "    n, m = len(arr), len(arr[0])\n",
        "    half_n, half_m = n // 2, m // 2\n",
        "    top_left = [row[:half_m] for row in arr[:half_n]]\n",
        "    top_right = [row[half_m:] for row in arr[:half_n]]\n",
        "    bottom_right = [row[half_m:] for row in arr[half_n:]]\n",
        "    bottom_left = [row[:half_m] for row in arr[half_n:]]\n",
        "\n",
        "    new_arr = []\n",
        "    for i in range(half_n):\n",
        "        new_arr.append(top_right[i] + bottom_right[i])\n",
        "    for i in range(half_n):\n",
        "        new_arr.append(top_left[i] + bottom_left[i])\n",
        "    return new_arr\n",
        "\n",
        "for op in operations:\n",
        "    if op == 1:\n",
        "        array = operation1(array)\n",
        "    elif op == 2:\n",
        "        array = operation2(array)\n",
        "    elif op == 3:\n",
        "        array = operation3(array)\n",
        "    elif op == 4:\n",
        "        array = operation4(array)\n",
        "    elif op == 5:\n",
        "        array = operation5(array)\n",
        "    elif op == 6:\n",
        "        array = operation6(array)\n",
        "\n",
        "for row in array:\n",
        "    print(' '.join(map(str, row)))"
      ],
      "metadata": {
        "id": "iz4Y5Hd9wbv9"
      },
      "execution_count": null,
      "outputs": []
    },
    {
      "cell_type": "markdown",
      "source": [
        "###5-4811"
      ],
      "metadata": {
        "id": "hakKEMrBxdg3"
      }
    },
    {
      "cell_type": "code",
      "source": [
        "def calculate_catalan_numbers(max_n):\n",
        "    catalan = [0] * (max_n + 1)\n",
        "    catalan[0] = 1\n",
        "\n",
        "    for n in range(1, max_n + 1):\n",
        "        catalan[n] = sum(catalan[i] * catalan[n - i - 1] for i in range(n))\n",
        "\n",
        "    return catalan\n",
        "\n",
        "def main():\n",
        "    import sys\n",
        "    input = sys.stdin.read\n",
        "    data = input().splitlines()\n",
        "\n",
        "    max_n = 30\n",
        "    catalan = calculate_catalan_numbers(max_n)\n",
        "\n",
        "    results = []\n",
        "    for line in data:\n",
        "        n = int(line)\n",
        "        if n == 0:\n",
        "            break\n",
        "        results.append(catalan[n])\n",
        "\n",
        "    print(\"\\n\".join(map(str, results)))\n",
        "\n",
        "if __name__ == \"__main__\":\n",
        "    main()"
      ],
      "metadata": {
        "colab": {
          "base_uri": "https://localhost:8080/"
        },
        "id": "sYPjja6Vxoaj",
        "outputId": "50092692-ae8c-42c0-bfea-4aee8650ffae"
      },
      "execution_count": null,
      "outputs": [
        {
          "output_type": "stream",
          "name": "stdout",
          "text": [
            "\n"
          ]
        }
      ]
    },
    {
      "cell_type": "markdown",
      "source": [
        "#2/18"
      ],
      "metadata": {
        "id": "d9NWspe62uw8"
      }
    },
    {
      "cell_type": "markdown",
      "source": [
        "###1-1351"
      ],
      "metadata": {
        "id": "EQNTLlJZ2wx-"
      }
    },
    {
      "cell_type": "code",
      "source": [
        "def infinite_sequence(n, p, q, memo):\n",
        "    if n in memo:\n",
        "        return memo[n]\n",
        "\n",
        "    memo[n] = infinite_sequence(n // p, p, q, memo) + infinite_sequence(n // q, p, q, memo)\n",
        "    return memo[n]\n",
        "\n",
        "n, p, q = map(int, input().split())\n",
        "\n",
        "memo = {0: 1}\n",
        "result = infinite_sequence(n, p, q, memo)\n",
        "\n",
        "print(result)"
      ],
      "metadata": {
        "colab": {
          "base_uri": "https://localhost:8080/"
        },
        "id": "0f4kGYdv27lB",
        "outputId": "c3451cb7-c0e1-4228-d64a-1d05e2cfa03e"
      },
      "execution_count": null,
      "outputs": [
        {
          "output_type": "stream",
          "name": "stdout",
          "text": [
            "1 1000000 1000000\n",
            "2\n"
          ]
        }
      ]
    },
    {
      "cell_type": "markdown",
      "source": [
        "###2-18428"
      ],
      "metadata": {
        "id": "6q8_Xojw3nuZ"
      }
    },
    {
      "cell_type": "code",
      "source": [
        "from itertools import combinations\n",
        "\n",
        "dx = [-1, 1, 0, 0]\n",
        "dy = [0, 0, -1, 1]\n",
        "\n",
        "def can_see_students(x, y, direction):\n",
        "    while True:\n",
        "        x += dx[direction]\n",
        "        y += dy[direction]\n",
        "\n",
        "        if x < 0 or x >= n or y < 0 or y >= n:\n",
        "            return False\n",
        "\n",
        "        if board[x][y] == \"O\":\n",
        "            return False\n",
        "\n",
        "        if board[x][y] == \"S\":\n",
        "            return True\n",
        "\n",
        "def is_safe():\n",
        "    for x, y in teachers:\n",
        "\n",
        "        for direction in range(4):\n",
        "\n",
        "            if can_see_students(x, y, direction):\n",
        "                return False\n",
        "    return True\n",
        "\n",
        "n = int(input())\n",
        "board = [input().split() for _ in range(n)]\n",
        "\n",
        "teachers = []\n",
        "empty_spaces = []\n",
        "\n",
        "for i in range(n):\n",
        "    for j in range(n):\n",
        "\n",
        "        if board[i][j] == \"T\":\n",
        "            teachers.append((i, j))\n",
        "\n",
        "        elif board[i][j] == \"X\":\n",
        "            empty_spaces.append((i, j))\n",
        "\n",
        "for obstacles in combinations(empty_spaces, 3):\n",
        "    for x, y in obstacles:\n",
        "        board[x][y] = \"O\"\n",
        "\n",
        "    if is_safe():\n",
        "        print(\"YES\")\n",
        "        break\n",
        "\n",
        "    for x, y in obstacles:\n",
        "        board[x][y] = \"X\"\n",
        "\n",
        "else:\n",
        "    print(\"NO\")"
      ],
      "metadata": {
        "colab": {
          "base_uri": "https://localhost:8080/"
        },
        "id": "M1-F6_Q33oD5",
        "outputId": "55cb87f2-91ca-48b6-de17-0901e092f7e0"
      },
      "execution_count": null,
      "outputs": [
        {
          "output_type": "stream",
          "name": "stdout",
          "text": [
            "4\n",
            "S S S T\n",
            "X X X X\n",
            "X X X X\n",
            "T T T X\n",
            "NO\n"
          ]
        }
      ]
    },
    {
      "cell_type": "markdown",
      "source": [
        "###3-15661"
      ],
      "metadata": {
        "id": "j8s6Z8tC4T0_"
      }
    },
    {
      "cell_type": "code",
      "source": [
        "n = int(input())\n",
        "stats = [list(map(int, input().split())) for i in range(n)]\n",
        "visited = [0] * n\n",
        "ans = 99999\n",
        "\n",
        "def is_it():\n",
        "    global ans\n",
        "    start, link = 0, 0\n",
        "\n",
        "    for i in range(n):\n",
        "\n",
        "        for j in range(n):\n",
        "\n",
        "            if visited[i] and visited[j]:\n",
        "                start += stats[i][j]\n",
        "\n",
        "            elif not visited[i] and not visited[j]:\n",
        "                link += stats[i][j]\n",
        "\n",
        "    ans = min(ans, abs(start - link))\n",
        "    return\n",
        "\n",
        "def resolve(iter):\n",
        "    if iter == n:\n",
        "        is_it()\n",
        "        return\n",
        "\n",
        "    visited[iter] = 1\n",
        "    resolve(iter + 1)\n",
        "    visited[iter] = 0\n",
        "    resolve(iter + 1)\n",
        "\n",
        "resolve(0)\n",
        "\n",
        "print(ans)"
      ],
      "metadata": {
        "colab": {
          "base_uri": "https://localhost:8080/"
        },
        "id": "jwFlzz0t4bQH",
        "outputId": "eac4ff6f-242d-4e5c-83d4-3488bc603ab9"
      },
      "execution_count": null,
      "outputs": [
        {
          "output_type": "stream",
          "name": "stdout",
          "text": [
            "5\n",
            "0 3 1 1 1\n",
            "3 0 1 1 1\n",
            "1 1 0 1 1\n",
            "1 1 1 0 1\n",
            "1 1 1 1 0\n",
            "0\n"
          ]
        }
      ]
    },
    {
      "cell_type": "markdown",
      "source": [
        "###4-7490"
      ],
      "metadata": {
        "id": "mX-BySkO5LIO"
      }
    },
    {
      "cell_type": "code",
      "source": [
        "def calculate(expression):\n",
        "    expression = expression.replace(\" \", \"\")\n",
        "    return eval(expression)\n",
        "\n",
        "def backtrack(n, index, expression, results):\n",
        "    if index == n:\n",
        "\n",
        "        if calculate(expression) == 0:\n",
        "            results.append(expression)\n",
        "        return\n",
        "\n",
        "    next_num = str(index + 1)\n",
        "\n",
        "    backtrack(n, index + 1, expression + \"+\" + next_num, results)\n",
        "    backtrack(n, index + 1, expression + \"-\" + next_num, results)\n",
        "    backtrack(n, index + 1, expression + \" \" + next_num, results)\n",
        "\n",
        "def solve_zero_maker(n):\n",
        "    results = []\n",
        "    backtrack(n, 1, \"1\", results)\n",
        "    return results\n",
        "\n",
        "t = int(input())\n",
        "test_cases = [int(input()) for _ in range(t)]\n",
        "\n",
        "for i, n in enumerate(test_cases):\n",
        "    results = solve_zero_maker(n)\n",
        "    results.sort()\n",
        "    print(\"\\n\".join(results))\n",
        "\n",
        "    if i < len(test_cases) - 1:\n",
        "        print()"
      ],
      "metadata": {
        "colab": {
          "base_uri": "https://localhost:8080/"
        },
        "id": "CLI6o9gv5MZ8",
        "outputId": "e4e059bd-fcc7-42df-9cf5-362a2408eb93"
      },
      "execution_count": null,
      "outputs": [
        {
          "output_type": "stream",
          "name": "stdout",
          "text": [
            "2\n",
            "3\n",
            "7\n",
            "1+2-3\n",
            "\n",
            "1+2-3+4-5-6+7\n",
            "1+2-3-4+5+6-7\n",
            "1-2 3+4+5+6+7\n",
            "1-2 3-4 5+6 7\n",
            "1-2+3+4-5+6-7\n",
            "1-2-3-4-5+6+7\n"
          ]
        }
      ]
    },
    {
      "cell_type": "markdown",
      "source": [
        "###5-3079"
      ],
      "metadata": {
        "id": "hlxYl56i5M5m"
      }
    },
    {
      "cell_type": "code",
      "source": [
        "def immigration_check(n, m, times):\n",
        "\n",
        "    low, high = 1, max(times) * m\n",
        "    result = high\n",
        "\n",
        "    while low <= high:\n",
        "        mid = (low + high) // 2\n",
        "        total_people = 0\n",
        "\n",
        "        for time in times:\n",
        "            total_people += mid // time\n",
        "\n",
        "            if total_people >= m:\n",
        "                break\n",
        "\n",
        "        if total_people >= m:\n",
        "            result = mid\n",
        "            high = mid - 1\n",
        "\n",
        "        else:\n",
        "            low = mid + 1\n",
        "\n",
        "    return result\n",
        "\n",
        "n, m = map(int, input().split())\n",
        "times = [int(input()) for _ in range(n)]\n",
        "\n",
        "print(immigration_check(n, m, times))"
      ],
      "metadata": {
        "colab": {
          "base_uri": "https://localhost:8080/"
        },
        "id": "rWXWjz1L5N_L",
        "outputId": "4a2e78df-597d-4bea-ff1f-364ee389e9f5"
      },
      "execution_count": null,
      "outputs": [
        {
          "output_type": "stream",
          "name": "stdout",
          "text": [
            "7 10\n",
            "3\n",
            "8\n",
            "3\n",
            "6\n",
            "9\n",
            "2\n",
            "4\n",
            "8\n"
          ]
        }
      ]
    },
    {
      "cell_type": "markdown",
      "source": [
        "#2/19"
      ],
      "metadata": {
        "id": "nXB4se31FA7m"
      }
    },
    {
      "cell_type": "markdown",
      "source": [
        "###1-14567"
      ],
      "metadata": {
        "id": "amdQnT8KFD8Q"
      }
    },
    {
      "cell_type": "code",
      "source": [
        "from collections import deque\n",
        "\n",
        "def find_min_semesters(n, m, prerequisites):\n",
        "    graph = [[] for _ in range(n + 1)]\n",
        "    in_degree = [0] * (n + 1)\n",
        "    semester = [0] * (n + 1)\n",
        "\n",
        "    for a, b in prerequisites:\n",
        "        graph[a].append(b)\n",
        "        in_degree[b] += 1\n",
        "\n",
        "    queue = deque()\n",
        "    for i in range(1, n + 1):\n",
        "\n",
        "        if in_degree[i] == 0:\n",
        "            queue.append(i)\n",
        "            semester[i] = 1\n",
        "\n",
        "    while queue:\n",
        "        current = queue.popleft()\n",
        "\n",
        "        for neighbor in graph[current]:\n",
        "            in_degree[neighbor] -= 1\n",
        "\n",
        "            if in_degree[neighbor] == 0:\n",
        "                queue.append(neighbor)\n",
        "                semester[neighbor] = semester[current] + 1\n",
        "\n",
        "    return semester[1:]\n",
        "\n",
        "n, m = map(int, input().split())\n",
        "prerequisites = [tuple(map(int, input().split())) for _ in range(m)]\n",
        "\n",
        "print(*find_min_semesters(n, m, prerequisites))"
      ],
      "metadata": {
        "colab": {
          "base_uri": "https://localhost:8080/"
        },
        "id": "nQ45Zhy_FEOi",
        "outputId": "205a8076-9dc0-4714-9276-78b65fc795ff"
      },
      "execution_count": null,
      "outputs": [
        {
          "output_type": "stream",
          "name": "stdout",
          "text": [
            "3 2\n",
            "2 3\n",
            "1 2\n",
            "1 2 3\n"
          ]
        }
      ]
    },
    {
      "cell_type": "markdown",
      "source": [
        "###2-2436"
      ],
      "metadata": {
        "id": "NocOD9kIFGQ6"
      }
    },
    {
      "cell_type": "code",
      "source": [
        "import math\n",
        "\n",
        "def find_numbers(g, l):\n",
        "    k = l // g\n",
        "    min_sum = float('inf')\n",
        "    result = (0, 0)\n",
        "\n",
        "    for a in range(1, int(math.sqrt(k)) + 1):\n",
        "        if k % a == 0:\n",
        "            b = k // a\n",
        "\n",
        "            if math.gcd(a, b) == 1:\n",
        "                x, y = g * a, g * b\n",
        "\n",
        "                if x + y < min_sum:\n",
        "                    min_sum = x + y\n",
        "                    result = (x, y)\n",
        "\n",
        "    return result\n",
        "\n",
        "g, l = map(int, input().split())\n",
        "\n",
        "x, y = find_numbers(g, l)\n",
        "print(x, y)"
      ],
      "metadata": {
        "colab": {
          "base_uri": "https://localhost:8080/"
        },
        "id": "zfWOQHucFHUW",
        "outputId": "fb809aa4-006c-4f8e-9ba6-e43256737285"
      },
      "execution_count": null,
      "outputs": [
        {
          "output_type": "stream",
          "name": "stdout",
          "text": [
            "6 180\n",
            "30 36\n"
          ]
        }
      ]
    },
    {
      "cell_type": "markdown",
      "source": [
        "###3-17836"
      ],
      "metadata": {
        "id": "txWQtbDOFH7e"
      }
    },
    {
      "cell_type": "code",
      "source": [
        "from collections import deque\n",
        "\n",
        "def bfs_with_gram_and_princess(n, m, t, castle):\n",
        "    directions = [(-1, 0), (1, 0), (0, -1), (0, 1)]\n",
        "\n",
        "    visited = [[[False] * 2 for _ in range(m)] for _ in range(n)]\n",
        "    queue = deque([(0, 0, 0)])\n",
        "    visited[0][0][0] = True\n",
        "\n",
        "    time = 0\n",
        "\n",
        "    while queue:\n",
        "        for _ in range(len(queue)):\n",
        "            x, y, has_gram = queue.popleft()\n",
        "\n",
        "            if (x, y) == (n - 1, m - 1):\n",
        "                return time\n",
        "\n",
        "            for dx, dy in directions:\n",
        "                nx, ny = x + dx, y + dy\n",
        "\n",
        "                if 0 <= nx < n and 0 <= ny < m:\n",
        "\n",
        "                    if has_gram and not visited[nx][ny][1]:\n",
        "                        visited[nx][ny][1] = True\n",
        "                        queue.append((nx, ny, 1))\n",
        "\n",
        "                    elif not has_gram and castle[nx][ny] != 1 and not visited[nx][ny][0]:\n",
        "                        visited[nx][ny][0] = True\n",
        "                        queue.append((nx, ny, 1 if castle[nx][ny] == 2 else 0))\n",
        "\n",
        "        time += 1\n",
        "        if time > t:\n",
        "            return \"Fail\"\n",
        "\n",
        "    return \"Fail\"\n",
        "\n",
        "n, m, t = map(int, input().split())\n",
        "castle = [list(map(int, input().split())) for _ in range(n)]\n",
        "\n",
        "print(bfs_with_gram_and_princess(n, m, t, castle))"
      ],
      "metadata": {
        "colab": {
          "base_uri": "https://localhost:8080/"
        },
        "id": "8_i_Exe3FIss",
        "outputId": "f4dd5871-14d3-457d-e767-f6cff4b294aa"
      },
      "execution_count": null,
      "outputs": [
        {
          "output_type": "stream",
          "name": "stdout",
          "text": [
            "6 6 16\n",
            "0 0 0 0 1 1\n",
            "0 0 0 0 0 2\n",
            "1 1 1 0 1 0\n",
            "0 0 0 0 0 0\n",
            "0 1 1 1 1 1\n",
            "0 0 0 0 0 0\n",
            "10\n"
          ]
        }
      ]
    },
    {
      "cell_type": "markdown",
      "source": [
        "###4-1722"
      ],
      "metadata": {
        "id": "gKdfgYW8FJIB"
      }
    },
    {
      "cell_type": "code",
      "source": [
        "import sys\n",
        "input = sys.stdin.readline\n",
        "\n",
        "n = int(input())\n",
        "\n",
        "fList = [0] * 21\n",
        "fList[0] = 1\n",
        "\n",
        "for i in range(1, n+1):\n",
        "    fList[i] = fList[i-1] * i\n",
        "\n",
        "visited = [False] * 21\n",
        "\n",
        "s = [0] * 21\n",
        "\n",
        "list = list(map(int, input().split()))\n",
        "\n",
        "if list[0] == 1:\n",
        "    k = list[1]\n",
        "\n",
        "    for i in range(1, n+1):\n",
        "        cnt = 1\n",
        "\n",
        "        for j in range(1, n+1):\n",
        "\n",
        "            if visited[j]:\n",
        "                continue\n",
        "\n",
        "            if k <= cnt * fList[n-i]:\n",
        "                k -= (cnt-1) * fList[n-i]\n",
        "                s[i] = j\n",
        "                visited[j] = True\n",
        "                break\n",
        "            cnt += 1\n",
        "\n",
        "    for i in range(1, n+1):\n",
        "        print(s[i], end=\" \")\n",
        "\n",
        "else:\n",
        "    k = 1\n",
        "\n",
        "    for i in range(1, n+1):\n",
        "        cnt = 0\n",
        "\n",
        "        for j in range(1, list[i]):\n",
        "\n",
        "            if not visited[j]:\n",
        "                cnt += 1\n",
        "\n",
        "        k += cnt * fList[n-i]\n",
        "        visited[list[i]] = True\n",
        "\n",
        "    print(k)"
      ],
      "metadata": {
        "id": "DFYVStb9FKHw"
      },
      "execution_count": null,
      "outputs": []
    },
    {
      "cell_type": "markdown",
      "source": [
        "###5-21758"
      ],
      "metadata": {
        "id": "MOIrCx2GFKqU"
      }
    },
    {
      "cell_type": "code",
      "source": [
        "n = int(input())\n",
        "honey = list(map(int, input().split()))\n",
        "p_sum = [honey[0]] + [0] * (n - 1)\n",
        "ans = 0\n",
        "\n",
        "for i in range(1, n):\n",
        "    p_sum[i] = p_sum[i - 1] + honey[i]\n",
        "\n",
        "for i in range(1, n - 1):\n",
        "\n",
        "    right = 2 * p_sum[-1] - honey[0] - honey[i] - p_sum[i]\n",
        "\n",
        "    left = p_sum[-1] - honey[-1] - honey[i] + p_sum[i - 1]\n",
        "\n",
        "    mid = p_sum[i] - honey[0] + p_sum[-1] - p_sum[i - 1] - honey[-1]\n",
        "    ans = max(ans, right, left, mid)\n",
        "\n",
        "print(ans)"
      ],
      "metadata": {
        "colab": {
          "base_uri": "https://localhost:8080/"
        },
        "id": "vtXrsQ0ZFLZP",
        "outputId": "d320c507-9a4e-43b5-80f3-ff7c23c1caeb"
      },
      "execution_count": null,
      "outputs": [
        {
          "output_type": "stream",
          "name": "stdout",
          "text": [
            "3\n",
            "2 5 4\n",
            "10\n"
          ]
        }
      ]
    },
    {
      "cell_type": "markdown",
      "source": [
        "#2/20"
      ],
      "metadata": {
        "id": "ParhapIvUxtm"
      }
    },
    {
      "cell_type": "markdown",
      "source": [
        "###1-1456"
      ],
      "metadata": {
        "id": "AYujx6JJVXYQ"
      }
    },
    {
      "cell_type": "code",
      "source": [
        "import math\n",
        "\n",
        "def find_primes(limit):\n",
        "    is_prime = [True] * (limit + 1)\n",
        "    is_prime[0] = is_prime[1] = False\n",
        "\n",
        "    for i in range(2, int(math.sqrt(limit)) + 1):\n",
        "\n",
        "        if is_prime[i]:\n",
        "\n",
        "            for j in range(i * i, limit + 1, i):\n",
        "                is_prime[j] = False\n",
        "\n",
        "    return [x for x in range(2, limit + 1) if is_prime[x]]\n",
        "\n",
        "def count_almost_primes(a, b):\n",
        "    primes = find_primes(int(math.sqrt(b)) + 1)\n",
        "    count = 0\n",
        "\n",
        "    for prime in primes:\n",
        "        power = prime * prime\n",
        "\n",
        "        while power <= b:\n",
        "\n",
        "            if power >= a:\n",
        "                count += 1\n",
        "\n",
        "            if power > b // prime:\n",
        "                break\n",
        "            power *= prime\n",
        "\n",
        "    return count\n",
        "\n",
        "a, b = map(int, input().split())\n",
        "\n",
        "result = count_almost_primes(a, b)\n",
        "print(result)"
      ],
      "metadata": {
        "colab": {
          "base_uri": "https://localhost:8080/"
        },
        "id": "CpA_J0swVZul",
        "outputId": "366eab0b-3d0b-4644-c348-dcb170695772"
      },
      "execution_count": null,
      "outputs": [
        {
          "output_type": "stream",
          "name": "stdout",
          "text": [
            "1 10\n",
            "3\n"
          ]
        }
      ]
    },
    {
      "cell_type": "markdown",
      "source": [
        "###2-1911"
      ],
      "metadata": {
        "id": "23P8edlKWQk5"
      }
    },
    {
      "cell_type": "code",
      "source": [
        "import math\n",
        "\n",
        "def calculate_min_boards(n, l, puddles):\n",
        "    puddles.sort()\n",
        "\n",
        "    boards_needed = 0\n",
        "    current_position = 0\n",
        "\n",
        "    for start, end in puddles:\n",
        "\n",
        "        if current_position < start:\n",
        "            current_position = start\n",
        "\n",
        "        distance_to_cover = end - current_position\n",
        "\n",
        "        if distance_to_cover > 0:\n",
        "\n",
        "            boards = math.ceil(distance_to_cover / l)\n",
        "            boards_needed += boards\n",
        "\n",
        "            current_position += boards * l\n",
        "\n",
        "    return boards_needed\n",
        "\n",
        "n, l = map(int, input().split())\n",
        "puddles = [tuple(map(int, input().split())) for _ in range(n)]\n",
        "\n",
        "result = calculate_min_boards(n, l, puddles)\n",
        "print(result)"
      ],
      "metadata": {
        "colab": {
          "base_uri": "https://localhost:8080/"
        },
        "id": "xL2N_ApWWR_X",
        "outputId": "eb337c2d-95c7-475e-b180-c45a14911030"
      },
      "execution_count": null,
      "outputs": [
        {
          "output_type": "stream",
          "name": "stdout",
          "text": [
            "3 3\n",
            "1 6\n",
            "13 17\n",
            "8 12\n",
            "5\n"
          ]
        }
      ]
    },
    {
      "cell_type": "markdown",
      "source": [
        "###3-2116"
      ],
      "metadata": {
        "id": "BPbg4GfAW5OM"
      }
    },
    {
      "cell_type": "code",
      "source": [
        "n = int(input())\n",
        "dices = [list(map(int, input().split())) for _ in range(n)]\n",
        "\n",
        "def findMax(dice, bottom_num):\n",
        "    for idx in range(6):\n",
        "        if dice[idx] == bottom_num:\n",
        "            break\n",
        "\n",
        "    if idx == 0:\n",
        "        top_num = dice[5]\n",
        "        side_nums = [dice[1], dice[2], dice[3], dice[4]]\n",
        "    elif idx == 1:\n",
        "        top_num = dice[3]\n",
        "        side_nums = [dice[0], dice[2], dice[4], dice[5]]\n",
        "    elif idx == 2:\n",
        "        top_num = dice[4]\n",
        "        side_nums = [dice[0], dice[1], dice[3], dice[5]]\n",
        "    elif idx == 3:\n",
        "        top_num = dice[1]\n",
        "        side_nums = [dice[0], dice[2], dice[4], dice[5]]\n",
        "    elif idx == 4:\n",
        "        top_num = dice[2]\n",
        "        side_nums = [dice[0], dice[1], dice[3], dice[5]]\n",
        "    elif idx == 5:\n",
        "        top_num = dice[0]\n",
        "        side_nums = [dice[1], dice[2], dice[3], dice[4]]\n",
        "\n",
        "    return top_num, max(side_nums)\n",
        "\n",
        "answer = 0\n",
        "\n",
        "for i in range(6):\n",
        "    total = 0\n",
        "    bottom_num = dices[0][i]\n",
        "    top_num, side_max = findMax(dices[0], bottom_num)\n",
        "    total += side_max\n",
        "\n",
        "    for j in range(1, n):\n",
        "        bottom_num = top_num\n",
        "        top_num, side_max = findMax(dices[j], bottom_num)\n",
        "        total += side_max\n",
        "\n",
        "    answer = max(answer, total)\n",
        "\n",
        "print(answer)"
      ],
      "metadata": {
        "colab": {
          "base_uri": "https://localhost:8080/"
        },
        "id": "3ftmG96TW61Q",
        "outputId": "708da691-a34a-4972-d41d-08d0904953a9"
      },
      "execution_count": null,
      "outputs": [
        {
          "output_type": "stream",
          "name": "stdout",
          "text": [
            "5\n",
            "2 3 1 6 5 4\n",
            "3 1 2 4 6 5\n",
            "5 6 4 1 3 2\n",
            "1 3 6 2 4 5\n",
            "4 1 6 5 2 3\n",
            "29\n"
          ]
        }
      ]
    },
    {
      "cell_type": "markdown",
      "source": [
        "###4-1374"
      ],
      "metadata": {
        "id": "AGXNP6v6pILS"
      }
    },
    {
      "cell_type": "code",
      "source": [
        "import heapq\n",
        "\n",
        "n = int(input())\n",
        "lectures = [list(map(int, input().split()))[1:] for _ in range(n)]\n",
        "\n",
        "lectures.sort(key=lambda x: x[0])\n",
        "\n",
        "rooms = []\n",
        "\n",
        "for start, end in lectures:\n",
        "\n",
        "    if rooms and rooms[0] <= start:\n",
        "        heapq.heappop(rooms)\n",
        "    heapq.heappush(rooms, end)\n",
        "\n",
        "print(len(rooms))"
      ],
      "metadata": {
        "colab": {
          "base_uri": "https://localhost:8080/"
        },
        "id": "_Qf3sPIHplrO",
        "outputId": "24e8c8c1-d8e8-49c5-cd69-a5e136a2fb58"
      },
      "execution_count": null,
      "outputs": [
        {
          "output_type": "stream",
          "name": "stdout",
          "text": [
            "8\n",
            "6 15 21\n",
            "7 20 25\n",
            "1 3 8\n",
            "3 2 14\n",
            "8 6 27\n",
            "2 7 13\n",
            "4 12 18\n",
            "5 6 20\n",
            "5\n"
          ]
        }
      ]
    },
    {
      "cell_type": "markdown",
      "source": [
        "###5-14728"
      ],
      "metadata": {
        "id": "w61t8jRkp9dw"
      }
    },
    {
      "cell_type": "code",
      "source": [
        "n, t = map(int, input().split())\n",
        "chapters = [tuple(map(int, input().split())) for _ in range(n)]\n",
        "\n",
        "dp = [0] * (t + 1)\n",
        "\n",
        "for k, s in chapters:\n",
        "\n",
        "    for time in range(t, k - 1, -1):\n",
        "        dp[time] = max(dp[time], dp[time - k] + s)\n",
        "\n",
        "print(dp[t])"
      ],
      "metadata": {
        "colab": {
          "base_uri": "https://localhost:8080/"
        },
        "id": "ibmf21OlqC9t",
        "outputId": "88d86ce3-b5ee-44c0-f907-752b7937a143"
      },
      "execution_count": null,
      "outputs": [
        {
          "output_type": "stream",
          "name": "stdout",
          "text": [
            "3 310\n",
            "50 40\n",
            "100 70\n",
            "200 150\n",
            "220\n"
          ]
        }
      ]
    },
    {
      "cell_type": "markdown",
      "source": [
        "#2/21"
      ],
      "metadata": {
        "id": "hE8l5KGcctiK"
      }
    },
    {
      "cell_type": "markdown",
      "source": [
        "###1-19598"
      ],
      "metadata": {
        "id": "FCaSCvN5cv-2"
      }
    },
    {
      "cell_type": "code",
      "source": [
        "import heapq\n",
        "import sys\n",
        "input = sys.stdin.read\n",
        "\n",
        "data = input().splitlines()\n",
        "n = int(data[0])\n",
        "meetings = [tuple(map(int, line.split())) for line in data[1:]]\n",
        "\n",
        "meetings.sort()\n",
        "\n",
        "min_heap = []\n",
        "heapq.heappush(min_heap, meetings[0][1])\n",
        "\n",
        "for i in range(1, n):\n",
        "    start, end = meetings[i]\n",
        "\n",
        "    if start >= min_heap[0]:\n",
        "        heapq.heappop(min_heap)\n",
        "\n",
        "    heapq.heappush(min_heap, end)\n",
        "\n",
        "print(len(min_heap))"
      ],
      "metadata": {
        "id": "A8zyjrbfczRr"
      },
      "execution_count": null,
      "outputs": []
    },
    {
      "cell_type": "markdown",
      "source": [
        "###2-20437"
      ],
      "metadata": {
        "id": "Qyv8JY5rdn1q"
      }
    },
    {
      "cell_type": "code",
      "source": [
        "import sys\n",
        "input = sys.stdin.read\n",
        "\n",
        "data = input().splitlines()\n",
        "T = int(data[0])\n",
        "results = []\n",
        "\n",
        "for t in range(T):\n",
        "    W = data[2 * t + 1]\n",
        "    K = int(data[2 * t + 2])\n",
        "\n",
        "    positions = {}\n",
        "    for i, char in enumerate(W):\n",
        "\n",
        "        if char not in positions:\n",
        "            positions[char] = []\n",
        "        positions[char].append(i)\n",
        "\n",
        "    min_length = float('inf')\n",
        "    max_length = -1\n",
        "\n",
        "    for char, pos in positions.items():\n",
        "\n",
        "        if len(pos) < K:\n",
        "            continue\n",
        "\n",
        "        for i in range(len(pos) - K + 1):\n",
        "            length = pos[i + K - 1] - pos[i] + 1\n",
        "            min_length = min(min_length, length)\n",
        "            max_length = max(max_length, length)\n",
        "\n",
        "    if min_length == float('inf') or max_length == -1:\n",
        "        results.append(\"-1\")\n",
        "\n",
        "    else:\n",
        "        results.append(f\"{min_length} {max_length}\")\n",
        "\n",
        "sys.stdout.write(\"\\n\".join(results) + \"\\n\")"
      ],
      "metadata": {
        "id": "OZlDbQGAdq55"
      },
      "execution_count": null,
      "outputs": []
    },
    {
      "cell_type": "markdown",
      "source": [
        "###3-15591"
      ],
      "metadata": {
        "id": "1U6DZ871zft6"
      }
    },
    {
      "cell_type": "code",
      "source": [
        "from collections import deque\n",
        "import sys\n",
        "input = sys.stdin.readline\n",
        "\n",
        "n, q = map(int, input().split())\n",
        "graph = [[] for _ in range(n+1)]\n",
        "\n",
        "for _ in range(n-1):\n",
        "    a, b, usado = (map(int, input().split()))\n",
        "    graph[a].append((b, usado))\n",
        "    graph[b].append((a, usado))\n",
        "\n",
        "for i in range(q):\n",
        "    k, v = map(int, input().split())\n",
        "    visited = [False] * (n + 1)\n",
        "    visited[v] = True\n",
        "    result = 0\n",
        "    q = deque([(v, float('inf'))])\n",
        "\n",
        "    while q:\n",
        "        v, usado = q.pop()\n",
        "\n",
        "        for next_v, next_usado in graph[v]:\n",
        "            next_usado = min(usado, next_usado)\n",
        "\n",
        "            if next_usado >= k and not visited[next_v]:\n",
        "                result += 1\n",
        "                q.append((next_v, next_usado))\n",
        "                visited[next_v] = True\n",
        "\n",
        "    print(result)"
      ],
      "metadata": {
        "id": "ldDaF12Qzh0l"
      },
      "execution_count": null,
      "outputs": []
    },
    {
      "cell_type": "markdown",
      "source": [
        "###4-1484"
      ],
      "metadata": {
        "id": "dwQNCp0s02Ht"
      }
    },
    {
      "cell_type": "code",
      "source": [
        "G = int(input())\n",
        "\n",
        "left = 1\n",
        "right = 2\n",
        "\n",
        "ans = []\n",
        "\n",
        "while True:\n",
        "\n",
        "    if right ** 2 - (right-1)**2 > 100000:\n",
        "        break\n",
        "\n",
        "    if right ** 2 - left**2 < G:\n",
        "        right +=1\n",
        "        continue\n",
        "\n",
        "    elif right ** 2 - left**2 >G:\n",
        "        left +=1\n",
        "        continue\n",
        "\n",
        "    elif (right ** 2 - left**2) ==G:\n",
        "        ans.append(right)\n",
        "        right += 1\n",
        "        continue\n",
        "\n",
        "if ans:\n",
        "\n",
        "    for i in ans:\n",
        "        print(i)\n",
        "\n",
        "else:\n",
        "    print(-1)"
      ],
      "metadata": {
        "colab": {
          "base_uri": "https://localhost:8080/"
        },
        "id": "uy9DEWs003yj",
        "outputId": "79e8e34f-9d7c-4dbe-ce9a-3e70a8f988ec"
      },
      "execution_count": null,
      "outputs": [
        {
          "output_type": "stream",
          "name": "stdout",
          "text": [
            "15\n",
            "4\n",
            "8\n"
          ]
        }
      ]
    },
    {
      "cell_type": "markdown",
      "source": [
        "###5-11058"
      ],
      "metadata": {
        "id": "3sSCOD2R4f3d"
      }
    },
    {
      "cell_type": "code",
      "source": [
        "N = int(input())\n",
        "\n",
        "dp = [0] * (N + 1)\n",
        "\n",
        "for i in range(1, min(N + 1, 7)):\n",
        "    dp[i] = i\n",
        "\n",
        "for i in range(7, N + 1):\n",
        "\n",
        "    for j in range(i - 3, 0, -1):\n",
        "        dp[i] = max(dp[i], dp[j] * (i - j - 1))\n",
        "\n",
        "print(dp[N])"
      ],
      "metadata": {
        "colab": {
          "base_uri": "https://localhost:8080/"
        },
        "id": "qLhjYZeT4mAp",
        "outputId": "f5dd7070-cb7f-4351-9889-8ac73e255670"
      },
      "execution_count": null,
      "outputs": [
        {
          "output_type": "stream",
          "name": "stdout",
          "text": [
            "3\n",
            "3\n"
          ]
        }
      ]
    },
    {
      "cell_type": "markdown",
      "source": [
        "#2/22"
      ],
      "metadata": {
        "id": "psUgqQTBungD"
      }
    },
    {
      "cell_type": "markdown",
      "source": [
        "###1-12852"
      ],
      "metadata": {
        "id": "ZMp5MhzBuqq7"
      }
    },
    {
      "cell_type": "code",
      "source": [
        "N = int(input())\n",
        "\n",
        "dp = [0] * (N + 1)\n",
        "prev = [-1] * (N + 1)\n",
        "\n",
        "for i in range(2, N + 1):\n",
        "    dp[i] = dp[i - 1] + 1\n",
        "    prev[i] = i - 1\n",
        "\n",
        "    if i % 2 == 0 and dp[i] > dp[i // 2] + 1:\n",
        "        dp[i] = dp[i // 2] + 1\n",
        "        prev[i] = i // 2\n",
        "\n",
        "    if i % 3 == 0 and dp[i] > dp[i // 3] + 1:\n",
        "        dp[i] = dp[i // 3] + 1\n",
        "        prev[i] = i // 3\n",
        "\n",
        "print(dp[N])\n",
        "\n",
        "path = []\n",
        "\n",
        "while N != -1:\n",
        "    path.append(N)\n",
        "    N = prev[N]\n",
        "\n",
        "print(*path)"
      ],
      "metadata": {
        "colab": {
          "base_uri": "https://localhost:8080/"
        },
        "id": "mAtaRPKnutA3",
        "outputId": "c205b35f-fa58-4836-f8fc-5a3b42d47996"
      },
      "execution_count": null,
      "outputs": [
        {
          "output_type": "stream",
          "name": "stdout",
          "text": [
            "10\n",
            "3\n",
            "10 9 3 1\n"
          ]
        }
      ]
    },
    {
      "cell_type": "markdown",
      "source": [
        "#2/23"
      ],
      "metadata": {
        "id": "x2tKZ4iovkRi"
      }
    },
    {
      "cell_type": "markdown",
      "source": [
        "###1-9660"
      ],
      "metadata": {
        "id": "OnhH9P7vvnY-"
      }
    },
    {
      "cell_type": "code",
      "source": [
        "N = int(input())\n",
        "\n",
        "if N % 7 == 0 or N % 7 == 2:\n",
        "    print(\"CY\")\n",
        "\n",
        "else:\n",
        "    print(\"SK\")"
      ],
      "metadata": {
        "colab": {
          "base_uri": "https://localhost:8080/"
        },
        "id": "FyAlENXHvqZV",
        "outputId": "c778a7b9-5244-4c6c-ccf8-b0361c32513d"
      },
      "execution_count": null,
      "outputs": [
        {
          "output_type": "stream",
          "name": "stdout",
          "text": [
            "6\n",
            "SK\n"
          ]
        }
      ]
    },
    {
      "cell_type": "markdown",
      "source": [
        "#2/24"
      ],
      "metadata": {
        "id": "gsybb43Ny892"
      }
    },
    {
      "cell_type": "markdown",
      "source": [
        "###1-1025"
      ],
      "metadata": {
        "id": "WWU60-2vy_LB"
      }
    },
    {
      "cell_type": "code",
      "source": [
        "import math\n",
        "\n",
        "N, M = map(int, input().split())\n",
        "grid = [input().strip() for _ in range(N)]\n",
        "\n",
        "max_square = -1\n",
        "\n",
        "for x in range(N):\n",
        "    for y in range(M):\n",
        "\n",
        "        for dx in range(-N, N):\n",
        "            for dy in range(-M, M):\n",
        "\n",
        "                if dx == 0 and dy == 0:\n",
        "                    continue\n",
        "\n",
        "                num = \"\"\n",
        "                nx, ny = x, y\n",
        "\n",
        "                while 0 <= nx < N and 0 <= ny < M:\n",
        "                    num += grid[nx][ny]\n",
        "                    value = int(num)\n",
        "\n",
        "                    sqrt_value = int(math.sqrt(value))\n",
        "                    if sqrt_value * sqrt_value == value:\n",
        "                        max_square = max(max_square, value)\n",
        "\n",
        "                    nx += dx\n",
        "                    ny += dy\n",
        "\n",
        "print(max_square)"
      ],
      "metadata": {
        "colab": {
          "base_uri": "https://localhost:8080/"
        },
        "id": "UlqYvHI1zA6l",
        "outputId": "2c028758-b8b8-4997-d05c-2993cfa3fc33"
      },
      "execution_count": null,
      "outputs": [
        {
          "output_type": "stream",
          "name": "stdout",
          "text": [
            "2 3\n",
            "123\n",
            "456\n",
            "64\n"
          ]
        }
      ]
    },
    {
      "cell_type": "markdown",
      "source": [
        "###2-10835"
      ],
      "metadata": {
        "id": "9HkzxV90zWBn"
      }
    },
    {
      "cell_type": "code",
      "source": [
        "import sys\n",
        "input = sys.stdin.readline\n",
        "\n",
        "\n",
        "def DP():\n",
        "    dp = [[-1 for _ in range(n+1)] for _ in range(n+1)]\n",
        "    dp[0][0] = 0\n",
        "    for i in range(n):\n",
        "        for j in range(n):\n",
        "            if dp[i][j] > -1:\n",
        "                dp[i+1][j+1] = max(dp[i+1][j+1], dp[i][j])\n",
        "                dp[i+1][j] = max(dp[i+1][j], dp[i][j])\n",
        "\n",
        "                if A[i] > B[j]:\n",
        "                    dp[i][j+1] = max(dp[i][j+1], dp[i][j]+B[j])\n",
        "    return dp\n",
        "\n",
        "def solution():\n",
        "    if max(A) > max(B):\n",
        "        print(sum(B))\n",
        "        return\n",
        "    dp = DP()\n",
        "    answer = max(max(dp[-1]), max([_dp[-1] for _dp in dp]) )\n",
        "    print(answer)\n",
        "\n",
        "if __name__=='__main__':\n",
        "    n = int(input())\n",
        "    A = list(map(int, input().split()))\n",
        "    B = list(map(int, input().split()))\n",
        "\n",
        "    solution()"
      ],
      "metadata": {
        "id": "BB8G6Vtize61"
      },
      "execution_count": null,
      "outputs": []
    },
    {
      "cell_type": "markdown",
      "source": [
        "###3-16938"
      ],
      "metadata": {
        "id": "-gFzo9kFzf-i"
      }
    },
    {
      "cell_type": "code",
      "source": [
        "from itertools import combinations\n",
        "\n",
        "n, L, R, X = map(int, input().split())\n",
        "A = list(map(int, input().split()))\n",
        "\n",
        "count = 0\n",
        "\n",
        "for i in range(2, n + 1):\n",
        "    for subset in combinations(A, i):\n",
        "        total = sum(subset)\n",
        "        if L <= total <= R and max(subset) - min(subset) >= X:\n",
        "            count += 1\n",
        "\n",
        "print(count)"
      ],
      "metadata": {
        "colab": {
          "base_uri": "https://localhost:8080/"
        },
        "id": "nI94wpgS04_H",
        "outputId": "75e64c2c-d7ee-4a6f-af4c-516fc728798b"
      },
      "execution_count": null,
      "outputs": [
        {
          "output_type": "stream",
          "name": "stdout",
          "text": [
            "3 5 6 1\n",
            "1 2 3\n",
            "2\n"
          ]
        }
      ]
    },
    {
      "cell_type": "markdown",
      "source": [
        "###4-2671"
      ],
      "metadata": {
        "id": "ObUGfJrK1CMj"
      }
    },
    {
      "cell_type": "code",
      "source": [
        "import re\n",
        "\n",
        "pattern = re.compile(r\"^(100+1+|01)+$\")\n",
        "\n",
        "S = input().strip()\n",
        "\n",
        "if pattern.fullmatch(S):\n",
        "    print(\"SUBMARINE\")\n",
        "else:\n",
        "    print(\"NOISE\")"
      ],
      "metadata": {
        "colab": {
          "base_uri": "https://localhost:8080/"
        },
        "id": "UAP4BVg01O8V",
        "outputId": "51ef4417-4f2f-4a4c-8184-b950b61eaa8e"
      },
      "execution_count": null,
      "outputs": [
        {
          "output_type": "stream",
          "name": "stdout",
          "text": [
            "100000000001101\n",
            "SUBMARINE\n"
          ]
        }
      ]
    },
    {
      "cell_type": "markdown",
      "source": [
        "###5-1790"
      ],
      "metadata": {
        "id": "Xaw87CSV19wx"
      }
    },
    {
      "cell_type": "code",
      "source": [
        "def find_kth_digit(N, k):\n",
        "    length = 1\n",
        "    count = 9\n",
        "    start = 1\n",
        "\n",
        "    while k > length * count:\n",
        "        k -= length * count\n",
        "        length += 1\n",
        "        count *= 10\n",
        "        start *= 10\n",
        "        if start > N:\n",
        "            return -1\n",
        "\n",
        "    num = start + (k - 1) // length\n",
        "    if num > N:\n",
        "        return -1\n",
        "\n",
        "    return str(num)[(k - 1) % length]\n",
        "\n",
        "N, k = map(int, input().split())\n",
        "print(find_kth_digit(N, k))"
      ],
      "metadata": {
        "colab": {
          "base_uri": "https://localhost:8080/"
        },
        "id": "V9MIhYFs1_w0",
        "outputId": "31d18919-aaab-4405-82c6-aa3d1d78f7c8"
      },
      "execution_count": null,
      "outputs": [
        {
          "output_type": "stream",
          "name": "stdout",
          "text": [
            "20 23\n",
            "6\n"
          ]
        }
      ]
    },
    {
      "cell_type": "markdown",
      "source": [
        "#2/25"
      ],
      "metadata": {
        "id": "t1e__gaFuK35"
      }
    },
    {
      "cell_type": "markdown",
      "source": [
        "###1-2666"
      ],
      "metadata": {
        "id": "cB5HWpf3uO_b"
      }
    },
    {
      "cell_type": "code",
      "source": [
        "def dfs(open1, open2, idx):\n",
        "    if idx == m:\n",
        "        return 0\n",
        "\n",
        "    if dp[open1][open2][idx] != -1:\n",
        "        return dp[open1][open2][idx]\n",
        "\n",
        "    target = orders[idx]\n",
        "\n",
        "    move1 = abs(open1 - target) + dfs(target, open2, idx + 1)\n",
        "    move2 = abs(open2 - target) + dfs(open1, target, idx + 1)\n",
        "\n",
        "    dp[open1][open2][idx] = min(move1, move2)\n",
        "    return dp[open1][open2][idx]\n",
        "\n",
        "\n",
        "n = int(input())\n",
        "open1, open2 = map(int, input().split())\n",
        "m = int(input())\n",
        "orders = [int(input()) for _ in range(m)]\n",
        "\n",
        "dp = [[[-1] * m for _ in range(n + 1)] for _ in range(n + 1)]\n",
        "\n",
        "print(dfs(open1, open2, 0))"
      ],
      "metadata": {
        "colab": {
          "base_uri": "https://localhost:8080/"
        },
        "id": "_7M1tKJLuYRX",
        "outputId": "bdc86bc3-4beb-49a5-868f-bd9a2f2f9297"
      },
      "execution_count": null,
      "outputs": [
        {
          "output_type": "stream",
          "name": "stdout",
          "text": [
            "7\n",
            "2 5\n",
            "4\n",
            "3\n",
            "1\n",
            "6\n",
            "5\n",
            "5\n"
          ]
        }
      ]
    },
    {
      "cell_type": "markdown",
      "source": [
        "###2-1174"
      ],
      "metadata": {
        "id": "KQ4vnbC_vBRy"
      }
    },
    {
      "cell_type": "code",
      "source": [
        "from itertools import combinations\n",
        "\n",
        "n = int(input())\n",
        "\n",
        "nums = []\n",
        "\n",
        "for i in range(1, 11):\n",
        "\n",
        "    for comb in combinations(range(10), i):\n",
        "        nums.append(int(\"\".join(map(str, sorted(comb, reverse=True)))))\n",
        "\n",
        "nums.sort()\n",
        "\n",
        "print(nums[n - 1] if n <= len(nums) else -1)"
      ],
      "metadata": {
        "colab": {
          "base_uri": "https://localhost:8080/"
        },
        "id": "q_XSuOHpvDgp",
        "outputId": "76038531-1794-43e4-d9a3-1dd1b7a20740"
      },
      "execution_count": null,
      "outputs": [
        {
          "output_type": "stream",
          "name": "stdout",
          "text": [
            "1\n",
            "0\n"
          ]
        }
      ]
    },
    {
      "cell_type": "markdown",
      "source": [
        "###3-3649"
      ],
      "metadata": {
        "id": "buLSx01vv8Lv"
      }
    },
    {
      "cell_type": "code",
      "source": [
        "while True:\n",
        "    try:\n",
        "        x = int(input())*10000000\n",
        "        n = int(input())\n",
        "\n",
        "        arr = [int(input()) for _ in range(n)]\n",
        "        arr.sort()\n",
        "        answer = []\n",
        "\n",
        "        left, right = 0, n-1\n",
        "\n",
        "        while left < right:\n",
        "            if arr[left]+arr[right] < x:\n",
        "                left += 1\n",
        "            elif arr[left]+arr[right] > x:\n",
        "                right -= 1\n",
        "            else:\n",
        "                answer = [arr[left], arr[right]]\n",
        "                break\n",
        "\n",
        "        if answer:\n",
        "            print('yes {0} {1}'.format(answer[0], answer[1]))\n",
        "        else:\n",
        "            print('danger')\n",
        "\n",
        "    except:\n",
        "        break"
      ],
      "metadata": {
        "colab": {
          "base_uri": "https://localhost:8080/"
        },
        "id": "gb8eVBjMv9wj",
        "outputId": "fddb656f-a527-4dbb-b47b-78553de54f40"
      },
      "execution_count": null,
      "outputs": [
        {
          "name": "stdout",
          "output_type": "stream",
          "text": [
            "1\n",
            "4\n",
            "9999998\n",
            "1\n",
            "2\n",
            "9999999\n",
            "yes 1 9999999\n",
            "\n"
          ]
        }
      ]
    },
    {
      "cell_type": "markdown",
      "source": [
        "###4-5904"
      ],
      "metadata": {
        "id": "SFlNaPlAxKFi"
      }
    },
    {
      "cell_type": "code",
      "source": [
        "import sys\n",
        "\n",
        "def find_moo(n, k, length):\n",
        "    prev_length = (length - (k + 3)) // 2\n",
        "\n",
        "    if n <= prev_length:\n",
        "        return find_moo(n, k - 1, prev_length)\n",
        "\n",
        "    elif n > prev_length + (k + 3):\n",
        "        return find_moo(n - prev_length - (k + 3), k - 1, prev_length)\n",
        "\n",
        "    else:\n",
        "        return \"m\" if n == prev_length + 1 else \"o\"\n",
        "\n",
        "def solve():\n",
        "    n = int(sys.stdin.readline().strip())\n",
        "\n",
        "    k = 0\n",
        "    length = 3\n",
        "\n",
        "    while length < n:\n",
        "        k += 1\n",
        "        length = 2 * length + (k + 3)\n",
        "\n",
        "    print(find_moo(n, k, length))\n",
        "\n",
        "solve()"
      ],
      "metadata": {
        "id": "W4sy97U-xM2Z"
      },
      "execution_count": null,
      "outputs": []
    },
    {
      "cell_type": "markdown",
      "source": [
        "###5-14921"
      ],
      "metadata": {
        "id": "2Eq-HXXQxphm"
      }
    },
    {
      "cell_type": "code",
      "source": [
        "import sys\n",
        "\n",
        "def find_closest_to_zero():\n",
        "    n = int(sys.stdin.readline().strip())\n",
        "    arr = list(map(int, sys.stdin.readline().split()))\n",
        "\n",
        "    left, right = 0, n - 1\n",
        "    closest_sum = arr[left] + arr[right]\n",
        "\n",
        "    while left < right:\n",
        "        mix = arr[left] + arr[right]\n",
        "\n",
        "        if abs(mix) < abs(closest_sum):\n",
        "            closest_sum = mix\n",
        "\n",
        "        if mix < 0:\n",
        "            left += 1\n",
        "        elif mix > 0:\n",
        "            right -= 1\n",
        "        else:\n",
        "            break\n",
        "\n",
        "    print(closest_sum)\n",
        "\n",
        "find_closest_to_zero()"
      ],
      "metadata": {
        "id": "O4_pvk4axrOx"
      },
      "execution_count": null,
      "outputs": []
    },
    {
      "cell_type": "markdown",
      "source": [
        "#2/26"
      ],
      "metadata": {
        "id": "pZ_oZBIVMHzL"
      }
    },
    {
      "cell_type": "markdown",
      "source": [
        "###1-3980"
      ],
      "metadata": {
        "id": "xy5oLW1EMJaF"
      }
    },
    {
      "cell_type": "code",
      "source": [
        "import sys\n",
        "\n",
        "def backtrack(position, total_ability):\n",
        "    global max_ability\n",
        "\n",
        "    if position == 11:\n",
        "        max_ability = max(max_ability, total_ability)\n",
        "        return\n",
        "\n",
        "    for player in range(11):\n",
        "        if not visited[player] and ability[player][position] > 0:\n",
        "            visited[player] = True\n",
        "            backtrack(position + 1, total_ability + ability[player][position])\n",
        "            visited[player] = False\n",
        "\n",
        "def solve():\n",
        "    global ability, visited, max_ability\n",
        "\n",
        "    c = int(sys.stdin.readline().strip())\n",
        "    results = []\n",
        "\n",
        "    for _ in range(c):\n",
        "        ability = [list(map(int, sys.stdin.readline().split())) for _ in range(11)]\n",
        "        visited = [False] * 11\n",
        "        max_ability = 0\n",
        "\n",
        "        backtrack(0, 0)\n",
        "        results.append(str(max_ability))\n",
        "\n",
        "    sys.stdout.write(\"\\n\".join(results) + \"\\n\")\n",
        "\n",
        "solve()"
      ],
      "metadata": {
        "id": "WpcITaxAMOCv"
      },
      "execution_count": null,
      "outputs": []
    },
    {
      "cell_type": "markdown",
      "source": [
        "###2-15662"
      ],
      "metadata": {
        "id": "u8CRWhekMq8f"
      }
    },
    {
      "cell_type": "code",
      "source": [
        "import sys\n",
        "from collections import deque\n",
        "\n",
        "def rotate_wheel(idx, direction):\n",
        "    global wheels, T\n",
        "\n",
        "    rotate_dir = [0] * T\n",
        "    rotate_dir[idx] = direction\n",
        "\n",
        "    for i in range(idx, 0, -1):\n",
        "        if wheels[i][6] != wheels[i - 1][2]:\n",
        "            rotate_dir[i - 1] = -rotate_dir[i]\n",
        "        else:\n",
        "            break\n",
        "\n",
        "    for i in range(idx, T - 1):\n",
        "        if wheels[i][2] != wheels[i + 1][6]:\n",
        "            rotate_dir[i + 1] = -rotate_dir[i]\n",
        "        else:\n",
        "            break\n",
        "\n",
        "    for i in range(T):\n",
        "        if rotate_dir[i] == 1:\n",
        "            wheels[i].appendleft(wheels[i].pop())\n",
        "        elif rotate_dir[i] == -1:\n",
        "            wheels[i].append(wheels[i].popleft())\n",
        "\n",
        "T = int(sys.stdin.readline().strip())\n",
        "wheels = [deque(map(int, sys.stdin.readline().strip())) for _ in range(T)]\n",
        "K = int(sys.stdin.readline().strip())\n",
        "\n",
        "for _ in range(K):\n",
        "    idx, direction = map(int, sys.stdin.readline().split())\n",
        "    rotate_wheel(idx - 1, direction)\n",
        "\n",
        "print(sum(1 for i in range(T) if wheels[i][0] == 1))"
      ],
      "metadata": {
        "id": "_N8x_agTMsW_"
      },
      "execution_count": null,
      "outputs": []
    },
    {
      "cell_type": "markdown",
      "source": [
        "###3-16927"
      ],
      "metadata": {
        "id": "vTiWubiwNNqz"
      }
    },
    {
      "cell_type": "code",
      "source": [
        "import sys\n",
        "\n",
        "def rotate_layer(layer, R):\n",
        "    R = R % len(layer)\n",
        "    return layer[R:] + layer[:R]\n",
        "\n",
        "def get_layers(N, M, array):\n",
        "    layers = []\n",
        "    min_dim = min(N, M) // 2\n",
        "\n",
        "    for depth in range(min_dim):\n",
        "        layer = []\n",
        "\n",
        "        for i in range(depth, M - depth):\n",
        "            layer.append(array[depth][i])\n",
        "\n",
        "        for i in range(depth + 1, N - depth):\n",
        "            layer.append(array[i][M - depth - 1])\n",
        "\n",
        "        for i in range(M - depth - 2, depth - 1, -1):\n",
        "            layer.append(array[N - depth - 1][i])\n",
        "\n",
        "        for i in range(N - depth - 2, depth, -1):\n",
        "            layer.append(array[i][depth])\n",
        "\n",
        "        layers.append(layer)\n",
        "\n",
        "    return layers\n",
        "\n",
        "def fill_layers(N, M, array, rotated_layers):\n",
        "    min_dim = min(N, M) // 2\n",
        "\n",
        "    for depth in range(min_dim):\n",
        "        idx = 0\n",
        "        layer = rotated_layers[depth]\n",
        "\n",
        "        for i in range(depth, M - depth):\n",
        "            array[depth][i] = layer[idx]\n",
        "            idx += 1\n",
        "\n",
        "        for i in range(depth + 1, N - depth):\n",
        "            array[i][M - depth - 1] = layer[idx]\n",
        "            idx += 1\n",
        "\n",
        "        for i in range(M - depth - 2, depth - 1, -1):\n",
        "            array[N - depth - 1][i] = layer[idx]\n",
        "            idx += 1\n",
        "\n",
        "        for i in range(N - depth - 2, depth, -1):\n",
        "            array[i][depth] = layer[idx]\n",
        "            idx += 1\n",
        "\n",
        "def rotate_matrix(N, M, R, array):\n",
        "    layers = get_layers(N, M, array)\n",
        "    rotated_layers = [rotate_layer(layer, R) for layer in layers]\n",
        "    fill_layers(N, M, array, rotated_layers)\n",
        "\n",
        "N, M, R = map(int, sys.stdin.readline().split())\n",
        "array = [list(map(int, sys.stdin.readline().split())) for _ in range(N)]\n",
        "\n",
        "rotate_matrix(N, M, R, array)\n",
        "\n",
        "for row in array:\n",
        "    print(*row)"
      ],
      "metadata": {
        "id": "gGwtkSahNQV5"
      },
      "execution_count": null,
      "outputs": []
    },
    {
      "cell_type": "markdown",
      "source": [
        "###4-7682"
      ],
      "metadata": {
        "id": "zdbOUjXINnBo"
      }
    },
    {
      "cell_type": "code",
      "source": [
        "import sys\n",
        "\n",
        "def check_winner(board, player):\n",
        "    win_patterns = [\n",
        "        (0, 1, 2), (3, 4, 5), (6, 7, 8),\n",
        "        (0, 3, 6), (1, 4, 7), (2, 5, 8),\n",
        "        (0, 4, 8), (2, 4, 6)\n",
        "    ]\n",
        "    return any(board[a] == board[b] == board[c] == player for a, b, c in win_patterns)\n",
        "\n",
        "def is_valid_tictactoe(board):\n",
        "    count_x = board.count('X')\n",
        "    count_o = board.count('O')\n",
        "\n",
        "    if not (count_x == count_o or count_x == count_o + 1):\n",
        "        return \"invalid\"\n",
        "\n",
        "    x_wins = check_winner(board, 'X')\n",
        "    o_wins = check_winner(board, 'O')\n",
        "\n",
        "    if x_wins and o_wins:\n",
        "        return \"invalid\"\n",
        "\n",
        "    if x_wins and count_x != count_o + 1:\n",
        "        return \"invalid\"\n",
        "\n",
        "    if o_wins and count_x != count_o:\n",
        "        return \"invalid\"\n",
        "\n",
        "    if not x_wins and not o_wins and '.' in board:\n",
        "        return \"invalid\"\n",
        "\n",
        "    return \"valid\"\n",
        "\n",
        "input = sys.stdin.read\n",
        "lines = input().split()\n",
        "\n",
        "for board in lines:\n",
        "    if board == \"end\":\n",
        "        break\n",
        "    print(is_valid_tictactoe(board))"
      ],
      "metadata": {
        "id": "apY3HOHkNrgu"
      },
      "execution_count": null,
      "outputs": []
    },
    {
      "cell_type": "markdown",
      "source": [
        "###5-3067"
      ],
      "metadata": {
        "id": "Nd1AEVOVOB3W"
      }
    },
    {
      "cell_type": "code",
      "source": [
        "import sys\n",
        "\n",
        "def count_coin_ways(coins, M):\n",
        "    dp = [0] * (M + 1)\n",
        "    dp[0] = 1\n",
        "\n",
        "    for coin in coins:\n",
        "        for j in range(coin, M + 1):\n",
        "            dp[j] += dp[j - coin]\n",
        "\n",
        "    return dp[M]\n",
        "\n",
        "input = sys.stdin.read\n",
        "data = input().split(\"\\n\")\n",
        "\n",
        "T = int(data[0])\n",
        "index = 1\n",
        "results = []\n",
        "\n",
        "for _ in range(T):\n",
        "    N = int(data[index])\n",
        "    coins = list(map(int, data[index + 1].split()))\n",
        "    M = int(data[index + 2])\n",
        "    index += 3\n",
        "\n",
        "    results.append(str(count_coin_ways(coins, M)))\n",
        "\n",
        "sys.stdout.write(\"\\n\".join(results) + \"\\n\")"
      ],
      "metadata": {
        "id": "85t76mOjOEcA"
      },
      "execution_count": null,
      "outputs": []
    },
    {
      "cell_type": "markdown",
      "source": [
        "#2/27"
      ],
      "metadata": {
        "id": "0ldtJf3Fnzi3"
      }
    },
    {
      "cell_type": "markdown",
      "source": [
        "###1-2229"
      ],
      "metadata": {
        "id": "ra68IqFin1tX"
      }
    },
    {
      "cell_type": "code",
      "source": [
        "n = int(input())\n",
        "\n",
        "students = list(map(int,input().split()))\n",
        "g = [0 for _ in range(1+n)]\n",
        "\n",
        "for i in range(n+1):\n",
        "\n",
        "    ma = 0\n",
        "    mi = 10001\n",
        "\n",
        "    for j in range(i,0,-1):\n",
        "        ma = max(ma,students[j-1])\n",
        "        mi = min(mi,students[j-1])\n",
        "        g[i] = max(g[i], ma - mi + g[j - 1])\n",
        "\n",
        "print(g[n])"
      ],
      "metadata": {
        "colab": {
          "base_uri": "https://localhost:8080/"
        },
        "id": "W2MrHAKun3bv",
        "outputId": "1ec3e6cf-5a88-4c23-f93e-7130442d54dd"
      },
      "execution_count": null,
      "outputs": [
        {
          "output_type": "stream",
          "name": "stdout",
          "text": [
            "10\n",
            "2 5 7 1 3 4 8 6 9 3\n",
            "20\n"
          ]
        }
      ]
    },
    {
      "cell_type": "markdown",
      "source": [
        "#2/28"
      ],
      "metadata": {
        "id": "pKucIxfv_xPI"
      }
    },
    {
      "cell_type": "markdown",
      "source": [
        "###1-1245"
      ],
      "metadata": {
        "id": "42_Jf65Y_2k8"
      }
    },
    {
      "cell_type": "code",
      "source": [
        "import sys\n",
        "from collections import deque\n",
        "\n",
        "input = sys.stdin.read\n",
        "data = input().split(\"\\n\")\n",
        "\n",
        "N, M = map(int, data[0].split())\n",
        "grid = [list(map(int, data[i + 1].split())) for i in range(N)]\n",
        "visited = [[False] * M for _ in range(N)]\n",
        "\n",
        "dx = [-1, -1, -1, 0, 0, 1, 1, 1]\n",
        "dy = [-1, 0, 1, -1, 1, -1, 0, 1]\n",
        "\n",
        "def bfs(x, y):\n",
        "    queue = deque([(x, y)])\n",
        "    visited[x][y] = True\n",
        "    height = grid[x][y]\n",
        "    is_peak = True\n",
        "\n",
        "    while queue:\n",
        "        cx, cy = queue.popleft()\n",
        "\n",
        "        for i in range(8):\n",
        "            nx, ny = cx + dx[i], cy + dy[i]\n",
        "\n",
        "            if 0 <= nx < N and 0 <= ny < M:\n",
        "                if grid[nx][ny] > height:\n",
        "                    is_peak = False\n",
        "                elif grid[nx][ny] == height and not visited[nx][ny]:\n",
        "                    visited[nx][ny] = True\n",
        "                    queue.append((nx, ny))\n",
        "\n",
        "    return is_peak\n",
        "\n",
        "peak_count = 0\n",
        "for i in range(N):\n",
        "    for j in range(M):\n",
        "        if not visited[i][j]:\n",
        "            if bfs(i, j):\n",
        "                peak_count += 1\n",
        "\n",
        "print(peak_count)"
      ],
      "metadata": {
        "id": "j1dEg7KF_6C5"
      },
      "execution_count": null,
      "outputs": []
    },
    {
      "cell_type": "markdown",
      "source": [
        "#3/1"
      ],
      "metadata": {
        "id": "E89ka-crJio_"
      }
    },
    {
      "cell_type": "markdown",
      "source": [
        "###1-11509"
      ],
      "metadata": {
        "id": "wyP01QRgJmY6"
      }
    },
    {
      "cell_type": "code",
      "source": [
        "import sys\n",
        "\n",
        "input = sys.stdin.read\n",
        "data = input().split()\n",
        "\n",
        "N = int(data[0])\n",
        "heights = list(map(int, data[1:]))\n",
        "\n",
        "arrow_count = {}\n",
        "arrows = 0\n",
        "\n",
        "for h in heights:\n",
        "    if arrow_count.get(h, 0) > 0:\n",
        "        arrow_count[h] -= 1\n",
        "    else:\n",
        "        arrows += 1\n",
        "    arrow_count[h - 1] = arrow_count.get(h - 1, 0) + 1\n",
        "\n",
        "print(arrows)"
      ],
      "metadata": {
        "id": "YE9SyXP1JoPE"
      },
      "execution_count": null,
      "outputs": []
    },
    {
      "cell_type": "markdown",
      "source": [
        "#3/2"
      ],
      "metadata": {
        "id": "K7EqzyEy4MsQ"
      }
    },
    {
      "cell_type": "markdown",
      "source": [
        "###1-17396"
      ],
      "metadata": {
        "id": "57dxmjA94SdW"
      }
    },
    {
      "cell_type": "code",
      "source": [
        "import sys\n",
        "import heapq\n",
        "\n",
        "input = sys.stdin.read\n",
        "data = input().split()\n",
        "\n",
        "N, M = int(data[0]), int(data[1])\n",
        "vision = list(map(int, data[2:N+2]))\n",
        "edges = data[N+2:]\n",
        "\n",
        "graph = [[] for _ in range(N)]\n",
        "\n",
        "for i in range(M):\n",
        "    a, b, t = map(int, edges[i*3:i*3+3])\n",
        "    if (vision[a] == 0 or a == N-1) and (vision[b] == 0 or b == N-1):\n",
        "        graph[a].append((t, b))\n",
        "        graph[b].append((t, a))\n",
        "\n",
        "INF = float('inf')\n",
        "dist = [INF] * N\n",
        "dist[0] = 0\n",
        "\n",
        "pq = [(0, 0)]\n",
        "\n",
        "while pq:\n",
        "    cost, node = heapq.heappop(pq)\n",
        "    if cost > dist[node]:\n",
        "        continue\n",
        "    for weight, neighbor in graph[node]:\n",
        "        new_cost = cost + weight\n",
        "        if new_cost < dist[neighbor]:\n",
        "            dist[neighbor] = new_cost\n",
        "            heapq.heappush(pq, (new_cost, neighbor))\n",
        "\n",
        "print(dist[N-1] if dist[N-1] != INF else -1)"
      ],
      "metadata": {
        "id": "5qLCL84m4V88"
      },
      "execution_count": null,
      "outputs": []
    },
    {
      "cell_type": "markdown",
      "source": [
        "#3/3"
      ],
      "metadata": {
        "id": "DePqfI0U77NL"
      }
    },
    {
      "cell_type": "markdown",
      "source": [
        "###1-19539"
      ],
      "metadata": {
        "id": "oy6Ov9i17_hx"
      }
    },
    {
      "cell_type": "code",
      "source": [
        "import sys\n",
        "\n",
        "N = int(sys.stdin.readline().strip())\n",
        "h = list(map(int, sys.stdin.readline().split()))\n",
        "\n",
        "cnt = sum(i // 2 for i in h)\n",
        "\n",
        "if sum(h) % 3 == 0 and cnt >= (sum(h) // 3):\n",
        "    print(\"YES\")\n",
        "else:\n",
        "    print(\"NO\")"
      ],
      "metadata": {
        "id": "4MGFDMdx7-T9"
      },
      "execution_count": null,
      "outputs": []
    },
    {
      "cell_type": "markdown",
      "source": [
        "#3/4"
      ],
      "metadata": {
        "id": "CGcUhqrmR63y"
      }
    },
    {
      "cell_type": "markdown",
      "source": [
        "###1-22862"
      ],
      "metadata": {
        "id": "PmCT_9mgSG0Y"
      }
    },
    {
      "cell_type": "code",
      "source": [
        "import sys\n",
        "\n",
        "N, K = map(int, sys.stdin.readline().split())\n",
        "S = list(map(int, sys.stdin.readline().split()))\n",
        "\n",
        "left = 0\n",
        "odd_count = 0\n",
        "max_length = 0\n",
        "\n",
        "for right in range(N):\n",
        "    if S[right] % 2 == 1:\n",
        "        odd_count += 1\n",
        "\n",
        "    while odd_count > K:\n",
        "        if S[left] % 2 == 1:\n",
        "            odd_count -= 1\n",
        "        left += 1\n",
        "\n",
        "    max_length = max(max_length, right - left + 1 - odd_count)\n",
        "\n",
        "print(max_length)"
      ],
      "metadata": {
        "id": "_oHpHsKySJXo"
      },
      "execution_count": null,
      "outputs": []
    },
    {
      "cell_type": "markdown",
      "source": [
        "#3/5"
      ],
      "metadata": {
        "id": "4tP7ON8ieE9v"
      }
    },
    {
      "cell_type": "markdown",
      "source": [
        "###1-17352"
      ],
      "metadata": {
        "id": "x30gPZdMeLmp"
      }
    },
    {
      "cell_type": "code",
      "source": [
        "import sys\n",
        "from collections import deque\n",
        "\n",
        "def find_components(n, edges):\n",
        "    graph = [[] for _ in range(n + 1)]\n",
        "    visited = [False] * (n + 1)\n",
        "\n",
        "    for a, b in edges:\n",
        "        graph[a].append(b)\n",
        "        graph[b].append(a)\n",
        "\n",
        "    def bfs(start):\n",
        "        queue = deque([start])\n",
        "        visited[start] = True\n",
        "        component = []\n",
        "\n",
        "        while queue:\n",
        "            node = queue.popleft()\n",
        "            component.append(node)\n",
        "            for neighbor in graph[node]:\n",
        "                if not visited[neighbor]:\n",
        "                    visited[neighbor] = True\n",
        "                    queue.append(neighbor)\n",
        "\n",
        "        return component\n",
        "\n",
        "    components = []\n",
        "    for i in range(1, n + 1):\n",
        "        if not visited[i]:\n",
        "            components.append(bfs(i))\n",
        "            if len(components) == 2:\n",
        "                break\n",
        "\n",
        "    return components[0][0], components[1][0]\n",
        "\n",
        "n = int(sys.stdin.readline().strip())\n",
        "edges = [tuple(map(int, sys.stdin.readline().split())) for _ in range(n - 2)]\n",
        "\n",
        "island1, island2 = find_components(n, edges)\n",
        "print(island1, island2)"
      ],
      "metadata": {
        "id": "VePp4CzLePMN"
      },
      "execution_count": null,
      "outputs": []
    },
    {
      "cell_type": "markdown",
      "source": [
        "#3/6"
      ],
      "metadata": {
        "id": "kmU-_90SV7gS"
      }
    },
    {
      "cell_type": "markdown",
      "source": [
        "###1-15927"
      ],
      "metadata": {
        "id": "TOL7QpjMWBcx"
      }
    },
    {
      "cell_type": "code",
      "source": [
        "import sys\n",
        "\n",
        "def longest_non_palindrome(s):\n",
        "    if s != s[::-1]:\n",
        "        return len(s)\n",
        "\n",
        "    if len(set(s)) == 1:\n",
        "        return -1\n",
        "\n",
        "    return len(s) - 1\n",
        "\n",
        "s = sys.stdin.readline().strip()\n",
        "print(longest_non_palindrome(s))"
      ],
      "metadata": {
        "id": "HZW0vK48WDnx"
      },
      "execution_count": null,
      "outputs": []
    },
    {
      "cell_type": "markdown",
      "source": [
        "###2-2608"
      ],
      "metadata": {
        "id": "O023EVcxWJrM"
      }
    },
    {
      "cell_type": "code",
      "source": [
        "import sys\n",
        "\n",
        "def roman_to_int(s):\n",
        "    roman_dict = {'I': 1, 'V': 5, 'X': 10, 'L': 50, 'C': 100, 'D': 500, 'M': 1000}\n",
        "    special_cases = {'IV': 4, 'IX': 9, 'XL': 40, 'XC': 90, 'CD': 400, 'CM': 900}\n",
        "\n",
        "    i, num = 0, 0\n",
        "    while i < len(s):\n",
        "        if i < len(s) - 1 and s[i:i+2] in special_cases:\n",
        "            num += special_cases[s[i:i+2]]\n",
        "            i += 2\n",
        "        else:\n",
        "            num += roman_dict[s[i]]\n",
        "            i += 1\n",
        "    return num\n",
        "\n",
        "def int_to_roman(n):\n",
        "    value_map = [\n",
        "        (1000, 'M'), (900, 'CM'), (500, 'D'), (400, 'CD'),\n",
        "        (100, 'C'), (90, 'XC'), (50, 'L'), (40, 'XL'),\n",
        "        (10, 'X'), (9, 'IX'), (5, 'V'), (4, 'IV'), (1, 'I')\n",
        "    ]\n",
        "\n",
        "    result = []\n",
        "    for value, symbol in value_map:\n",
        "        while n >= value:\n",
        "            result.append(symbol)\n",
        "            n -= value\n",
        "    return ''.join(result)\n",
        "\n",
        "r1 = sys.stdin.readline().strip()\n",
        "r2 = sys.stdin.readline().strip()\n",
        "\n",
        "num1 = roman_to_int(r1)\n",
        "num2 = roman_to_int(r2)\n",
        "total = num1 + num2\n",
        "\n",
        "print(total)\n",
        "print(int_to_roman(total))"
      ],
      "metadata": {
        "id": "sjDpnPgMWPHK"
      },
      "execution_count": null,
      "outputs": []
    },
    {
      "cell_type": "markdown",
      "source": [
        "###3-2877"
      ],
      "metadata": {
        "id": "oTP3AJSkWQ-i"
      }
    },
    {
      "cell_type": "code",
      "source": [
        "n = int(input())\n",
        "s = format(n+1, 'b')\n",
        "\n",
        "s = s[1:]\n",
        "\n",
        "print(s.replace('0', '4').replace('1', '7'))"
      ],
      "metadata": {
        "colab": {
          "base_uri": "https://localhost:8080/"
        },
        "id": "uKraGaBTWspL",
        "outputId": "91da0199-5710-4690-d5d8-65ca2eafc553"
      },
      "execution_count": null,
      "outputs": [
        {
          "output_type": "stream",
          "name": "stdout",
          "text": [
            "1\n",
            "4\n"
          ]
        }
      ]
    },
    {
      "cell_type": "markdown",
      "source": [
        "#3/7"
      ],
      "metadata": {
        "id": "DxfA5ZUrXfA-"
      }
    },
    {
      "cell_type": "markdown",
      "source": [
        "###1-2410"
      ],
      "metadata": {
        "id": "mZ5ePdtnXg80"
      }
    },
    {
      "cell_type": "code",
      "source": [
        "N = int(input())\n",
        "MOD = 1_000_000_000\n",
        "\n",
        "dp = [0] * (N + 1)\n",
        "dp[0] = 1\n",
        "\n",
        "power_of_two = []\n",
        "p = 1\n",
        "while p <= N:\n",
        "    power_of_two.append(p)\n",
        "    p *= 2\n",
        "\n",
        "for p in power_of_two:\n",
        "    for i in range(p, N + 1):\n",
        "        dp[i] = (dp[i] + dp[i - p]) % MOD\n",
        "\n",
        "print(dp[N])"
      ],
      "metadata": {
        "colab": {
          "base_uri": "https://localhost:8080/"
        },
        "id": "GDctQ65PXlOO",
        "outputId": "c07be180-e85c-4461-a335-5658d872ce70"
      },
      "execution_count": null,
      "outputs": [
        {
          "output_type": "stream",
          "name": "stdout",
          "text": [
            "7\n",
            "6\n"
          ]
        }
      ]
    },
    {
      "cell_type": "markdown",
      "source": [
        "###2-1660"
      ],
      "metadata": {
        "id": "BYSzF0NYY1QD"
      }
    },
    {
      "cell_type": "code",
      "source": [
        "N = int(input())\n",
        "\n",
        "pyramids = []\n",
        "n = 1\n",
        "\n",
        "while (p := (n * (n + 1) * (n + 2)) // 6) <= N:\n",
        "    pyramids.append(p)\n",
        "    n += 1\n",
        "\n",
        "dp = [float('inf')] * (N + 1)\n",
        "dp[0] = 0\n",
        "\n",
        "for p in pyramids:\n",
        "    for i in range(p, N + 1):\n",
        "        dp[i] = min(dp[i], dp[i - p] + 1)\n",
        "\n",
        "print(dp[N])"
      ],
      "metadata": {
        "id": "l8S3tvKbY92Q"
      },
      "execution_count": null,
      "outputs": []
    },
    {
      "cell_type": "markdown",
      "source": [
        "###3-1756"
      ],
      "metadata": {
        "id": "v-GPSwahZSOo"
      }
    },
    {
      "cell_type": "code",
      "source": [
        "import sys\n",
        "\n",
        "D, N = map(int, sys.stdin.readline().split())\n",
        "oven = list(map(int, sys.stdin.readline().split()))\n",
        "pizza = list(map(int, sys.stdin.readline().split()))\n",
        "\n",
        "for i in range(1, D):\n",
        "    oven[i] = min(oven[i], oven[i - 1])\n",
        "\n",
        "depth = D\n",
        "\n",
        "for p in pizza:\n",
        "\n",
        "    while depth > 0 and oven[depth - 1] < p:\n",
        "        depth -= 1\n",
        "\n",
        "    if depth == 0:\n",
        "        print(0)\n",
        "        sys.exit()\n",
        "\n",
        "    depth -= 1\n",
        "\n",
        "print(depth + 1)"
      ],
      "metadata": {
        "id": "f0mLSiq_ZT8Q"
      },
      "execution_count": null,
      "outputs": []
    },
    {
      "cell_type": "markdown",
      "source": [
        "#3/8"
      ],
      "metadata": {
        "id": "aYazd9taxLmH"
      }
    },
    {
      "cell_type": "markdown",
      "source": [
        "###1-1263"
      ],
      "metadata": {
        "id": "1qcLY4hQxOW8"
      }
    },
    {
      "cell_type": "code",
      "source": [
        "import sys\n",
        "\n",
        "N = int(sys.stdin.readline().strip())\n",
        "tasks = [tuple(map(int, sys.stdin.readline().split())) for _ in range(N)]\n",
        "\n",
        "tasks.sort(key=lambda x: x[1], reverse=True)\n",
        "\n",
        "latest_time = tasks[0][1]\n",
        "\n",
        "for Ti, Si in tasks:\n",
        "    latest_time = min(latest_time, Si)\n",
        "    latest_time -= Ti\n",
        "\n",
        "    if latest_time < 0:\n",
        "        print(-1)\n",
        "        sys.exit()\n",
        "\n",
        "print(latest_time)"
      ],
      "metadata": {
        "id": "zLzdroSQxUfL"
      },
      "execution_count": null,
      "outputs": []
    },
    {
      "cell_type": "markdown",
      "source": [
        "#3/9"
      ],
      "metadata": {
        "id": "l4mgGhl42sB6"
      }
    },
    {
      "cell_type": "markdown",
      "source": [
        "###1-14284"
      ],
      "metadata": {
        "id": "-0UUFg4U2uI9"
      }
    },
    {
      "cell_type": "code",
      "source": [
        "import heapq\n",
        "import sys\n",
        "INF = sys.maxsize\n",
        "\n",
        "def dijkstra(start):\n",
        "    q = []\n",
        "    heapq.heappush(q, (0, start))\n",
        "    dis[start] = 0\n",
        "    while q:\n",
        "        d, now = heapq.heappop(q)\n",
        "\n",
        "        if dis[now] < d:\n",
        "            continue\n",
        "\n",
        "        for v, w in graph[now]:\n",
        "            cost = d + w\n",
        "\n",
        "            if cost < dis[v]:\n",
        "                dis[v] = cost\n",
        "                heapq.heappush(q, (cost, v))\n",
        "\n",
        "n, m = map(int, input().split())\n",
        "graph = [[] for _ in range(n+1)]\n",
        "dis = [INF]*(n+1)\n",
        "\n",
        "for _ in range(m):\n",
        "    a, b, c = map(int, input().split())\n",
        "    graph[a].append((b, c))\n",
        "    graph[b].append((a, c))\n",
        "\n",
        "s, t = map(int, input().split())\n",
        "dijkstra(s)\n",
        "\n",
        "print(dis[t])"
      ],
      "metadata": {
        "id": "VbvG8QED2wY8"
      },
      "execution_count": null,
      "outputs": []
    },
    {
      "cell_type": "markdown",
      "source": [
        "#3/10"
      ],
      "metadata": {
        "id": "3fIQvxZo0JKp"
      }
    },
    {
      "cell_type": "markdown",
      "source": [
        "###1-6443"
      ],
      "metadata": {
        "id": "FpfElOl20L5H"
      }
    },
    {
      "cell_type": "code",
      "source": [
        "import sys\n",
        "\n",
        "def back_tracking(cnt):\n",
        "\n",
        "    if cnt == len(word):\n",
        "        print(\"\".join(answer))\n",
        "        return\n",
        "\n",
        "    for k in visited:\n",
        "        if visited[k]:\n",
        "            visited[k] -= 1\n",
        "            answer.append(k)\n",
        "            back_tracking(cnt + 1)\n",
        "            visited[k] += 1\n",
        "            answer.pop()\n",
        "\n",
        "n = int(sys.stdin.readline())\n",
        "\n",
        "for _ in range(n):\n",
        "    word = sorted(list(map(str, sys.stdin.readline().strip())))\n",
        "    visited = {}\n",
        "    answer = []\n",
        "\n",
        "    for i in word:\n",
        "        if i in visited:\n",
        "            visited[i] += 1\n",
        "        else:\n",
        "            visited[i] = 1\n",
        "\n",
        "    back_tracking(0)"
      ],
      "metadata": {
        "colab": {
          "base_uri": "https://localhost:8080/"
        },
        "id": "dJ7i8f_v0cVQ",
        "outputId": "c78e8ea0-cd49-46a1-a575-1ed7c599a187"
      },
      "execution_count": null,
      "outputs": [
        {
          "output_type": "stream",
          "name": "stdout",
          "text": [
            "2\n",
            "abc\n",
            "acba\n",
            "abc\n",
            "acb\n",
            "bac\n",
            "bca\n",
            "cab\n",
            "cba\n",
            "aabc\n",
            "aacb\n",
            "abac\n",
            "abca\n",
            "acab\n",
            "acba\n",
            "baac\n",
            "baca\n",
            "bcaa\n",
            "caab\n",
            "caba\n",
            "cbaa\n"
          ]
        }
      ]
    },
    {
      "cell_type": "markdown",
      "source": [
        "###2-20500"
      ],
      "metadata": {
        "id": "g6q5cFAc1LV7"
      }
    },
    {
      "cell_type": "code",
      "source": [
        "N = int(input())\n",
        "MOD = 1000000007\n",
        "\n",
        "dp = [[0] * 3 for _ in range(N + 1)]\n",
        "dp[1][1] = 1\n",
        "dp[1][2] = 0\n",
        "\n",
        "for i in range(2, N + 1):\n",
        "    dp[i][0] = (dp[i - 1][1] + dp[i - 1][2]) % MOD\n",
        "    dp[i][1] = (dp[i - 1][0] + dp[i - 1][2]) % MOD\n",
        "    dp[i][2] = (dp[i - 1][0] + dp[i - 1][1]) % MOD\n",
        "\n",
        "print(dp[N][0])"
      ],
      "metadata": {
        "colab": {
          "base_uri": "https://localhost:8080/"
        },
        "id": "tIVypsdD2a0t",
        "outputId": "09d034b6-79b3-4094-b283-0c505069f7e3"
      },
      "execution_count": null,
      "outputs": [
        {
          "output_type": "stream",
          "name": "stdout",
          "text": [
            "1515\n",
            "939178250\n"
          ]
        }
      ]
    },
    {
      "cell_type": "markdown",
      "source": [
        "###3-1990"
      ],
      "metadata": {
        "id": "NQGa0cWI4eim"
      }
    },
    {
      "cell_type": "code",
      "source": [
        "from math import sqrt\n",
        "\n",
        "a, b = map(int, input().split())\n",
        "\n",
        "def palindrom(num):\n",
        "    str_num = str(num)\n",
        "    l = len(str_num)\n",
        "    for i in range(l):\n",
        "        if str_num[i] != str_num[l-1-i]:\n",
        "            return False\n",
        "    return True\n",
        "\n",
        "for i in range(a, min(b+1, 10_000_000)):\n",
        "    flag = True\n",
        "    if palindrom(i):\n",
        "        for j in range(2, int(sqrt(i))+1):\n",
        "            if i % j == 0:\n",
        "                flag = False\n",
        "                break\n",
        "        if flag:\n",
        "            print(i)\n",
        "\n",
        "print(-1)"
      ],
      "metadata": {
        "id": "avio66zR4gpw"
      },
      "execution_count": null,
      "outputs": []
    },
    {
      "cell_type": "markdown",
      "source": [
        "#3/11"
      ],
      "metadata": {
        "id": "D-Pczk59v5_e"
      }
    },
    {
      "cell_type": "markdown",
      "source": [
        "###1-10253"
      ],
      "metadata": {
        "id": "qt-bWnovv8Xz"
      }
    },
    {
      "cell_type": "code",
      "source": [
        "import sys\n",
        "\n",
        "def cal(a, b, visited):\n",
        "    x = b // a\n",
        "    x += 1 if b % a != 0 else 0\n",
        "    while x in visited:\n",
        "        x += 1\n",
        "    return x\n",
        "\n",
        "N = int(sys.stdin.readline())\n",
        "for _ in range(N):\n",
        "    a, b = map(int, sys.stdin.readline().split())\n",
        "    x = b\n",
        "    visited = set()\n",
        "    if a != 1:\n",
        "        while True:\n",
        "            x = cal(a, b, visited)\n",
        "            a = (a * x) - b\n",
        "            b = b * x\n",
        "            visited.add(x)\n",
        "            if a == 0:\n",
        "                break\n",
        "    print(x)"
      ],
      "metadata": {
        "id": "zn9gddDWv-Uy"
      },
      "execution_count": null,
      "outputs": []
    },
    {
      "cell_type": "markdown",
      "source": [
        "#3/12"
      ],
      "metadata": {
        "id": "BZRDI23vme3s"
      }
    },
    {
      "cell_type": "markdown",
      "source": [
        "###1-17845"
      ],
      "metadata": {
        "id": "-uDx7VEPmhL5"
      }
    },
    {
      "cell_type": "code",
      "source": [
        "import sys\n",
        "\n",
        "def max_importance(N, K, subjects):\n",
        "    dp = [0] * (N + 1)\n",
        "\n",
        "    for I, T in subjects:\n",
        "        for j in range(N, T - 1, -1):\n",
        "            dp[j] = max(dp[j], dp[j - T] + I)\n",
        "\n",
        "    return max(dp)\n",
        "\n",
        "N, K = map(int, sys.stdin.readline().split())\n",
        "subjects = [tuple(map(int, sys.stdin.readline().split())) for _ in range(K)]\n",
        "\n",
        "print(max_importance(N, K, subjects))"
      ],
      "metadata": {
        "id": "-O-6Axy-m0NC"
      },
      "execution_count": null,
      "outputs": []
    },
    {
      "cell_type": "markdown",
      "source": [
        "#3/13"
      ],
      "metadata": {
        "id": "9IXq6MA1TxCe"
      }
    },
    {
      "cell_type": "markdown",
      "source": [
        "###1-2591"
      ],
      "metadata": {
        "id": "5XmrCpJdTyvX"
      }
    },
    {
      "cell_type": "code",
      "source": [
        "def count_ways(s):\n",
        "    n = len(s)\n",
        "    dp = [0] * (n + 1)\n",
        "    dp[0] = 1\n",
        "\n",
        "    for i in range(1, n + 1):\n",
        "        if 1 <= int(s[i - 1]) <= 9:\n",
        "            dp[i] += dp[i - 1]\n",
        "        if i > 1 and 10 <= int(s[i - 2:i]) <= 34:\n",
        "            dp[i] += dp[i - 2]\n",
        "\n",
        "    return dp[n]\n",
        "\n",
        "s = input().strip()\n",
        "print(count_ways(s))"
      ],
      "metadata": {
        "colab": {
          "base_uri": "https://localhost:8080/"
        },
        "id": "-Kml9WjOT0r3",
        "outputId": "950d9fd0-5fe0-4f2f-912e-b52716e6bed0"
      },
      "execution_count": null,
      "outputs": [
        {
          "output_type": "stream",
          "name": "stdout",
          "text": [
            "27123\n",
            "6\n"
          ]
        }
      ]
    },
    {
      "cell_type": "markdown",
      "source": [
        "#3/14"
      ],
      "metadata": {
        "id": "VX9MZO_SgMzI"
      }
    },
    {
      "cell_type": "markdown",
      "source": [
        "###1-15922"
      ],
      "metadata": {
        "id": "XOgsXmZegPES"
      }
    },
    {
      "cell_type": "code",
      "source": [
        "import sys\n",
        "input = sys.stdin.read\n",
        "def total_line_length():\n",
        "    input_data = input().strip().splitlines()\n",
        "    n = int(input_data[0])\n",
        "    segments = [tuple(map(int, line.split())) for line in input_data[1:]]\n",
        "\n",
        "    merged = []\n",
        "    current_start, current_end = segments[0]\n",
        "\n",
        "    for x, y in segments[1:]:\n",
        "        if y <= current_end:\n",
        "            continue\n",
        "        if x <= current_end:\n",
        "            current_end = y\n",
        "        else:\n",
        "            merged.append((current_start, current_end))\n",
        "            current_start, current_end = x, y\n",
        "\n",
        "    merged.append((current_start, current_end))\n",
        "\n",
        "    total_length = sum(y - x for x, y in merged)\n",
        "    print(total_length)\n",
        "\n",
        "if __name__ == \"__main__\":\n",
        "    total_line_length()"
      ],
      "metadata": {
        "id": "SltJhQtzgTWy"
      },
      "execution_count": null,
      "outputs": []
    },
    {
      "cell_type": "markdown",
      "source": [
        "#3/15"
      ],
      "metadata": {
        "id": "Be1gpwO74R1u"
      }
    },
    {
      "cell_type": "markdown",
      "source": [
        "###1-15558"
      ],
      "metadata": {
        "id": "ST6O_F9B4Ty_"
      }
    },
    {
      "cell_type": "code",
      "source": [
        "from collections import deque\n",
        "\n",
        "N,k = map(int,input().split())\n",
        "\n",
        "graph_left = list(map(int,input()))\n",
        "graph_right = list(map(int,input()))\n",
        "visited_left = [ 0 for _ in range(N) ]\n",
        "visited_rigth = [ 0 for _ in range(N) ]\n",
        "graph = [ graph_left, graph_right]\n",
        "visted = [visited_left, visited_rigth]\n",
        "visted[0][0]=True\n",
        "\n",
        "def bfs():\n",
        "    i = 0\n",
        "    q = deque([(i, 0,0)])\n",
        "\n",
        "    while q:\n",
        "\n",
        "        i,pos,t = q.popleft()\n",
        "        dx = [1,-1,k]\n",
        "\n",
        "        for j in range(3):\n",
        "\n",
        "            nx = i + dx[j]\n",
        "\n",
        "            if nx >= N:\n",
        "                return print(1)\n",
        "\n",
        "            if t< nx and graph[pos][nx] == 1 and j != 2:\n",
        "                if not visted[pos][nx]:\n",
        "                    visted[pos][nx] = True\n",
        "                    q.append((nx,pos,t+1))\n",
        "\n",
        "            elif t< nx and graph[1-pos][nx] == 1 and j == 2:\n",
        "                if not visted[1-pos][nx]:\n",
        "                    visted[1 - pos][nx] = True\n",
        "                    q.append((nx,1-pos,t+1))\n",
        "\n",
        "    print(0)\n",
        "\n",
        "bfs()"
      ],
      "metadata": {
        "id": "XlS2cMmy4WU3"
      },
      "execution_count": null,
      "outputs": []
    },
    {
      "cell_type": "markdown",
      "source": [
        "#3/16"
      ],
      "metadata": {
        "id": "CvkPnOplgtCl"
      }
    },
    {
      "cell_type": "markdown",
      "source": [
        "###1-20207"
      ],
      "metadata": {
        "id": "izNKm2G6gyH4"
      }
    },
    {
      "cell_type": "code",
      "source": [
        "def calendar_coating_area():\n",
        "    import sys\n",
        "    input = sys.stdin.read\n",
        "    data = input().strip().splitlines()\n",
        "\n",
        "    n = int(data[0])\n",
        "    schedules = []\n",
        "\n",
        "    for i in range(1, n + 1):\n",
        "        s, e = map(int, data[i].split())\n",
        "        schedules.append((s, e))\n",
        "\n",
        "    schedules.sort(key=lambda x: (x[0], -x[1]))\n",
        "\n",
        "    calendar = [0] * 366\n",
        "\n",
        "    for s, e in schedules:\n",
        "        for day in range(s, e + 1):\n",
        "            calendar[day] += 1\n",
        "\n",
        "    width, height, total_area = 0, 0, 0\n",
        "\n",
        "    for day in range(1, 366):\n",
        "        if calendar[day] > 0:\n",
        "            width += 1\n",
        "            height = max(height, calendar[day])\n",
        "        else:\n",
        "            total_area += width * height\n",
        "            width, height = 0, 0\n",
        "\n",
        "    total_area += width * height\n",
        "\n",
        "    print(total_area)\n",
        "\n",
        "if __name__ == \"__main__\":\n",
        "    calendar_coating_area()"
      ],
      "metadata": {
        "id": "u4ZtOwMwg0lS"
      },
      "execution_count": null,
      "outputs": []
    },
    {
      "cell_type": "markdown",
      "source": [
        "#3/17"
      ],
      "metadata": {
        "id": "VP3WCZY0yx_c"
      }
    },
    {
      "cell_type": "markdown",
      "source": [
        "###1-16936\n"
      ],
      "metadata": {
        "id": "D3MY4I6Uy1vN"
      }
    },
    {
      "cell_type": "code",
      "source": [
        "def find_sequence(n, b):\n",
        "    b = {num: 0 for num in b}\n",
        "\n",
        "    for num in b.keys():\n",
        "        cur_num = num\n",
        "\n",
        "        while num % 3 == 0:\n",
        "            b[cur_num] += 1\n",
        "            num //= 3\n",
        "\n",
        "    sort_dict = sorted(b.items(), key=lambda x: (-x[1], x[0]))\n",
        "    return [key for key, _ in sort_dict]\n",
        "\n",
        "if __name__ == '__main__':\n",
        "    n = int(input())\n",
        "    b = list(map(int, input().split()))\n",
        "    result = find_sequence(n, b)\n",
        "    print(*result)"
      ],
      "metadata": {
        "colab": {
          "base_uri": "https://localhost:8080/"
        },
        "id": "qdx0koMHy52v",
        "outputId": "262c3a9f-efa1-4323-a3f7-f5040d565724"
      },
      "execution_count": null,
      "outputs": [
        {
          "output_type": "stream",
          "name": "stdout",
          "text": [
            "6\n",
            "4 8 6 3 12 9\n",
            "9 3 6 12 4 8\n"
          ]
        }
      ]
    },
    {
      "cell_type": "markdown",
      "source": [
        "#3/18"
      ],
      "metadata": {
        "id": "BEbXdjh1gQJH"
      }
    },
    {
      "cell_type": "markdown",
      "source": [
        "###1-12931"
      ],
      "metadata": {
        "id": "g2ItQyWugUnl"
      }
    },
    {
      "cell_type": "code",
      "source": [
        "import sys\n",
        "\n",
        "N = int(sys.stdin.readline())\n",
        "B = list(map(int,sys.stdin.readline().split()))\n",
        "result = 0\n",
        "\n",
        "while True:\n",
        "    for i in range(N):\n",
        "        if B[i] % 2:\n",
        "            B[i] -= 1\n",
        "            result += 1\n",
        "\n",
        "    if sum(B) == 0:\n",
        "        break\n",
        "\n",
        "    for i in range(N):\n",
        "        B[i] /= 2\n",
        "\n",
        "    result += 1\n",
        "\n",
        "print(result)"
      ],
      "metadata": {
        "colab": {
          "base_uri": "https://localhost:8080/"
        },
        "id": "8FzZG5r4gXjY",
        "outputId": "81cf83a4-0899-4f24-d09f-de8329e6dcd2"
      },
      "execution_count": null,
      "outputs": [
        {
          "output_type": "stream",
          "name": "stdout",
          "text": [
            "1\n",
            "100\n",
            "7\n"
          ]
        }
      ]
    },
    {
      "cell_type": "markdown",
      "source": [
        "#3/19"
      ],
      "metadata": {
        "id": "fnCqLyNDrP2c"
      }
    },
    {
      "cell_type": "markdown",
      "source": [
        "###1-1577"
      ],
      "metadata": {
        "id": "msS_I87krS1u"
      }
    },
    {
      "cell_type": "code",
      "source": [
        "def count_paths(n, m, k, blocked_roads):\n",
        "    dp = [[0] * (m + 1) for _ in range(n + 1)]\n",
        "    blocked = set()\n",
        "\n",
        "    for a, b, c, d in blocked_roads:\n",
        "        blocked.add((a, b, c, d))\n",
        "        blocked.add((c, d, a, b))\n",
        "\n",
        "    dp[0][0] = 1\n",
        "\n",
        "    for i in range(n + 1):\n",
        "        for j in range(m + 1):\n",
        "            if i == 0 and j == 0:\n",
        "                continue\n",
        "\n",
        "            if i > 0 and (i - 1, j, i, j) not in blocked:\n",
        "                dp[i][j] += dp[i - 1][j]\n",
        "\n",
        "            if j > 0 and (i, j - 1, i, j) not in blocked:\n",
        "                dp[i][j] += dp[i][j - 1]\n",
        "\n",
        "    return dp[n][m]\n",
        "\n",
        "n, m = map(int, input().split())\n",
        "k = int(input())\n",
        "blocked_roads = [tuple(map(int, input().split())) for _ in range(k)]\n",
        "\n",
        "print(count_paths(n, m, k, blocked_roads))"
      ],
      "metadata": {
        "colab": {
          "base_uri": "https://localhost:8080/"
        },
        "id": "G5BO5FVErW9u",
        "outputId": "2b8a2794-ae61-4b6c-ed08-0a1a2cb1c343"
      },
      "execution_count": null,
      "outputs": [
        {
          "output_type": "stream",
          "name": "stdout",
          "text": [
            "35 31\n",
            "0\n",
            "6406484391866534976\n"
          ]
        }
      ]
    },
    {
      "cell_type": "markdown",
      "source": [
        "#3/20"
      ],
      "metadata": {
        "id": "Cr5Vc6T7asNy"
      }
    },
    {
      "cell_type": "markdown",
      "source": [
        "###1-16719"
      ],
      "metadata": {
        "id": "rfY4jPK0aunj"
      }
    },
    {
      "cell_type": "code",
      "source": [
        "import sys\n",
        "\n",
        "string = list(str(sys.stdin.readline().rstrip()))\n",
        "\n",
        "def fast_string(part_string, f_or_b, before_index):\n",
        "\n",
        "    if len(part_string)<=0:\n",
        "        return\n",
        "\n",
        "    fast_chr = min(part_string)\n",
        "    index = part_string.index(fast_chr)\n",
        "\n",
        "    if f_or_b=='b':\n",
        "        result.insert(before_index+1, fast_chr)\n",
        "        next_index = before_index + 1\n",
        "\n",
        "    elif f_or_b == 'f':\n",
        "        result.insert(before_index, fast_chr)\n",
        "        next_index = before_index\n",
        "\n",
        "    for i in result:\n",
        "        print(i, end='')\n",
        "    print()\n",
        "\n",
        "    fast_string(part_string[index+1:], 'b', next_index)\n",
        "    fast_string(part_string[:index],'f', next_index)\n",
        "\n",
        "\n",
        "result = []\n",
        "fast_string(string,'f',0)"
      ],
      "metadata": {
        "colab": {
          "base_uri": "https://localhost:8080/"
        },
        "id": "BGAKJVuiaxSb",
        "outputId": "a6189a40-8d8c-48c5-f973-f7a0918f840b"
      },
      "execution_count": null,
      "outputs": [
        {
          "output_type": "stream",
          "name": "stdout",
          "text": [
            "STARTLINK\n",
            "STA\n",
            "STARTLI\n",
            "STARTLINK\n"
          ]
        }
      ]
    },
    {
      "cell_type": "markdown",
      "source": [
        "#3/21"
      ],
      "metadata": {
        "id": "aXuCdi9ZnUUb"
      }
    },
    {
      "cell_type": "markdown",
      "source": [
        "###1-19951"
      ],
      "metadata": {
        "id": "gAqG7ISrnX9U"
      }
    },
    {
      "cell_type": "code",
      "source": [
        "import sys\n",
        "\n",
        "def update_height(n, heights, commands):\n",
        "    diff = [0] * (n + 2)\n",
        "\n",
        "    for a, b, k in commands:\n",
        "        diff[a] += k\n",
        "        diff[b + 1] -= k\n",
        "\n",
        "    for i in range(1, n + 1):\n",
        "        diff[i] += diff[i - 1]\n",
        "        heights[i - 1] += diff[i]\n",
        "\n",
        "    print(*heights)\n",
        "\n",
        "n, m = map(int, sys.stdin.readline().split())\n",
        "heights = list(map(int, sys.stdin.readline().split()))\n",
        "commands = [tuple(map(int, sys.stdin.readline().split())) for _ in range(m)]\n",
        "\n",
        "update_height(n, heights, commands)"
      ],
      "metadata": {
        "id": "qlem3mIBqCJD"
      },
      "execution_count": null,
      "outputs": []
    },
    {
      "cell_type": "markdown",
      "source": [
        "#3/22"
      ],
      "metadata": {
        "id": "q0--kTTs4hEl"
      }
    },
    {
      "cell_type": "markdown",
      "source": [
        "###1-16500"
      ],
      "metadata": {
        "id": "Lr_5z0G_4jm4"
      }
    },
    {
      "cell_type": "code",
      "source": [
        "import sys\n",
        "\n",
        "def can_construct(S, words):\n",
        "    n = len(S)\n",
        "    dp = [0] * (n + 1)\n",
        "    dp[0] = 1\n",
        "\n",
        "    for i in range(1, n + 1):\n",
        "        for word in words:\n",
        "            if i >= len(word) and dp[i - len(word)] and S[i - len(word):i] == word:\n",
        "                dp[i] = 1\n",
        "                break\n",
        "\n",
        "    print(dp[n])\n",
        "\n",
        "S = sys.stdin.readline().strip()\n",
        "N = int(sys.stdin.readline())\n",
        "words = {sys.stdin.readline().strip() for _ in range(N)}\n",
        "\n",
        "can_construct(S, words)"
      ],
      "metadata": {
        "id": "lJGryuIK4lTE"
      },
      "execution_count": null,
      "outputs": []
    },
    {
      "cell_type": "markdown",
      "source": [
        "#3/23"
      ],
      "metadata": {
        "id": "IE2yVKiB5AEj"
      }
    },
    {
      "cell_type": "markdown",
      "source": [
        "###1-1669"
      ],
      "metadata": {
        "id": "5UZ_aLrb5BzC"
      }
    },
    {
      "cell_type": "code",
      "source": [
        "def solve():\n",
        "    dif = b - a\n",
        "    day = 0\n",
        "    for i in range(1, 2 ** 31):\n",
        "        for _ in range(2):\n",
        "            if dif <= 0:\n",
        "                return day\n",
        "            day += 1\n",
        "            dif -= i\n",
        "\n",
        "\n",
        "a, b = map(int, input().split())\n",
        "print(solve())"
      ],
      "metadata": {
        "colab": {
          "base_uri": "https://localhost:8080/"
        },
        "id": "Lgt1j5AS5LuY",
        "outputId": "aef465e0-1180-4f68-ce40-eee59bdd865f"
      },
      "execution_count": null,
      "outputs": [
        {
          "output_type": "stream",
          "name": "stdout",
          "text": [
            "45 49\n",
            "3\n"
          ]
        }
      ]
    },
    {
      "cell_type": "markdown",
      "source": [
        "#3/24"
      ],
      "metadata": {
        "id": "dUwrJI_P-a1a"
      }
    },
    {
      "cell_type": "markdown",
      "source": [
        "###1-2866"
      ],
      "metadata": {
        "id": "hulg78Tm-c5e"
      }
    },
    {
      "cell_type": "code",
      "source": [
        "from collections import defaultdict\n",
        "\n",
        "R, C = map(int, input().split())\n",
        "arr = [list(input()) for _ in range(R)]\n",
        "\n",
        "result = 0\n",
        "start, end = 0, R-1\n",
        "\n",
        "while start <= end:\n",
        "    mid = (start+end)//2\n",
        "\n",
        "    isOK = True\n",
        "    dict = defaultdict(int)\n",
        "\n",
        "    for j in range(C):\n",
        "        temp = ''\n",
        "\n",
        "        for i in range(mid, R):\n",
        "            temp += str(arr[i][j])\n",
        "\n",
        "        if not dict[temp]:\n",
        "            dict[temp] += 1\n",
        "\n",
        "        else:\n",
        "            isOK = False\n",
        "            break\n",
        "\n",
        "    if isOK:\n",
        "        result = mid\n",
        "        start = mid + 1\n",
        "\n",
        "    else:\n",
        "        end = mid - 1\n",
        "\n",
        "print(result)"
      ],
      "metadata": {
        "colab": {
          "base_uri": "https://localhost:8080/"
        },
        "id": "r15VLPMS-fRf",
        "outputId": "3666ba4f-11cb-4be5-d35e-3b3ba750b3c4"
      },
      "execution_count": null,
      "outputs": [
        {
          "output_type": "stream",
          "name": "stdout",
          "text": [
            "2 6\n",
            "dobarz\n",
            "adatak\n",
            "0\n"
          ]
        }
      ]
    },
    {
      "cell_type": "markdown",
      "source": [
        "#3/25"
      ],
      "metadata": {
        "id": "ClpD0XFKcrA_"
      }
    },
    {
      "cell_type": "markdown",
      "source": [
        "###1-10597"
      ],
      "metadata": {
        "id": "BHY1F14lctd7"
      }
    },
    {
      "cell_type": "code",
      "source": [
        "import sys\n",
        "\n",
        "input = sys.stdin.readline\n",
        "word = input().rstrip()\n",
        "n = len(word) if len(word) <= 9 else 9 + (len(word) - 9) // 2\n",
        "answer = list()\n",
        "\n",
        "def backtracking(index: int):\n",
        "    if index == len(word):\n",
        "        print(' '.join(answer))\n",
        "        exit(0)\n",
        "\n",
        "    if word[index] != '0' and word[index] not in answer:\n",
        "        answer.append(word[index])\n",
        "        backtracking(index + 1)\n",
        "        answer.pop()\n",
        "\n",
        "    if word[index] != '0' and int(word[index: index + 2]) <= n and word[index:index + 2] not in answer:\n",
        "        answer.append(word[index:index + 2])\n",
        "        backtracking(index + 2)\n",
        "        answer.pop()\n",
        "\n",
        "backtracking(0)"
      ],
      "metadata": {
        "id": "UeClGZQ-dXMK"
      },
      "execution_count": null,
      "outputs": []
    },
    {
      "cell_type": "markdown",
      "source": [
        "#3/26"
      ],
      "metadata": {
        "id": "ZlCX9-Xje4W0"
      }
    },
    {
      "cell_type": "markdown",
      "source": [
        "###1-19940"
      ],
      "metadata": {
        "id": "TNJ6eG1Ge6VS"
      }
    },
    {
      "cell_type": "code",
      "source": [
        "for _ in range(int(input())):\n",
        "    n = int(input())\n",
        "    buttons = [0]*5\n",
        "    sixties, tens, ones = n//60, (n % 60)//10, n % 10\n",
        "\n",
        "    if ones > 5:\n",
        "        tens += 1\n",
        "        ones -= 10\n",
        "    if tens > 3:\n",
        "        sixties += 1\n",
        "        tens -= 6\n",
        "    if tens < 0 and ones == 5:\n",
        "        tens += 1\n",
        "        ones -= 10\n",
        "\n",
        "    buttons[0] = sixties\n",
        "    buttons[2-(tens >= 0)] = abs(tens)\n",
        "    buttons[4-(ones >= 0)] = abs(ones)\n",
        "    print(*buttons)"
      ],
      "metadata": {
        "colab": {
          "base_uri": "https://localhost:8080/"
        },
        "id": "RD4bRJyle7Se",
        "outputId": "918bd402-4b42-4e53-9a95-11dfc7180880"
      },
      "execution_count": null,
      "outputs": [
        {
          "output_type": "stream",
          "name": "stdout",
          "text": [
            "3\n",
            "5\n",
            "0 0 0 5 0\n",
            "12\n",
            "0 1 0 2 0\n",
            "27\n",
            "0 3 0 0 3\n"
          ]
        }
      ]
    },
    {
      "cell_type": "markdown",
      "source": [
        "#3/27"
      ],
      "metadata": {
        "id": "-LV_EdU8VEjY"
      }
    },
    {
      "cell_type": "markdown",
      "source": [
        "###1-20164"
      ],
      "metadata": {
        "id": "qlQHRtXrVHvQ"
      }
    },
    {
      "cell_type": "code",
      "source": [
        "import math\n",
        "\n",
        "n = input()\n",
        "\n",
        "min_v = math.inf\n",
        "max_v = 0\n",
        "\n",
        "def command1(n: str):\n",
        "    odd_n = 0\n",
        "\n",
        "    for i in n:\n",
        "\n",
        "        if int(i) % 2 != 0:\n",
        "            odd_n += 1\n",
        "\n",
        "    return odd_n\n",
        "\n",
        "def solve(n, odd_n):\n",
        "    global max_v, min_v\n",
        "\n",
        "    if len(n) == 1:\n",
        "        min_v = min(min_v, odd_n)\n",
        "        max_v = max(max_v, odd_n)\n",
        "\n",
        "    elif len(n) == 2:\n",
        "        temp = str(int(n[0]) + int(n[1]))\n",
        "        solve(temp, odd_n + command1(temp))\n",
        "\n",
        "    else:\n",
        "\n",
        "        for i in range(len(n) - 2):\n",
        "\n",
        "            for j in range(i+1, len(n)-1):\n",
        "                a = n[:i+1]\n",
        "                b = n[i+1: j+1]\n",
        "                c = n[j+1:]\n",
        "                temp = str(int(a) + int(b) + int(c))\n",
        "                solve(temp, odd_n + command1(temp))\n",
        "\n",
        "solve(n, command1(n))\n",
        "print(min_v, max_v)"
      ],
      "metadata": {
        "colab": {
          "base_uri": "https://localhost:8080/"
        },
        "id": "SsK-AybiVJ3X",
        "outputId": "229f44ea-1021-4912-afd7-39254f78bd38"
      },
      "execution_count": null,
      "outputs": [
        {
          "output_type": "stream",
          "name": "stdout",
          "text": [
            "514\n",
            "4 4\n"
          ]
        }
      ]
    },
    {
      "cell_type": "markdown",
      "source": [
        "#3/28"
      ],
      "metadata": {
        "id": "nCdoDYDk3o0Z"
      }
    },
    {
      "cell_type": "markdown",
      "source": [
        "###1-18869"
      ],
      "metadata": {
        "id": "42PW7kMn3rps"
      }
    },
    {
      "cell_type": "code",
      "source": [
        "from collections import defaultdict\n",
        "\n",
        "def count_equal_universes(m, n, universes):\n",
        "    pattern_count = defaultdict(int)\n",
        "\n",
        "    for universe in universes:\n",
        "        sorted_uni = sorted(set(universe))\n",
        "        rank = {val: idx for idx, val in enumerate(sorted_uni)}\n",
        "        pattern = tuple(rank[val] for val in universe)\n",
        "\n",
        "        pattern_count[pattern] += 1\n",
        "\n",
        "    result = sum(v * (v - 1) // 2 for v in pattern_count.values())\n",
        "\n",
        "    print(result)\n",
        "\n",
        "m, n = map(int, input().split())\n",
        "universes = [list(map(int, input().split())) for _ in range(m)]\n",
        "count_equal_universes(m, n, universes)"
      ],
      "metadata": {
        "colab": {
          "base_uri": "https://localhost:8080/"
        },
        "id": "2DNN6uwa3uII",
        "outputId": "1d170416-d8ee-45bb-a9e9-d475a9ec247d"
      },
      "execution_count": null,
      "outputs": [
        {
          "output_type": "stream",
          "name": "stdout",
          "text": [
            "2 3\n",
            "1 3 2\n",
            "12 50 10\n",
            "0\n"
          ]
        }
      ]
    },
    {
      "cell_type": "markdown",
      "source": [
        "#3/29"
      ],
      "metadata": {
        "id": "mP725sey0_q3"
      }
    },
    {
      "cell_type": "markdown",
      "source": [
        "###1-17073"
      ],
      "metadata": {
        "id": "NLoVZLCL1Sjk"
      }
    },
    {
      "cell_type": "code",
      "source": [
        "import sys\n",
        "input = sys.stdin.read\n",
        "def solve():\n",
        "    data = input().splitlines()\n",
        "    n, w = map(int, data[0].split())\n",
        "\n",
        "    tree = [[] for _ in range(n + 1)]\n",
        "    for i in range(1, n):\n",
        "        u, v = map(int, data[i].split())\n",
        "        tree[u].append(v)\n",
        "        tree[v].append(u)\n",
        "\n",
        "    leaf_count = sum(1 for i in range(2, n + 1) if len(tree[i]) == 1)\n",
        "\n",
        "    print(w / leaf_count)\n",
        "\n",
        "solve()"
      ],
      "metadata": {
        "id": "LOgCVc8r3tPl"
      },
      "execution_count": null,
      "outputs": []
    },
    {
      "cell_type": "markdown",
      "source": [
        "#3/30"
      ],
      "metadata": {
        "id": "2PnlERYkCB1V"
      }
    },
    {
      "cell_type": "markdown",
      "source": [
        "###1-10827"
      ],
      "metadata": {
        "id": "b2jthL4UCD06"
      }
    },
    {
      "cell_type": "code",
      "source": [
        "import sys\n",
        "\n",
        "input = sys.stdin.readline\n",
        "\n",
        "def main():\n",
        "    a, b = input().rstrip().split()\n",
        "    e = (len(a) -1) - a.find('.')\n",
        "    a = a.replace('.', '')\n",
        "    result = str(int(a) ** int(b))\n",
        "    e *= int(b)\n",
        "\n",
        "    if len(result) < e:\n",
        "        result = '0'*(e-len(result)) + result\n",
        "\n",
        "    result = result[:-e] + '.' + result[-e:]\n",
        "    print(result) if result[0] != '.' else print('0' + result)\n",
        "\n",
        "if __name__ == '__main__':\n",
        "    main()"
      ],
      "metadata": {
        "id": "uOE4nN9uCFgf"
      },
      "execution_count": null,
      "outputs": []
    },
    {
      "cell_type": "markdown",
      "source": [
        "#3/31"
      ],
      "metadata": {
        "id": "uyNUnTJFBPny"
      }
    },
    {
      "cell_type": "markdown",
      "source": [
        "###1-7571"
      ],
      "metadata": {
        "id": "rOvCNPagBRZc"
      }
    },
    {
      "cell_type": "code",
      "source": [
        "import sys\n",
        "input = sys.stdin.read\n",
        "\n",
        "def solve():\n",
        "    data = input().splitlines()\n",
        "    n, m = map(int, data[0].split())\n",
        "\n",
        "    rows = []\n",
        "    cols = []\n",
        "\n",
        "    for i in range(1, m + 1):\n",
        "        r, c = map(int, data[i].split())\n",
        "        rows.append(r)\n",
        "        cols.append(c)\n",
        "\n",
        "    rows.sort()\n",
        "    cols.sort()\n",
        "    median_row = rows[m // 2]\n",
        "    median_col = cols[m // 2]\n",
        "\n",
        "    total_distance = sum(abs(r - median_row) for r in rows) + sum(abs(c - median_col) for c in cols)\n",
        "\n",
        "    print(total_distance)\n",
        "\n",
        "solve()"
      ],
      "metadata": {
        "id": "qxtD_TplBUn8"
      },
      "execution_count": null,
      "outputs": []
    },
    {
      "cell_type": "markdown",
      "source": [
        "#4/1"
      ],
      "metadata": {
        "id": "rwkMkWMJZq-6"
      }
    },
    {
      "cell_type": "markdown",
      "source": [
        "###1-22251\n"
      ],
      "metadata": {
        "id": "N1W8I64iZtIC"
      }
    },
    {
      "cell_type": "code",
      "source": [
        "n, k, p, x = map(int, input().split())\n",
        "\n",
        "if len(str(x)) < k:\n",
        "    cx = '0' * (k-len(str(x))) + str(x)\n",
        "\n",
        "else:\n",
        "    cx = str(x)\n",
        "\n",
        "num = ['1111110', '0110000', '1101101', '1111001', '0110011', '1011011',\n",
        "       '1011111', '1110000', '1111111', '1111011']\n",
        "arr = []\n",
        "\n",
        "for i in range(10):\n",
        "    arr.append([])\n",
        "\n",
        "    for j in range(10):\n",
        "\n",
        "        if i == j:\n",
        "            arr[i].append(0)\n",
        "\n",
        "        else:\n",
        "            d = 0\n",
        "\n",
        "            for h in range(7):\n",
        "\n",
        "                if num[i][h] != num[j][h]:\n",
        "                    d += 1\n",
        "\n",
        "            arr[i].append(d)\n",
        "\n",
        "def dfs(dep, cnt, cx):\n",
        "\n",
        "    if dep >= len(cx):\n",
        "\n",
        "        if int(cx) == x:\n",
        "            return 0\n",
        "\n",
        "        elif 1 <= int(cx) <= n:\n",
        "            return 1\n",
        "\n",
        "        else:\n",
        "            return 0\n",
        "\n",
        "    rst, cur = 0, int(cx[dep])\n",
        "\n",
        "    for i in range(10):\n",
        "\n",
        "        if cur != i and (arr[cur][i] <= cnt):\n",
        "            dx = cx[:dep] + str(i) + cx[dep+1:]\n",
        "            rst += dfs(dep+1, cnt-arr[cur][i], dx)\n",
        "\n",
        "        elif cur == i:\n",
        "            rst += dfs(dep+1, cnt, cx)\n",
        "\n",
        "    return rst\n",
        "\n",
        "print(dfs(0, p, cx))"
      ],
      "metadata": {
        "colab": {
          "base_uri": "https://localhost:8080/"
        },
        "id": "3I1_t-saZvy0",
        "outputId": "d0e2eabf-20f7-4023-ad13-b128e2b7d97c"
      },
      "execution_count": null,
      "outputs": [
        {
          "output_type": "stream",
          "name": "stdout",
          "text": [
            "9 1 2 5\n",
            "4\n"
          ]
        }
      ]
    },
    {
      "cell_type": "markdown",
      "source": [
        "#4/2"
      ],
      "metadata": {
        "id": "bxAyUjXEJkkS"
      }
    },
    {
      "cell_type": "markdown",
      "source": [
        "###1-17485"
      ],
      "metadata": {
        "id": "5o5C3d8jJmCz"
      }
    },
    {
      "cell_type": "code",
      "source": [
        "INF = 1000000\n",
        "n, m = map(int, input().split())\n",
        "ls = [list(map(int, input().split())) for _ in range(n)]\n",
        "dp = [[[0] * 3 for _ in range(m)] for _ in range(n)]\n",
        "\n",
        "for j in range(m):\n",
        "\n",
        "    for k in range(3):\n",
        "        dp[0][j][k] = ls[0][j]\n",
        "\n",
        "for i in range(1, n):\n",
        "\n",
        "    for j in range(m):\n",
        "\n",
        "        for k in range(3):\n",
        "\n",
        "            if (j == 0 and k == 0) or (j == m - 1 and k == 2):\n",
        "                dp[i][j][k] = INF\n",
        "                continue\n",
        "\n",
        "            if k == 0:\n",
        "                dp[i][j][k] = ls[i][j] + min(dp[i - 1][j - 1][1], dp[i - 1][j - 1][2])\n",
        "\n",
        "            elif k == 1:\n",
        "                dp[i][j][k] = ls[i][j] + min(dp[i - 1][j][0], dp[i - 1][j][2])\n",
        "\n",
        "            else:\n",
        "                dp[i][j][k] = ls[i][j] + min(dp[i - 1][j + 1][0], dp[i - 1][j + 1][1])\n",
        "\n",
        "result = INF\n",
        "\n",
        "for j in range(m):\n",
        "    result = min(result, min(dp[-1][j]))\n",
        "\n",
        "print(result)"
      ],
      "metadata": {
        "colab": {
          "base_uri": "https://localhost:8080/"
        },
        "id": "1sCBIXvtJooy",
        "outputId": "d2ab051f-b19b-42fc-e333-c275cbceef30"
      },
      "execution_count": null,
      "outputs": [
        {
          "output_type": "stream",
          "name": "stdout",
          "text": [
            "6 4\n",
            "5 8 5 1\n",
            "3 5 8 4\n",
            "9 77 65 5\n",
            "2 1 5 2\n",
            "5 98 1 5\n",
            "4 95 67 58\n",
            "29\n"
          ]
        }
      ]
    },
    {
      "cell_type": "markdown",
      "source": [
        "#4/3"
      ],
      "metadata": {
        "id": "eZ6z2NMRZvzM"
      }
    },
    {
      "cell_type": "markdown",
      "source": [
        "###1-17265"
      ],
      "metadata": {
        "id": "1ygAcSstZx1G"
      }
    },
    {
      "cell_type": "code",
      "source": [
        "def search(x, y, pre, oper):\n",
        "    global MIN, MAX\n",
        "\n",
        "    for i in range(2):\n",
        "        nx = x + dx[i]\n",
        "        ny = y + dy[i]\n",
        "\n",
        "        if (0 <= nx < n) and (0 <= ny < n):\n",
        "            if puzzle[nx][ny] == '+':\n",
        "                search(nx, ny, pre, '+')\n",
        "\n",
        "            elif puzzle[nx][ny] == '-':\n",
        "                search(nx, ny, pre, '-')\n",
        "\n",
        "            elif puzzle[nx][ny] == '*':\n",
        "                search(nx, ny, pre, '*')\n",
        "\n",
        "            else:\n",
        "                if oper == '+': re = pre + int(puzzle[nx][ny])\n",
        "                elif oper == '-': re = pre - int(puzzle[nx][ny])\n",
        "                elif oper == '*': re = pre * int(puzzle[nx][ny])\n",
        "\n",
        "                if nx == n-1 and ny == n-1:\n",
        "                    MIN = min(MIN, re)\n",
        "                    MAX = max(MAX, re)\n",
        "                    return\n",
        "                search(nx, ny, re, '')\n",
        "\n",
        "n = int(input())\n",
        "puzzle = []\n",
        "\n",
        "for i in range(n):\n",
        "    puzzle.append(input().split())\n",
        "\n",
        "dx = [1, 0]\n",
        "dy = [0, 1]\n",
        "\n",
        "MIN, MAX = int(1e9), -int(1e9)\n",
        "search(0, 0, int(puzzle[0][0]), '')\n",
        "print(MAX, MIN)"
      ],
      "metadata": {
        "colab": {
          "base_uri": "https://localhost:8080/"
        },
        "id": "R0MhWE6LZ9B-",
        "outputId": "a6acaf3b-e79f-4eab-fcdf-c5cd86a75b36"
      },
      "execution_count": null,
      "outputs": [
        {
          "output_type": "stream",
          "name": "stdout",
          "text": [
            "5\n",
            "5 + 5 - 3\n",
            "* 3 - 1 -\n",
            "4 + 5 + 2\n",
            "- 2 * 3 -\n",
            "1 * 5 + 2\n",
            "127 3\n"
          ]
        }
      ]
    },
    {
      "cell_type": "markdown",
      "source": [
        "#4/4"
      ],
      "metadata": {
        "id": "iTTwpaenavPK"
      }
    },
    {
      "cell_type": "markdown",
      "source": [
        "###1-7511"
      ],
      "metadata": {
        "id": "cVakRR2VaxRC"
      }
    },
    {
      "cell_type": "code",
      "source": [
        "import sys\n",
        "sys.setrecursionlimit(10**9)\n",
        "input = sys.stdin.readline\n",
        "\n",
        "def find(p, x):\n",
        "\n",
        "    if p[x] != x:\n",
        "        p[x] = find(p, p[x])\n",
        "    return p[x]\n",
        "\n",
        "def union(p, a, b):\n",
        "    a, b = find(p, a), find(p, b)\n",
        "\n",
        "    if a < b:\n",
        "        p[b] = a\n",
        "    else:\n",
        "        p[a] = b\n",
        "\n",
        "for i in range(1, int(input())+1):\n",
        "    n = int(input())\n",
        "    p = [i for i in range(n)]\n",
        "    k = int(input())\n",
        "\n",
        "    for _ in range(k):\n",
        "        a, b = map(int, input().split())\n",
        "\n",
        "        if find(p, a) != find(p, b):\n",
        "            union(p, a, b)\n",
        "    print('Scenario '+str(i)+':')\n",
        "\n",
        "    for _ in range(int(input())):\n",
        "        a, b = map(int, input().split())\n",
        "\n",
        "        if find(p, a) != find(p, b): print(0)\n",
        "        else: print(1)\n",
        "    print()"
      ],
      "metadata": {
        "id": "t58PXSYIa4xC"
      },
      "execution_count": null,
      "outputs": []
    },
    {
      "cell_type": "markdown",
      "source": [
        "#4/5"
      ],
      "metadata": {
        "id": "-WPRM61f4ngL"
      }
    },
    {
      "cell_type": "markdown",
      "source": [
        "###1-22352"
      ],
      "metadata": {
        "id": "EVb8JtvW4pbt"
      }
    },
    {
      "cell_type": "code",
      "source": [
        "from collections import deque\n",
        "import sys\n",
        "\n",
        "input = sys.stdin.readline\n",
        "\n",
        "dxys = ((1,0),(-1,0),(0,1),(0,-1))\n",
        "\n",
        "m, n = map(int, input().split())\n",
        "grid_before = [input().split() for _ in range(m)]\n",
        "grid_after = [input().split() for _ in range(m)]\n",
        "\n",
        "def bfs(sx, sy, new_num):\n",
        "    queue = deque([[sx,sy]])\n",
        "    visited = [[False]*n for _ in range(m)]\n",
        "    visited[sy][sx] = True\n",
        "    target = grid_before[sy][sx]\n",
        "    while queue:\n",
        "        cx, cy = queue.pop()\n",
        "        grid_before[cy][cx] = new_num\n",
        "        for dx, dy in dxys:\n",
        "            nx = cx + dx\n",
        "            ny = cy + dy\n",
        "            if 0 <= nx < n and 0 <= ny < m and visited[ny][nx] == False:\n",
        "                if grid_before[ny][nx] == target:\n",
        "                    queue.appendleft([nx, ny])\n",
        "                    visited[ny][nx] = True\n",
        "\n",
        "def checkAll():\n",
        "    for i in range(m):\n",
        "        for j in range(n):\n",
        "            if grid_after[i][j] == grid_before[i][j]:\n",
        "                continue\n",
        "            else:\n",
        "                return False\n",
        "    return True\n",
        "\n",
        "\n",
        "def solve():\n",
        "    for i in range(m):\n",
        "        for j in range(n):\n",
        "            if grid_before[i][j] != grid_after[i][j]:\n",
        "                bfs(j,i,grid_after[i][j])\n",
        "                if checkAll():\n",
        "                    return \"YES\"\n",
        "                else:\n",
        "                    return \"NO\"\n",
        "    return \"YES\"\n",
        "\n",
        "print(solve())"
      ],
      "metadata": {
        "colab": {
          "base_uri": "https://localhost:8080/"
        },
        "id": "nx8Renvl4raZ",
        "outputId": "089d0dd3-3609-4c2e-9f8a-1ea41d5e2bf5"
      },
      "execution_count": null,
      "outputs": [
        {
          "output_type": "stream",
          "name": "stdout",
          "text": [
            "3 5\n",
            "1 1 1 3 3\n",
            "1 1 2 3 3\n",
            "1 1 2 2 4\n",
            "1 1 1 4 4\n",
            "1 1 2 4 4\n",
            "1 1 2 2 4\n",
            "YES\n"
          ]
        }
      ]
    },
    {
      "cell_type": "markdown",
      "source": [
        "#4/6"
      ],
      "metadata": {
        "id": "5NFzQLw7UJSq"
      }
    },
    {
      "cell_type": "markdown",
      "source": [
        "###1-2469"
      ],
      "metadata": {
        "id": "S2kctWBsULHm"
      }
    },
    {
      "cell_type": "code",
      "source": [
        "def check(ladder: list[str]) -> list[int]:\n",
        "    R, C = len(ladder) + 1, len(ladder[0]) + 1\n",
        "    positions = list(range(C))\n",
        "\n",
        "    for r in range(R - 1):\n",
        "        for c in range(C - 1):\n",
        "            if ladder[r][c] == '*':\n",
        "                continue\n",
        "            positions[c], positions[c + 1] = positions[c + 1], positions[c]\n",
        "    return positions\n",
        "\n",
        "def solution(k: int, n: int, result: str, ladder: list[str]) -> str:\n",
        "    result_positions = list(map(lambda x: ord(x) - 65, result))\n",
        "    solution_str = ''\n",
        "\n",
        "    for i in range(n):\n",
        "        if ladder[i][0] == '?':\n",
        "            if i == 0:\n",
        "                process_before = list(range(k))\n",
        "            else:\n",
        "                process_before = check(ladder[:i])\n",
        "            if i != n - 1:\n",
        "                process_after = check(ladder[i + 1:])\n",
        "            else:\n",
        "                process_after = list(range(k))\n",
        "            break\n",
        "\n",
        "    final_positions = {pos: idx for idx, pos in enumerate(process_after)}\n",
        "\n",
        "    for i in range(k - 1):\n",
        "        if process_before[i] != result_positions[final_positions[i]]:\n",
        "            if solution_str and solution_str[-1] == '-':\n",
        "                return 'x' * (k - 1)\n",
        "            process_before[i], process_before[i + 1] = process_before[i + 1], process_before[i]\n",
        "            solution_str += '-'\n",
        "        else:\n",
        "            solution_str += '*'\n",
        "\n",
        "    return solution_str\n",
        "\n",
        "k = int(input())\n",
        "n = int(input())\n",
        "result = input()\n",
        "ladder = [input() for _ in range(n)]\n",
        "ans = solution(k, n, result, ladder)\n",
        "print(ans)"
      ],
      "metadata": {
        "colab": {
          "base_uri": "https://localhost:8080/"
        },
        "id": "aZMJENAiUNBO",
        "outputId": "87584384-43e5-490d-e1ff-5d8ba216f9a1"
      },
      "execution_count": null,
      "outputs": [
        {
          "output_type": "stream",
          "name": "stdout",
          "text": [
            "11\n",
            "5\n",
            "CGBEDJFKIHA\n",
            "*-***-****\n",
            "-*-******-\n",
            "??????????\n",
            "-**-***-*-\n",
            "**-*-*-*-*\n",
            "xxxxxxxxxx\n"
          ]
        }
      ]
    },
    {
      "cell_type": "markdown",
      "source": [
        "#4/7"
      ],
      "metadata": {
        "id": "HubVFQGIMu8O"
      }
    },
    {
      "cell_type": "markdown",
      "source": [
        "###1-1354"
      ],
      "metadata": {
        "id": "JaHFRypBMw1o"
      }
    },
    {
      "cell_type": "code",
      "source": [
        "import sys\n",
        "sys.setrecursionlimit(10**6)\n",
        "\n",
        "def solve():\n",
        "    N, P, Q, X, Y = map(int, input().split())\n",
        "    memo = {}\n",
        "\n",
        "    def A(n):\n",
        "        if n <= 0:\n",
        "            return 1\n",
        "        if n in memo:\n",
        "            return memo[n]\n",
        "        memo[n] = A(n // P - X) + A(n // Q - Y)\n",
        "        return memo[n]\n",
        "\n",
        "    print(A(N))\n",
        "\n",
        "solve()"
      ],
      "metadata": {
        "id": "juo0reksQFP3"
      },
      "execution_count": null,
      "outputs": []
    },
    {
      "cell_type": "markdown",
      "source": [
        "#4/8"
      ],
      "metadata": {
        "id": "3w-GQEKQk0fw"
      }
    },
    {
      "cell_type": "markdown",
      "source": [
        "###1-3967"
      ],
      "metadata": {
        "id": "cbt3ZPlOk2mL"
      }
    },
    {
      "cell_type": "code",
      "source": [
        "import sys\n",
        "sys.setrecursionlimit(100000)\n",
        "\n",
        "star_list = [0]*12\n",
        "visited = [False]*13\n",
        "line_list = [\n",
        "  (0, 2, 5, 7),\n",
        "  (0, 3, 6, 10),\n",
        "  (7, 8, 9, 10),\n",
        "  (1, 2, 3, 4),\n",
        "  (1, 5, 8, 11),\n",
        "  (4, 6, 9, 11)\n",
        "]\n",
        "coord_list = [\n",
        "  (4, 0), (1, 1), (3, 1), (5, 1), (7, 1),\n",
        "  (2, 2), (6, 2), (1, 3), (3, 3), (5, 3), (7, 3),\n",
        "  (4, 4)\n",
        "]\n",
        "map_list = [input().strip() for _ in range(5)]\n",
        "result = [['.']*9 for _ in range(5)]\n",
        "\n",
        "def check(idx) :\n",
        "  for line in line_list :\n",
        "    if line[-1] >= idx :\n",
        "      continue\n",
        "    tmp = 0\n",
        "    for l in line :\n",
        "      tmp += star_list[l]\n",
        "\n",
        "    if tmp != 26 :\n",
        "      return False\n",
        "  return True\n",
        "\n",
        "def encode() :\n",
        "  for i in range(12) :\n",
        "    x, y = coord_list[i]\n",
        "    if map_list[y][x] != 'x' :\n",
        "      star_list[i] = ord(map_list[y][x]) - ord('A') + 1\n",
        "      visited[star_list[i]] = True\n",
        "\n",
        "def decode() :\n",
        "  for i in range(12) :\n",
        "    x, y = coord_list[i]\n",
        "    result[y][x] = chr(ord('A') + star_list[i] - 1)\n",
        "  for _result in result :\n",
        "    print(''.join(_result))\n",
        "\n",
        "def dfs(idx) :\n",
        "  if idx in [5, 8, 11, 12] :\n",
        "    if not check(idx) :\n",
        "      return False\n",
        "    if idx == 12 :\n",
        "      decode()\n",
        "      return True\n",
        "  if star_list[idx] > 0 :\n",
        "    return dfs(idx+1)\n",
        "  for i in range(1, 13) :\n",
        "    if visited[i] :\n",
        "      continue\n",
        "    star_list[idx] = i\n",
        "    visited[i] = True\n",
        "    tmp = dfs(idx+1)\n",
        "    if tmp :\n",
        "      return True\n",
        "    star_list[idx] = 0\n",
        "    visited[i] = False\n",
        "  return False\n",
        "\n",
        "encode()\n",
        "dfs(0)"
      ],
      "metadata": {
        "id": "sW9vfv5Sk4jO"
      },
      "execution_count": null,
      "outputs": []
    },
    {
      "cell_type": "markdown",
      "source": [
        "#런타임 연결"
      ],
      "metadata": {
        "id": "rbzoQNiOh9cR"
      }
    },
    {
      "cell_type": "code",
      "source": [
        "print('Hello World!')"
      ],
      "metadata": {
        "id": "yjT0UhhxhqNJ",
        "colab": {
          "base_uri": "https://localhost:8080/"
        },
        "outputId": "9de875fc-8afa-4da2-a0ff-f30eef57874d"
      },
      "execution_count": null,
      "outputs": [
        {
          "output_type": "stream",
          "name": "stdout",
          "text": [
            "Hello World!\n"
          ]
        }
      ]
    }
  ]
}